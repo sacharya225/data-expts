{
 "cells": [
  {
   "cell_type": "markdown",
   "metadata": {},
   "source": [
    "Objective of this notebook is to understand RMSE, MAE metrics and R2 score in a Regression Model <br/>"
   ]
  },
  {
   "cell_type": "markdown",
   "metadata": {},
   "source": [
    "For this purpose, we are considering a simple problem of predicting salary of a data scientist based on the number of years of experience. <br/>\n",
    "Salary is the target variable (Y) and experience is the independent variable(X). \n",
    "\n",
    "We have some random data on experience(X) and salary(Y). Here are the steps that we will follow. \n",
    " 1. Create a Linear Regression model to predict salary. \n",
    " 2. Evaluate these models using RMSE, MAE and R2 scores. \n",
    " 3. Create visualizations for these metrics and Understand mathematical formula to compute them." 
   ]
  },
  {
   "cell_type": "code",
   "execution_count": 55,
   "metadata": {
    "ExecuteTime": {
     "end_time": "2021-05-13T14:48:03.527456Z",
     "start_time": "2021-05-13T14:48:03.498243Z"
    }
   },
   "outputs": [],
   "source": [
    "import pandas as pd\n",
    "import numpy as np\n",
    "from sklearn.linear_model import LinearRegression\n",
    "import matplotlib.pyplot as plt\n",
    "from sklearn.metrics import mean_squared_error, mean_absolute_error, r2_score\n"
   ]
  },
  {
   "cell_type": "markdown",
   "metadata": {},
   "source": [
    "**Data Loading**\n",
    "\n",
    "Loading data into a table"
   ]
  },
  {
   "cell_type": "code",
   "execution_count": 56,
   "metadata": {
    "ExecuteTime": {
     "end_time": "2021-05-13T14:48:03.668574Z",
     "start_time": "2021-05-13T14:48:03.534798Z"
    }
   },
   "outputs": [
    {
     "data": {
      "text/html": [
       "<div>\n",
       "<style scoped>\n",
       "    .dataframe tbody tr th:only-of-type {\n",
       "        vertical-align: middle;\n",
       "    }\n",
       "\n",
       "    .dataframe tbody tr th {\n",
       "        vertical-align: top;\n",
       "    }\n",
       "\n",
       "    .dataframe thead th {\n",
       "        text-align: right;\n",
       "    }\n",
       "</style>\n",
       "<table border=\"1\" class=\"dataframe\">\n",
       "  <thead>\n",
       "    <tr style=\"text-align: right;\">\n",
       "      <th></th>\n",
       "      <th>Exp</th>\n",
       "      <th>Salary</th>\n",
       "    </tr>\n",
       "  </thead>\n",
       "  <tbody>\n",
       "    <tr>\n",
       "      <th>0</th>\n",
       "      <td>2.0</td>\n",
       "      <td>7.0</td>\n",
       "    </tr>\n",
       "    <tr>\n",
       "      <th>1</th>\n",
       "      <td>2.2</td>\n",
       "      <td>8.0</td>\n",
       "    </tr>\n",
       "    <tr>\n",
       "      <th>2</th>\n",
       "      <td>2.8</td>\n",
       "      <td>11.0</td>\n",
       "    </tr>\n",
       "  </tbody>\n",
       "</table>\n",
       "</div>"
      ],
      "text/plain": [
       "   Exp  Salary\n",
       "0  2.0     7.0\n",
       "1  2.2     8.0\n",
       "2  2.8    11.0"
      ]
     },
     "execution_count": 56,
     "metadata": {},
     "output_type": "execute_result"
    }
   ],
   "source": [
    "sal_data={\"Exp\":[2,2.2, 2.8, 4, 7, 8, 11, 12, 21, 25], \n",
    "          \"Salary\": [7, 8, 11, 15, 22, 29, 37 ,45.7, 49, 52]}\n",
    "\n",
    "#Load data into a pandas Dataframe\n",
    "df=pd.DataFrame(sal_data)\n",
    "df.head(3)"
   ]
  },
  {
   "cell_type": "markdown",
   "metadata": {},
   "source": [
    "**Model Development**\n",
    "\n",
    "Let's create Simple Linear Regression Model to predict salaries."
   ]
  },
  {
   "cell_type": "code",
   "execution_count": 57,
   "metadata": {
    "ExecuteTime": {
     "end_time": "2021-05-13T14:48:03.737796Z",
     "start_time": "2021-05-13T14:48:03.673830Z"
    }
   },
   "outputs": [
    {
     "name": "stdout",
     "output_type": "stream",
     "text": [
      "[12.23965934 12.64846842 13.87489568 16.32775018 22.45988645 24.50393187\n",
      " 30.63606813 32.68011355 51.07652234 59.25270403]\n"
     ]
    }
   ],
   "source": [
    "#Selecting X and y variables\n",
    "\n",
    "X=df[['Exp']]\n",
    "y=df.Salary\n",
    "\n",
    "#Create a Simple Linear Regression Model to predict salaries\n",
    "\n",
    "lm=LinearRegression()\n",
    "lm.fit(X,y)\n",
    "\n",
    "#Prediction of salaries by the model\n",
    "ypred=lm.predict(X)\n",
    "print(ypred)\n"
   ]
  },
  {
   "cell_type": "markdown",
   "metadata": {},
   "source": [
    "**Data Visualization**\n",
    "\n",
    "Plotting predicted vs actual Salary using bokeh "
   ]
  },
  {
   "cell_type": "code",
   "execution_count": 58,
   "metadata": {
    "ExecuteTime": {
     "end_time": "2021-05-13T14:48:04.148906Z",
     "start_time": "2021-05-13T14:48:03.748791Z"
    }
   },
   "outputs": [
    {
     "data": {
      "text/html": [
       "\n",
       "    <div class=\"bk-root\">\n",
       "        <a href=\"https://bokeh.org\" target=\"_blank\" class=\"bk-logo bk-logo-small bk-logo-notebook\"></a>\n",
       "        <span id=\"4110\">Loading BokehJS ...</span>\n",
       "    </div>"
      ]
     },
     "metadata": {},
     "output_type": "display_data"
    },
    {
     "data": {
      "application/javascript": [
       "\n",
       "(function(root) {\n",
       "  function now() {\n",
       "    return new Date();\n",
       "  }\n",
       "\n",
       "  var force = true;\n",
       "\n",
       "  if (typeof root._bokeh_onload_callbacks === \"undefined\" || force === true) {\n",
       "    root._bokeh_onload_callbacks = [];\n",
       "    root._bokeh_is_loading = undefined;\n",
       "  }\n",
       "\n",
       "  var JS_MIME_TYPE = 'application/javascript';\n",
       "  var HTML_MIME_TYPE = 'text/html';\n",
       "  var EXEC_MIME_TYPE = 'application/vnd.bokehjs_exec.v0+json';\n",
       "  var CLASS_NAME = 'output_bokeh rendered_html';\n",
       "\n",
       "  /**\n",
       "   * Render data to the DOM node\n",
       "   */\n",
       "  function render(props, node) {\n",
       "    var script = document.createElement(\"script\");\n",
       "    node.appendChild(script);\n",
       "  }\n",
       "\n",
       "  /**\n",
       "   * Handle when an output is cleared or removed\n",
       "   */\n",
       "  function handleClearOutput(event, handle) {\n",
       "    var cell = handle.cell;\n",
       "\n",
       "    var id = cell.output_area._bokeh_element_id;\n",
       "    var server_id = cell.output_area._bokeh_server_id;\n",
       "    // Clean up Bokeh references\n",
       "    if (id != null && id in Bokeh.index) {\n",
       "      Bokeh.index[id].model.document.clear();\n",
       "      delete Bokeh.index[id];\n",
       "    }\n",
       "\n",
       "    if (server_id !== undefined) {\n",
       "      // Clean up Bokeh references\n",
       "      var cmd = \"from bokeh.io.state import curstate; print(curstate().uuid_to_server['\" + server_id + \"'].get_sessions()[0].document.roots[0]._id)\";\n",
       "      cell.notebook.kernel.execute(cmd, {\n",
       "        iopub: {\n",
       "          output: function(msg) {\n",
       "            var id = msg.content.text.trim();\n",
       "            if (id in Bokeh.index) {\n",
       "              Bokeh.index[id].model.document.clear();\n",
       "              delete Bokeh.index[id];\n",
       "            }\n",
       "          }\n",
       "        }\n",
       "      });\n",
       "      // Destroy server and session\n",
       "      var cmd = \"import bokeh.io.notebook as ion; ion.destroy_server('\" + server_id + \"')\";\n",
       "      cell.notebook.kernel.execute(cmd);\n",
       "    }\n",
       "  }\n",
       "\n",
       "  /**\n",
       "   * Handle when a new output is added\n",
       "   */\n",
       "  function handleAddOutput(event, handle) {\n",
       "    var output_area = handle.output_area;\n",
       "    var output = handle.output;\n",
       "\n",
       "    // limit handleAddOutput to display_data with EXEC_MIME_TYPE content only\n",
       "    if ((output.output_type != \"display_data\") || (!output.data.hasOwnProperty(EXEC_MIME_TYPE))) {\n",
       "      return\n",
       "    }\n",
       "\n",
       "    var toinsert = output_area.element.find(\".\" + CLASS_NAME.split(' ')[0]);\n",
       "\n",
       "    if (output.metadata[EXEC_MIME_TYPE][\"id\"] !== undefined) {\n",
       "      toinsert[toinsert.length - 1].firstChild.textContent = output.data[JS_MIME_TYPE];\n",
       "      // store reference to embed id on output_area\n",
       "      output_area._bokeh_element_id = output.metadata[EXEC_MIME_TYPE][\"id\"];\n",
       "    }\n",
       "    if (output.metadata[EXEC_MIME_TYPE][\"server_id\"] !== undefined) {\n",
       "      var bk_div = document.createElement(\"div\");\n",
       "      bk_div.innerHTML = output.data[HTML_MIME_TYPE];\n",
       "      var script_attrs = bk_div.children[0].attributes;\n",
       "      for (var i = 0; i < script_attrs.length; i++) {\n",
       "        toinsert[toinsert.length - 1].firstChild.setAttribute(script_attrs[i].name, script_attrs[i].value);\n",
       "        toinsert[toinsert.length - 1].firstChild.textContent = bk_div.children[0].textContent\n",
       "      }\n",
       "      // store reference to server id on output_area\n",
       "      output_area._bokeh_server_id = output.metadata[EXEC_MIME_TYPE][\"server_id\"];\n",
       "    }\n",
       "  }\n",
       "\n",
       "  function register_renderer(events, OutputArea) {\n",
       "\n",
       "    function append_mime(data, metadata, element) {\n",
       "      // create a DOM node to render to\n",
       "      var toinsert = this.create_output_subarea(\n",
       "        metadata,\n",
       "        CLASS_NAME,\n",
       "        EXEC_MIME_TYPE\n",
       "      );\n",
       "      this.keyboard_manager.register_events(toinsert);\n",
       "      // Render to node\n",
       "      var props = {data: data, metadata: metadata[EXEC_MIME_TYPE]};\n",
       "      render(props, toinsert[toinsert.length - 1]);\n",
       "      element.append(toinsert);\n",
       "      return toinsert\n",
       "    }\n",
       "\n",
       "    /* Handle when an output is cleared or removed */\n",
       "    events.on('clear_output.CodeCell', handleClearOutput);\n",
       "    events.on('delete.Cell', handleClearOutput);\n",
       "\n",
       "    /* Handle when a new output is added */\n",
       "    events.on('output_added.OutputArea', handleAddOutput);\n",
       "\n",
       "    /**\n",
       "     * Register the mime type and append_mime function with output_area\n",
       "     */\n",
       "    OutputArea.prototype.register_mime_type(EXEC_MIME_TYPE, append_mime, {\n",
       "      /* Is output safe? */\n",
       "      safe: true,\n",
       "      /* Index of renderer in `output_area.display_order` */\n",
       "      index: 0\n",
       "    });\n",
       "  }\n",
       "\n",
       "  // register the mime type if in Jupyter Notebook environment and previously unregistered\n",
       "  if (root.Jupyter !== undefined) {\n",
       "    var events = require('base/js/events');\n",
       "    var OutputArea = require('notebook/js/outputarea').OutputArea;\n",
       "\n",
       "    if (OutputArea.prototype.mime_types().indexOf(EXEC_MIME_TYPE) == -1) {\n",
       "      register_renderer(events, OutputArea);\n",
       "    }\n",
       "  }\n",
       "\n",
       "  \n",
       "  if (typeof (root._bokeh_timeout) === \"undefined\" || force === true) {\n",
       "    root._bokeh_timeout = Date.now() + 5000;\n",
       "    root._bokeh_failed_load = false;\n",
       "  }\n",
       "\n",
       "  var NB_LOAD_WARNING = {'data': {'text/html':\n",
       "     \"<div style='background-color: #fdd'>\\n\"+\n",
       "     \"<p>\\n\"+\n",
       "     \"BokehJS does not appear to have successfully loaded. If loading BokehJS from CDN, this \\n\"+\n",
       "     \"may be due to a slow or bad network connection. Possible fixes:\\n\"+\n",
       "     \"</p>\\n\"+\n",
       "     \"<ul>\\n\"+\n",
       "     \"<li>re-rerun `output_notebook()` to attempt to load from CDN again, or</li>\\n\"+\n",
       "     \"<li>use INLINE resources instead, as so:</li>\\n\"+\n",
       "     \"</ul>\\n\"+\n",
       "     \"<code>\\n\"+\n",
       "     \"from bokeh.resources import INLINE\\n\"+\n",
       "     \"output_notebook(resources=INLINE)\\n\"+\n",
       "     \"</code>\\n\"+\n",
       "     \"</div>\"}};\n",
       "\n",
       "  function display_loaded() {\n",
       "    var el = document.getElementById(\"4110\");\n",
       "    if (el != null) {\n",
       "      el.textContent = \"BokehJS is loading...\";\n",
       "    }\n",
       "    if (root.Bokeh !== undefined) {\n",
       "      if (el != null) {\n",
       "        el.textContent = \"BokehJS \" + root.Bokeh.version + \" successfully loaded.\";\n",
       "      }\n",
       "    } else if (Date.now() < root._bokeh_timeout) {\n",
       "      setTimeout(display_loaded, 100)\n",
       "    }\n",
       "  }\n",
       "\n",
       "\n",
       "  function run_callbacks() {\n",
       "    try {\n",
       "      root._bokeh_onload_callbacks.forEach(function(callback) {\n",
       "        if (callback != null)\n",
       "          callback();\n",
       "      });\n",
       "    } finally {\n",
       "      delete root._bokeh_onload_callbacks\n",
       "    }\n",
       "    console.debug(\"Bokeh: all callbacks have finished\");\n",
       "  }\n",
       "\n",
       "  function load_libs(css_urls, js_urls, callback) {\n",
       "    if (css_urls == null) css_urls = [];\n",
       "    if (js_urls == null) js_urls = [];\n",
       "\n",
       "    root._bokeh_onload_callbacks.push(callback);\n",
       "    if (root._bokeh_is_loading > 0) {\n",
       "      console.debug(\"Bokeh: BokehJS is being loaded, scheduling callback at\", now());\n",
       "      return null;\n",
       "    }\n",
       "    if (js_urls == null || js_urls.length === 0) {\n",
       "      run_callbacks();\n",
       "      return null;\n",
       "    }\n",
       "    console.debug(\"Bokeh: BokehJS not loaded, scheduling load and callback at\", now());\n",
       "    root._bokeh_is_loading = css_urls.length + js_urls.length;\n",
       "\n",
       "    function on_load() {\n",
       "      root._bokeh_is_loading--;\n",
       "      if (root._bokeh_is_loading === 0) {\n",
       "        console.debug(\"Bokeh: all BokehJS libraries/stylesheets loaded\");\n",
       "        run_callbacks()\n",
       "      }\n",
       "    }\n",
       "\n",
       "    function on_error() {\n",
       "      console.error(\"failed to load \" + url);\n",
       "    }\n",
       "\n",
       "    for (var i = 0; i < css_urls.length; i++) {\n",
       "      var url = css_urls[i];\n",
       "      const element = document.createElement(\"link\");\n",
       "      element.onload = on_load;\n",
       "      element.onerror = on_error;\n",
       "      element.rel = \"stylesheet\";\n",
       "      element.type = \"text/css\";\n",
       "      element.href = url;\n",
       "      console.debug(\"Bokeh: injecting link tag for BokehJS stylesheet: \", url);\n",
       "      document.body.appendChild(element);\n",
       "    }\n",
       "\n",
       "    const hashes = {\"https://cdn.bokeh.org/bokeh/release/bokeh-2.1.1.min.js\": \"kLr4fYcqcSpbuI95brIH3vnnYCquzzSxHPU6XGQCIkQRGJwhg0StNbj1eegrHs12\", \"https://cdn.bokeh.org/bokeh/release/bokeh-widgets-2.1.1.min.js\": \"xIGPmVtaOm+z0BqfSOMn4lOR6ciex448GIKG4eE61LsAvmGj48XcMQZtKcE/UXZe\", \"https://cdn.bokeh.org/bokeh/release/bokeh-tables-2.1.1.min.js\": \"Dc9u1wF/0zApGIWoBbH77iWEHtdmkuYWG839Uzmv8y8yBLXebjO9ZnERsde5Ln/P\", \"https://cdn.bokeh.org/bokeh/release/bokeh-gl-2.1.1.min.js\": \"cT9JaBz7GiRXdENrJLZNSC6eMNF3nh3fa5fTF51Svp+ukxPdwcU5kGXGPBgDCa2j\"};\n",
       "\n",
       "    for (var i = 0; i < js_urls.length; i++) {\n",
       "      var url = js_urls[i];\n",
       "      var element = document.createElement('script');\n",
       "      element.onload = on_load;\n",
       "      element.onerror = on_error;\n",
       "      element.async = false;\n",
       "      element.src = url;\n",
       "      if (url in hashes) {\n",
       "        element.crossOrigin = \"anonymous\";\n",
       "        element.integrity = \"sha384-\" + hashes[url];\n",
       "      }\n",
       "      console.debug(\"Bokeh: injecting script tag for BokehJS library: \", url);\n",
       "      document.head.appendChild(element);\n",
       "    }\n",
       "  };\n",
       "\n",
       "  function inject_raw_css(css) {\n",
       "    const element = document.createElement(\"style\");\n",
       "    element.appendChild(document.createTextNode(css));\n",
       "    document.body.appendChild(element);\n",
       "  }\n",
       "\n",
       "  \n",
       "  var js_urls = [\"https://cdn.bokeh.org/bokeh/release/bokeh-2.1.1.min.js\", \"https://cdn.bokeh.org/bokeh/release/bokeh-widgets-2.1.1.min.js\", \"https://cdn.bokeh.org/bokeh/release/bokeh-tables-2.1.1.min.js\", \"https://cdn.bokeh.org/bokeh/release/bokeh-gl-2.1.1.min.js\"];\n",
       "  var css_urls = [];\n",
       "  \n",
       "\n",
       "  var inline_js = [\n",
       "    function(Bokeh) {\n",
       "      Bokeh.set_log_level(\"info\");\n",
       "    },\n",
       "    function(Bokeh) {\n",
       "    \n",
       "    \n",
       "    }\n",
       "  ];\n",
       "\n",
       "  function run_inline_js() {\n",
       "    \n",
       "    if (root.Bokeh !== undefined || force === true) {\n",
       "      \n",
       "    for (var i = 0; i < inline_js.length; i++) {\n",
       "      inline_js[i].call(root, root.Bokeh);\n",
       "    }\n",
       "    if (force === true) {\n",
       "        display_loaded();\n",
       "      }} else if (Date.now() < root._bokeh_timeout) {\n",
       "      setTimeout(run_inline_js, 100);\n",
       "    } else if (!root._bokeh_failed_load) {\n",
       "      console.log(\"Bokeh: BokehJS failed to load within specified timeout.\");\n",
       "      root._bokeh_failed_load = true;\n",
       "    } else if (force !== true) {\n",
       "      var cell = $(document.getElementById(\"4110\")).parents('.cell').data().cell;\n",
       "      cell.output_area.append_execute_result(NB_LOAD_WARNING)\n",
       "    }\n",
       "\n",
       "  }\n",
       "\n",
       "  if (root._bokeh_is_loading === 0) {\n",
       "    console.debug(\"Bokeh: BokehJS loaded, going straight to plotting\");\n",
       "    run_inline_js();\n",
       "  } else {\n",
       "    load_libs(css_urls, js_urls, function() {\n",
       "      console.debug(\"Bokeh: BokehJS plotting callback run at\", now());\n",
       "      run_inline_js();\n",
       "    });\n",
       "  }\n",
       "}(window));"
      ],
      "application/vnd.bokehjs_load.v0+json": "\n(function(root) {\n  function now() {\n    return new Date();\n  }\n\n  var force = true;\n\n  if (typeof root._bokeh_onload_callbacks === \"undefined\" || force === true) {\n    root._bokeh_onload_callbacks = [];\n    root._bokeh_is_loading = undefined;\n  }\n\n  \n\n  \n  if (typeof (root._bokeh_timeout) === \"undefined\" || force === true) {\n    root._bokeh_timeout = Date.now() + 5000;\n    root._bokeh_failed_load = false;\n  }\n\n  var NB_LOAD_WARNING = {'data': {'text/html':\n     \"<div style='background-color: #fdd'>\\n\"+\n     \"<p>\\n\"+\n     \"BokehJS does not appear to have successfully loaded. If loading BokehJS from CDN, this \\n\"+\n     \"may be due to a slow or bad network connection. Possible fixes:\\n\"+\n     \"</p>\\n\"+\n     \"<ul>\\n\"+\n     \"<li>re-rerun `output_notebook()` to attempt to load from CDN again, or</li>\\n\"+\n     \"<li>use INLINE resources instead, as so:</li>\\n\"+\n     \"</ul>\\n\"+\n     \"<code>\\n\"+\n     \"from bokeh.resources import INLINE\\n\"+\n     \"output_notebook(resources=INLINE)\\n\"+\n     \"</code>\\n\"+\n     \"</div>\"}};\n\n  function display_loaded() {\n    var el = document.getElementById(\"4110\");\n    if (el != null) {\n      el.textContent = \"BokehJS is loading...\";\n    }\n    if (root.Bokeh !== undefined) {\n      if (el != null) {\n        el.textContent = \"BokehJS \" + root.Bokeh.version + \" successfully loaded.\";\n      }\n    } else if (Date.now() < root._bokeh_timeout) {\n      setTimeout(display_loaded, 100)\n    }\n  }\n\n\n  function run_callbacks() {\n    try {\n      root._bokeh_onload_callbacks.forEach(function(callback) {\n        if (callback != null)\n          callback();\n      });\n    } finally {\n      delete root._bokeh_onload_callbacks\n    }\n    console.debug(\"Bokeh: all callbacks have finished\");\n  }\n\n  function load_libs(css_urls, js_urls, callback) {\n    if (css_urls == null) css_urls = [];\n    if (js_urls == null) js_urls = [];\n\n    root._bokeh_onload_callbacks.push(callback);\n    if (root._bokeh_is_loading > 0) {\n      console.debug(\"Bokeh: BokehJS is being loaded, scheduling callback at\", now());\n      return null;\n    }\n    if (js_urls == null || js_urls.length === 0) {\n      run_callbacks();\n      return null;\n    }\n    console.debug(\"Bokeh: BokehJS not loaded, scheduling load and callback at\", now());\n    root._bokeh_is_loading = css_urls.length + js_urls.length;\n\n    function on_load() {\n      root._bokeh_is_loading--;\n      if (root._bokeh_is_loading === 0) {\n        console.debug(\"Bokeh: all BokehJS libraries/stylesheets loaded\");\n        run_callbacks()\n      }\n    }\n\n    function on_error() {\n      console.error(\"failed to load \" + url);\n    }\n\n    for (var i = 0; i < css_urls.length; i++) {\n      var url = css_urls[i];\n      const element = document.createElement(\"link\");\n      element.onload = on_load;\n      element.onerror = on_error;\n      element.rel = \"stylesheet\";\n      element.type = \"text/css\";\n      element.href = url;\n      console.debug(\"Bokeh: injecting link tag for BokehJS stylesheet: \", url);\n      document.body.appendChild(element);\n    }\n\n    const hashes = {\"https://cdn.bokeh.org/bokeh/release/bokeh-2.1.1.min.js\": \"kLr4fYcqcSpbuI95brIH3vnnYCquzzSxHPU6XGQCIkQRGJwhg0StNbj1eegrHs12\", \"https://cdn.bokeh.org/bokeh/release/bokeh-widgets-2.1.1.min.js\": \"xIGPmVtaOm+z0BqfSOMn4lOR6ciex448GIKG4eE61LsAvmGj48XcMQZtKcE/UXZe\", \"https://cdn.bokeh.org/bokeh/release/bokeh-tables-2.1.1.min.js\": \"Dc9u1wF/0zApGIWoBbH77iWEHtdmkuYWG839Uzmv8y8yBLXebjO9ZnERsde5Ln/P\", \"https://cdn.bokeh.org/bokeh/release/bokeh-gl-2.1.1.min.js\": \"cT9JaBz7GiRXdENrJLZNSC6eMNF3nh3fa5fTF51Svp+ukxPdwcU5kGXGPBgDCa2j\"};\n\n    for (var i = 0; i < js_urls.length; i++) {\n      var url = js_urls[i];\n      var element = document.createElement('script');\n      element.onload = on_load;\n      element.onerror = on_error;\n      element.async = false;\n      element.src = url;\n      if (url in hashes) {\n        element.crossOrigin = \"anonymous\";\n        element.integrity = \"sha384-\" + hashes[url];\n      }\n      console.debug(\"Bokeh: injecting script tag for BokehJS library: \", url);\n      document.head.appendChild(element);\n    }\n  };\n\n  function inject_raw_css(css) {\n    const element = document.createElement(\"style\");\n    element.appendChild(document.createTextNode(css));\n    document.body.appendChild(element);\n  }\n\n  \n  var js_urls = [\"https://cdn.bokeh.org/bokeh/release/bokeh-2.1.1.min.js\", \"https://cdn.bokeh.org/bokeh/release/bokeh-widgets-2.1.1.min.js\", \"https://cdn.bokeh.org/bokeh/release/bokeh-tables-2.1.1.min.js\", \"https://cdn.bokeh.org/bokeh/release/bokeh-gl-2.1.1.min.js\"];\n  var css_urls = [];\n  \n\n  var inline_js = [\n    function(Bokeh) {\n      Bokeh.set_log_level(\"info\");\n    },\n    function(Bokeh) {\n    \n    \n    }\n  ];\n\n  function run_inline_js() {\n    \n    if (root.Bokeh !== undefined || force === true) {\n      \n    for (var i = 0; i < inline_js.length; i++) {\n      inline_js[i].call(root, root.Bokeh);\n    }\n    if (force === true) {\n        display_loaded();\n      }} else if (Date.now() < root._bokeh_timeout) {\n      setTimeout(run_inline_js, 100);\n    } else if (!root._bokeh_failed_load) {\n      console.log(\"Bokeh: BokehJS failed to load within specified timeout.\");\n      root._bokeh_failed_load = true;\n    } else if (force !== true) {\n      var cell = $(document.getElementById(\"4110\")).parents('.cell').data().cell;\n      cell.output_area.append_execute_result(NB_LOAD_WARNING)\n    }\n\n  }\n\n  if (root._bokeh_is_loading === 0) {\n    console.debug(\"Bokeh: BokehJS loaded, going straight to plotting\");\n    run_inline_js();\n  } else {\n    load_libs(css_urls, js_urls, function() {\n      console.debug(\"Bokeh: BokehJS plotting callback run at\", now());\n      run_inline_js();\n    });\n  }\n}(window));"
     },
     "metadata": {},
     "output_type": "display_data"
    },
    {
     "data": {
      "text/html": [
       "\n",
       "\n",
       "\n",
       "\n",
       "\n",
       "\n",
       "  <div class=\"bk-root\" id=\"02ccab27-816f-4121-88db-ed8ee8c57340\" data-root-id=\"4111\"></div>\n"
      ]
     },
     "metadata": {},
     "output_type": "display_data"
    },
    {
     "data": {
      "application/javascript": [
       "(function(root) {\n",
       "  function embed_document(root) {\n",
       "    \n",
       "  var docs_json = {\"91afaeb7-b7e2-4397-83ab-aaa975ca959b\":{\"roots\":{\"references\":[{\"attributes\":{\"below\":[{\"id\":\"4122\"}],\"center\":[{\"id\":\"4125\"},{\"id\":\"4129\"},{\"id\":\"4164\"}],\"left\":[{\"id\":\"4126\"}],\"plot_height\":300,\"plot_width\":450,\"renderers\":[{\"id\":\"4147\"},{\"id\":\"4152\"},{\"id\":\"4169\"},{\"id\":\"4174\"}],\"title\":{\"id\":\"4112\"},\"toolbar\":{\"id\":\"4137\"},\"x_range\":{\"id\":\"4114\"},\"x_scale\":{\"id\":\"4118\"},\"y_range\":{\"id\":\"4116\"},\"y_scale\":{\"id\":\"4120\"}},\"id\":\"4111\",\"subtype\":\"Figure\",\"type\":\"Plot\"},{\"attributes\":{},\"id\":\"4118\",\"type\":\"LinearScale\"},{\"attributes\":{\"data\":{\"x\":{\"__ndarray__\":\"AAAAAAAAAECamZmZmZkBQGZmZmZmZgZAAAAAAAAAEEAAAAAAAAAcQAAAAAAAACBAAAAAAAAAJkAAAAAAAAAoQAAAAAAAADVAAAAAAAAAOUA=\",\"dtype\":\"float64\",\"order\":\"little\",\"shape\":[10]},\"y\":{\"__ndarray__\":\"cFYJobR6KECKvacNBEwpQNbyglPyvytAtq6cb+dTMED0s0Aeu3U2QLO1zK0BgThA8LpwXNWiPkBYXv71DVdAQDRm9HvLiUlAsmkMm1igTUA=\",\"dtype\":\"float64\",\"order\":\"little\",\"shape\":[10]}},\"selected\":{\"id\":\"4188\"},\"selection_policy\":{\"id\":\"4187\"}},\"id\":\"4171\",\"type\":\"ColumnDataSource\"},{\"attributes\":{\"data\":{\"x\":{\"__ndarray__\":\"AAAAAAAAAECamZmZmZkBQGZmZmZmZgZAAAAAAAAAEEAAAAAAAAAcQAAAAAAAACBAAAAAAAAAJkAAAAAAAAAoQAAAAAAAADVAAAAAAAAAOUA=\",\"dtype\":\"float64\",\"order\":\"little\",\"shape\":[10]},\"y\":{\"__ndarray__\":\"AAAAAAAAHEAAAAAAAAAgQAAAAAAAACZAAAAAAAAALkAAAAAAAAA2QAAAAAAAAD1AAAAAAACAQkCamZmZmdlGQAAAAAAAgEhAAAAAAAAASkA=\",\"dtype\":\"float64\",\"order\":\"little\",\"shape\":[10]}},\"selected\":{\"id\":\"4160\"},\"selection_policy\":{\"id\":\"4159\"}},\"id\":\"4144\",\"type\":\"ColumnDataSource\"},{\"attributes\":{},\"id\":\"4135\",\"type\":\"HelpTool\"},{\"attributes\":{\"fill_color\":{\"value\":\"red\"},\"line_color\":{\"value\":\"red\"},\"x\":{\"field\":\"x\"},\"y\":{\"field\":\"y\"}},\"id\":\"4167\",\"type\":\"Circle\"},{\"attributes\":{\"line_alpha\":0.1,\"line_color\":\"#1f77b4\",\"line_width\":3,\"x\":{\"field\":\"x\"},\"y\":{\"field\":\"y\"}},\"id\":\"4151\",\"type\":\"Line\"},{\"attributes\":{\"align\":\"center\",\"text\":\"Actual vs Predicted Salary \"},\"id\":\"4112\",\"type\":\"Title\"},{\"attributes\":{\"active_drag\":\"auto\",\"active_inspect\":\"auto\",\"active_multi\":null,\"active_scroll\":\"auto\",\"active_tap\":\"auto\",\"tools\":[{\"id\":\"4130\"},{\"id\":\"4131\"},{\"id\":\"4132\"},{\"id\":\"4133\"},{\"id\":\"4134\"},{\"id\":\"4135\"}]},\"id\":\"4137\",\"type\":\"Toolbar\"},{\"attributes\":{\"data_source\":{\"id\":\"4166\"},\"glyph\":{\"id\":\"4167\"},\"hover_glyph\":null,\"muted_glyph\":null,\"nonselection_glyph\":{\"id\":\"4168\"},\"selection_glyph\":null,\"view\":{\"id\":\"4170\"}},\"id\":\"4169\",\"type\":\"GlyphRenderer\"},{\"attributes\":{\"data\":{\"x\":{\"__ndarray__\":\"AAAAAAAAAECamZmZmZkBQGZmZmZmZgZAAAAAAAAAEEAAAAAAAAAcQAAAAAAAACBAAAAAAAAAJkAAAAAAAAAoQAAAAAAAADVAAAAAAAAAOUA=\",\"dtype\":\"float64\",\"order\":\"little\",\"shape\":[10]},\"y\":{\"__ndarray__\":\"AAAAAAAAHEAAAAAAAAAgQAAAAAAAACZAAAAAAAAALkAAAAAAAAA2QAAAAAAAAD1AAAAAAACAQkCamZmZmdlGQAAAAAAAgEhAAAAAAAAASkA=\",\"dtype\":\"float64\",\"order\":\"little\",\"shape\":[10]}},\"selected\":{\"id\":\"4162\"},\"selection_policy\":{\"id\":\"4161\"}},\"id\":\"4149\",\"type\":\"ColumnDataSource\"},{\"attributes\":{\"fill_alpha\":{\"value\":0.1},\"fill_color\":{\"value\":\"#1f77b4\"},\"line_alpha\":{\"value\":0.1},\"line_color\":{\"value\":\"#1f77b4\"},\"x\":{\"field\":\"x\"},\"y\":{\"field\":\"y\"}},\"id\":\"4146\",\"type\":\"Circle\"},{\"attributes\":{\"fill_alpha\":{\"value\":0.1},\"fill_color\":{\"value\":\"red\"},\"line_alpha\":{\"value\":0.1},\"line_color\":{\"value\":\"red\"},\"x\":{\"field\":\"x\"},\"y\":{\"field\":\"y\"}},\"id\":\"4168\",\"type\":\"Circle\"},{\"attributes\":{},\"id\":\"4120\",\"type\":\"LinearScale\"},{\"attributes\":{\"data_source\":{\"id\":\"4149\"},\"glyph\":{\"id\":\"4150\"},\"hover_glyph\":null,\"muted_glyph\":null,\"nonselection_glyph\":{\"id\":\"4151\"},\"selection_glyph\":null,\"view\":{\"id\":\"4153\"}},\"id\":\"4152\",\"type\":\"GlyphRenderer\"},{\"attributes\":{\"axis_label\":\"Experience\",\"formatter\":{\"id\":\"4157\"},\"ticker\":{\"id\":\"4123\"}},\"id\":\"4122\",\"type\":\"LinearAxis\"},{\"attributes\":{},\"id\":\"4155\",\"type\":\"BasicTickFormatter\"},{\"attributes\":{\"source\":{\"id\":\"4166\"}},\"id\":\"4170\",\"type\":\"CDSView\"},{\"attributes\":{\"bottom_units\":\"screen\",\"fill_alpha\":0.5,\"fill_color\":\"lightgrey\",\"left_units\":\"screen\",\"level\":\"overlay\",\"line_alpha\":1.0,\"line_color\":\"black\",\"line_dash\":[4,4],\"line_width\":2,\"right_units\":\"screen\",\"top_units\":\"screen\"},\"id\":\"4136\",\"type\":\"BoxAnnotation\"},{\"attributes\":{},\"id\":\"4123\",\"type\":\"BasicTicker\"},{\"attributes\":{},\"id\":\"4185\",\"type\":\"UnionRenderers\"},{\"attributes\":{\"data_source\":{\"id\":\"4171\"},\"glyph\":{\"id\":\"4172\"},\"hover_glyph\":null,\"muted_glyph\":null,\"nonselection_glyph\":{\"id\":\"4173\"},\"selection_glyph\":null,\"view\":{\"id\":\"4175\"}},\"id\":\"4174\",\"type\":\"GlyphRenderer\"},{\"attributes\":{\"data_source\":{\"id\":\"4144\"},\"glyph\":{\"id\":\"4145\"},\"hover_glyph\":null,\"muted_glyph\":null,\"nonselection_glyph\":{\"id\":\"4146\"},\"selection_glyph\":null,\"view\":{\"id\":\"4148\"}},\"id\":\"4147\",\"type\":\"GlyphRenderer\"},{\"attributes\":{\"axis\":{\"id\":\"4122\"},\"ticker\":null},\"id\":\"4125\",\"type\":\"Grid\"},{\"attributes\":{\"line_alpha\":0.4,\"line_color\":\"red\",\"line_width\":3,\"x\":{\"field\":\"x\"},\"y\":{\"field\":\"y\"}},\"id\":\"4172\",\"type\":\"Line\"},{\"attributes\":{\"data\":{\"x\":{\"__ndarray__\":\"AAAAAAAAAECamZmZmZkBQGZmZmZmZgZAAAAAAAAAEEAAAAAAAAAcQAAAAAAAACBAAAAAAAAAJkAAAAAAAAAoQAAAAAAAADVAAAAAAAAAOUA=\",\"dtype\":\"float64\",\"order\":\"little\",\"shape\":[10]},\"y\":{\"__ndarray__\":\"cFYJobR6KECKvacNBEwpQNbyglPyvytAtq6cb+dTMED0s0Aeu3U2QLO1zK0BgThA8LpwXNWiPkBYXv71DVdAQDRm9HvLiUlAsmkMm1igTUA=\",\"dtype\":\"float64\",\"order\":\"little\",\"shape\":[10]}},\"selected\":{\"id\":\"4186\"},\"selection_policy\":{\"id\":\"4185\"}},\"id\":\"4166\",\"type\":\"ColumnDataSource\"},{\"attributes\":{\"source\":{\"id\":\"4171\"}},\"id\":\"4175\",\"type\":\"CDSView\"},{\"attributes\":{\"axis_label\":\"Salary\",\"formatter\":{\"id\":\"4155\"},\"ticker\":{\"id\":\"4127\"}},\"id\":\"4126\",\"type\":\"LinearAxis\"},{\"attributes\":{\"line_alpha\":0.1,\"line_color\":\"red\",\"line_width\":3,\"x\":{\"field\":\"x\"},\"y\":{\"field\":\"y\"}},\"id\":\"4173\",\"type\":\"Line\"},{\"attributes\":{},\"id\":\"4127\",\"type\":\"BasicTicker\"},{\"attributes\":{\"source\":{\"id\":\"4144\"}},\"id\":\"4148\",\"type\":\"CDSView\"},{\"attributes\":{},\"id\":\"4160\",\"type\":\"Selection\"},{\"attributes\":{\"axis\":{\"id\":\"4126\"},\"dimension\":1,\"ticker\":null},\"id\":\"4129\",\"type\":\"Grid\"},{\"attributes\":{},\"id\":\"4159\",\"type\":\"UnionRenderers\"},{\"attributes\":{\"fill_color\":{\"value\":\"#1f77b4\"},\"line_color\":{\"value\":\"#1f77b4\"},\"x\":{\"field\":\"x\"},\"y\":{\"field\":\"y\"}},\"id\":\"4145\",\"type\":\"Circle\"},{\"attributes\":{},\"id\":\"4186\",\"type\":\"Selection\"},{\"attributes\":{},\"id\":\"4157\",\"type\":\"BasicTickFormatter\"},{\"attributes\":{},\"id\":\"4187\",\"type\":\"UnionRenderers\"},{\"attributes\":{\"source\":{\"id\":\"4149\"}},\"id\":\"4153\",\"type\":\"CDSView\"},{\"attributes\":{\"line_alpha\":0.4,\"line_color\":\"#1f77b4\",\"line_width\":3,\"x\":{\"field\":\"x\"},\"y\":{\"field\":\"y\"}},\"id\":\"4150\",\"type\":\"Line\"},{\"attributes\":{},\"id\":\"4188\",\"type\":\"Selection\"},{\"attributes\":{},\"id\":\"4130\",\"type\":\"PanTool\"},{\"attributes\":{\"label\":{\"value\":\"Predicted Salary\"},\"renderers\":[{\"id\":\"4174\"}]},\"id\":\"4190\",\"type\":\"LegendItem\"},{\"attributes\":{},\"id\":\"4161\",\"type\":\"UnionRenderers\"},{\"attributes\":{},\"id\":\"4131\",\"type\":\"WheelZoomTool\"},{\"attributes\":{},\"id\":\"4162\",\"type\":\"Selection\"},{\"attributes\":{\"overlay\":{\"id\":\"4136\"}},\"id\":\"4132\",\"type\":\"BoxZoomTool\"},{\"attributes\":{},\"id\":\"4116\",\"type\":\"DataRange1d\"},{\"attributes\":{\"items\":[{\"id\":\"4165\"},{\"id\":\"4190\"}]},\"id\":\"4164\",\"type\":\"Legend\"},{\"attributes\":{},\"id\":\"4133\",\"type\":\"SaveTool\"},{\"attributes\":{\"label\":{\"value\":\"Actual Salary\"},\"renderers\":[{\"id\":\"4152\"}]},\"id\":\"4165\",\"type\":\"LegendItem\"},{\"attributes\":{},\"id\":\"4134\",\"type\":\"ResetTool\"},{\"attributes\":{},\"id\":\"4114\",\"type\":\"DataRange1d\"}],\"root_ids\":[\"4111\"]},\"title\":\"Bokeh Application\",\"version\":\"2.1.1\"}};\n",
       "  var render_items = [{\"docid\":\"91afaeb7-b7e2-4397-83ab-aaa975ca959b\",\"root_ids\":[\"4111\"],\"roots\":{\"4111\":\"02ccab27-816f-4121-88db-ed8ee8c57340\"}}];\n",
       "  root.Bokeh.embed.embed_items_notebook(docs_json, render_items);\n",
       "\n",
       "  }\n",
       "  if (root.Bokeh !== undefined) {\n",
       "    embed_document(root);\n",
       "  } else {\n",
       "    var attempts = 0;\n",
       "    var timer = setInterval(function(root) {\n",
       "      if (root.Bokeh !== undefined) {\n",
       "        clearInterval(timer);\n",
       "        embed_document(root);\n",
       "      } else {\n",
       "        attempts++;\n",
       "        if (attempts > 100) {\n",
       "          clearInterval(timer);\n",
       "          console.log(\"Bokeh: ERROR: Unable to run BokehJS code because BokehJS library is missing\");\n",
       "        }\n",
       "      }\n",
       "    }, 10, root)\n",
       "  }\n",
       "})(window);"
      ],
      "application/vnd.bokehjs_exec.v0+json": ""
     },
     "metadata": {
      "application/vnd.bokehjs_exec.v0+json": {
       "id": "4111"
      }
     },
     "output_type": "display_data"
    }
   ],
   "source": [
    "from bokeh.plotting import figure, show, output_notebook\n",
    "output_notebook()\n",
    "\n",
    "p = figure(title = \"Actual vs Predicted Salary \", width=450, height=300)\n",
    "p.title.align = 'center'\n",
    "p.circle(df.Exp, df.Salary)\n",
    "p.line(df.Exp, df.Salary, legend_label='Actual Salary', line_width=3, line_alpha=0.4)\n",
    "p.circle(df.Exp, ypred, color=\"red\")\n",
    "p.line(df.Exp,ypred, color=\"red\",legend_label='Predicted Salary', line_width=3, line_alpha=0.4)\n",
    "\n",
    "p.xaxis.axis_label = 'Experience'\n",
    "p.yaxis.axis_label = 'Salary'\n",
    "\n",
    "show(p)"
   ]
  },
  {
   "cell_type": "markdown",
   "metadata": {},
   "source": [
    "Plotting residual plot using bokeh"
   ]
  },
  {
   "cell_type": "code",
   "execution_count": 59,
   "metadata": {
    "ExecuteTime": {
     "end_time": "2021-05-13T14:48:04.407722Z",
     "start_time": "2021-05-13T14:48:04.152653Z"
    }
   },
   "outputs": [
    {
     "name": "stdout",
     "output_type": "stream",
     "text": [
      "[-5.23965934 -4.64846842 -2.87489568 -1.32775018 -0.45988645  4.49606813\n",
      "  6.36393187 13.01988645 -2.07652234 -7.25270403]\n"
     ]
    },
    {
     "data": {
      "text/html": [
       "\n",
       "\n",
       "\n",
       "\n",
       "\n",
       "\n",
       "  <div class=\"bk-root\" id=\"309b5ece-cc9e-480b-94de-0b2cc24750a3\" data-root-id=\"4405\"></div>\n"
      ]
     },
     "metadata": {},
     "output_type": "display_data"
    },
    {
     "data": {
      "application/javascript": [
       "(function(root) {\n",
       "  function embed_document(root) {\n",
       "    \n",
       "  var docs_json = {\"766e6a37-2941-4af0-bf17-8b89eb415b93\":{\"roots\":{\"references\":[{\"attributes\":{\"below\":[{\"id\":\"4416\"}],\"center\":[{\"id\":\"4419\"},{\"id\":\"4423\"}],\"left\":[{\"id\":\"4420\"}],\"plot_height\":300,\"plot_width\":400,\"renderers\":[{\"id\":\"4441\"}],\"title\":{\"id\":\"4406\"},\"toolbar\":{\"id\":\"4431\"},\"x_range\":{\"id\":\"4408\"},\"x_scale\":{\"id\":\"4412\"},\"y_range\":{\"id\":\"4410\"},\"y_scale\":{\"id\":\"4414\"}},\"id\":\"4405\",\"subtype\":\"Figure\",\"type\":\"Plot\"},{\"attributes\":{\"axis\":{\"id\":\"4420\"},\"dimension\":1,\"grid_line_alpha\":0.7,\"ticker\":null},\"id\":\"4423\",\"type\":\"Grid\"},{\"attributes\":{},\"id\":\"4579\",\"type\":\"Selection\"},{\"attributes\":{\"data_source\":{\"id\":\"4438\"},\"glyph\":{\"id\":\"4439\"},\"hover_glyph\":null,\"muted_glyph\":null,\"nonselection_glyph\":{\"id\":\"4440\"},\"selection_glyph\":null,\"view\":{\"id\":\"4442\"}},\"id\":\"4441\",\"type\":\"GlyphRenderer\"},{\"attributes\":{},\"id\":\"4576\",\"type\":\"BasicTickFormatter\"},{\"attributes\":{\"fill_color\":{\"value\":\"#1f77b4\"},\"line_color\":{\"value\":\"#1f77b4\"},\"x\":{\"field\":\"x\"},\"y\":{\"field\":\"y\"}},\"id\":\"4439\",\"type\":\"Circle\"},{\"attributes\":{},\"id\":\"4424\",\"type\":\"PanTool\"},{\"attributes\":{},\"id\":\"4408\",\"type\":\"DataRange1d\"},{\"attributes\":{},\"id\":\"4425\",\"type\":\"WheelZoomTool\"},{\"attributes\":{\"active_drag\":\"auto\",\"active_inspect\":\"auto\",\"active_multi\":null,\"active_scroll\":\"auto\",\"active_tap\":\"auto\",\"tools\":[{\"id\":\"4424\"},{\"id\":\"4425\"},{\"id\":\"4426\"},{\"id\":\"4427\"},{\"id\":\"4428\"},{\"id\":\"4429\"}]},\"id\":\"4431\",\"type\":\"Toolbar\"},{\"attributes\":{\"overlay\":{\"id\":\"4430\"}},\"id\":\"4426\",\"type\":\"BoxZoomTool\"},{\"attributes\":{\"align\":\"center\",\"text\":\"Salary Residual plot\"},\"id\":\"4406\",\"type\":\"Title\"},{\"attributes\":{},\"id\":\"4427\",\"type\":\"SaveTool\"},{\"attributes\":{\"data\":{\"x\":{\"__ndarray__\":\"AAAAAAAAAECamZmZmZkBQGZmZmZmZgZAAAAAAAAAEEAAAAAAAAAcQAAAAAAAACBAAAAAAAAAJkAAAAAAAAAoQAAAAAAAADVAAAAAAAAAOUA=\",\"dtype\":\"float64\",\"order\":\"little\",\"shape\":[10]},\"y\":{\"__ndarray__\":\"4KwSQmn1FMAUe08bCJgSwFjLC07J/wbAYOvK+XY+9b8A/SyQx27dvzQpzUj5+xFAQBQ9jqp0GUAI7WyOLgoqQEBjRr+3nADAkE1j2MQCHcA=\",\"dtype\":\"float64\",\"order\":\"little\",\"shape\":[10]}},\"selected\":{\"id\":\"4579\"},\"selection_policy\":{\"id\":\"4578\"}},\"id\":\"4438\",\"type\":\"ColumnDataSource\"},{\"attributes\":{},\"id\":\"4428\",\"type\":\"ResetTool\"},{\"attributes\":{},\"id\":\"4410\",\"type\":\"DataRange1d\"},{\"attributes\":{},\"id\":\"4429\",\"type\":\"HelpTool\"},{\"attributes\":{},\"id\":\"4412\",\"type\":\"LinearScale\"},{\"attributes\":{},\"id\":\"4414\",\"type\":\"LinearScale\"},{\"attributes\":{\"formatter\":{\"id\":\"4576\"},\"ticker\":{\"id\":\"4417\"}},\"id\":\"4416\",\"type\":\"LinearAxis\"},{\"attributes\":{},\"id\":\"4417\",\"type\":\"BasicTicker\"},{\"attributes\":{\"axis\":{\"id\":\"4416\"},\"grid_line_color\":null,\"ticker\":null},\"id\":\"4419\",\"type\":\"Grid\"},{\"attributes\":{\"fill_alpha\":{\"value\":0.1},\"fill_color\":{\"value\":\"#1f77b4\"},\"line_alpha\":{\"value\":0.1},\"line_color\":{\"value\":\"#1f77b4\"},\"x\":{\"field\":\"x\"},\"y\":{\"field\":\"y\"}},\"id\":\"4440\",\"type\":\"Circle\"},{\"attributes\":{\"bottom_units\":\"screen\",\"fill_alpha\":0.5,\"fill_color\":\"lightgrey\",\"left_units\":\"screen\",\"level\":\"overlay\",\"line_alpha\":1.0,\"line_color\":\"black\",\"line_dash\":[4,4],\"line_width\":2,\"right_units\":\"screen\",\"top_units\":\"screen\"},\"id\":\"4430\",\"type\":\"BoxAnnotation\"},{\"attributes\":{\"source\":{\"id\":\"4438\"}},\"id\":\"4442\",\"type\":\"CDSView\"},{\"attributes\":{},\"id\":\"4574\",\"type\":\"BasicTickFormatter\"},{\"attributes\":{},\"id\":\"4421\",\"type\":\"BasicTicker\"},{\"attributes\":{\"formatter\":{\"id\":\"4574\"},\"ticker\":{\"id\":\"4421\"}},\"id\":\"4420\",\"type\":\"LinearAxis\"},{\"attributes\":{},\"id\":\"4578\",\"type\":\"UnionRenderers\"}],\"root_ids\":[\"4405\"]},\"title\":\"Bokeh Application\",\"version\":\"2.1.1\"}};\n",
       "  var render_items = [{\"docid\":\"766e6a37-2941-4af0-bf17-8b89eb415b93\",\"root_ids\":[\"4405\"],\"roots\":{\"4405\":\"309b5ece-cc9e-480b-94de-0b2cc24750a3\"}}];\n",
       "  root.Bokeh.embed.embed_items_notebook(docs_json, render_items);\n",
       "\n",
       "  }\n",
       "  if (root.Bokeh !== undefined) {\n",
       "    embed_document(root);\n",
       "  } else {\n",
       "    var attempts = 0;\n",
       "    var timer = setInterval(function(root) {\n",
       "      if (root.Bokeh !== undefined) {\n",
       "        clearInterval(timer);\n",
       "        embed_document(root);\n",
       "      } else {\n",
       "        attempts++;\n",
       "        if (attempts > 100) {\n",
       "          clearInterval(timer);\n",
       "          console.log(\"Bokeh: ERROR: Unable to run BokehJS code because BokehJS library is missing\");\n",
       "        }\n",
       "      }\n",
       "    }, 10, root)\n",
       "  }\n",
       "})(window);"
      ],
      "application/vnd.bokehjs_exec.v0+json": ""
     },
     "metadata": {
      "application/vnd.bokehjs_exec.v0+json": {
       "id": "4405"
      }
     },
     "output_type": "display_data"
    }
   ],
   "source": [
    "residuals=np.array(y)-np.array(ypred)\n",
    "print(residuals)\n",
    "\n",
    "p=figure(title=\"Salary Residual plot\", width=400, height=300)\n",
    "p.title.align = 'center'\n",
    "p.circle(df.Exp, residuals)\n",
    "\n",
    "p.xgrid[0].grid_line_color=None\n",
    "p.ygrid[0].grid_line_alpha=0.7\n",
    "\n",
    "show(p)"
   ]
  },
  {
   "cell_type": "markdown",
   "metadata": {},
   "source": [
    "**Model Evaluation**\n",
    "\n",
    "Computing MAE and RMSE metrics:"
   ]
  },
  {
   "cell_type": "code",
   "execution_count": 60,
   "metadata": {
    "ExecuteTime": {
     "end_time": "2021-05-13T14:48:04.447574Z",
     "start_time": "2021-05-13T14:48:04.411384Z"
    }
   },
   "outputs": [
    {
     "data": {
      "text/plain": [
       "5.885975631069267"
      ]
     },
     "execution_count": 60,
     "metadata": {},
     "output_type": "execute_result"
    }
   ],
   "source": [
    "#RMSE\n",
    "np.sqrt(np.mean(np.square(y-ypred)))\n",
    "\n",
    "#using sklearn library\n",
    "np.sqrt(mean_squared_error(y, ypred))"
   ]
  },
  {
   "cell_type": "code",
   "execution_count": 61,
   "metadata": {
    "ExecuteTime": {
     "end_time": "2021-05-13T14:48:04.475741Z",
     "start_time": "2021-05-13T14:48:04.451410Z"
    }
   },
   "outputs": [
    {
     "data": {
      "text/plain": [
       "4.775977289351772"
      ]
     },
     "execution_count": 61,
     "metadata": {},
     "output_type": "execute_result"
    }
   ],
   "source": [
    "#MAE\n",
    "np.mean(abs(y-ypred))\n",
    "\n",
    "#using sklearn\n",
    "mean_absolute_error(y, ypred)"
   ]
  },
  {
   "cell_type": "markdown",
   "metadata": {},
   "source": [
    "R2 score"
   ]
  },
  {
   "cell_type": "code",
   "execution_count": 62,
   "metadata": {
    "ExecuteTime": {
     "end_time": "2021-05-13T14:48:04.497320Z",
     "start_time": "2021-05-13T14:48:04.483029Z"
    }
   },
   "outputs": [
    {
     "data": {
      "text/plain": [
       "0.873810039518091"
      ]
     },
     "execution_count": 62,
     "metadata": {},
     "output_type": "execute_result"
    }
   ],
   "source": [
    "a=sum(np.square(residuals))\n",
    "b=sum(np.square(y-np.mean(y)))\n",
    "1-(a/b)"
   ]
  },
  {
   "cell_type": "markdown",
   "metadata": {},
   "source": [
    "**Polynomial Transformation to improve the model**"
   ]
  },
  {
   "cell_type": "code",
   "execution_count": 63,
   "metadata": {
    "ExecuteTime": {
     "end_time": "2021-05-13T14:48:04.538273Z",
     "start_time": "2021-05-13T14:48:04.508682Z"
    }
   },
   "outputs": [
    {
     "data": {
      "text/plain": [
       "array([ 6.66607844,  7.55269321, 10.15971332, 15.13604469, 26.19023821,\n",
       "       29.43476783, 37.84775199, 40.21187849, 51.58448186, 50.91635197])"
      ]
     },
     "execution_count": 63,
     "metadata": {},
     "output_type": "execute_result"
    }
   ],
   "source": [
    "from sklearn.preprocessing import PolynomialFeatures\n",
    "p=PolynomialFeatures()\n",
    "X_poly=p.fit_transform(X)\n",
    "\n",
    "lm.fit(X_poly, y)\n",
    "ypred=lm.predict(X_poly)\n",
    "ypred"
   ]
  },
  {
   "cell_type": "markdown",
   "metadata": {},
   "source": [
    "**Plotting predicted vs actual Salary**"
   ]
  },
  {
   "cell_type": "code",
   "execution_count": 64,
   "metadata": {
    "ExecuteTime": {
     "end_time": "2021-05-13T14:48:04.898395Z",
     "start_time": "2021-05-13T14:48:04.543531Z"
    }
   },
   "outputs": [
    {
     "data": {
      "text/html": [
       "\n",
       "\n",
       "\n",
       "\n",
       "\n",
       "\n",
       "  <div class=\"bk-root\" id=\"aa2b7b97-003f-4f44-a4b3-4dfd3d79dafa\" data-root-id=\"4629\"></div>\n"
      ]
     },
     "metadata": {},
     "output_type": "display_data"
    },
    {
     "data": {
      "application/javascript": [
       "(function(root) {\n",
       "  function embed_document(root) {\n",
       "    \n",
       "  var docs_json = {\"95808689-746e-45c5-9b50-de885ceb9363\":{\"roots\":{\"references\":[{\"attributes\":{\"below\":[{\"id\":\"4640\"}],\"center\":[{\"id\":\"4643\"},{\"id\":\"4647\"},{\"id\":\"4675\"}],\"left\":[{\"id\":\"4644\"}],\"plot_height\":300,\"plot_width\":450,\"renderers\":[{\"id\":\"4665\"},{\"id\":\"4680\"},{\"id\":\"4695\"},{\"id\":\"4713\"}],\"title\":{\"id\":\"4630\"},\"toolbar\":{\"id\":\"4655\"},\"x_range\":{\"id\":\"4632\"},\"x_scale\":{\"id\":\"4636\"},\"y_range\":{\"id\":\"4634\"},\"y_scale\":{\"id\":\"4638\"}},\"id\":\"4629\",\"subtype\":\"Figure\",\"type\":\"Plot\"},{\"attributes\":{},\"id\":\"4649\",\"type\":\"WheelZoomTool\"},{\"attributes\":{\"source\":{\"id\":\"4677\"}},\"id\":\"4681\",\"type\":\"CDSView\"},{\"attributes\":{\"overlay\":{\"id\":\"4654\"}},\"id\":\"4650\",\"type\":\"BoxZoomTool\"},{\"attributes\":{\"data\":{\"x\":{\"__ndarray__\":\"AAAAAAAAAECamZmZmZkBQGZmZmZmZgZAAAAAAAAAEEAAAAAAAAAcQAAAAAAAACBAAAAAAAAAJkAAAAAAAAAoQAAAAAAAADVAAAAAAAAAOUA=\",\"dtype\":\"float64\",\"order\":\"little\",\"shape\":[10]},\"y\":{\"__ndarray__\":\"AAAAAAAAHEAAAAAAAAAgQAAAAAAAACZAAAAAAAAALkAAAAAAAAA2QAAAAAAAAD1AAAAAAACAQkCamZmZmdlGQAAAAAAAgEhAAAAAAAAASkA=\",\"dtype\":\"float64\",\"order\":\"little\",\"shape\":[10]}},\"selected\":{\"id\":\"4690\"},\"selection_policy\":{\"id\":\"4689\"}},\"id\":\"4677\",\"type\":\"ColumnDataSource\"},{\"attributes\":{},\"id\":\"4651\",\"type\":\"SaveTool\"},{\"attributes\":{},\"id\":\"4689\",\"type\":\"UnionRenderers\"},{\"attributes\":{},\"id\":\"4690\",\"type\":\"Selection\"},{\"attributes\":{},\"id\":\"4652\",\"type\":\"ResetTool\"},{\"attributes\":{\"fill_alpha\":{\"value\":0.1},\"fill_color\":{\"value\":\"#1f77b4\"},\"line_alpha\":{\"value\":0.1},\"line_color\":{\"value\":\"#1f77b4\"},\"x\":{\"field\":\"x\"},\"y\":{\"field\":\"y\"}},\"id\":\"4664\",\"type\":\"Circle\"},{\"attributes\":{\"align\":\"center\",\"text\":\"Actual vs Predicted Y values \"},\"id\":\"4630\",\"type\":\"Title\"},{\"attributes\":{},\"id\":\"4653\",\"type\":\"HelpTool\"},{\"attributes\":{\"fill_color\":{\"value\":\"red\"},\"line_color\":{\"value\":\"red\"},\"x\":{\"field\":\"x\"},\"y\":{\"field\":\"y\"}},\"id\":\"4693\",\"type\":\"Circle\"},{\"attributes\":{\"data\":{\"x\":{\"__ndarray__\":\"AAAAAAAAAECamZmZmZkBQGZmZmZmZgZAAAAAAAAAEEAAAAAAAAAcQAAAAAAAACBAAAAAAAAAJkAAAAAAAAAoQAAAAAAAADVAAAAAAAAAOUA=\",\"dtype\":\"float64\",\"order\":\"little\",\"shape\":[10]},\"y\":{\"__ndarray__\":\"bGmTdxCqGkAE0EU19TUeQNLslfHFUSRAnFdNpqdFLkCsTJlzszA6QNC/w/FMbz1A5egnI4PsQkBRtZbVHhtEQDGZK03QyklAruNsBUt1SUA=\",\"dtype\":\"float64\",\"order\":\"little\",\"shape\":[10]}},\"selected\":{\"id\":\"4727\"},\"selection_policy\":{\"id\":\"4726\"}},\"id\":\"4710\",\"type\":\"ColumnDataSource\"},{\"attributes\":{},\"id\":\"4632\",\"type\":\"DataRange1d\"},{\"attributes\":{},\"id\":\"4706\",\"type\":\"UnionRenderers\"},{\"attributes\":{\"data_source\":{\"id\":\"4692\"},\"glyph\":{\"id\":\"4693\"},\"hover_glyph\":null,\"muted_glyph\":null,\"nonselection_glyph\":{\"id\":\"4694\"},\"selection_glyph\":null,\"view\":{\"id\":\"4696\"}},\"id\":\"4695\",\"type\":\"GlyphRenderer\"},{\"attributes\":{\"active_drag\":\"auto\",\"active_inspect\":\"auto\",\"active_multi\":null,\"active_scroll\":\"auto\",\"active_tap\":\"auto\",\"tools\":[{\"id\":\"4648\"},{\"id\":\"4649\"},{\"id\":\"4650\"},{\"id\":\"4651\"},{\"id\":\"4652\"},{\"id\":\"4653\"}]},\"id\":\"4655\",\"type\":\"Toolbar\"},{\"attributes\":{},\"id\":\"4634\",\"type\":\"DataRange1d\"},{\"attributes\":{\"fill_alpha\":{\"value\":0.1},\"fill_color\":{\"value\":\"red\"},\"line_alpha\":{\"value\":0.1},\"line_color\":{\"value\":\"red\"},\"x\":{\"field\":\"x\"},\"y\":{\"field\":\"y\"}},\"id\":\"4694\",\"type\":\"Circle\"},{\"attributes\":{},\"id\":\"4636\",\"type\":\"LinearScale\"},{\"attributes\":{\"label\":{\"value\":\"Actual Salary\"},\"renderers\":[{\"id\":\"4665\"},{\"id\":\"4680\"}]},\"id\":\"4676\",\"type\":\"LegendItem\"},{\"attributes\":{},\"id\":\"4638\",\"type\":\"LinearScale\"},{\"attributes\":{\"items\":[{\"id\":\"4676\"},{\"id\":\"4709\"}]},\"id\":\"4675\",\"type\":\"Legend\"},{\"attributes\":{\"source\":{\"id\":\"4692\"}},\"id\":\"4696\",\"type\":\"CDSView\"},{\"attributes\":{\"axis_label\":\"Experience\",\"formatter\":{\"id\":\"4670\"},\"ticker\":{\"id\":\"4641\"}},\"id\":\"4640\",\"type\":\"LinearAxis\"},{\"attributes\":{\"bottom_units\":\"screen\",\"fill_alpha\":0.5,\"fill_color\":\"lightgrey\",\"left_units\":\"screen\",\"level\":\"overlay\",\"line_alpha\":1.0,\"line_color\":\"black\",\"line_dash\":[4,4],\"line_width\":2,\"right_units\":\"screen\",\"top_units\":\"screen\"},\"id\":\"4654\",\"type\":\"BoxAnnotation\"},{\"attributes\":{},\"id\":\"4707\",\"type\":\"Selection\"},{\"attributes\":{},\"id\":\"4727\",\"type\":\"Selection\"},{\"attributes\":{},\"id\":\"4641\",\"type\":\"BasicTicker\"},{\"attributes\":{\"label\":{\"value\":\"Predicted Salary\"},\"renderers\":[{\"id\":\"4695\"},{\"id\":\"4713\"}]},\"id\":\"4709\",\"type\":\"LegendItem\"},{\"attributes\":{\"axis\":{\"id\":\"4640\"},\"ticker\":null},\"id\":\"4643\",\"type\":\"Grid\"},{\"attributes\":{\"data\":{\"x\":{\"__ndarray__\":\"AAAAAAAAAECamZmZmZkBQGZmZmZmZgZAAAAAAAAAEEAAAAAAAAAcQAAAAAAAACBAAAAAAAAAJkAAAAAAAAAoQAAAAAAAADVAAAAAAAAAOUA=\",\"dtype\":\"float64\",\"order\":\"little\",\"shape\":[10]},\"y\":{\"__ndarray__\":\"AAAAAAAAHEAAAAAAAAAgQAAAAAAAACZAAAAAAAAALkAAAAAAAAA2QAAAAAAAAD1AAAAAAACAQkCamZmZmdlGQAAAAAAAgEhAAAAAAAAASkA=\",\"dtype\":\"float64\",\"order\":\"little\",\"shape\":[10]}},\"selected\":{\"id\":\"4673\"},\"selection_policy\":{\"id\":\"4672\"}},\"id\":\"4662\",\"type\":\"ColumnDataSource\"},{\"attributes\":{\"axis_label\":\"Salary\",\"formatter\":{\"id\":\"4668\"},\"ticker\":{\"id\":\"4645\"}},\"id\":\"4644\",\"type\":\"LinearAxis\"},{\"attributes\":{\"source\":{\"id\":\"4662\"}},\"id\":\"4666\",\"type\":\"CDSView\"},{\"attributes\":{},\"id\":\"4726\",\"type\":\"UnionRenderers\"},{\"attributes\":{\"data_source\":{\"id\":\"4710\"},\"glyph\":{\"id\":\"4711\"},\"hover_glyph\":null,\"muted_glyph\":null,\"nonselection_glyph\":{\"id\":\"4712\"},\"selection_glyph\":null,\"view\":{\"id\":\"4714\"}},\"id\":\"4713\",\"type\":\"GlyphRenderer\"},{\"attributes\":{},\"id\":\"4645\",\"type\":\"BasicTicker\"},{\"attributes\":{},\"id\":\"4670\",\"type\":\"BasicTickFormatter\"},{\"attributes\":{\"line_alpha\":0.4,\"line_color\":\"red\",\"line_width\":3,\"x\":{\"field\":\"x\"},\"y\":{\"field\":\"y\"}},\"id\":\"4711\",\"type\":\"Line\"},{\"attributes\":{\"axis\":{\"id\":\"4644\"},\"dimension\":1,\"ticker\":null},\"id\":\"4647\",\"type\":\"Grid\"},{\"attributes\":{\"source\":{\"id\":\"4710\"}},\"id\":\"4714\",\"type\":\"CDSView\"},{\"attributes\":{},\"id\":\"4672\",\"type\":\"UnionRenderers\"},{\"attributes\":{\"line_alpha\":0.1,\"line_color\":\"red\",\"line_width\":3,\"x\":{\"field\":\"x\"},\"y\":{\"field\":\"y\"}},\"id\":\"4712\",\"type\":\"Line\"},{\"attributes\":{},\"id\":\"4673\",\"type\":\"Selection\"},{\"attributes\":{\"data_source\":{\"id\":\"4662\"},\"glyph\":{\"id\":\"4663\"},\"hover_glyph\":null,\"muted_glyph\":null,\"nonselection_glyph\":{\"id\":\"4664\"},\"selection_glyph\":null,\"view\":{\"id\":\"4666\"}},\"id\":\"4665\",\"type\":\"GlyphRenderer\"},{\"attributes\":{},\"id\":\"4668\",\"type\":\"BasicTickFormatter\"},{\"attributes\":{\"line_alpha\":0.4,\"line_color\":\"#1f77b4\",\"line_width\":3,\"x\":{\"field\":\"x\"},\"y\":{\"field\":\"y\"}},\"id\":\"4678\",\"type\":\"Line\"},{\"attributes\":{\"fill_color\":{\"value\":\"#1f77b4\"},\"line_color\":{\"value\":\"#1f77b4\"},\"x\":{\"field\":\"x\"},\"y\":{\"field\":\"y\"}},\"id\":\"4663\",\"type\":\"Circle\"},{\"attributes\":{\"data\":{\"x\":{\"__ndarray__\":\"AAAAAAAAAECamZmZmZkBQGZmZmZmZgZAAAAAAAAAEEAAAAAAAAAcQAAAAAAAACBAAAAAAAAAJkAAAAAAAAAoQAAAAAAAADVAAAAAAAAAOUA=\",\"dtype\":\"float64\",\"order\":\"little\",\"shape\":[10]},\"y\":{\"__ndarray__\":\"bGmTdxCqGkAE0EU19TUeQNLslfHFUSRAnFdNpqdFLkCsTJlzszA6QNC/w/FMbz1A5egnI4PsQkBRtZbVHhtEQDGZK03QyklAruNsBUt1SUA=\",\"dtype\":\"float64\",\"order\":\"little\",\"shape\":[10]}},\"selected\":{\"id\":\"4707\"},\"selection_policy\":{\"id\":\"4706\"}},\"id\":\"4692\",\"type\":\"ColumnDataSource\"},{\"attributes\":{\"line_alpha\":0.1,\"line_color\":\"#1f77b4\",\"line_width\":3,\"x\":{\"field\":\"x\"},\"y\":{\"field\":\"y\"}},\"id\":\"4679\",\"type\":\"Line\"},{\"attributes\":{},\"id\":\"4648\",\"type\":\"PanTool\"},{\"attributes\":{\"data_source\":{\"id\":\"4677\"},\"glyph\":{\"id\":\"4678\"},\"hover_glyph\":null,\"muted_glyph\":null,\"nonselection_glyph\":{\"id\":\"4679\"},\"selection_glyph\":null,\"view\":{\"id\":\"4681\"}},\"id\":\"4680\",\"type\":\"GlyphRenderer\"}],\"root_ids\":[\"4629\"]},\"title\":\"Bokeh Application\",\"version\":\"2.1.1\"}};\n",
       "  var render_items = [{\"docid\":\"95808689-746e-45c5-9b50-de885ceb9363\",\"root_ids\":[\"4629\"],\"roots\":{\"4629\":\"aa2b7b97-003f-4f44-a4b3-4dfd3d79dafa\"}}];\n",
       "  root.Bokeh.embed.embed_items_notebook(docs_json, render_items);\n",
       "\n",
       "  }\n",
       "  if (root.Bokeh !== undefined) {\n",
       "    embed_document(root);\n",
       "  } else {\n",
       "    var attempts = 0;\n",
       "    var timer = setInterval(function(root) {\n",
       "      if (root.Bokeh !== undefined) {\n",
       "        clearInterval(timer);\n",
       "        embed_document(root);\n",
       "      } else {\n",
       "        attempts++;\n",
       "        if (attempts > 100) {\n",
       "          clearInterval(timer);\n",
       "          console.log(\"Bokeh: ERROR: Unable to run BokehJS code because BokehJS library is missing\");\n",
       "        }\n",
       "      }\n",
       "    }, 10, root)\n",
       "  }\n",
       "})(window);"
      ],
      "application/vnd.bokehjs_exec.v0+json": ""
     },
     "metadata": {
      "application/vnd.bokehjs_exec.v0+json": {
       "id": "4629"
      }
     },
     "output_type": "display_data"
    }
   ],
   "source": [
    "p = figure(title = \"Actual vs Predicted Y values \", width=450, height=300)\n",
    "p.title.align = 'center'\n",
    "p.circle(df.Exp, df.Salary, legend_label='Actual Salary',)\n",
    "p.line(df.Exp, df.Salary, legend_label='Actual Salary', line_width=3, line_alpha=0.4)\n",
    "p.circle(df.Exp, ypred, legend_label='Predicted Salary', color=\"red\")\n",
    "p.line(df.Exp,ypred, color=\"red\",legend_label='Predicted Salary', line_width=3, line_alpha=0.4)\n",
    "p.xaxis.axis_label = 'Experience'\n",
    "p.yaxis.axis_label = 'Salary'\n",
    "show(p)"
   ]
  },
  {
   "cell_type": "code",
   "execution_count": 65,
   "metadata": {
    "ExecuteTime": {
     "end_time": "2021-05-13T14:48:04.923465Z",
     "start_time": "2021-05-13T14:48:04.903278Z"
    }
   },
   "outputs": [
    {
     "data": {
      "text/plain": [
       "(2.397400610674868, 1.638656916224218)"
      ]
     },
     "execution_count": 65,
     "metadata": {},
     "output_type": "execute_result"
    }
   ],
   "source": [
    "#RMSE and MAE\n",
    "np.sqrt(np.mean(np.square(y-ypred))), np.mean(abs(y-ypred))\n"
   ]
  },
  {
   "cell_type": "code",
   "execution_count": 66,
   "metadata": {
    "ExecuteTime": {
     "end_time": "2021-05-13T14:48:04.946018Z",
     "start_time": "2021-05-13T14:48:04.927470Z"
    }
   },
   "outputs": [
    {
     "data": {
      "text/plain": [
       "0.873810039518091"
      ]
     },
     "execution_count": 66,
     "metadata": {},
     "output_type": "execute_result"
    }
   ],
   "source": [
    "#R2 score\n",
    "sum_of_square_of_residuals=sum(np.square(residuals))\n",
    "var2=sum(np.square(y-np.mean(y)))\n",
    "1-(sum_of_square_of_residuals/var2)"
   ]
  },
  {
   "cell_type": "markdown",
   "metadata": {},
   "source": [
    "Residual Plot using seaborn"
   ]
  },
  {
   "cell_type": "code",
   "execution_count": 67,
   "metadata": {
    "ExecuteTime": {
     "end_time": "2021-05-13T14:48:05.463032Z",
     "start_time": "2021-05-13T14:48:04.950020Z"
    }
   },
   "outputs": [
    {
     "data": {
      "image/png": "[encoded data removed]",
      "text/plain": [
       "<Figure size 432x288 with 1 Axes>"
      ]
     },
     "metadata": {
      "needs_background": "light"
     },
     "output_type": "display_data"
    }
   ],
   "source": [
    "import seaborn as sns\n",
    "sns.residplot(y, ypred)\n",
    "plt.show()"
   ]
  },
  {
   "cell_type": "markdown",
   "metadata": {},
   "source": [
    "Residual Plot using bokeh"
   ]
  },
  {
   "cell_type": "code",
   "execution_count": 68,
   "metadata": {
    "ExecuteTime": {
     "end_time": "2021-05-13T14:48:05.698733Z",
     "start_time": "2021-05-13T14:48:05.466378Z"
    }
   },
   "outputs": [
    {
     "data": {
      "text/html": [
       "\n",
       "\n",
       "\n",
       "\n",
       "\n",
       "\n",
       "  <div class=\"bk-root\" id=\"626cc24b-9a26-45fe-8ef7-5d03bb046b98\" data-root-id=\"4965\"></div>\n"
      ]
     },
     "metadata": {},
     "output_type": "display_data"
    },
    {
     "data": {
      "application/javascript": [
       "(function(root) {\n",
       "  function embed_document(root) {\n",
       "    \n",
       "  var docs_json = {\"b362d6cd-eaea-47e9-983a-516ebf5e9377\":{\"roots\":{\"references\":[{\"attributes\":{\"below\":[{\"id\":\"4976\"}],\"center\":[{\"id\":\"4979\"},{\"id\":\"4983\"}],\"left\":[{\"id\":\"4980\"}],\"plot_height\":300,\"plot_width\":400,\"renderers\":[{\"id\":\"5001\"}],\"title\":{\"id\":\"4966\"},\"toolbar\":{\"id\":\"4991\"},\"x_range\":{\"id\":\"4968\"},\"x_scale\":{\"id\":\"4972\"},\"y_range\":{\"id\":\"4970\"},\"y_scale\":{\"id\":\"4974\"}},\"id\":\"4965\",\"subtype\":\"Figure\",\"type\":\"Plot\"},{\"attributes\":{\"axis\":{\"id\":\"4980\"},\"dimension\":1,\"grid_line_alpha\":0.7,\"ticker\":null},\"id\":\"4983\",\"type\":\"Grid\"},{\"attributes\":{},\"id\":\"5160\",\"type\":\"UnionRenderers\"},{\"attributes\":{\"data_source\":{\"id\":\"4998\"},\"glyph\":{\"id\":\"4999\"},\"hover_glyph\":null,\"muted_glyph\":null,\"nonselection_glyph\":{\"id\":\"5000\"},\"selection_glyph\":null,\"view\":{\"id\":\"5002\"}},\"id\":\"5001\",\"type\":\"GlyphRenderer\"},{\"attributes\":{},\"id\":\"5161\",\"type\":\"Selection\"},{\"attributes\":{\"fill_color\":{\"value\":\"#1f77b4\"},\"line_color\":{\"value\":\"#1f77b4\"},\"x\":{\"field\":\"x\"},\"y\":{\"field\":\"y\"}},\"id\":\"4999\",\"type\":\"Circle\"},{\"attributes\":{},\"id\":\"5158\",\"type\":\"BasicTickFormatter\"},{\"attributes\":{},\"id\":\"4984\",\"type\":\"PanTool\"},{\"attributes\":{},\"id\":\"4985\",\"type\":\"WheelZoomTool\"},{\"attributes\":{\"overlay\":{\"id\":\"4990\"}},\"id\":\"4986\",\"type\":\"BoxZoomTool\"},{\"attributes\":{},\"id\":\"4987\",\"type\":\"SaveTool\"},{\"attributes\":{\"data\":{\"x\":{\"__ndarray__\":\"AAAAAAAAAECamZmZmZkBQGZmZmZmZgZAAAAAAAAAEEAAAAAAAAAcQAAAAAAAACBAAAAAAAAAJkAAAAAAAAAoQAAAAAAAADVAAAAAAAAAOUA=\",\"dtype\":\"float64\",\"order\":\"little\",\"shape\":[10]},\"y\":{\"__ndarray__\":\"QGnJhvhe1T/A/6KrrKDcP+Ayoeag4+o/AOdVk+lpwb+wMmXOzcIQwAD073A809u/QDn6ycgg679IIhcg1vMVQBCTudIErQTAQIpjUp9W8T8=\",\"dtype\":\"float64\",\"order\":\"little\",\"shape\":[10]}},\"selected\":{\"id\":\"5161\"},\"selection_policy\":{\"id\":\"5160\"}},\"id\":\"4998\",\"type\":\"ColumnDataSource\"},{\"attributes\":{},\"id\":\"4988\",\"type\":\"ResetTool\"},{\"attributes\":{\"align\":\"center\",\"text\":\"Salary Residual plot\"},\"id\":\"4966\",\"type\":\"Title\"},{\"attributes\":{},\"id\":\"4989\",\"type\":\"HelpTool\"},{\"attributes\":{},\"id\":\"4968\",\"type\":\"DataRange1d\"},{\"attributes\":{},\"id\":\"4970\",\"type\":\"DataRange1d\"},{\"attributes\":{\"active_drag\":\"auto\",\"active_inspect\":\"auto\",\"active_multi\":null,\"active_scroll\":\"auto\",\"active_tap\":\"auto\",\"tools\":[{\"id\":\"4984\"},{\"id\":\"4985\"},{\"id\":\"4986\"},{\"id\":\"4987\"},{\"id\":\"4988\"},{\"id\":\"4989\"}]},\"id\":\"4991\",\"type\":\"Toolbar\"},{\"attributes\":{},\"id\":\"4972\",\"type\":\"LinearScale\"},{\"attributes\":{},\"id\":\"4974\",\"type\":\"LinearScale\"},{\"attributes\":{\"fill_alpha\":{\"value\":0.1},\"fill_color\":{\"value\":\"#1f77b4\"},\"line_alpha\":{\"value\":0.1},\"line_color\":{\"value\":\"#1f77b4\"},\"x\":{\"field\":\"x\"},\"y\":{\"field\":\"y\"}},\"id\":\"5000\",\"type\":\"Circle\"},{\"attributes\":{\"formatter\":{\"id\":\"5158\"},\"ticker\":{\"id\":\"4977\"}},\"id\":\"4976\",\"type\":\"LinearAxis\"},{\"attributes\":{},\"id\":\"4977\",\"type\":\"BasicTicker\"},{\"attributes\":{\"bottom_units\":\"screen\",\"fill_alpha\":0.5,\"fill_color\":\"lightgrey\",\"left_units\":\"screen\",\"level\":\"overlay\",\"line_alpha\":1.0,\"line_color\":\"black\",\"line_dash\":[4,4],\"line_width\":2,\"right_units\":\"screen\",\"top_units\":\"screen\"},\"id\":\"4990\",\"type\":\"BoxAnnotation\"},{\"attributes\":{\"axis\":{\"id\":\"4976\"},\"grid_line_color\":null,\"ticker\":null},\"id\":\"4979\",\"type\":\"Grid\"},{\"attributes\":{\"formatter\":{\"id\":\"5156\"},\"ticker\":{\"id\":\"4981\"}},\"id\":\"4980\",\"type\":\"LinearAxis\"},{\"attributes\":{\"source\":{\"id\":\"4998\"}},\"id\":\"5002\",\"type\":\"CDSView\"},{\"attributes\":{},\"id\":\"4981\",\"type\":\"BasicTicker\"},{\"attributes\":{},\"id\":\"5156\",\"type\":\"BasicTickFormatter\"}],\"root_ids\":[\"4965\"]},\"title\":\"Bokeh Application\",\"version\":\"2.1.1\"}};\n",
       "  var render_items = [{\"docid\":\"b362d6cd-eaea-47e9-983a-516ebf5e9377\",\"root_ids\":[\"4965\"],\"roots\":{\"4965\":\"626cc24b-9a26-45fe-8ef7-5d03bb046b98\"}}];\n",
       "  root.Bokeh.embed.embed_items_notebook(docs_json, render_items);\n",
       "\n",
       "  }\n",
       "  if (root.Bokeh !== undefined) {\n",
       "    embed_document(root);\n",
       "  } else {\n",
       "    var attempts = 0;\n",
       "    var timer = setInterval(function(root) {\n",
       "      if (root.Bokeh !== undefined) {\n",
       "        clearInterval(timer);\n",
       "        embed_document(root);\n",
       "      } else {\n",
       "        attempts++;\n",
       "        if (attempts > 100) {\n",
       "          clearInterval(timer);\n",
       "          console.log(\"Bokeh: ERROR: Unable to run BokehJS code because BokehJS library is missing\");\n",
       "        }\n",
       "      }\n",
       "    }, 10, root)\n",
       "  }\n",
       "})(window);"
      ],
      "application/vnd.bokehjs_exec.v0+json": ""
     },
     "metadata": {
      "application/vnd.bokehjs_exec.v0+json": {
       "id": "4965"
      }
     },
     "output_type": "display_data"
    }
   ],
   "source": [
    "residuals=np.array(y)-np.array(ypred)\n",
    "residuals\n",
    "\n",
    "p=figure(title=\"Salary Residual plot\", width=400, height=300)\n",
    "p.title.align = 'center'\n",
    "p.circle(df.Exp, residuals)\n",
    "\n",
    "#p.xaxis.axis_label = \"Temp\"\n",
    "#p.xaxis.axis_line_width = 2\n",
    "#p.xaxis.axis_line_color = \"black\"\n",
    "\n",
    "p.xgrid[0].grid_line_color=None\n",
    "p.ygrid[0].grid_line_alpha=0.7\n",
    "\n",
    "show(p)"
   ]
  }
 ],
 "metadata": {
  "kernelspec": {
   "display_name": "Python 3",
   "language": "python",
   "name": "python3"
  },
  "language_info": {
   "codemirror_mode": {
    "name": "ipython",
    "version": 3
   },
   "file_extension": ".py",
   "mimetype": "text/x-python",
   "name": "python",
   "nbconvert_exporter": "python",
   "pygments_lexer": "ipython3",
   "version": "3.6.1"
  }
 },
 "nbformat": 4,
 "nbformat_minor": 4
}
