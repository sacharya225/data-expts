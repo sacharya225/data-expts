{
 "cells": [
  {
   "cell_type": "code",
   "execution_count": 1,
   "metadata": {
    "ExecuteTime": {
     "end_time": "2021-04-15T13:02:21.419320Z",
     "start_time": "2021-04-15T13:01:49.466541Z"
    }
   },
   "outputs": [],
   "source": [
    "import pandas as pd\n",
    "import numpy as np\n",
    "import seaborn as sns\n",
    "import matplotlib.pyplot as plt\n",
    "pd.set_option('display.max_columns', None)\n",
    "pd.set_option('display.max_rows', None)\n",
    "from sklearn.tree import DecisionTreeClassifier\n",
    "from sklearn.ensemble import BaggingClassifier, RandomForestClassifier, AdaBoostClassifier\n",
    "from sklearn.model_selection import train_test_split, GridSearchCV, RandomizedSearchCV\n",
    "from sklearn.preprocessing import StandardScaler\n",
    "from sklearn.metrics import accuracy_score, f1_score, classification_report, roc_auc_score, confusion_matrix, auc\n",
    "from sklearn.linear_model import LogisticRegression\n",
    "from sklearn.svm import SVC\n",
    "file_train='train_LZdllcl.csv'    #analytics Vidhya \n",
    "file_test='test_2umaH9m.csv'"
   ]
  },
  {
   "cell_type": "code",
   "execution_count": 2,
   "metadata": {
    "ExecuteTime": {
     "end_time": "2021-04-15T13:02:21.870587Z",
     "start_time": "2021-04-15T13:02:21.424695Z"
    }
   },
   "outputs": [
    {
     "data": {
      "text/html": [
       "<div>\n",
       "<style scoped>\n",
       "    .dataframe tbody tr th:only-of-type {\n",
       "        vertical-align: middle;\n",
       "    }\n",
       "\n",
       "    .dataframe tbody tr th {\n",
       "        vertical-align: top;\n",
       "    }\n",
       "\n",
       "    .dataframe thead th {\n",
       "        text-align: right;\n",
       "    }\n",
       "</style>\n",
       "<table border=\"1\" class=\"dataframe\">\n",
       "  <thead>\n",
       "    <tr style=\"text-align: right;\">\n",
       "      <th></th>\n",
       "      <th>employee_id</th>\n",
       "      <th>department</th>\n",
       "      <th>region</th>\n",
       "      <th>education</th>\n",
       "      <th>gender</th>\n",
       "      <th>recruitment_channel</th>\n",
       "      <th>no_of_trainings</th>\n",
       "      <th>age</th>\n",
       "      <th>previous_year_rating</th>\n",
       "      <th>length_of_service</th>\n",
       "      <th>KPIs_met &gt;80%</th>\n",
       "      <th>awards_won?</th>\n",
       "      <th>avg_training_score</th>\n",
       "      <th>is_promoted</th>\n",
       "    </tr>\n",
       "  </thead>\n",
       "  <tbody>\n",
       "    <tr>\n",
       "      <th>0</th>\n",
       "      <td>65438</td>\n",
       "      <td>Sales &amp; Marketing</td>\n",
       "      <td>region_7</td>\n",
       "      <td>Master's &amp; above</td>\n",
       "      <td>f</td>\n",
       "      <td>sourcing</td>\n",
       "      <td>1</td>\n",
       "      <td>35</td>\n",
       "      <td>5.0</td>\n",
       "      <td>8</td>\n",
       "      <td>1</td>\n",
       "      <td>0</td>\n",
       "      <td>49</td>\n",
       "      <td>0</td>\n",
       "    </tr>\n",
       "    <tr>\n",
       "      <th>1</th>\n",
       "      <td>65141</td>\n",
       "      <td>Operations</td>\n",
       "      <td>region_22</td>\n",
       "      <td>Bachelor's</td>\n",
       "      <td>m</td>\n",
       "      <td>other</td>\n",
       "      <td>1</td>\n",
       "      <td>30</td>\n",
       "      <td>5.0</td>\n",
       "      <td>4</td>\n",
       "      <td>0</td>\n",
       "      <td>0</td>\n",
       "      <td>60</td>\n",
       "      <td>0</td>\n",
       "    </tr>\n",
       "    <tr>\n",
       "      <th>2</th>\n",
       "      <td>7513</td>\n",
       "      <td>Sales &amp; Marketing</td>\n",
       "      <td>region_19</td>\n",
       "      <td>Bachelor's</td>\n",
       "      <td>m</td>\n",
       "      <td>sourcing</td>\n",
       "      <td>1</td>\n",
       "      <td>34</td>\n",
       "      <td>3.0</td>\n",
       "      <td>7</td>\n",
       "      <td>0</td>\n",
       "      <td>0</td>\n",
       "      <td>50</td>\n",
       "      <td>0</td>\n",
       "    </tr>\n",
       "    <tr>\n",
       "      <th>3</th>\n",
       "      <td>2542</td>\n",
       "      <td>Sales &amp; Marketing</td>\n",
       "      <td>region_23</td>\n",
       "      <td>Bachelor's</td>\n",
       "      <td>m</td>\n",
       "      <td>other</td>\n",
       "      <td>2</td>\n",
       "      <td>39</td>\n",
       "      <td>1.0</td>\n",
       "      <td>10</td>\n",
       "      <td>0</td>\n",
       "      <td>0</td>\n",
       "      <td>50</td>\n",
       "      <td>0</td>\n",
       "    </tr>\n",
       "  </tbody>\n",
       "</table>\n",
       "</div>"
      ],
      "text/plain": [
       "   employee_id         department     region         education gender  \\\n",
       "0        65438  Sales & Marketing   region_7  Master's & above      f   \n",
       "1        65141         Operations  region_22        Bachelor's      m   \n",
       "2         7513  Sales & Marketing  region_19        Bachelor's      m   \n",
       "3         2542  Sales & Marketing  region_23        Bachelor's      m   \n",
       "\n",
       "  recruitment_channel  no_of_trainings  age  previous_year_rating  \\\n",
       "0            sourcing                1   35                   5.0   \n",
       "1               other                1   30                   5.0   \n",
       "2            sourcing                1   34                   3.0   \n",
       "3               other                2   39                   1.0   \n",
       "\n",
       "   length_of_service  KPIs_met >80%  awards_won?  avg_training_score  \\\n",
       "0                  8              1            0                  49   \n",
       "1                  4              0            0                  60   \n",
       "2                  7              0            0                  50   \n",
       "3                 10              0            0                  50   \n",
       "\n",
       "   is_promoted  \n",
       "0            0  \n",
       "1            0  \n",
       "2            0  \n",
       "3            0  "
      ]
     },
     "execution_count": 2,
     "metadata": {},
     "output_type": "execute_result"
    }
   ],
   "source": [
    "df=pd.read_csv(file_train)\n",
    "df_test=pd.read_csv(file_test)\n",
    "df.head(4)"
   ]
  },
  {
   "cell_type": "code",
   "execution_count": 200,
   "metadata": {
    "ExecuteTime": {
     "end_time": "2020-12-31T11:36:32.896609Z",
     "start_time": "2020-12-31T11:36:32.879192Z"
    }
   },
   "outputs": [
    {
     "data": {
      "text/plain": [
       "Index(['employee_id', 'department', 'region', 'education', 'gender',\n",
       "       'recruitment_channel', 'no_of_trainings', 'age', 'previous_year_rating',\n",
       "       'length_of_service', 'KPIs_met >80%', 'awards_won?',\n",
       "       'avg_training_score', 'is_promoted'],\n",
       "      dtype='object')"
      ]
     },
     "execution_count": 200,
     "metadata": {},
     "output_type": "execute_result"
    }
   ],
   "source": [
    "df.columns"
   ]
  },
  {
   "cell_type": "code",
   "execution_count": 201,
   "metadata": {
    "ExecuteTime": {
     "end_time": "2020-12-31T11:36:32.951401Z",
     "start_time": "2020-12-31T11:36:32.899419Z"
    }
   },
   "outputs": [
    {
     "name": "stdout",
     "output_type": "stream",
     "text": [
      "(54808, 14)\n"
     ]
    },
    {
     "data": {
      "text/plain": [
       "previous_year_rating    7.524449\n",
       "education               4.395344\n",
       "is_promoted             0.000000\n",
       "avg_training_score      0.000000\n",
       "awards_won?             0.000000\n",
       "KPIs_met >80%           0.000000\n",
       "length_of_service       0.000000\n",
       "age                     0.000000\n",
       "no_of_trainings         0.000000\n",
       "recruitment_channel     0.000000\n",
       "gender                  0.000000\n",
       "region                  0.000000\n",
       "department              0.000000\n",
       "employee_id             0.000000\n",
       "dtype: float64"
      ]
     },
     "execution_count": 201,
     "metadata": {},
     "output_type": "execute_result"
    }
   ],
   "source": [
    "print(df.shape)\n",
    "nullpc=df.isnull().sum()*100/df.shape[0]\n",
    "nullpc.sort_values(ascending=False)"
   ]
  },
  {
   "cell_type": "code",
   "execution_count": 202,
   "metadata": {
    "ExecuteTime": {
     "end_time": "2020-12-31T11:36:32.987184Z",
     "start_time": "2020-12-31T11:36:32.955552Z"
    }
   },
   "outputs": [
    {
     "name": "stdout",
     "output_type": "stream",
     "text": [
      "(23490, 13)\n"
     ]
    },
    {
     "data": {
      "text/plain": [
       "previous_year_rating    3.306087\n",
       "education               1.886586\n",
       "avg_training_score      0.000000\n",
       "awards_won?             0.000000\n",
       "KPIs_met >80%           0.000000\n",
       "length_of_service       0.000000\n",
       "age                     0.000000\n",
       "no_of_trainings         0.000000\n",
       "recruitment_channel     0.000000\n",
       "gender                  0.000000\n",
       "region                  0.000000\n",
       "department              0.000000\n",
       "employee_id             0.000000\n",
       "dtype: float64"
      ]
     },
     "execution_count": 202,
     "metadata": {},
     "output_type": "execute_result"
    }
   ],
   "source": [
    "print(df_test.shape)\n",
    "nullpc=df_test.isnull().sum()*100/df.shape[0]\n",
    "nullpc.sort_values(ascending=False)"
   ]
  },
  {
   "cell_type": "code",
   "execution_count": 4,
   "metadata": {
    "ExecuteTime": {
     "end_time": "2021-04-15T13:02:55.282119Z",
     "start_time": "2021-04-15T13:02:54.872703Z"
    }
   },
   "outputs": [
    {
     "data": {
      "text/plain": [
       "<AxesSubplot:>"
      ]
     },
     "execution_count": 4,
     "metadata": {},
     "output_type": "execute_result"
    },
    {
     "data": {
      "image/png": "[encoded data removed]",
      "text/plain": [
       "<Figure size 432x288 with 1 Axes>"
      ]
     },
     "metadata": {
      "needs_background": "light"
     },
     "output_type": "display_data"
    }
   ],
   "source": [
    "df.is_promoted.value_counts(normalize=True).plot(kind=\"bar\")"
   ]
  },
  {
   "cell_type": "code",
   "execution_count": 203,
   "metadata": {
    "ExecuteTime": {
     "end_time": "2020-12-31T11:36:33.015151Z",
     "start_time": "2020-12-31T11:36:32.990607Z"
    }
   },
   "outputs": [],
   "source": [
    "df.rename(columns={'KPIs_met >80%': 'are_KPIs_met', 'awards_won?': 'were_awards_won'}, inplace=True)\n",
    "df_test.rename(columns={'KPIs_met >80%': 'are_KPIs_met', 'awards_won?': 'were_awards_won'}, inplace=True)"
   ]
  },
  {
   "cell_type": "code",
   "execution_count": 204,
   "metadata": {
    "ExecuteTime": {
     "end_time": "2020-12-31T11:36:34.120396Z",
     "start_time": "2020-12-31T11:36:33.017840Z"
    }
   },
   "outputs": [
    {
     "data": {
      "text/plain": [
       "<AxesSubplot:>"
      ]
     },
     "execution_count": 204,
     "metadata": {},
     "output_type": "execute_result"
    },
    {
     "data": {
      "image/png": "[encoded data removed]",
      "text/plain": [
       "<Figure size 432x288 with 2 Axes>"
      ]
     },
     "metadata": {
      "needs_background": "light"
     },
     "output_type": "display_data"
    }
   ],
   "source": [
    "sns.heatmap(df.corr(), cmap=\"YlGn\")"
   ]
  },
  {
   "cell_type": "markdown",
   "metadata": {
    "ExecuteTime": {
     "end_time": "2020-12-31T05:45:03.608361Z",
     "start_time": "2020-12-31T05:45:03.580112Z"
    }
   },
   "source": [
    "We see correlation between prev yr rating and KPIs met."
   ]
  },
  {
   "cell_type": "code",
   "execution_count": 205,
   "metadata": {
    "ExecuteTime": {
     "end_time": "2020-12-31T11:36:35.595773Z",
     "start_time": "2020-12-31T11:36:34.134326Z"
    }
   },
   "outputs": [
    {
     "data": {
      "text/plain": [
       "<AxesSubplot:xlabel='are_KPIs_met', ylabel='previous_year_rating'>"
      ]
     },
     "execution_count": 205,
     "metadata": {},
     "output_type": "execute_result"
    },
    {
     "data": {
      "image/png": "[encoded data removed]",
      "text/plain": [
       "<Figure size 432x288 with 1 Axes>"
      ]
     },
     "metadata": {
      "needs_background": "light"
     },
     "output_type": "display_data"
    }
   ],
   "source": [
    "sns.boxplot(df.are_KPIs_met, df.previous_year_rating)"
   ]
  },
  {
   "cell_type": "markdown",
   "metadata": {},
   "source": [
    "For KPIs_met = 1, previous rating median is 4 while not_met is 3.Lets use this to fill NAs for previous rating"
   ]
  },
  {
   "cell_type": "code",
   "execution_count": 206,
   "metadata": {
    "ExecuteTime": {
     "end_time": "2020-12-31T11:36:35.617909Z",
     "start_time": "2020-12-31T11:36:35.602877Z"
    }
   },
   "outputs": [],
   "source": [
    "def update_rating(kpi, rating):\n",
    "    if rating == 'empty':\n",
    "        if kpi == 1:\n",
    "            return 4\n",
    "        else:\n",
    "            return 3\n",
    "    else:\n",
    "        return rating"
   ]
  },
  {
   "cell_type": "code",
   "execution_count": 207,
   "metadata": {
    "ExecuteTime": {
     "end_time": "2020-12-31T11:36:40.428095Z",
     "start_time": "2020-12-31T11:36:35.625800Z"
    }
   },
   "outputs": [
    {
     "data": {
      "text/plain": [
       "0"
      ]
     },
     "execution_count": 207,
     "metadata": {},
     "output_type": "execute_result"
    }
   ],
   "source": [
    "df.previous_year_rating.fillna('empty', inplace=True)\n",
    "df.previous_year_rating = df.apply(lambda x : update_rating(x['are_KPIs_met'], x['previous_year_rating']), axis=1)\n",
    "df.previous_year_rating.isnull().sum()"
   ]
  },
  {
   "cell_type": "code",
   "execution_count": 208,
   "metadata": {
    "ExecuteTime": {
     "end_time": "2020-12-31T11:36:40.459139Z",
     "start_time": "2020-12-31T11:36:40.430097Z"
    }
   },
   "outputs": [
    {
     "data": {
      "text/plain": [
       "Bachelor's          36669\n",
       "Master's & above    14925\n",
       "Below Secondary       805\n",
       "Name: education, dtype: int64"
      ]
     },
     "execution_count": 208,
     "metadata": {},
     "output_type": "execute_result"
    }
   ],
   "source": [
    "df.education.value_counts()"
   ]
  },
  {
   "cell_type": "code",
   "execution_count": 209,
   "metadata": {
    "ExecuteTime": {
     "end_time": "2020-12-31T11:36:40.492488Z",
     "start_time": "2020-12-31T11:36:40.462781Z"
    }
   },
   "outputs": [
    {
     "name": "stdout",
     "output_type": "stream",
     "text": [
      "2409\n"
     ]
    }
   ],
   "source": [
    "print(df.education.isna().sum())\n",
    "df.education.fillna('Bachelor\\'s', inplace=True)"
   ]
  },
  {
   "cell_type": "markdown",
   "metadata": {},
   "source": [
    "As bachelors are maximum in count we will replace nulls with Bachs"
   ]
  },
  {
   "cell_type": "code",
   "execution_count": 210,
   "metadata": {
    "ExecuteTime": {
     "end_time": "2020-12-31T11:36:40.508456Z",
     "start_time": "2020-12-31T11:36:40.493491Z"
    }
   },
   "outputs": [
    {
     "data": {
      "text/plain": [
       "Bachelor's          39078\n",
       "Master's & above    14925\n",
       "Below Secondary       805\n",
       "Name: education, dtype: int64"
      ]
     },
     "execution_count": 210,
     "metadata": {},
     "output_type": "execute_result"
    }
   ],
   "source": [
    "df.education.value_counts()"
   ]
  },
  {
   "cell_type": "markdown",
   "metadata": {},
   "source": [
    "Target variable distribution"
   ]
  },
  {
   "cell_type": "code",
   "execution_count": 211,
   "metadata": {
    "ExecuteTime": {
     "end_time": "2020-12-31T11:36:40.548784Z",
     "start_time": "2020-12-31T11:36:40.512975Z"
    }
   },
   "outputs": [
    {
     "data": {
      "text/plain": [
       "0    0.91483\n",
       "1    0.08517\n",
       "Name: is_promoted, dtype: float64"
      ]
     },
     "execution_count": 211,
     "metadata": {},
     "output_type": "execute_result"
    }
   ],
   "source": [
    "df.is_promoted.value_counts(normalize=True)"
   ]
  },
  {
   "cell_type": "code",
   "execution_count": 212,
   "metadata": {
    "ExecuteTime": {
     "end_time": "2020-12-31T11:36:40.595771Z",
     "start_time": "2020-12-31T11:36:40.552354Z"
    }
   },
   "outputs": [
    {
     "data": {
      "text/plain": [
       "Bachelor's          39078\n",
       "Master's & above    14925\n",
       "Below Secondary       805\n",
       "Name: education, dtype: int64"
      ]
     },
     "execution_count": 212,
     "metadata": {},
     "output_type": "execute_result"
    }
   ],
   "source": [
    "df.education.value_counts()"
   ]
  },
  {
   "cell_type": "code",
   "execution_count": 213,
   "metadata": {
    "ExecuteTime": {
     "end_time": "2020-12-31T11:36:41.012816Z",
     "start_time": "2020-12-31T11:36:40.600030Z"
    }
   },
   "outputs": [
    {
     "data": {
      "text/plain": [
       "<AxesSubplot:xlabel='education'>"
      ]
     },
     "execution_count": 213,
     "metadata": {},
     "output_type": "execute_result"
    },
    {
     "data": {
      "image/png": "[encoded data removed]",
      "text/plain": [
       "<Figure size 432x288 with 1 Axes>"
      ]
     },
     "metadata": {
      "needs_background": "light"
     },
     "output_type": "display_data"
    }
   ],
   "source": [
    "pd.crosstab(df.education, df.is_promoted, normalize=True).plot(kind=\"bar\")"
   ]
  },
  {
   "cell_type": "code",
   "execution_count": 214,
   "metadata": {
    "ExecuteTime": {
     "end_time": "2020-12-31T11:36:41.852311Z",
     "start_time": "2020-12-31T11:36:41.017219Z"
    }
   },
   "outputs": [
    {
     "data": {
      "text/plain": [
       "<AxesSubplot:xlabel='gender'>"
      ]
     },
     "execution_count": 214,
     "metadata": {},
     "output_type": "execute_result"
    },
    {
     "data": {
      "image/png": "[encoded data removed]",
      "text/plain": [
       "<Figure size 432x288 with 1 Axes>"
      ]
     },
     "metadata": {
      "needs_background": "light"
     },
     "output_type": "display_data"
    }
   ],
   "source": [
    "pd.crosstab(df.gender, df.is_promoted).plot(kind=\"bar\")"
   ]
  },
  {
   "cell_type": "code",
   "execution_count": 216,
   "metadata": {
    "ExecuteTime": {
     "end_time": "2020-12-31T11:39:06.609426Z",
     "start_time": "2020-12-31T11:39:06.570018Z"
    }
   },
   "outputs": [
    {
     "data": {
      "text/plain": [
       "0    35517\n",
       "1    19291\n",
       "Name: are_KPIs_met, dtype: int64"
      ]
     },
     "execution_count": 216,
     "metadata": {},
     "output_type": "execute_result"
    }
   ],
   "source": [
    "df['are_KPIs_met'].value_counts()"
   ]
  },
  {
   "cell_type": "code",
   "execution_count": 217,
   "metadata": {
    "ExecuteTime": {
     "end_time": "2020-12-31T11:39:13.981880Z",
     "start_time": "2020-12-31T11:39:13.438372Z"
    }
   },
   "outputs": [
    {
     "data": {
      "text/plain": [
       "<AxesSubplot:xlabel='are_KPIs_met'>"
      ]
     },
     "execution_count": 217,
     "metadata": {},
     "output_type": "execute_result"
    },
    {
     "data": {
      "image/png": "[encoded data removed]",
      "text/plain": [
       "<Figure size 432x288 with 1 Axes>"
      ]
     },
     "metadata": {
      "needs_background": "light"
     },
     "output_type": "display_data"
    }
   ],
   "source": [
    "pd.crosstab(df['are_KPIs_met'], df.is_promoted).plot(kind=\"bar\")"
   ]
  },
  {
   "cell_type": "code",
   "execution_count": 218,
   "metadata": {
    "ExecuteTime": {
     "end_time": "2020-12-31T11:39:46.822127Z",
     "start_time": "2020-12-31T11:39:46.757378Z"
    }
   },
   "outputs": [],
   "source": [
    "empcount_dep=df.groupby('department').employee_id.count().sort_values(ascending=False)\n",
    "promotedcount_dep=df.groupby('department').is_promoted.sum().sort_values(ascending=False)\n"
   ]
  },
  {
   "cell_type": "code",
   "execution_count": 219,
   "metadata": {
    "ExecuteTime": {
     "end_time": "2020-12-31T11:39:49.019627Z",
     "start_time": "2020-12-31T11:39:48.921734Z"
    }
   },
   "outputs": [
    {
     "data": {
      "text/html": [
       "<div>\n",
       "<style scoped>\n",
       "    .dataframe tbody tr th:only-of-type {\n",
       "        vertical-align: middle;\n",
       "    }\n",
       "\n",
       "    .dataframe tbody tr th {\n",
       "        vertical-align: top;\n",
       "    }\n",
       "\n",
       "    .dataframe thead th {\n",
       "        text-align: right;\n",
       "    }\n",
       "</style>\n",
       "<table border=\"1\" class=\"dataframe\">\n",
       "  <thead>\n",
       "    <tr style=\"text-align: right;\">\n",
       "      <th></th>\n",
       "      <th>key_0</th>\n",
       "      <th>employee_id</th>\n",
       "      <th>is_promoted</th>\n",
       "    </tr>\n",
       "  </thead>\n",
       "  <tbody>\n",
       "    <tr>\n",
       "      <th>0</th>\n",
       "      <td>Sales &amp; Marketing</td>\n",
       "      <td>16840</td>\n",
       "      <td>1213</td>\n",
       "    </tr>\n",
       "    <tr>\n",
       "      <th>1</th>\n",
       "      <td>Operations</td>\n",
       "      <td>11348</td>\n",
       "      <td>1023</td>\n",
       "    </tr>\n",
       "    <tr>\n",
       "      <th>2</th>\n",
       "      <td>Technology</td>\n",
       "      <td>7138</td>\n",
       "      <td>768</td>\n",
       "    </tr>\n",
       "    <tr>\n",
       "      <th>3</th>\n",
       "      <td>Procurement</td>\n",
       "      <td>7138</td>\n",
       "      <td>688</td>\n",
       "    </tr>\n",
       "    <tr>\n",
       "      <th>4</th>\n",
       "      <td>Analytics</td>\n",
       "      <td>5352</td>\n",
       "      <td>512</td>\n",
       "    </tr>\n",
       "    <tr>\n",
       "      <th>5</th>\n",
       "      <td>Finance</td>\n",
       "      <td>2536</td>\n",
       "      <td>206</td>\n",
       "    </tr>\n",
       "    <tr>\n",
       "      <th>6</th>\n",
       "      <td>HR</td>\n",
       "      <td>2418</td>\n",
       "      <td>136</td>\n",
       "    </tr>\n",
       "    <tr>\n",
       "      <th>7</th>\n",
       "      <td>Legal</td>\n",
       "      <td>1039</td>\n",
       "      <td>69</td>\n",
       "    </tr>\n",
       "    <tr>\n",
       "      <th>8</th>\n",
       "      <td>R&amp;D</td>\n",
       "      <td>999</td>\n",
       "      <td>53</td>\n",
       "    </tr>\n",
       "  </tbody>\n",
       "</table>\n",
       "</div>"
      ],
      "text/plain": [
       "               key_0  employee_id  is_promoted\n",
       "0  Sales & Marketing        16840         1213\n",
       "1         Operations        11348         1023\n",
       "2         Technology         7138          768\n",
       "3        Procurement         7138          688\n",
       "4          Analytics         5352          512\n",
       "5            Finance         2536          206\n",
       "6                 HR         2418          136\n",
       "7              Legal         1039           69\n",
       "8                R&D          999           53"
      ]
     },
     "execution_count": 219,
     "metadata": {},
     "output_type": "execute_result"
    }
   ],
   "source": [
    "promoted_pc=pd.merge(empcount_dep,promotedcount_dep, how=\"inner\", on=empcount_dep.index )\n",
    "promoted_pc"
   ]
  },
  {
   "cell_type": "code",
   "execution_count": 220,
   "metadata": {
    "ExecuteTime": {
     "end_time": "2020-12-31T11:39:57.453532Z",
     "start_time": "2020-12-31T11:39:57.395635Z"
    }
   },
   "outputs": [
    {
     "data": {
      "text/html": [
       "<div>\n",
       "<style scoped>\n",
       "    .dataframe tbody tr th:only-of-type {\n",
       "        vertical-align: middle;\n",
       "    }\n",
       "\n",
       "    .dataframe tbody tr th {\n",
       "        vertical-align: top;\n",
       "    }\n",
       "\n",
       "    .dataframe thead th {\n",
       "        text-align: right;\n",
       "    }\n",
       "</style>\n",
       "<table border=\"1\" class=\"dataframe\">\n",
       "  <thead>\n",
       "    <tr style=\"text-align: right;\">\n",
       "      <th></th>\n",
       "      <th>key_0</th>\n",
       "      <th>employee_id</th>\n",
       "      <th>is_promoted</th>\n",
       "      <th>promoted_percent</th>\n",
       "    </tr>\n",
       "  </thead>\n",
       "  <tbody>\n",
       "    <tr>\n",
       "      <th>0</th>\n",
       "      <td>Sales &amp; Marketing</td>\n",
       "      <td>16840</td>\n",
       "      <td>1213</td>\n",
       "      <td>7.20</td>\n",
       "    </tr>\n",
       "    <tr>\n",
       "      <th>1</th>\n",
       "      <td>Operations</td>\n",
       "      <td>11348</td>\n",
       "      <td>1023</td>\n",
       "      <td>9.01</td>\n",
       "    </tr>\n",
       "    <tr>\n",
       "      <th>2</th>\n",
       "      <td>Technology</td>\n",
       "      <td>7138</td>\n",
       "      <td>768</td>\n",
       "      <td>10.76</td>\n",
       "    </tr>\n",
       "    <tr>\n",
       "      <th>3</th>\n",
       "      <td>Procurement</td>\n",
       "      <td>7138</td>\n",
       "      <td>688</td>\n",
       "      <td>9.64</td>\n",
       "    </tr>\n",
       "    <tr>\n",
       "      <th>4</th>\n",
       "      <td>Analytics</td>\n",
       "      <td>5352</td>\n",
       "      <td>512</td>\n",
       "      <td>9.57</td>\n",
       "    </tr>\n",
       "    <tr>\n",
       "      <th>5</th>\n",
       "      <td>Finance</td>\n",
       "      <td>2536</td>\n",
       "      <td>206</td>\n",
       "      <td>8.12</td>\n",
       "    </tr>\n",
       "    <tr>\n",
       "      <th>6</th>\n",
       "      <td>HR</td>\n",
       "      <td>2418</td>\n",
       "      <td>136</td>\n",
       "      <td>5.62</td>\n",
       "    </tr>\n",
       "    <tr>\n",
       "      <th>7</th>\n",
       "      <td>Legal</td>\n",
       "      <td>1039</td>\n",
       "      <td>69</td>\n",
       "      <td>6.64</td>\n",
       "    </tr>\n",
       "    <tr>\n",
       "      <th>8</th>\n",
       "      <td>R&amp;D</td>\n",
       "      <td>999</td>\n",
       "      <td>53</td>\n",
       "      <td>5.31</td>\n",
       "    </tr>\n",
       "  </tbody>\n",
       "</table>\n",
       "</div>"
      ],
      "text/plain": [
       "               key_0  employee_id  is_promoted  promoted_percent\n",
       "0  Sales & Marketing        16840         1213              7.20\n",
       "1         Operations        11348         1023              9.01\n",
       "2         Technology         7138          768             10.76\n",
       "3        Procurement         7138          688              9.64\n",
       "4          Analytics         5352          512              9.57\n",
       "5            Finance         2536          206              8.12\n",
       "6                 HR         2418          136              5.62\n",
       "7              Legal         1039           69              6.64\n",
       "8                R&D          999           53              5.31"
      ]
     },
     "execution_count": 220,
     "metadata": {},
     "output_type": "execute_result"
    }
   ],
   "source": [
    "promoted_pc['promoted_percent']=round(promoted_pc.is_promoted*100/promoted_pc.employee_id, 2)\n",
    "promoted_pc"
   ]
  },
  {
   "cell_type": "code",
   "execution_count": 221,
   "metadata": {
    "ExecuteTime": {
     "end_time": "2020-12-31T11:40:12.978708Z",
     "start_time": "2020-12-31T11:40:12.432098Z"
    }
   },
   "outputs": [
    {
     "data": {
      "text/plain": [
       "<AxesSubplot:ylabel='department'>"
      ]
     },
     "execution_count": 221,
     "metadata": {},
     "output_type": "execute_result"
    },
    {
     "data": {
      "image/png": "[encoded data removed]",
      "text/plain": [
       "<Figure size 432x288 with 1 Axes>"
      ]
     },
     "metadata": {
      "needs_background": "light"
     },
     "output_type": "display_data"
    }
   ],
   "source": [
    "df.groupby('department').is_promoted.count().sort_values(ascending=True).plot(kind=\"barh\")"
   ]
  },
  {
   "cell_type": "code",
   "execution_count": 222,
   "metadata": {
    "ExecuteTime": {
     "end_time": "2020-12-31T11:40:17.095379Z",
     "start_time": "2020-12-31T11:40:16.627061Z"
    }
   },
   "outputs": [
    {
     "data": {
      "text/plain": [
       "<AxesSubplot:ylabel='department'>"
      ]
     },
     "execution_count": 222,
     "metadata": {},
     "output_type": "execute_result"
    },
    {
     "data": {
      "image/png": "[encoded data removed]",
      "text/plain": [
       "<Figure size 432x288 with 1 Axes>"
      ]
     },
     "metadata": {
      "needs_background": "light"
     },
     "output_type": "display_data"
    }
   ],
   "source": [
    "df.groupby('department').is_promoted.sum().sort_values(ascending=True).plot(kind=\"barh\")"
   ]
  },
  {
   "cell_type": "markdown",
   "metadata": {},
   "source": [
    "Count of employees regionwise"
   ]
  },
  {
   "cell_type": "code",
   "execution_count": 227,
   "metadata": {
    "ExecuteTime": {
     "end_time": "2020-12-31T11:44:20.763032Z",
     "start_time": "2020-12-31T11:44:20.703878Z"
    }
   },
   "outputs": [
    {
     "data": {
      "text/plain": [
       "region\n",
       "region_2     12343\n",
       "region_22     6428\n",
       "region_7      4843\n",
       "region_15     2808\n",
       "region_13     2648\n",
       "region_26     2260\n",
       "region_31     1935\n",
       "region_4      1703\n",
       "region_27     1659\n",
       "region_16     1465\n",
       "Name: employee_id, dtype: int64"
      ]
     },
     "execution_count": 227,
     "metadata": {},
     "output_type": "execute_result"
    }
   ],
   "source": [
    "df.groupby('region').employee_id.count().sort_values(ascending=False).head(10)"
   ]
  },
  {
   "cell_type": "code",
   "execution_count": 226,
   "metadata": {
    "ExecuteTime": {
     "end_time": "2020-12-31T11:43:56.599285Z",
     "start_time": "2020-12-31T11:43:56.539872Z"
    }
   },
   "outputs": [
    {
     "data": {
      "text/plain": [
       "region\n",
       "region_2     989\n",
       "region_22    734\n",
       "region_7     516\n",
       "region_4     246\n",
       "region_13    230\n",
       "region_15    222\n",
       "region_28    154\n",
       "region_26    143\n",
       "region_23    137\n",
       "region_27    131\n",
       "Name: is_promoted, dtype: int64"
      ]
     },
     "execution_count": 226,
     "metadata": {},
     "output_type": "execute_result"
    }
   ],
   "source": [
    "df.groupby('region').is_promoted.sum().sort_values(ascending=False).head(10)"
   ]
  },
  {
   "cell_type": "code",
   "execution_count": 228,
   "metadata": {
    "ExecuteTime": {
     "end_time": "2020-12-31T11:45:36.453316Z",
     "start_time": "2020-12-31T11:45:35.688988Z"
    }
   },
   "outputs": [
    {
     "data": {
      "text/plain": [
       "<AxesSubplot:xlabel='department'>"
      ]
     },
     "execution_count": 228,
     "metadata": {},
     "output_type": "execute_result"
    },
    {
     "data": {
      "image/png": "[encoded data removed]",
      "text/plain": [
       "<Figure size 432x288 with 1 Axes>"
      ]
     },
     "metadata": {
      "needs_background": "light"
     },
     "output_type": "display_data"
    }
   ],
   "source": [
    "pd.crosstab(df.department, df.is_promoted, normalize=True).plot(kind=\"bar\")"
   ]
  },
  {
   "cell_type": "markdown",
   "metadata": {},
   "source": [
    "Understanding impact of previous_year_rating and is_promoted"
   ]
  },
  {
   "cell_type": "code",
   "execution_count": 230,
   "metadata": {
    "ExecuteTime": {
     "end_time": "2020-12-31T11:48:09.525755Z",
     "start_time": "2020-12-31T11:48:08.401652Z"
    }
   },
   "outputs": [
    {
     "data": {
      "text/plain": [
       "<AxesSubplot:xlabel='is_promoted', ylabel='previous_year_rating'>"
      ]
     },
     "execution_count": 230,
     "metadata": {},
     "output_type": "execute_result"
    },
    {
     "data": {
      "image/png": "[encoded data removed]",
      "text/plain": [
       "<Figure size 432x288 with 1 Axes>"
      ]
     },
     "metadata": {
      "needs_background": "light"
     },
     "output_type": "display_data"
    }
   ],
   "source": [
    "sns.boxplot(df.is_promoted,df.previous_year_rating)"
   ]
  },
  {
   "cell_type": "markdown",
   "metadata": {
    "ExecuteTime": {
     "end_time": "2020-12-31T12:08:47.426004Z",
     "start_time": "2020-12-31T12:08:41.649466Z"
    }
   },
   "source": [
    "##### Previous year rating if better, promotion probability is higher"
   ]
  },
  {
   "cell_type": "markdown",
   "metadata": {},
   "source": [
    "### Training hrs/no of trainings"
   ]
  },
  {
   "cell_type": "code",
   "execution_count": 232,
   "metadata": {
    "ExecuteTime": {
     "end_time": "2020-12-31T11:48:54.186688Z",
     "start_time": "2020-12-31T11:48:53.000651Z"
    }
   },
   "outputs": [
    {
     "data": {
      "text/plain": [
       "<AxesSubplot:xlabel='is_promoted', ylabel='avg_training_score'>"
      ]
     },
     "execution_count": 232,
     "metadata": {},
     "output_type": "execute_result"
    },
    {
     "data": {
      "image/png": "[encoded data removed]",
      "text/plain": [
       "<Figure size 432x288 with 1 Axes>"
      ]
     },
     "metadata": {
      "needs_background": "light"
     },
     "output_type": "display_data"
    }
   ],
   "source": [
    "sns.boxplot(df.is_promoted, df.avg_training_score)"
   ]
  },
  {
   "cell_type": "markdown",
   "metadata": {},
   "source": [
    "#### Higher avg_training score increases probability of promotion"
   ]
  },
  {
   "cell_type": "code",
   "execution_count": 233,
   "metadata": {
    "ExecuteTime": {
     "end_time": "2020-12-31T11:49:48.121179Z",
     "start_time": "2020-12-31T11:49:46.870655Z"
    }
   },
   "outputs": [
    {
     "data": {
      "text/plain": [
       "<AxesSubplot:xlabel='is_promoted', ylabel='no_of_trainings'>"
      ]
     },
     "execution_count": 233,
     "metadata": {},
     "output_type": "execute_result"
    },
    {
     "data": {
      "image/png": "[encoded data removed]",
      "text/plain": [
       "<Figure size 432x288 with 1 Axes>"
      ]
     },
     "metadata": {
      "needs_background": "light"
     },
     "output_type": "display_data"
    }
   ],
   "source": [
    "sns.boxplot(df.is_promoted, df.no_of_trainings)"
   ]
  },
  {
   "cell_type": "code",
   "execution_count": 234,
   "metadata": {
    "ExecuteTime": {
     "end_time": "2020-12-31T11:50:22.416311Z",
     "start_time": "2020-12-31T11:50:22.272824Z"
    }
   },
   "outputs": [
    {
     "data": {
      "text/html": [
       "<div>\n",
       "<style scoped>\n",
       "    .dataframe tbody tr th:only-of-type {\n",
       "        vertical-align: middle;\n",
       "    }\n",
       "\n",
       "    .dataframe tbody tr th {\n",
       "        vertical-align: top;\n",
       "    }\n",
       "\n",
       "    .dataframe thead th {\n",
       "        text-align: right;\n",
       "    }\n",
       "</style>\n",
       "<table border=\"1\" class=\"dataframe\">\n",
       "  <thead>\n",
       "    <tr style=\"text-align: right;\">\n",
       "      <th>is_promoted</th>\n",
       "      <th>0</th>\n",
       "      <th>1</th>\n",
       "    </tr>\n",
       "    <tr>\n",
       "      <th>no_of_trainings</th>\n",
       "      <th></th>\n",
       "      <th></th>\n",
       "    </tr>\n",
       "  </thead>\n",
       "  <tbody>\n",
       "    <tr>\n",
       "      <th>1</th>\n",
       "      <td>40468</td>\n",
       "      <td>3910</td>\n",
       "    </tr>\n",
       "    <tr>\n",
       "      <th>2</th>\n",
       "      <td>7382</td>\n",
       "      <td>605</td>\n",
       "    </tr>\n",
       "    <tr>\n",
       "      <th>3</th>\n",
       "      <td>1654</td>\n",
       "      <td>122</td>\n",
       "    </tr>\n",
       "    <tr>\n",
       "      <th>4</th>\n",
       "      <td>442</td>\n",
       "      <td>26</td>\n",
       "    </tr>\n",
       "    <tr>\n",
       "      <th>5</th>\n",
       "      <td>125</td>\n",
       "      <td>3</td>\n",
       "    </tr>\n",
       "    <tr>\n",
       "      <th>6</th>\n",
       "      <td>42</td>\n",
       "      <td>2</td>\n",
       "    </tr>\n",
       "    <tr>\n",
       "      <th>7</th>\n",
       "      <td>12</td>\n",
       "      <td>0</td>\n",
       "    </tr>\n",
       "    <tr>\n",
       "      <th>8</th>\n",
       "      <td>5</td>\n",
       "      <td>0</td>\n",
       "    </tr>\n",
       "    <tr>\n",
       "      <th>9</th>\n",
       "      <td>5</td>\n",
       "      <td>0</td>\n",
       "    </tr>\n",
       "    <tr>\n",
       "      <th>10</th>\n",
       "      <td>5</td>\n",
       "      <td>0</td>\n",
       "    </tr>\n",
       "  </tbody>\n",
       "</table>\n",
       "</div>"
      ],
      "text/plain": [
       "is_promoted          0     1\n",
       "no_of_trainings             \n",
       "1                40468  3910\n",
       "2                 7382   605\n",
       "3                 1654   122\n",
       "4                  442    26\n",
       "5                  125     3\n",
       "6                   42     2\n",
       "7                   12     0\n",
       "8                    5     0\n",
       "9                    5     0\n",
       "10                   5     0"
      ]
     },
     "execution_count": 234,
     "metadata": {},
     "output_type": "execute_result"
    }
   ],
   "source": [
    "pd.crosstab(df.no_of_trainings, df.is_promoted)"
   ]
  },
  {
   "cell_type": "markdown",
   "metadata": {},
   "source": [
    "### length of service"
   ]
  },
  {
   "cell_type": "code",
   "execution_count": 235,
   "metadata": {
    "ExecuteTime": {
     "end_time": "2020-12-31T11:52:33.228758Z",
     "start_time": "2020-12-31T11:52:31.861881Z"
    }
   },
   "outputs": [
    {
     "data": {
      "text/plain": [
       "<AxesSubplot:xlabel='is_promoted', ylabel='length_of_service'>"
      ]
     },
     "execution_count": 235,
     "metadata": {},
     "output_type": "execute_result"
    },
    {
     "data": {
      "image/png": "[encoded data removed]",
      "text/plain": [
       "<Figure size 432x288 with 1 Axes>"
      ]
     },
     "metadata": {
      "needs_background": "light"
     },
     "output_type": "display_data"
    }
   ],
   "source": [
    "sns.boxplot(df.is_promoted, df.length_of_service)"
   ]
  },
  {
   "cell_type": "markdown",
   "metadata": {
    "ExecuteTime": {
     "end_time": "2020-12-31T11:36:42.138575Z",
     "start_time": "2020-12-31T11:36:32.842Z"
    }
   },
   "source": [
    "length of service seems to have less impact on promotion"
   ]
  },
  {
   "cell_type": "markdown",
   "metadata": {
    "ExecuteTime": {
     "end_time": "2020-12-23T11:51:30.317350Z",
     "start_time": "2020-12-23T11:51:30.276250Z"
    }
   },
   "source": [
    "### Recruitment channel"
   ]
  },
  {
   "cell_type": "code",
   "execution_count": 239,
   "metadata": {
    "ExecuteTime": {
     "end_time": "2020-12-31T11:56:51.581419Z",
     "start_time": "2020-12-31T11:56:51.519022Z"
    }
   },
   "outputs": [
    {
     "data": {
      "text/plain": [
       "other       30446\n",
       "sourcing    23220\n",
       "referred     1142\n",
       "Name: recruitment_channel, dtype: int64"
      ]
     },
     "execution_count": 239,
     "metadata": {},
     "output_type": "execute_result"
    }
   ],
   "source": [
    "df.recruitment_channel.value_counts()"
   ]
  },
  {
   "cell_type": "code",
   "execution_count": 238,
   "metadata": {
    "ExecuteTime": {
     "end_time": "2020-12-31T11:54:47.576285Z",
     "start_time": "2020-12-31T11:54:47.451340Z"
    }
   },
   "outputs": [
    {
     "data": {
      "text/html": [
       "<div>\n",
       "<style scoped>\n",
       "    .dataframe tbody tr th:only-of-type {\n",
       "        vertical-align: middle;\n",
       "    }\n",
       "\n",
       "    .dataframe tbody tr th {\n",
       "        vertical-align: top;\n",
       "    }\n",
       "\n",
       "    .dataframe thead th {\n",
       "        text-align: right;\n",
       "    }\n",
       "</style>\n",
       "<table border=\"1\" class=\"dataframe\">\n",
       "  <thead>\n",
       "    <tr style=\"text-align: right;\">\n",
       "      <th>is_promoted</th>\n",
       "      <th>0</th>\n",
       "      <th>1</th>\n",
       "    </tr>\n",
       "    <tr>\n",
       "      <th>recruitment_channel</th>\n",
       "      <th></th>\n",
       "      <th></th>\n",
       "    </tr>\n",
       "  </thead>\n",
       "  <tbody>\n",
       "    <tr>\n",
       "      <th>other</th>\n",
       "      <td>27890</td>\n",
       "      <td>2556</td>\n",
       "    </tr>\n",
       "    <tr>\n",
       "      <th>referred</th>\n",
       "      <td>1004</td>\n",
       "      <td>138</td>\n",
       "    </tr>\n",
       "    <tr>\n",
       "      <th>sourcing</th>\n",
       "      <td>21246</td>\n",
       "      <td>1974</td>\n",
       "    </tr>\n",
       "  </tbody>\n",
       "</table>\n",
       "</div>"
      ],
      "text/plain": [
       "is_promoted              0     1\n",
       "recruitment_channel             \n",
       "other                27890  2556\n",
       "referred              1004   138\n",
       "sourcing             21246  1974"
      ]
     },
     "execution_count": 238,
     "metadata": {},
     "output_type": "execute_result"
    }
   ],
   "source": [
    "pd.crosstab(df.recruitment_channel, df.is_promoted)"
   ]
  },
  {
   "cell_type": "code",
   "execution_count": 241,
   "metadata": {
    "ExecuteTime": {
     "end_time": "2020-12-31T12:01:30.549555Z",
     "start_time": "2020-12-31T12:01:30.405092Z"
    }
   },
   "outputs": [
    {
     "data": {
      "text/html": [
       "<div>\n",
       "<style scoped>\n",
       "    .dataframe tbody tr th:only-of-type {\n",
       "        vertical-align: middle;\n",
       "    }\n",
       "\n",
       "    .dataframe tbody tr th {\n",
       "        vertical-align: top;\n",
       "    }\n",
       "\n",
       "    .dataframe thead th {\n",
       "        text-align: right;\n",
       "    }\n",
       "</style>\n",
       "<table border=\"1\" class=\"dataframe\">\n",
       "  <thead>\n",
       "    <tr style=\"text-align: right;\">\n",
       "      <th></th>\n",
       "      <th>key_0</th>\n",
       "      <th>employee_id</th>\n",
       "      <th>is_promoted</th>\n",
       "    </tr>\n",
       "  </thead>\n",
       "  <tbody>\n",
       "    <tr>\n",
       "      <th>0</th>\n",
       "      <td>other</td>\n",
       "      <td>30446</td>\n",
       "      <td>2556</td>\n",
       "    </tr>\n",
       "    <tr>\n",
       "      <th>1</th>\n",
       "      <td>sourcing</td>\n",
       "      <td>23220</td>\n",
       "      <td>1974</td>\n",
       "    </tr>\n",
       "    <tr>\n",
       "      <th>2</th>\n",
       "      <td>referred</td>\n",
       "      <td>1142</td>\n",
       "      <td>138</td>\n",
       "    </tr>\n",
       "  </tbody>\n",
       "</table>\n",
       "</div>"
      ],
      "text/plain": [
       "      key_0  employee_id  is_promoted\n",
       "0     other        30446         2556\n",
       "1  sourcing        23220         1974\n",
       "2  referred         1142          138"
      ]
     },
     "execution_count": 241,
     "metadata": {},
     "output_type": "execute_result"
    }
   ],
   "source": [
    "empcount_recruit=df.groupby('recruitment_channel').employee_id.count().sort_values(ascending=False)\n",
    "promotedcount_recruit=df.groupby('recruitment_channel').is_promoted.sum().sort_values(ascending=False)\n",
    "promoted_pc1=pd.merge(empcount_recruit, promotedcount_recruit, how=\"inner\", on=empcount_recruit.index )\n",
    "promoted_pc1"
   ]
  },
  {
   "cell_type": "code",
   "execution_count": 243,
   "metadata": {
    "ExecuteTime": {
     "end_time": "2020-12-31T12:02:40.954146Z",
     "start_time": "2020-12-31T12:02:40.901821Z"
    }
   },
   "outputs": [
    {
     "data": {
      "text/html": [
       "<div>\n",
       "<style scoped>\n",
       "    .dataframe tbody tr th:only-of-type {\n",
       "        vertical-align: middle;\n",
       "    }\n",
       "\n",
       "    .dataframe tbody tr th {\n",
       "        vertical-align: top;\n",
       "    }\n",
       "\n",
       "    .dataframe thead th {\n",
       "        text-align: right;\n",
       "    }\n",
       "</style>\n",
       "<table border=\"1\" class=\"dataframe\">\n",
       "  <thead>\n",
       "    <tr style=\"text-align: right;\">\n",
       "      <th></th>\n",
       "      <th>key_0</th>\n",
       "      <th>employee_id</th>\n",
       "      <th>is_promoted</th>\n",
       "      <th>promoted_percent</th>\n",
       "    </tr>\n",
       "  </thead>\n",
       "  <tbody>\n",
       "    <tr>\n",
       "      <th>0</th>\n",
       "      <td>other</td>\n",
       "      <td>30446</td>\n",
       "      <td>2556</td>\n",
       "      <td>8.40</td>\n",
       "    </tr>\n",
       "    <tr>\n",
       "      <th>1</th>\n",
       "      <td>sourcing</td>\n",
       "      <td>23220</td>\n",
       "      <td>1974</td>\n",
       "      <td>8.50</td>\n",
       "    </tr>\n",
       "    <tr>\n",
       "      <th>2</th>\n",
       "      <td>referred</td>\n",
       "      <td>1142</td>\n",
       "      <td>138</td>\n",
       "      <td>12.08</td>\n",
       "    </tr>\n",
       "  </tbody>\n",
       "</table>\n",
       "</div>"
      ],
      "text/plain": [
       "      key_0  employee_id  is_promoted  promoted_percent\n",
       "0     other        30446         2556              8.40\n",
       "1  sourcing        23220         1974              8.50\n",
       "2  referred         1142          138             12.08"
      ]
     },
     "execution_count": 243,
     "metadata": {},
     "output_type": "execute_result"
    }
   ],
   "source": [
    "promoted_pc1['promoted_percent']=round(promoted_pc1.is_promoted*100/promoted_pc1.employee_id, 2)\n",
    "promoted_pc1"
   ]
  },
  {
   "cell_type": "markdown",
   "metadata": {},
   "source": [
    "#### Recruitment through referrals results in greater possibility of promotion"
   ]
  },
  {
   "cell_type": "markdown",
   "metadata": {},
   "source": [
    "### Age"
   ]
  },
  {
   "cell_type": "code",
   "execution_count": 245,
   "metadata": {
    "ExecuteTime": {
     "end_time": "2020-12-31T12:14:35.558601Z",
     "start_time": "2020-12-31T12:14:34.269943Z"
    }
   },
   "outputs": [
    {
     "data": {
      "text/plain": [
       "<AxesSubplot:xlabel='is_promoted', ylabel='age'>"
      ]
     },
     "execution_count": 245,
     "metadata": {},
     "output_type": "execute_result"
    },
    {
     "data": {
      "image/png": "[encoded data removed]",
      "text/plain": [
       "<Figure size 432x288 with 1 Axes>"
      ]
     },
     "metadata": {
      "needs_background": "light"
     },
     "output_type": "display_data"
    }
   ],
   "source": [
    "sns.boxplot(df.is_promoted, df.age)"
   ]
  },
  {
   "cell_type": "markdown",
   "metadata": {
    "ExecuteTime": {
     "end_time": "2020-12-31T11:36:42.161344Z",
     "start_time": "2020-12-31T11:36:32.875Z"
    }
   },
   "source": [
    "Age doesnt seem to play a major role in promotion possibility"
   ]
  },
  {
   "cell_type": "code",
   "execution_count": 246,
   "metadata": {
    "ExecuteTime": {
     "end_time": "2020-12-31T12:17:53.951603Z",
     "start_time": "2020-12-31T12:17:53.914613Z"
    }
   },
   "outputs": [
    {
     "data": {
      "text/plain": [
       "Index(['employee_id', 'department', 'region', 'education', 'gender',\n",
       "       'recruitment_channel', 'no_of_trainings', 'age', 'previous_year_rating',\n",
       "       'length_of_service', 'are_KPIs_met', 'were_awards_won',\n",
       "       'avg_training_score', 'is_promoted'],\n",
       "      dtype='object')"
      ]
     },
     "execution_count": 246,
     "metadata": {},
     "output_type": "execute_result"
    }
   ],
   "source": [
    "df.columns"
   ]
  },
  {
   "cell_type": "code",
   "execution_count": 248,
   "metadata": {
    "ExecuteTime": {
     "end_time": "2020-12-31T12:20:27.309898Z",
     "start_time": "2020-12-31T12:20:26.813396Z"
    }
   },
   "outputs": [
    {
     "data": {
      "text/plain": [
       "<AxesSubplot:ylabel='were_awards_won'>"
      ]
     },
     "execution_count": 248,
     "metadata": {},
     "output_type": "execute_result"
    },
    {
     "data": {
      "image/png": "[encoded data removed]",
      "text/plain": [
       "<Figure size 432x288 with 1 Axes>"
      ]
     },
     "metadata": {
      "needs_background": "light"
     },
     "output_type": "display_data"
    }
   ],
   "source": [
    "pd.crosstab(df.were_awards_won, df.is_promoted).plot(kind=\"barh\")"
   ]
  },
  {
   "cell_type": "code",
   "execution_count": 249,
   "metadata": {
    "ExecuteTime": {
     "end_time": "2020-12-31T12:21:39.008159Z",
     "start_time": "2020-12-31T12:21:35.501180Z"
    }
   },
   "outputs": [
    {
     "data": {
      "text/plain": [
       "array([[<AxesSubplot:title={'center':'age'}>,\n",
       "        <AxesSubplot:title={'center':'are_KPIs_met'}>,\n",
       "        <AxesSubplot:title={'center':'avg_training_score'}>],\n",
       "       [<AxesSubplot:title={'center':'employee_id'}>,\n",
       "        <AxesSubplot:title={'center':'is_promoted'}>,\n",
       "        <AxesSubplot:title={'center':'length_of_service'}>],\n",
       "       [<AxesSubplot:title={'center':'no_of_trainings'}>,\n",
       "        <AxesSubplot:title={'center':'previous_year_rating'}>,\n",
       "        <AxesSubplot:title={'center':'were_awards_won'}>]], dtype=object)"
      ]
     },
     "execution_count": 249,
     "metadata": {},
     "output_type": "execute_result"
    },
    {
     "data": {
      "image/png": "[encoded data removed]",
      "text/plain": [
       "<Figure size 432x288 with 9 Axes>"
      ]
     },
     "metadata": {
      "needs_background": "light"
     },
     "output_type": "display_data"
    }
   ],
   "source": [
    "df.hist()"
   ]
  },
  {
   "cell_type": "markdown",
   "metadata": {
    "ExecuteTime": {
     "end_time": "2020-12-25T04:15:18.604996Z",
     "start_time": "2020-12-25T04:15:18.537969Z"
    }
   },
   "source": [
    "category=pd.cut(df.experience, bins=[0,0.9, 5, 12, 18, 23], labels=[1, 2, 3, 4, 5 ]) <br>\n",
    "df.insert(1,'Exp_Grp',category)"
   ]
  },
  {
   "cell_type": "markdown",
   "metadata": {},
   "source": [
    "traininghrs=pd.cut(df.training_hours, bins=[0,0.9, 5, 12, 18, 23], labels=[1, 2, 3, 4, 5 ]) \n",
    "df.insert(1,'train_hrs_bracket',traininghrs)"
   ]
  },
  {
   "cell_type": "markdown",
   "metadata": {
    "ExecuteTime": {
     "end_time": "2020-12-25T04:19:40.770080Z",
     "start_time": "2020-12-25T04:19:40.700969Z"
    }
   },
   "source": [
    "df.Exp_Grp.value_counts()\n",
    "df.Exp_Grp=df.Exp_Grp.astype(\"int\")\n",
    "df.Exp_Grp.dtype"
   ]
  },
  {
   "cell_type": "code",
   "execution_count": null,
   "metadata": {
    "ExecuteTime": {
     "end_time": "2020-12-31T11:36:42.219121Z",
     "start_time": "2020-12-31T11:36:32.993Z"
    }
   },
   "outputs": [],
   "source": [
    "(df.dtypes == 'object')"
   ]
  },
  {
   "cell_type": "code",
   "execution_count": 251,
   "metadata": {
    "ExecuteTime": {
     "end_time": "2020-12-31T12:26:01.964403Z",
     "start_time": "2020-12-31T12:26:01.620582Z"
    }
   },
   "outputs": [],
   "source": [
    "df.education.replace(to_replace=['Bachelor\\'s', 'Master\\'s & above', 'Below Secondary'], value=[1,2,3], inplace=True)\n",
    "df.gender.replace(to_replace=['m','f'], value=[0, 1], inplace=True)\n",
    "df.recruitment_channel.replace(to_replace=['other', 'sourcing', 'referred'], value=[1,2,3], inplace=True)\n",
    "df.department.replace(to_replace=['Sales & Marketing', 'Operations', 'Procurement', 'Technology', 'Analytics', 'Finance', 'HR', 'Legal', 'R&D'], value=[1,2,3, 4, 5, 6, 7, 8, 9], inplace=True)"
   ]
  },
  {
   "cell_type": "code",
   "execution_count": 252,
   "metadata": {
    "ExecuteTime": {
     "end_time": "2020-12-31T12:26:03.402659Z",
     "start_time": "2020-12-31T12:26:03.272788Z"
    }
   },
   "outputs": [
    {
     "data": {
      "text/html": [
       "<div>\n",
       "<style scoped>\n",
       "    .dataframe tbody tr th:only-of-type {\n",
       "        vertical-align: middle;\n",
       "    }\n",
       "\n",
       "    .dataframe tbody tr th {\n",
       "        vertical-align: top;\n",
       "    }\n",
       "\n",
       "    .dataframe thead th {\n",
       "        text-align: right;\n",
       "    }\n",
       "</style>\n",
       "<table border=\"1\" class=\"dataframe\">\n",
       "  <thead>\n",
       "    <tr style=\"text-align: right;\">\n",
       "      <th></th>\n",
       "      <th>employee_id</th>\n",
       "      <th>department</th>\n",
       "      <th>region</th>\n",
       "      <th>education</th>\n",
       "      <th>gender</th>\n",
       "      <th>recruitment_channel</th>\n",
       "      <th>no_of_trainings</th>\n",
       "      <th>age</th>\n",
       "      <th>previous_year_rating</th>\n",
       "      <th>length_of_service</th>\n",
       "      <th>are_KPIs_met</th>\n",
       "      <th>were_awards_won</th>\n",
       "      <th>avg_training_score</th>\n",
       "      <th>is_promoted</th>\n",
       "    </tr>\n",
       "  </thead>\n",
       "  <tbody>\n",
       "    <tr>\n",
       "      <th>54073</th>\n",
       "      <td>56775</td>\n",
       "      <td>5</td>\n",
       "      <td>region_11</td>\n",
       "      <td>1</td>\n",
       "      <td>0</td>\n",
       "      <td>2</td>\n",
       "      <td>1</td>\n",
       "      <td>31</td>\n",
       "      <td>4.0</td>\n",
       "      <td>4</td>\n",
       "      <td>1</td>\n",
       "      <td>0</td>\n",
       "      <td>85</td>\n",
       "      <td>0</td>\n",
       "    </tr>\n",
       "    <tr>\n",
       "      <th>46556</th>\n",
       "      <td>24217</td>\n",
       "      <td>2</td>\n",
       "      <td>region_13</td>\n",
       "      <td>1</td>\n",
       "      <td>0</td>\n",
       "      <td>2</td>\n",
       "      <td>1</td>\n",
       "      <td>58</td>\n",
       "      <td>3.0</td>\n",
       "      <td>3</td>\n",
       "      <td>1</td>\n",
       "      <td>0</td>\n",
       "      <td>55</td>\n",
       "      <td>0</td>\n",
       "    </tr>\n",
       "    <tr>\n",
       "      <th>43968</th>\n",
       "      <td>52293</td>\n",
       "      <td>2</td>\n",
       "      <td>region_32</td>\n",
       "      <td>1</td>\n",
       "      <td>1</td>\n",
       "      <td>1</td>\n",
       "      <td>1</td>\n",
       "      <td>30</td>\n",
       "      <td>1.0</td>\n",
       "      <td>3</td>\n",
       "      <td>1</td>\n",
       "      <td>0</td>\n",
       "      <td>61</td>\n",
       "      <td>0</td>\n",
       "    </tr>\n",
       "  </tbody>\n",
       "</table>\n",
       "</div>"
      ],
      "text/plain": [
       "       employee_id  department     region  education  gender  \\\n",
       "54073        56775           5  region_11          1       0   \n",
       "46556        24217           2  region_13          1       0   \n",
       "43968        52293           2  region_32          1       1   \n",
       "\n",
       "       recruitment_channel  no_of_trainings  age  previous_year_rating  \\\n",
       "54073                    2                1   31                   4.0   \n",
       "46556                    2                1   58                   3.0   \n",
       "43968                    1                1   30                   1.0   \n",
       "\n",
       "       length_of_service  are_KPIs_met  were_awards_won  avg_training_score  \\\n",
       "54073                  4             1                0                  85   \n",
       "46556                  3             1                0                  55   \n",
       "43968                  3             1                0                  61   \n",
       "\n",
       "       is_promoted  \n",
       "54073            0  \n",
       "46556            0  \n",
       "43968            0  "
      ]
     },
     "execution_count": 252,
     "metadata": {},
     "output_type": "execute_result"
    }
   ],
   "source": [
    "df.sample(3)"
   ]
  },
  {
   "cell_type": "code",
   "execution_count": 253,
   "metadata": {
    "ExecuteTime": {
     "end_time": "2020-12-31T12:27:02.002481Z",
     "start_time": "2020-12-31T12:27:01.850459Z"
    }
   },
   "outputs": [],
   "source": [
    "X=df[['department','education', 'gender','recruitment_channel', 'no_of_trainings', 'age', 'previous_year_rating',\n",
    "       'length_of_service', 'are_KPIs_met', 'were_awards_won', 'avg_training_score',]]\n",
    "y=df.is_promoted.values\n",
    "X_train, X_test, y_train, y_test=train_test_split(X,y, random_state=42, test_size=0.2)"
   ]
  },
  {
   "cell_type": "markdown",
   "metadata": {},
   "source": [
    "Standardizing values"
   ]
  },
  {
   "cell_type": "code",
   "execution_count": 255,
   "metadata": {
    "ExecuteTime": {
     "end_time": "2020-12-31T12:27:16.758083Z",
     "start_time": "2020-12-31T12:27:16.748087Z"
    }
   },
   "outputs": [],
   "source": [
    "sc=StandardScaler()\n",
    "#X_train="
   ]
  },
  {
   "cell_type": "code",
   "execution_count": 256,
   "metadata": {
    "ExecuteTime": {
     "end_time": "2020-12-31T12:27:26.771778Z",
     "start_time": "2020-12-31T12:27:25.860021Z"
    }
   },
   "outputs": [
    {
     "name": "stdout",
     "output_type": "stream",
     "text": [
      "0.9244663382594417\n",
      "0.8981792730296349\n",
      "0.8134488410162215\n"
     ]
    }
   ],
   "source": [
    "lr=LogisticRegression(solver=\"liblinear\")\n",
    "lr.fit(X_train, y_train)\n",
    "print(accuracy_score(y_test, lr.predict(X_test) ))\n",
    "print(f1_score(y_test, lr.predict(X_test), average=\"weighted\"))\n",
    "print(roc_auc_score(y_test, lr.predict_proba(X_test)[:,1]) )"
   ]
  },
  {
   "cell_type": "code",
   "execution_count": 257,
   "metadata": {
    "ExecuteTime": {
     "end_time": "2020-12-31T12:46:07.122898Z",
     "start_time": "2020-12-31T12:27:38.750419Z"
    }
   },
   "outputs": [
    {
     "name": "stdout",
     "output_type": "stream",
     "text": [
      "0.717296113847838\n",
      "0.780014764766842\n",
      "0.8219916963813907\n"
     ]
    }
   ],
   "source": [
    "svm_model=SVC(kernel=\"rbf\", class_weight=\"balanced\", probability=True)\n",
    "svm_model.fit(X_train, y_train)\n",
    "print(accuracy_score(y_test, svm_model.predict(X_test) ))\n",
    "print(f1_score(y_test, svm_model.predict(X_test), average=\"weighted\"))\n",
    "print(roc_auc_score(y_test, svm_model.predict_proba(X_test)[:,1]) )"
   ]
  },
  {
   "cell_type": "code",
   "execution_count": 258,
   "metadata": {
    "ExecuteTime": {
     "end_time": "2020-12-31T12:46:07.293858Z",
     "start_time": "2020-12-31T12:46:07.124857Z"
    }
   },
   "outputs": [
    {
     "name": "stdout",
     "output_type": "stream",
     "text": [
      "0.6971355592045247\n",
      "0.7650160274362039\n",
      "0.8444603984299759\n",
      "[[6850 3204]\n",
      " [ 116  792]]\n"
     ]
    }
   ],
   "source": [
    "dt=DecisionTreeClassifier(max_depth=5, class_weight=\"balanced\",criterion=\"entropy\")  # \n",
    "dt.fit(X_train, y_train)\n",
    "yhat=dt.predict(X_test)\n",
    "print(accuracy_score(y_test,yhat  ))\n",
    "print(f1_score(y_test, yhat, average=\"weighted\"))\n",
    "print(roc_auc_score(y_test, dt.predict_proba(X_test)[:,1]))\n",
    "print(confusion_matrix(y_test, yhat))"
   ]
  },
  {
   "cell_type": "code",
   "execution_count": 259,
   "metadata": {
    "ExecuteTime": {
     "end_time": "2020-12-31T12:46:08.997171Z",
     "start_time": "2020-12-31T12:46:07.299861Z"
    }
   },
   "outputs": [
    {
     "name": "stdout",
     "output_type": "stream",
     "text": [
      "[0 1]\n",
      "0.6839080459770115\n",
      "0.754830380061064\n",
      "0.8351775960474233\n",
      "[[6697 3357]\n",
      " [ 108  800]]\n"
     ]
    }
   ],
   "source": [
    "rt=RandomForestClassifier(max_depth=4,n_estimators=100, class_weight=\"balanced\",) #   \n",
    "rt.fit(X_train, y_train)\n",
    "yhat=rt.predict(X_test)\n",
    "print(np.unique(yhat))\n",
    "print(accuracy_score(y_test,yhat))\n",
    "print(f1_score(y_test, yhat, average=\"weighted\"))\n",
    "print(roc_auc_score(y_test, rt.predict_proba(X_test)[:,1]) )\n",
    "print(confusion_matrix(y_test, yhat))"
   ]
  },
  {
   "cell_type": "markdown",
   "metadata": {
    "ExecuteTime": {
     "end_time": "2020-12-25T13:58:38.275398Z",
     "start_time": "2020-12-25T13:58:38.018416Z"
    }
   },
   "source": [
    "from catboost import CatBoostRegressor, Pool\n",
    "from sklearn.metrics import r2_score, mean_squared_error\n",
    "\n",
    "###### We define the model\n",
    "model = xgb.XGBRegressor(objective='RMSE')\n",
    "###### We train model\n",
    "model.fit(X_train, y_train)\n",
    "predictions = model.predict(X_test)\n",
    "from sklearn import metrics\n",
    "fpr, tpr, thresholds = metrics.roc_curve(y_train, model.predict(X_train))\n",
    "metrics.auc(fpr, tpr)"
   ]
  },
  {
   "cell_type": "code",
   "execution_count": null,
   "metadata": {
    "ExecuteTime": {
     "end_time": "2020-12-31T11:36:42.247662Z",
     "start_time": "2020-12-31T11:36:33.039Z"
    }
   },
   "outputs": [],
   "source": [
    "14381/4777"
   ]
  },
  {
   "cell_type": "markdown",
   "metadata": {},
   "source": [
    "{\"learning_rate\"    : [0.05, 0.10, 0.15, 0.20, 0.25, 0.30 ] , <br>\n",
    " \"max_depth\"        : [ 3, 4, 5, 6, 8, 10, 12, 15],<br>\n",
    " \"min_child_weight\" : [ 1, 3, 5, 7 ],<br>\n",
    " \"gamma\"            : [ 0.0, 0.1, 0.2 , 0.3, 0.4 ],<br>\n",
    " \"colsample_bytree\" : [ 0.3, 0.4, 0.5 , 0.7 ] }"
   ]
  },
  {
   "cell_type": "code",
   "execution_count": 267,
   "metadata": {
    "ExecuteTime": {
     "end_time": "2020-12-31T12:56:00.053272Z",
     "start_time": "2020-12-31T12:55:33.446019Z"
    }
   },
   "outputs": [
    {
     "name": "stdout",
     "output_type": "stream",
     "text": [
      "[0 1]\n",
      "0.8977376391169495\n",
      "0.9031465963275835\n",
      "0.8979803663740034\n",
      "[[9372  682]\n",
      " [ 439  469]]\n"
     ]
    }
   ],
   "source": [
    "import xgboost as xgb\n",
    "xg_model=xgb.XGBRFClassifier(max_depth=15, n_estimators=500, scale_pos_weight=5)\n",
    "xg_model.fit(X_train, y_train)\n",
    "yhat=xg_model.predict(X_test)\n",
    "print(np.unique(yhat))\n",
    "print(accuracy_score(y_test,yhat))\n",
    "print(f1_score(y_test, yhat, average=\"weighted\"))\n",
    "print(roc_auc_score(y_test, xg_model.predict_proba(X_test)[:,1]) )\n",
    "\n",
    "#For imbalanced data, the argument changes; accuracy here is practically useless, and you should consider precision, recall, and the confusion matrix instead\n",
    "print(confusion_matrix(y_test,yhat))"
   ]
  },
  {
   "cell_type": "code",
   "execution_count": 278,
   "metadata": {
    "ExecuteTime": {
     "end_time": "2020-12-31T13:17:17.817912Z",
     "start_time": "2020-12-31T13:16:39.153013Z"
    }
   },
   "outputs": [
    {
     "name": "stdout",
     "output_type": "stream",
     "text": [
      "accuracy: 0.8838715562853494\n",
      "f1 score: 0.8951410123718729\n",
      "test auc: 0.9013648435014796\n",
      "[[9161  893]\n",
      " [ 380  528]]\n"
     ]
    }
   ],
   "source": [
    "from catboost import CatBoostClassifier\n",
    "#scale_pos_weight is the ratio of number of negative class to the positive class. = (0's)/ 1s = 91/9\n",
    "#xg_model=CatBoostClassifier(max_depth=7, n_estimators=1200, scale_pos_weight=8)\n",
    "#xg_model=CatBoostClassifier(max_depth=5, n_estimators=1200, scale_pos_weight=5)\n",
    "xg_model=CatBoostClassifier(max_depth=5, n_estimators=1200, scale_pos_weight=5)\n",
    "xg_model.fit(X_train, y_train, verbose=False)\n",
    "yhat=xg_model.predict(X_test)\n",
    "print(f'accuracy: {accuracy_score(y_test,yhat)}')\n",
    "print(f'f1 score: {f1_score(y_test, yhat, average=\"weighted\")}')\n",
    "print(f'test auc: {roc_auc_score(y_test, xg_model.predict_proba(X_test)[:,1])}')\n",
    "#For imbalanced data, the argument changes; accuracy here is practically useless, and you should consider precision, recall, and the confusion matrix instead\n",
    "print(confusion_matrix(y_test,yhat))"
   ]
  },
  {
   "cell_type": "code",
   "execution_count": 283,
   "metadata": {
    "ExecuteTime": {
     "end_time": "2020-12-31T17:06:14.401930Z",
     "start_time": "2020-12-31T13:41:44.107706Z"
    }
   },
   "outputs": [
    {
     "data": {
      "text/plain": [
       "0.9342698995889235"
      ]
     },
     "execution_count": 283,
     "metadata": {},
     "output_type": "execute_result"
    }
   ],
   "source": [
    "param = {'max_depth': [5, 6,7, 8, 9, 10, 11, 12], \n",
    "         'n_estimators':[500, 900, 1000, 1200, 1500], \n",
    "          'criterion' : ['gini', 'entropy'],\n",
    "          'bootstrap':[True, False],\n",
    "          'min_samples_leaf': [1,2,3,4]\n",
    "        }\n",
    "rnd_search = RandomizedSearchCV(RandomForestClassifier(), param, n_iter =10, cv=9)\n",
    "rnd_search.fit(X_train,y_train)\n",
    "rnd_search.best_params_\n",
    "rnd_search.best_score_"
   ]
  },
  {
   "cell_type": "code",
   "execution_count": 262,
   "metadata": {
    "ExecuteTime": {
     "end_time": "2020-12-31T12:47:28.090210Z",
     "start_time": "2020-12-31T12:47:14.985056Z"
    }
   },
   "outputs": [
    {
     "name": "stdout",
     "output_type": "stream",
     "text": [
      "0.9255610290093049\n",
      "0.8972935360477796\n",
      "0.8447757111597374\n"
     ]
    }
   ],
   "source": [
    "#n_estimators=i\n",
    "#max_leaf_nodes -> [500,2000,8000,99999]:\n",
    "dt=DecisionTreeClassifier(max_features=None,max_leaf_nodes=500, max_depth=5)\n",
    "bagc=BaggingClassifier(base_estimator=dt,n_estimators=500,max_samples=100, n_jobs=7)\n",
    "bagc.fit(X_train, y_train)\n",
    "yhat=bagc.predict(X_test)\n",
    "print(accuracy_score(y_test,yhat  ))\n",
    "print(f1_score(y_test, yhat, average=\"weighted\"))\n",
    "print(roc_auc_score(y_test, bagc.predict_proba(X_test)[:,1]) )"
   ]
  },
  {
   "cell_type": "code",
   "execution_count": null,
   "metadata": {
    "ExecuteTime": {
     "end_time": "2020-12-31T11:36:42.270285Z",
     "start_time": "2020-12-31T11:36:33.054Z"
    }
   },
   "outputs": [],
   "source": [
    "#n_estimators=i\n",
    "#max_leaf_nodes -> [500,2000,8000,99999]:\n",
    "dt=DecisionTreeClassifier(max_features=None,max_leaf_nodes=500)\n",
    "adab=AdaBoostClassifier(base_estimator=dt,n_estimators=100)\n",
    "adab.fit(X_train, y_train)\n",
    "yhat=adab.predict(X_test)\n",
    "print(accuracy_score(y_test,yhat  ))\n",
    "print(f1_score(y_test, yhat, average=\"weighted\"))\n",
    "print(roc_auc_score(y_test, adab.predict_proba(X_test)[:,1]) )"
   ]
  },
  {
   "cell_type": "code",
   "execution_count": null,
   "metadata": {
    "ExecuteTime": {
     "end_time": "2020-12-24T06:10:07.938438Z",
     "start_time": "2020-12-24T06:09:57.523Z"
    }
   },
   "outputs": [],
   "source": []
  }
 ],
 "metadata": {
  "kernelspec": {
   "display_name": "Python 3",
   "language": "python",
   "name": "python3"
  },
  "language_info": {
   "codemirror_mode": {
    "name": "ipython",
    "version": 3
   },
   "file_extension": ".py",
   "mimetype": "text/x-python",
   "name": "python",
   "nbconvert_exporter": "python",
   "pygments_lexer": "ipython3",
   "version": "3.6.1"
  }
 },
 "nbformat": 4,
 "nbformat_minor": 4
}
