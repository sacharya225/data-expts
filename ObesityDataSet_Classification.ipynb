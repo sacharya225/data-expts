{
 "cells": [
  {
   "cell_type": "code",
   "execution_count": 80,
   "metadata": {
    "ExecuteTime": {
     "end_time": "2020-11-26T18:31:07.104884Z",
     "start_time": "2020-11-26T18:31:07.077927Z"
    }
   },
   "outputs": [],
   "source": [
    "import pandas as pd\n",
    "import numpy as np\n",
    "import seaborn as sns\n",
    "from sklearn.linear_model import LogisticRegression\n",
    "from sklearn.model_selection import train_test_split, GridSearchCV, cross_val_score\n",
    "from sklearn import preprocessing\n",
    "from sklearn.tree import DecisionTreeClassifier\n",
    "from sklearn.ensemble import RandomForestClassifier\n",
    "from sklearn import svm\n",
    "import xgboost as xgb\n",
    "from xgboost import XGBRFClassifier\n",
    "from sklearn.metrics import jaccard_score, accuracy_score, log_loss, f1_score, confusion_matrix, classification_report\n",
    "file='ObesityDataSet_raw_and_data_sinthetic.csv'\n"
   ]
  },
  {
   "cell_type": "code",
   "execution_count": 2,
   "metadata": {
    "ExecuteTime": {
     "end_time": "2020-11-26T17:32:22.996815Z",
     "start_time": "2020-11-26T17:32:22.746564Z"
    }
   },
   "outputs": [
    {
     "data": {
      "text/html": [
       "<div>\n",
       "<style scoped>\n",
       "    .dataframe tbody tr th:only-of-type {\n",
       "        vertical-align: middle;\n",
       "    }\n",
       "\n",
       "    .dataframe tbody tr th {\n",
       "        vertical-align: top;\n",
       "    }\n",
       "\n",
       "    .dataframe thead th {\n",
       "        text-align: right;\n",
       "    }\n",
       "</style>\n",
       "<table border=\"1\" class=\"dataframe\">\n",
       "  <thead>\n",
       "    <tr style=\"text-align: right;\">\n",
       "      <th></th>\n",
       "      <th>Gender</th>\n",
       "      <th>Age</th>\n",
       "      <th>Height</th>\n",
       "      <th>Weight</th>\n",
       "      <th>family_history_with_overweight</th>\n",
       "      <th>FAVC</th>\n",
       "      <th>FCVC</th>\n",
       "      <th>NCP</th>\n",
       "      <th>CAEC</th>\n",
       "      <th>SMOKE</th>\n",
       "      <th>CH2O</th>\n",
       "      <th>SCC</th>\n",
       "      <th>FAF</th>\n",
       "      <th>TUE</th>\n",
       "      <th>CALC</th>\n",
       "      <th>MTRANS</th>\n",
       "      <th>NObeyesdad</th>\n",
       "    </tr>\n",
       "  </thead>\n",
       "  <tbody>\n",
       "    <tr>\n",
       "      <th>458</th>\n",
       "      <td>Male</td>\n",
       "      <td>19.000000</td>\n",
       "      <td>1.690000</td>\n",
       "      <td>60.000000</td>\n",
       "      <td>no</td>\n",
       "      <td>yes</td>\n",
       "      <td>2.000000</td>\n",
       "      <td>3.000000</td>\n",
       "      <td>Always</td>\n",
       "      <td>no</td>\n",
       "      <td>1.000000</td>\n",
       "      <td>no</td>\n",
       "      <td>1.000000</td>\n",
       "      <td>1.000000</td>\n",
       "      <td>Sometimes</td>\n",
       "      <td>Public_Transportation</td>\n",
       "      <td>Normal_Weight</td>\n",
       "    </tr>\n",
       "    <tr>\n",
       "      <th>1111</th>\n",
       "      <td>Male</td>\n",
       "      <td>18.011718</td>\n",
       "      <td>1.680991</td>\n",
       "      <td>79.752916</td>\n",
       "      <td>yes</td>\n",
       "      <td>yes</td>\n",
       "      <td>2.413156</td>\n",
       "      <td>2.521546</td>\n",
       "      <td>Sometimes</td>\n",
       "      <td>no</td>\n",
       "      <td>1.985312</td>\n",
       "      <td>no</td>\n",
       "      <td>0.007050</td>\n",
       "      <td>0.965464</td>\n",
       "      <td>Sometimes</td>\n",
       "      <td>Public_Transportation</td>\n",
       "      <td>Overweight_Level_II</td>\n",
       "    </tr>\n",
       "    <tr>\n",
       "      <th>1908</th>\n",
       "      <td>Female</td>\n",
       "      <td>20.871667</td>\n",
       "      <td>1.782453</td>\n",
       "      <td>137.852618</td>\n",
       "      <td>yes</td>\n",
       "      <td>yes</td>\n",
       "      <td>3.000000</td>\n",
       "      <td>3.000000</td>\n",
       "      <td>Sometimes</td>\n",
       "      <td>no</td>\n",
       "      <td>2.748909</td>\n",
       "      <td>no</td>\n",
       "      <td>1.989171</td>\n",
       "      <td>0.832515</td>\n",
       "      <td>Sometimes</td>\n",
       "      <td>Public_Transportation</td>\n",
       "      <td>Obesity_Type_III</td>\n",
       "    </tr>\n",
       "    <tr>\n",
       "      <th>634</th>\n",
       "      <td>Female</td>\n",
       "      <td>23.000000</td>\n",
       "      <td>1.710129</td>\n",
       "      <td>50.079991</td>\n",
       "      <td>yes</td>\n",
       "      <td>yes</td>\n",
       "      <td>2.000000</td>\n",
       "      <td>3.000000</td>\n",
       "      <td>Frequently</td>\n",
       "      <td>no</td>\n",
       "      <td>2.685842</td>\n",
       "      <td>no</td>\n",
       "      <td>0.373186</td>\n",
       "      <td>2.000000</td>\n",
       "      <td>no</td>\n",
       "      <td>Public_Transportation</td>\n",
       "      <td>Insufficient_Weight</td>\n",
       "    </tr>\n",
       "    <tr>\n",
       "      <th>1663</th>\n",
       "      <td>Male</td>\n",
       "      <td>24.079971</td>\n",
       "      <td>1.619810</td>\n",
       "      <td>98.543020</td>\n",
       "      <td>yes</td>\n",
       "      <td>yes</td>\n",
       "      <td>2.958410</td>\n",
       "      <td>2.434347</td>\n",
       "      <td>Sometimes</td>\n",
       "      <td>no</td>\n",
       "      <td>1.000000</td>\n",
       "      <td>no</td>\n",
       "      <td>1.930033</td>\n",
       "      <td>0.754023</td>\n",
       "      <td>no</td>\n",
       "      <td>Public_Transportation</td>\n",
       "      <td>Obesity_Type_II</td>\n",
       "    </tr>\n",
       "  </tbody>\n",
       "</table>\n",
       "</div>"
      ],
      "text/plain": [
       "      Gender        Age    Height      Weight family_history_with_overweight  \\\n",
       "458     Male  19.000000  1.690000   60.000000                             no   \n",
       "1111    Male  18.011718  1.680991   79.752916                            yes   \n",
       "1908  Female  20.871667  1.782453  137.852618                            yes   \n",
       "634   Female  23.000000  1.710129   50.079991                            yes   \n",
       "1663    Male  24.079971  1.619810   98.543020                            yes   \n",
       "\n",
       "     FAVC      FCVC       NCP        CAEC SMOKE      CH2O SCC       FAF  \\\n",
       "458   yes  2.000000  3.000000      Always    no  1.000000  no  1.000000   \n",
       "1111  yes  2.413156  2.521546   Sometimes    no  1.985312  no  0.007050   \n",
       "1908  yes  3.000000  3.000000   Sometimes    no  2.748909  no  1.989171   \n",
       "634   yes  2.000000  3.000000  Frequently    no  2.685842  no  0.373186   \n",
       "1663  yes  2.958410  2.434347   Sometimes    no  1.000000  no  1.930033   \n",
       "\n",
       "           TUE       CALC                 MTRANS           NObeyesdad  \n",
       "458   1.000000  Sometimes  Public_Transportation        Normal_Weight  \n",
       "1111  0.965464  Sometimes  Public_Transportation  Overweight_Level_II  \n",
       "1908  0.832515  Sometimes  Public_Transportation     Obesity_Type_III  \n",
       "634   2.000000         no  Public_Transportation  Insufficient_Weight  \n",
       "1663  0.754023         no  Public_Transportation      Obesity_Type_II  "
      ]
     },
     "execution_count": 2,
     "metadata": {},
     "output_type": "execute_result"
    }
   ],
   "source": [
    "df=pd.read_csv(file)\n",
    "df.sample(5)"
   ]
  },
  {
   "cell_type": "code",
   "execution_count": 5,
   "metadata": {
    "ExecuteTime": {
     "end_time": "2020-11-26T17:34:15.221302Z",
     "start_time": "2020-11-26T17:34:15.174106Z"
    }
   },
   "outputs": [],
   "source": [
    "df.shape\n",
    "df.isnull().sum()\n",
    "df.Gender.replace(to_replace=['Male', 'Female'], value=[1,0], inplace=True)"
   ]
  },
  {
   "cell_type": "code",
   "execution_count": 9,
   "metadata": {
    "ExecuteTime": {
     "end_time": "2020-11-26T17:39:33.668461Z",
     "start_time": "2020-11-26T17:39:33.640280Z"
    }
   },
   "outputs": [],
   "source": [
    "df.family_history_with_overweight.replace(to_replace=['yes', 'no'], value=[1,0], inplace=True)\n",
    "df.SMOKE.replace(to_replace=['yes', 'no'], value=[1,0], inplace=True)\n",
    "df.SCC.replace(to_replace=['yes', 'no'], value=[1,0], inplace=True)\n",
    "df.FAVC.replace(to_replace=['yes', 'no'], value=[1,0], inplace=True)\n"
   ]
  },
  {
   "cell_type": "code",
   "execution_count": 17,
   "metadata": {
    "ExecuteTime": {
     "end_time": "2020-11-26T17:47:19.879816Z",
     "start_time": "2020-11-26T17:47:19.842124Z"
    }
   },
   "outputs": [],
   "source": [
    "df.CALC.replace(to_replace=['Sometimes', 'Frequently', 'Always', 'no'], value=[1,2,3,0], inplace=True)\n",
    "df.CAEC.replace(to_replace=['Sometimes', 'Frequently', 'Always', 'no'], value=[1,2,3,0], inplace=True)\n",
    "df.MTRANS.replace(to_replace=['Automobile', 'Public_Transportation', 'Walking', 'Motorbike', 'Bike'], value=[1,2,4,3,5], inplace=True)"
   ]
  },
  {
   "cell_type": "code",
   "execution_count": 21,
   "metadata": {
    "ExecuteTime": {
     "end_time": "2020-11-26T17:50:32.694159Z",
     "start_time": "2020-11-26T17:50:32.668358Z"
    }
   },
   "outputs": [],
   "source": [
    "df.rename(columns={'NObeyesdad':'NObesity'},  inplace=True)"
   ]
  },
  {
   "cell_type": "code",
   "execution_count": 24,
   "metadata": {
    "ExecuteTime": {
     "end_time": "2020-11-26T17:52:12.747463Z",
     "start_time": "2020-11-26T17:52:12.711125Z"
    }
   },
   "outputs": [
    {
     "data": {
      "text/plain": [
       "Index(['Gender', 'Age', 'Height', 'Weight', 'family_history_with_overweight',\n",
       "       'FAVC', 'FCVC', 'NCP', 'CAEC', 'SMOKE', 'CH2O', 'SCC', 'FAF', 'TUE',\n",
       "       'CALC', 'MTRANS', 'NObesity'],\n",
       "      dtype='object')"
      ]
     },
     "execution_count": 24,
     "metadata": {},
     "output_type": "execute_result"
    }
   ],
   "source": [
    "df.NObesity.value_counts()\n",
    "df.columns"
   ]
  },
  {
   "cell_type": "code",
   "execution_count": 74,
   "metadata": {
    "ExecuteTime": {
     "end_time": "2020-11-26T18:05:58.057973Z",
     "start_time": "2020-11-26T18:05:58.032044Z"
    }
   },
   "outputs": [],
   "source": [
    "y=df.NObesity.values\n",
    "X=df[['Height', 'Weight', 'FAVC', 'FCVC', 'NCP', 'CAEC', 'SMOKE', 'CH2O', 'SCC', 'FAF', 'TUE', 'CALC', 'MTRANS', ]]"
   ]
  },
  {
   "cell_type": "code",
   "execution_count": null,
   "metadata": {},
   "outputs": [],
   "source": [
    "##'family_history_with_overweight', 'Gender', 'Age', -> dont have any impact on the predictions"
   ]
  },
  {
   "cell_type": "code",
   "execution_count": 75,
   "metadata": {
    "ExecuteTime": {
     "end_time": "2020-11-26T18:05:59.381405Z",
     "start_time": "2020-11-26T18:05:59.343286Z"
    }
   },
   "outputs": [],
   "source": [
    "X_train, X_test, y_train, y_test = train_test_split(X,y,test_size=0.2, random_state=21)"
   ]
  },
  {
   "cell_type": "code",
   "execution_count": 72,
   "metadata": {
    "ExecuteTime": {
     "end_time": "2020-11-26T18:05:22.495709Z",
     "start_time": "2020-11-26T18:05:18.235250Z"
    }
   },
   "outputs": [
    {
     "name": "stdout",
     "output_type": "stream",
     "text": [
      "0.950354609929078\n",
      "0.9500959856230714\n",
      "[0.93601896 0.93127962 0.94549763 0.92890995]\n"
     ]
    }
   ],
   "source": [
    "rt=RandomForestClassifier(max_depth=12, class_weight=\"balanced\")\n",
    "rt.fit(X_train, y_train)\n",
    "yhat_r=rt.predict(X_test)\n",
    "print(accuracy_score(y_test, yhat_r))\n",
    "print(f1_score(y_test, yhat_r, average=\"weighted\"))\n",
    "#print(confusion_matrix(y_test, yhat_r))\n",
    "print(cross_val_score(rt, X_train, y_train, cv=4))"
   ]
  },
  {
   "cell_type": "markdown",
   "metadata": {},
   "source": [
    "GridsearchCV to tune my hyperparameters."
   ]
  },
  {
   "cell_type": "code",
   "execution_count": 82,
   "metadata": {
    "ExecuteTime": {
     "end_time": "2020-11-26T18:44:35.478879Z",
     "start_time": "2020-11-26T18:42:10.046081Z"
    }
   },
   "outputs": [
    {
     "name": "stdout",
     "output_type": "stream",
     "text": [
      "Fitting 3 folds for each of 108 candidates, totalling 324 fits\n"
     ]
    },
    {
     "name": "stderr",
     "output_type": "stream",
     "text": [
      "[Parallel(n_jobs=-1)]: Using backend LokyBackend with 4 concurrent workers.\n",
      "[Parallel(n_jobs=-1)]: Done  33 tasks      | elapsed:   14.4s\n",
      "[Parallel(n_jobs=-1)]: Done 154 tasks      | elapsed:  1.1min\n",
      "[Parallel(n_jobs=-1)]: Done 324 out of 324 | elapsed:  2.4min finished\n"
     ]
    },
    {
     "name": "stdout",
     "output_type": "stream",
     "text": [
      "                     precision    recall  f1-score   support\n",
      "\n",
      "Insufficient_Weight       0.97      0.94      0.95        65\n",
      "      Normal_Weight       0.84      0.92      0.88        52\n",
      "     Obesity_Type_I       1.00      0.97      0.98        59\n",
      "    Obesity_Type_II       1.00      1.00      1.00        64\n",
      "   Obesity_Type_III       1.00      1.00      1.00        75\n",
      " Overweight_Level_I       0.95      0.74      0.83        53\n",
      "Overweight_Level_II       0.82      0.98      0.89        55\n",
      "\n",
      "           accuracy                           0.94       423\n",
      "          macro avg       0.94      0.94      0.93       423\n",
      "       weighted avg       0.95      0.94      0.94       423\n",
      "\n"
     ]
    }
   ],
   "source": [
    "rf=RandomForestClassifier()\n",
    "param_grid = {\n",
    "    'bootstrap': [True],\n",
    "    'max_depth': [8, 9, 10, 11],\n",
    "    'min_samples_leaf': [3, 4, 5],\n",
    "    'min_samples_split': [8, 10, 12],\n",
    "    'n_estimators': [100, 200, 300]\n",
    "}\n",
    "\n",
    "grid_search = GridSearchCV(estimator = rf, param_grid = param_grid, cv = 3, n_jobs = -1, verbose = 2)\n",
    "grid_search.fit(X_train, y_train)\n",
    "ypred=grid_search.predict(X_test)\n",
    "grid_search.score(X_test,y_test)\n",
    "\n",
    "grid_search.best_params_\n",
    "print(classification_report(y_test, ypred))"
   ]
  },
  {
   "cell_type": "code",
   "execution_count": 76,
   "metadata": {
    "ExecuteTime": {
     "end_time": "2020-11-26T18:06:20.321800Z",
     "start_time": "2020-11-26T18:06:03.653220Z"
    }
   },
   "outputs": [
    {
     "name": "stdout",
     "output_type": "stream",
     "text": [
      "0.9716312056737588\n",
      "0.9717112778474689\n",
      "[[63  2  0  0  0  0  0]\n",
      " [ 1 50  0  0  0  1  0]\n",
      " [ 0  0 57  1  0  1  0]\n",
      " [ 0  0  0 64  0  0  0]\n",
      " [ 0  0  0  1 74  0  0]\n",
      " [ 0  4  0  0  0 48  1]\n",
      " [ 0  0  0  0  0  0 55]]\n",
      "[0.95260664 0.93838863 0.93838863 0.94549763]\n"
     ]
    }
   ],
   "source": [
    "\n",
    "xg_model=xgb.XGBRFClassifier(max_depth=12,n_estimators=190)\n",
    "xg_model.fit(X_train, y_train)\n",
    "y_pred = xg_model.predict(X_test)\n",
    "print(accuracy_score(y_test, y_pred))\n",
    "print(f1_score(y_test, y_pred, average=\"weighted\"))\n",
    "print(confusion_matrix(y_test, y_pred))\n",
    "print(cross_val_score(xg_model, X_train, y_train,cv=4))\n"
   ]
  }
 ],
 "metadata": {
  "kernelspec": {
   "display_name": "Python 3",
   "language": "python",
   "name": "python3"
  },
  "language_info": {
   "codemirror_mode": {
    "name": "ipython",
    "version": 3
   },
   "file_extension": ".py",
   "mimetype": "text/x-python",
   "name": "python",
   "nbconvert_exporter": "python",
   "pygments_lexer": "ipython3",
   "version": "3.6.1"
  }
 },
 "nbformat": 4,
 "nbformat_minor": 4
}
