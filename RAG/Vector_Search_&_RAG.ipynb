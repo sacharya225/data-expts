{
  "nbformat": 4,
  "nbformat_minor": 0,
  "metadata": {
    "colab": {
      "provenance": []
    },
    "kernelspec": {
      "name": "python3",
      "display_name": "Python 3"
    },
    "language_info": {
      "name": "python"
    }
  },
  "cells": [
    {
      "cell_type": "markdown",
      "source": [
        "### **Vector Search**"
      ],
      "metadata": {
        "id": "mYET6ZxdtSai"
      }
    },
    {
      "cell_type": "code",
      "source": [
        "%%capture\n",
        "!pip install langchain langchain-community langchain-openai\n",
        "!pip install qdrant-client jq\n",
        "\n",
        "from langchain_community.document_loaders import JSONLoader\n",
        "from langchain_community.vectorstores import Qdrant\n",
        "from langchain_openai import OpenAIEmbeddings"
      ],
      "metadata": {
        "id": "qIldkxFqtXNv"
      },
      "execution_count": 1,
      "outputs": []
    },
    {
      "cell_type": "code",
      "source": [
        "!wget \"https://raw.githubusercontent.com/sacharya225/data-expts/master/RAG/movies.json\""
      ],
      "metadata": {
        "colab": {
          "base_uri": "https://localhost:8080/"
        },
        "collapsed": true,
        "id": "f7bnWIZwtiqM",
        "outputId": "9139c0b1-138e-46e6-cb06-fabf1c55cdec"
      },
      "execution_count": 2,
      "outputs": [
        {
          "output_type": "stream",
          "name": "stdout",
          "text": [
            "--2024-06-04 10:16:29--  https://raw.githubusercontent.com/sacharya225/data-expts/master/RAG/movies.json\n",
            "Resolving raw.githubusercontent.com (raw.githubusercontent.com)... 185.199.111.133, 185.199.110.133, 185.199.108.133, ...\n",
            "Connecting to raw.githubusercontent.com (raw.githubusercontent.com)|185.199.111.133|:443... connected.\n",
            "HTTP request sent, awaiting response... 200 OK\n",
            "Length: 3130 (3.1K) [text/plain]\n",
            "Saving to: ‘movies.json’\n",
            "\n",
            "movies.json         100%[===================>]   3.06K  --.-KB/s    in 0s      \n",
            "\n",
            "2024-06-04 10:16:29 (41.2 MB/s) - ‘movies.json’ saved [3130/3130]\n",
            "\n"
          ]
        }
      ]
    },
    {
      "cell_type": "code",
      "source": [
        "def get_title(record: dict, metadata: dict) -> dict:\n",
        "\n",
        "    metadata[\"display_title\"] = record.get(\"display_title\")\n",
        "    return metadata"
      ],
      "metadata": {
        "id": "DxpoDEiItkl9"
      },
      "execution_count": 3,
      "outputs": []
    },
    {
      "cell_type": "code",
      "source": [
        "loader = JSONLoader(file_path='movies.json', jq_schema='.[]', content_key=\"summary_short\", text_content=False, metadata_func=get_title)\n",
        "movies = loader.load()\n",
        "movies\n"
      ],
      "metadata": {
        "colab": {
          "base_uri": "https://localhost:8080/"
        },
        "id": "lBg9JlDotnEx",
        "outputId": "8103c030-aa2d-406a-8a2a-39ccdae4fed5"
      },
      "execution_count": 4,
      "outputs": [
        {
          "output_type": "execute_result",
          "data": {
            "text/plain": [
              "[Document(page_content='Agnès Varda, photographer, installation artist and pioneer of the Nouvelle Vague, is an institution of French cinema. Taking a seat on a theatre stage, she uses photos and film excerpts to provide an insight into her unorthodox oeuvre.', metadata={'source': '/content/movies.json', 'seq_num': 1, 'display_title': 'Varda by Agnès'}),\n",
              " Document(page_content='The writer-director Trey Edward Shults tells the story of a family held together by love and nearly undone by tragedy. Traces the journey of a suburban family - led by a well-intentioned but domineering father - as they navigate love, forgiveness, and coming together in the aftermath of a loss.', metadata={'source': '/content/movies.json', 'seq_num': 2, 'display_title': 'Waves'}),\n",
              " Document(page_content='Mati Diop’s Cannes prize winner is a potent mix of genres and moods.', metadata={'source': '/content/movies.json', 'seq_num': 3, 'display_title': 'Atlantics'}),\n",
              " Document(page_content='Matt Damon and Christian Bale star in James Mangold’s look back at the golden age of auto racing.', metadata={'source': '/content/movies.json', 'seq_num': 4, 'display_title': 'Ford v Ferrari'}),\n",
              " Document(page_content='Matt Wolf’s documentary shows how one woman captured history by recording television news. The results are compelling.', metadata={'source': '/content/movies.json', 'seq_num': 5, 'display_title': 'Recorder: The Marion Stokes Project'}),\n",
              " Document(page_content='Errol Morris fails to crack his subject in this documentary — but maybe that’s the point.', metadata={'source': '/content/movies.json', 'seq_num': 6, 'display_title': 'American Dharma'}),\n",
              " Document(page_content='Breathtakingly beautiful and with little spoken dialogue, Matthew Barney’s film is a western that reaches for the cosmic.', metadata={'source': '/content/movies.json', 'seq_num': 7, 'display_title': 'Redoubt'}),\n",
              " Document(page_content='In this scorching movie from Nadav Lapid, a young Israeli flees to Paris and tries to transform into a Frenchman. It goes badly.', metadata={'source': '/content/movies.json', 'seq_num': 8, 'display_title': 'Synonyms'}),\n",
              " Document(page_content='Naomie Harris plays a rookie running from bad police officers and drug dealers in Deon Taylor’s violent, astute film.', metadata={'source': '/content/movies.json', 'seq_num': 9, 'display_title': 'Black and Blue'}),\n",
              " Document(page_content='This concert film, directed by the singer and Thom Zimny, puts Bruce in a barn with an orchestra to make some magic.', metadata={'source': '/content/movies.json', 'seq_num': 10, 'display_title': 'Western Stars'}),\n",
              " Document(page_content='A documentary provides vivid examples of the power of audio in a motion picture.', metadata={'source': '/content/movies.json', 'seq_num': 11, 'display_title': 'Making Waves: The Art of Cinematic Sound'}),\n",
              " Document(page_content='In footage shot over several years, this documentary follows a herd of elephants across the Kenyan savanna.', metadata={'source': '/content/movies.json', 'seq_num': 12, 'display_title': 'The Elephant Queen'}),\n",
              " Document(page_content='‘The Two Faces of a Bamileke Woman’ and ‘Chez Jolie Coiffure’ offer Cameroonian women the chance to speak for themselves. Two Films From Rosine Mbakam Explore West African Women’s Identity', metadata={'source': '/content/movies.json', 'seq_num': 13, 'display_title': 'Chez jolie coiffure'})]"
            ]
          },
          "metadata": {},
          "execution_count": 4
        }
      ]
    },
    {
      "cell_type": "code",
      "source": [
        "key = 'sk-y...'"
      ],
      "metadata": {
        "id": "HvwObKhLtbQg"
      },
      "execution_count": 5,
      "outputs": []
    },
    {
      "cell_type": "code",
      "source": [
        "embeddings = OpenAIEmbeddings(api_key=key)\n",
        "vectorstore = Qdrant.from_documents(movies, embeddings, location=\":memory:\", collection_name=\"my_movies\")\n"
      ],
      "metadata": {
        "id": "1CPkCP8ntm_i"
      },
      "execution_count": 6,
      "outputs": []
    },
    {
      "cell_type": "code",
      "source": [
        "query = \"movie about cars\"\n",
        "docs_qdrant = vectorstore.similarity_search_with_score(query, k=2)\n",
        "docs_qdrant"
      ],
      "metadata": {
        "colab": {
          "base_uri": "https://localhost:8080/"
        },
        "id": "AWTOZbVXtmzn",
        "outputId": "4e241af6-9431-42bb-9cca-59490a9edeee"
      },
      "execution_count": 7,
      "outputs": [
        {
          "output_type": "execute_result",
          "data": {
            "text/plain": [
              "[(Document(page_content='Matt Damon and Christian Bale star in James Mangold’s look back at the golden age of auto racing.', metadata={'source': '/content/movies.json', 'seq_num': 4, 'display_title': 'Ford v Ferrari', '_id': '93d4ea2f9be14abea60756ca8d3d22ae', '_collection_name': 'my_movies'}),\n",
              "  0.8731096040005585),\n",
              " (Document(page_content='A documentary provides vivid examples of the power of audio in a motion picture.', metadata={'source': '/content/movies.json', 'seq_num': 11, 'display_title': 'Making Waves: The Art of Cinematic Sound', '_id': '0645157ceeba4d32a2169b0420f3f5c1', '_collection_name': 'my_movies'}),\n",
              "  0.8061270597565537)]"
            ]
          },
          "metadata": {},
          "execution_count": 7
        }
      ]
    },
    {
      "cell_type": "code",
      "source": [
        "import pandas as pd\n",
        "df=pd.DataFrame([{\"Title\": doc.metadata['display_title'],  \"Story\" :  doc.page_content, \"Match\" : score} for doc, score in docs_qdrant])\n",
        "df"
      ],
      "metadata": {
        "colab": {
          "base_uri": "https://localhost:8080/",
          "height": 125
        },
        "id": "fdbrg3RPttTI",
        "outputId": "5e495d6e-2db5-4e57-f614-e980d5f86c88"
      },
      "execution_count": 13,
      "outputs": [
        {
          "output_type": "execute_result",
          "data": {
            "text/plain": [
              "                                      Title  \\\n",
              "0                            Ford v Ferrari   \n",
              "1  Making Waves: The Art of Cinematic Sound   \n",
              "\n",
              "                                               Story     Match  \n",
              "0  Matt Damon and Christian Bale star in James Ma...  0.873110  \n",
              "1  A documentary provides vivid examples of the p...  0.806127  "
            ],
            "text/html": [
              "\n",
              "  <div id=\"df-a41aa357-d853-4882-a23b-b72d0aa7bb9a\" class=\"colab-df-container\">\n",
              "    <div>\n",
              "<style scoped>\n",
              "    .dataframe tbody tr th:only-of-type {\n",
              "        vertical-align: middle;\n",
              "    }\n",
              "\n",
              "    .dataframe tbody tr th {\n",
              "        vertical-align: top;\n",
              "    }\n",
              "\n",
              "    .dataframe thead th {\n",
              "        text-align: right;\n",
              "    }\n",
              "</style>\n",
              "<table border=\"1\" class=\"dataframe\">\n",
              "  <thead>\n",
              "    <tr style=\"text-align: right;\">\n",
              "      <th></th>\n",
              "      <th>Title</th>\n",
              "      <th>Story</th>\n",
              "      <th>Match</th>\n",
              "    </tr>\n",
              "  </thead>\n",
              "  <tbody>\n",
              "    <tr>\n",
              "      <th>0</th>\n",
              "      <td>Ford v Ferrari</td>\n",
              "      <td>Matt Damon and Christian Bale star in James Ma...</td>\n",
              "      <td>0.873110</td>\n",
              "    </tr>\n",
              "    <tr>\n",
              "      <th>1</th>\n",
              "      <td>Making Waves: The Art of Cinematic Sound</td>\n",
              "      <td>A documentary provides vivid examples of the p...</td>\n",
              "      <td>0.806127</td>\n",
              "    </tr>\n",
              "  </tbody>\n",
              "</table>\n",
              "</div>\n",
              "    <div class=\"colab-df-buttons\">\n",
              "\n",
              "  <div class=\"colab-df-container\">\n",
              "    <button class=\"colab-df-convert\" onclick=\"convertToInteractive('df-a41aa357-d853-4882-a23b-b72d0aa7bb9a')\"\n",
              "            title=\"Convert this dataframe to an interactive table.\"\n",
              "            style=\"display:none;\">\n",
              "\n",
              "  <svg xmlns=\"http://www.w3.org/2000/svg\" height=\"24px\" viewBox=\"0 -960 960 960\">\n",
              "    <path d=\"M120-120v-720h720v720H120Zm60-500h600v-160H180v160Zm220 220h160v-160H400v160Zm0 220h160v-160H400v160ZM180-400h160v-160H180v160Zm440 0h160v-160H620v160ZM180-180h160v-160H180v160Zm440 0h160v-160H620v160Z\"/>\n",
              "  </svg>\n",
              "    </button>\n",
              "\n",
              "  <style>\n",
              "    .colab-df-container {\n",
              "      display:flex;\n",
              "      gap: 12px;\n",
              "    }\n",
              "\n",
              "    .colab-df-convert {\n",
              "      background-color: #E8F0FE;\n",
              "      border: none;\n",
              "      border-radius: 50%;\n",
              "      cursor: pointer;\n",
              "      display: none;\n",
              "      fill: #1967D2;\n",
              "      height: 32px;\n",
              "      padding: 0 0 0 0;\n",
              "      width: 32px;\n",
              "    }\n",
              "\n",
              "    .colab-df-convert:hover {\n",
              "      background-color: #E2EBFA;\n",
              "      box-shadow: 0px 1px 2px rgba(60, 64, 67, 0.3), 0px 1px 3px 1px rgba(60, 64, 67, 0.15);\n",
              "      fill: #174EA6;\n",
              "    }\n",
              "\n",
              "    .colab-df-buttons div {\n",
              "      margin-bottom: 4px;\n",
              "    }\n",
              "\n",
              "    [theme=dark] .colab-df-convert {\n",
              "      background-color: #3B4455;\n",
              "      fill: #D2E3FC;\n",
              "    }\n",
              "\n",
              "    [theme=dark] .colab-df-convert:hover {\n",
              "      background-color: #434B5C;\n",
              "      box-shadow: 0px 1px 3px 1px rgba(0, 0, 0, 0.15);\n",
              "      filter: drop-shadow(0px 1px 2px rgba(0, 0, 0, 0.3));\n",
              "      fill: #FFFFFF;\n",
              "    }\n",
              "  </style>\n",
              "\n",
              "    <script>\n",
              "      const buttonEl =\n",
              "        document.querySelector('#df-a41aa357-d853-4882-a23b-b72d0aa7bb9a button.colab-df-convert');\n",
              "      buttonEl.style.display =\n",
              "        google.colab.kernel.accessAllowed ? 'block' : 'none';\n",
              "\n",
              "      async function convertToInteractive(key) {\n",
              "        const element = document.querySelector('#df-a41aa357-d853-4882-a23b-b72d0aa7bb9a');\n",
              "        const dataTable =\n",
              "          await google.colab.kernel.invokeFunction('convertToInteractive',\n",
              "                                                    [key], {});\n",
              "        if (!dataTable) return;\n",
              "\n",
              "        const docLinkHtml = 'Like what you see? Visit the ' +\n",
              "          '<a target=\"_blank\" href=https://colab.research.google.com/notebooks/data_table.ipynb>data table notebook</a>'\n",
              "          + ' to learn more about interactive tables.';\n",
              "        element.innerHTML = '';\n",
              "        dataTable['output_type'] = 'display_data';\n",
              "        await google.colab.output.renderOutput(dataTable, element);\n",
              "        const docLink = document.createElement('div');\n",
              "        docLink.innerHTML = docLinkHtml;\n",
              "        element.appendChild(docLink);\n",
              "      }\n",
              "    </script>\n",
              "  </div>\n",
              "\n",
              "\n",
              "<div id=\"df-3661dd74-fb06-4cc7-95bb-671088491710\">\n",
              "  <button class=\"colab-df-quickchart\" onclick=\"quickchart('df-3661dd74-fb06-4cc7-95bb-671088491710')\"\n",
              "            title=\"Suggest charts\"\n",
              "            style=\"display:none;\">\n",
              "\n",
              "<svg xmlns=\"http://www.w3.org/2000/svg\" height=\"24px\"viewBox=\"0 0 24 24\"\n",
              "     width=\"24px\">\n",
              "    <g>\n",
              "        <path d=\"M19 3H5c-1.1 0-2 .9-2 2v14c0 1.1.9 2 2 2h14c1.1 0 2-.9 2-2V5c0-1.1-.9-2-2-2zM9 17H7v-7h2v7zm4 0h-2V7h2v10zm4 0h-2v-4h2v4z\"/>\n",
              "    </g>\n",
              "</svg>\n",
              "  </button>\n",
              "\n",
              "<style>\n",
              "  .colab-df-quickchart {\n",
              "      --bg-color: #E8F0FE;\n",
              "      --fill-color: #1967D2;\n",
              "      --hover-bg-color: #E2EBFA;\n",
              "      --hover-fill-color: #174EA6;\n",
              "      --disabled-fill-color: #AAA;\n",
              "      --disabled-bg-color: #DDD;\n",
              "  }\n",
              "\n",
              "  [theme=dark] .colab-df-quickchart {\n",
              "      --bg-color: #3B4455;\n",
              "      --fill-color: #D2E3FC;\n",
              "      --hover-bg-color: #434B5C;\n",
              "      --hover-fill-color: #FFFFFF;\n",
              "      --disabled-bg-color: #3B4455;\n",
              "      --disabled-fill-color: #666;\n",
              "  }\n",
              "\n",
              "  .colab-df-quickchart {\n",
              "    background-color: var(--bg-color);\n",
              "    border: none;\n",
              "    border-radius: 50%;\n",
              "    cursor: pointer;\n",
              "    display: none;\n",
              "    fill: var(--fill-color);\n",
              "    height: 32px;\n",
              "    padding: 0;\n",
              "    width: 32px;\n",
              "  }\n",
              "\n",
              "  .colab-df-quickchart:hover {\n",
              "    background-color: var(--hover-bg-color);\n",
              "    box-shadow: 0 1px 2px rgba(60, 64, 67, 0.3), 0 1px 3px 1px rgba(60, 64, 67, 0.15);\n",
              "    fill: var(--button-hover-fill-color);\n",
              "  }\n",
              "\n",
              "  .colab-df-quickchart-complete:disabled,\n",
              "  .colab-df-quickchart-complete:disabled:hover {\n",
              "    background-color: var(--disabled-bg-color);\n",
              "    fill: var(--disabled-fill-color);\n",
              "    box-shadow: none;\n",
              "  }\n",
              "\n",
              "  .colab-df-spinner {\n",
              "    border: 2px solid var(--fill-color);\n",
              "    border-color: transparent;\n",
              "    border-bottom-color: var(--fill-color);\n",
              "    animation:\n",
              "      spin 1s steps(1) infinite;\n",
              "  }\n",
              "\n",
              "  @keyframes spin {\n",
              "    0% {\n",
              "      border-color: transparent;\n",
              "      border-bottom-color: var(--fill-color);\n",
              "      border-left-color: var(--fill-color);\n",
              "    }\n",
              "    20% {\n",
              "      border-color: transparent;\n",
              "      border-left-color: var(--fill-color);\n",
              "      border-top-color: var(--fill-color);\n",
              "    }\n",
              "    30% {\n",
              "      border-color: transparent;\n",
              "      border-left-color: var(--fill-color);\n",
              "      border-top-color: var(--fill-color);\n",
              "      border-right-color: var(--fill-color);\n",
              "    }\n",
              "    40% {\n",
              "      border-color: transparent;\n",
              "      border-right-color: var(--fill-color);\n",
              "      border-top-color: var(--fill-color);\n",
              "    }\n",
              "    60% {\n",
              "      border-color: transparent;\n",
              "      border-right-color: var(--fill-color);\n",
              "    }\n",
              "    80% {\n",
              "      border-color: transparent;\n",
              "      border-right-color: var(--fill-color);\n",
              "      border-bottom-color: var(--fill-color);\n",
              "    }\n",
              "    90% {\n",
              "      border-color: transparent;\n",
              "      border-bottom-color: var(--fill-color);\n",
              "    }\n",
              "  }\n",
              "</style>\n",
              "\n",
              "  <script>\n",
              "    async function quickchart(key) {\n",
              "      const quickchartButtonEl =\n",
              "        document.querySelector('#' + key + ' button');\n",
              "      quickchartButtonEl.disabled = true;  // To prevent multiple clicks.\n",
              "      quickchartButtonEl.classList.add('colab-df-spinner');\n",
              "      try {\n",
              "        const charts = await google.colab.kernel.invokeFunction(\n",
              "            'suggestCharts', [key], {});\n",
              "      } catch (error) {\n",
              "        console.error('Error during call to suggestCharts:', error);\n",
              "      }\n",
              "      quickchartButtonEl.classList.remove('colab-df-spinner');\n",
              "      quickchartButtonEl.classList.add('colab-df-quickchart-complete');\n",
              "    }\n",
              "    (() => {\n",
              "      let quickchartButtonEl =\n",
              "        document.querySelector('#df-3661dd74-fb06-4cc7-95bb-671088491710 button');\n",
              "      quickchartButtonEl.style.display =\n",
              "        google.colab.kernel.accessAllowed ? 'block' : 'none';\n",
              "    })();\n",
              "  </script>\n",
              "</div>\n",
              "\n",
              "  <div id=\"id_ddd3b6e9-b320-4298-b85b-51310c613b36\">\n",
              "    <style>\n",
              "      .colab-df-generate {\n",
              "        background-color: #E8F0FE;\n",
              "        border: none;\n",
              "        border-radius: 50%;\n",
              "        cursor: pointer;\n",
              "        display: none;\n",
              "        fill: #1967D2;\n",
              "        height: 32px;\n",
              "        padding: 0 0 0 0;\n",
              "        width: 32px;\n",
              "      }\n",
              "\n",
              "      .colab-df-generate:hover {\n",
              "        background-color: #E2EBFA;\n",
              "        box-shadow: 0px 1px 2px rgba(60, 64, 67, 0.3), 0px 1px 3px 1px rgba(60, 64, 67, 0.15);\n",
              "        fill: #174EA6;\n",
              "      }\n",
              "\n",
              "      [theme=dark] .colab-df-generate {\n",
              "        background-color: #3B4455;\n",
              "        fill: #D2E3FC;\n",
              "      }\n",
              "\n",
              "      [theme=dark] .colab-df-generate:hover {\n",
              "        background-color: #434B5C;\n",
              "        box-shadow: 0px 1px 3px 1px rgba(0, 0, 0, 0.15);\n",
              "        filter: drop-shadow(0px 1px 2px rgba(0, 0, 0, 0.3));\n",
              "        fill: #FFFFFF;\n",
              "      }\n",
              "    </style>\n",
              "    <button class=\"colab-df-generate\" onclick=\"generateWithVariable('df')\"\n",
              "            title=\"Generate code using this dataframe.\"\n",
              "            style=\"display:none;\">\n",
              "\n",
              "  <svg xmlns=\"http://www.w3.org/2000/svg\" height=\"24px\"viewBox=\"0 0 24 24\"\n",
              "       width=\"24px\">\n",
              "    <path d=\"M7,19H8.4L18.45,9,17,7.55,7,17.6ZM5,21V16.75L18.45,3.32a2,2,0,0,1,2.83,0l1.4,1.43a1.91,1.91,0,0,1,.58,1.4,1.91,1.91,0,0,1-.58,1.4L9.25,21ZM18.45,9,17,7.55Zm-12,3A5.31,5.31,0,0,0,4.9,8.1,5.31,5.31,0,0,0,1,6.5,5.31,5.31,0,0,0,4.9,4.9,5.31,5.31,0,0,0,6.5,1,5.31,5.31,0,0,0,8.1,4.9,5.31,5.31,0,0,0,12,6.5,5.46,5.46,0,0,0,6.5,12Z\"/>\n",
              "  </svg>\n",
              "    </button>\n",
              "    <script>\n",
              "      (() => {\n",
              "      const buttonEl =\n",
              "        document.querySelector('#id_ddd3b6e9-b320-4298-b85b-51310c613b36 button.colab-df-generate');\n",
              "      buttonEl.style.display =\n",
              "        google.colab.kernel.accessAllowed ? 'block' : 'none';\n",
              "\n",
              "      buttonEl.onclick = () => {\n",
              "        google.colab.notebook.generateWithVariable('df');\n",
              "      }\n",
              "      })();\n",
              "    </script>\n",
              "  </div>\n",
              "\n",
              "    </div>\n",
              "  </div>\n"
            ],
            "application/vnd.google.colaboratory.intrinsic+json": {
              "type": "dataframe",
              "variable_name": "df",
              "summary": "{\n  \"name\": \"df\",\n  \"rows\": 2,\n  \"fields\": [\n    {\n      \"column\": \"Title\",\n      \"properties\": {\n        \"dtype\": \"string\",\n        \"num_unique_values\": 2,\n        \"samples\": [\n          \"Making Waves: The Art of Cinematic Sound\",\n          \"Ford v Ferrari\"\n        ],\n        \"semantic_type\": \"\",\n        \"description\": \"\"\n      }\n    },\n    {\n      \"column\": \"Story\",\n      \"properties\": {\n        \"dtype\": \"string\",\n        \"num_unique_values\": 2,\n        \"samples\": [\n          \"A documentary provides vivid examples of the power of audio in a motion picture.\",\n          \"Matt Damon and Christian Bale star in James Mangold\\u2019s look back at the golden age of auto racing.\"\n        ],\n        \"semantic_type\": \"\",\n        \"description\": \"\"\n      }\n    },\n    {\n      \"column\": \"Match\",\n      \"properties\": {\n        \"dtype\": \"number\",\n        \"std\": 0.0473638112560637,\n        \"min\": 0.8061270597565537,\n        \"max\": 0.8731096040005585,\n        \"num_unique_values\": 2,\n        \"samples\": [\n          0.8061270597565537,\n          0.8731096040005585\n        ],\n        \"semantic_type\": \"\",\n        \"description\": \"\"\n      }\n    }\n  ]\n}"
            }
          },
          "metadata": {},
          "execution_count": 13
        }
      ]
    },
    {
      "cell_type": "markdown",
      "source": [
        "#### **RAG Pipeline**"
      ],
      "metadata": {
        "id": "nB6mpz5LfUR3"
      }
    },
    {
      "cell_type": "markdown",
      "source": [
        "Retrieval-Augmented Generation or RAG is a method of improving the accuracy of LLM by supplementing base LLM with external knowledge sources such as files, database items, or documents. External data is stored as vector embeddings in vector databases that help in easy search and retrieval of data.\n",
        "\n",
        "RAG is more resourceful and cost-effective in introducing new data to LLM, unlike fine-tuning or model retraining, which incorporates the additional knowledge into the model itself."
      ],
      "metadata": {
        "id": "zjMddxzKf70I"
      }
    },
    {
      "cell_type": "markdown",
      "source": [
        "This notebook will help you to create a simple Q&A RAG flow using Qdrant vector database and a text file as our external data source. High level steps include:\n",
        "\n",
        "\n",
        "1.   Create vector embeddings of the text file and load into our database.\n",
        "2.   Retrieve a list of matches from the database for our query.\n",
        "3.   Use this data to form a context.\n",
        "4.   Create a prompt template with context and query.\n",
        "5.   Run ChatModel with prompt\n",
        "\n",
        "\n"
      ],
      "metadata": {
        "id": "7I4CTkP5el8K"
      }
    },
    {
      "cell_type": "code",
      "execution_count": null,
      "metadata": {
        "id": "KSRtVUEubHjp"
      },
      "outputs": [],
      "source": [
        "%%capture\n",
        "!pip install langchain langchain-community langchain-openai\n",
        "!pip install qdrant-client"
      ]
    },
    {
      "cell_type": "code",
      "source": [
        "from langchain_community.document_loaders import TextLoader\n",
        "from langchain_community.vectorstores import Qdrant\n",
        "from langchain_openai import OpenAIEmbeddings\n",
        "from langchain.text_splitter import RecursiveCharacterTextSplitter\n",
        "from langchain.prompts import ChatPromptTemplate\n",
        "from langchain_openai import ChatOpenAI"
      ],
      "metadata": {
        "id": "FwOk1-cybNnk"
      },
      "execution_count": null,
      "outputs": []
    },
    {
      "cell_type": "code",
      "source": [
        "key=\"sk-P............\""
      ],
      "metadata": {
        "id": "x_I_iX5JbPro"
      },
      "execution_count": null,
      "outputs": []
    },
    {
      "cell_type": "code",
      "source": [
        "# load text doc\n",
        "!wget \"https://raw.githubusercontent.com/sacharya225/data-expts/master/RAG/state_of_the_union.txt\"\n",
        "loader = TextLoader(\"state_of_the_union.txt\")\n",
        "data = loader.load()"
      ],
      "metadata": {
        "colab": {
          "base_uri": "https://localhost:8080/"
        },
        "id": "M_D0nYhCbQnR",
        "outputId": "b66fff13-5699-4fdd-a143-fb42de5b9f4b"
      },
      "execution_count": null,
      "outputs": [
        {
          "output_type": "stream",
          "name": "stdout",
          "text": [
            "--2024-06-02 10:22:31--  https://raw.githubusercontent.com/sacharya225/data-expts/master/RAG/state_of_the_union.txt\n",
            "Resolving raw.githubusercontent.com (raw.githubusercontent.com)... 185.199.108.133, 185.199.109.133, 185.199.110.133, ...\n",
            "Connecting to raw.githubusercontent.com (raw.githubusercontent.com)|185.199.108.133|:443... connected.\n",
            "HTTP request sent, awaiting response... 200 OK\n",
            "Length: 39027 (38K) [text/plain]\n",
            "Saving to: ‘state_of_the_union.txt.1’\n",
            "\n",
            "\rstate_of_the_union.   0%[                    ]       0  --.-KB/s               \rstate_of_the_union. 100%[===================>]  38.11K  --.-KB/s    in 0.01s   \n",
            "\n",
            "2024-06-02 10:22:31 (3.50 MB/s) - ‘state_of_the_union.txt.1’ saved [39027/39027]\n",
            "\n"
          ]
        }
      ]
    },
    {
      "cell_type": "code",
      "source": [
        "# split doc into chunks of size 1000\n",
        "text_splitter = RecursiveCharacterTextSplitter(chunk_size=1000, chunk_overlap=0)\n",
        "docs = text_splitter.split_documents(data)\n",
        "\n",
        "# get OpenAI Embedding model\n",
        "embeddings = OpenAIEmbeddings(api_key=key)\n",
        "\n",
        "\n",
        "# upload vector embeddings into Qdrant\n",
        "vectorstore = Qdrant.from_documents(docs, embeddings, location=\":memory:\", collection_name=\"sotu\")"
      ],
      "metadata": {
        "id": "VO3Sy4jPbUqm"
      },
      "execution_count": null,
      "outputs": []
    },
    {
      "cell_type": "markdown",
      "source": [
        "Retrieval and Generate step"
      ],
      "metadata": {
        "id": "gxObsqUAbnC3"
      }
    },
    {
      "cell_type": "code",
      "source": [
        "\n",
        "query = 'What did the president say about Ketanji Brown Jackson'\n",
        "\n",
        "# retrieve data that match query to form context .\n",
        "docs_qdrant = vectorstore.similarity_search_with_score(query)\n",
        "\n",
        "#above returns a list of tuples of matched Document and scores\n",
        "\n",
        "# join all matched documents and generate a context/answer\n",
        "context_text = \"\\n\\n\".join([doc.page_content for doc, score in docs_qdrant])\n",
        "print(context_text)"
      ],
      "metadata": {
        "colab": {
          "base_uri": "https://localhost:8080/"
        },
        "id": "oxC4FmEubmKu",
        "outputId": "4ed0ad4b-92d7-48e7-e767-4027c78b85f6"
      },
      "execution_count": null,
      "outputs": [
        {
          "output_type": "stream",
          "name": "stdout",
          "text": [
            "Tonight. I call on the Senate to: Pass the Freedom to Vote Act. Pass the John Lewis Voting Rights Act. And while you’re at it, pass the Disclose Act so Americans can know who is funding our elections. \n",
            "\n",
            "Tonight, I’d like to honor someone who has dedicated his life to serve this country: Justice Stephen Breyer—an Army veteran, Constitutional scholar, and retiring Justice of the United States Supreme Court. Justice Breyer, thank you for your service. \n",
            "\n",
            "One of the most serious constitutional responsibilities a President has is nominating someone to serve on the United States Supreme Court. \n",
            "\n",
            "And I did that 4 days ago, when I nominated Circuit Court of Appeals Judge Ketanji Brown Jackson. One of our nation’s top legal minds, who will continue Justice Breyer’s legacy of excellence.\n",
            "\n",
            "A former top litigator in private practice. A former federal public defender. And from a family of public school educators and police officers. A consensus builder. Since she’s been nominated, she’s received a broad range of support—from the Fraternal Order of Police to former judges appointed by Democrats and Republicans. \n",
            "\n",
            "And if we are to advance liberty and justice, we need to secure the Border and fix the immigration system. \n",
            "\n",
            "We can do both. At our border, we’ve installed new technology like cutting-edge scanners to better detect drug smuggling.  \n",
            "\n",
            "We’ve set up joint patrols with Mexico and Guatemala to catch more human traffickers.  \n",
            "\n",
            "We’re putting in place dedicated immigration judges so families fleeing persecution and violence can have their cases heard faster. \n",
            "\n",
            "We’re securing commitments and supporting partners in South and Central America to host more refugees and secure their own borders.\n",
            "\n",
            "And for our LGBTQ+ Americans, let’s finally get the bipartisan Equality Act to my desk. The onslaught of state laws targeting transgender Americans and their families is wrong. \n",
            "\n",
            "As I said last year, especially to our younger transgender Americans, I will always have your back as your President, so you can be yourself and reach your God-given potential. \n",
            "\n",
            "While it often appears that we never agree, that isn’t true. I signed 80 bipartisan bills into law last year. From preventing government shutdowns to protecting Asian-Americans from still-too-common hate crimes to reforming military justice. \n",
            "\n",
            "And soon, we’ll strengthen the Violence Against Women Act that I first wrote three decades ago. It is important for us to show the nation that we can come together and do big things. \n",
            "\n",
            "So tonight I’m offering a Unity Agenda for the Nation. Four big things we can do together.  \n",
            "\n",
            "First, beat the opioid epidemic.\n",
            "\n",
            "Tonight, I’m announcing a crackdown on these companies overcharging American businesses and consumers. \n",
            "\n",
            "And as Wall Street firms take over more nursing homes, quality in those homes has gone down and costs have gone up.  \n",
            "\n",
            "That ends on my watch. \n",
            "\n",
            "Medicare is going to set higher standards for nursing homes and make sure your loved ones get the care they deserve and expect. \n",
            "\n",
            "We’ll also cut costs and keep the economy going strong by giving workers a fair shot, provide more training and apprenticeships, hire them based on their skills not degrees. \n",
            "\n",
            "Let’s pass the Paycheck Fairness Act and paid leave.  \n",
            "\n",
            "Raise the minimum wage to $15 an hour and extend the Child Tax Credit, so no one has to raise a family in poverty. \n",
            "\n",
            "Let’s increase Pell Grants and increase our historic support of HBCUs, and invest in what Jill—our First Lady who teaches full-time—calls America’s best-kept secret: community colleges.\n"
          ]
        }
      ]
    },
    {
      "cell_type": "code",
      "source": [
        "# create/use a prompt template\n",
        "template = \"\"\"\n",
        "You are an AI Assistant that follows instructions extremely well.\n",
        "Assist with answers for questions based on the context: {context}\n",
        "Use this context and answer the question : {question}.\"\"\""
      ],
      "metadata": {
        "id": "TmynGvLCbsAp"
      },
      "execution_count": null,
      "outputs": []
    },
    {
      "cell_type": "code",
      "source": [
        "# get prompt template and load context and query\n",
        "prompt_template = ChatPromptTemplate.from_template(template)\n",
        "prompt = prompt_template.format(context=context_text, question=query)\n",
        "\n",
        "# Invoke LLM chat model to generate answer based on the context and query\n",
        "llm = ChatOpenAI(model=\"gpt-3.5-turbo-0125\", api_key=key)\n",
        "response = llm.invoke(prompt)\n",
        "print(response.content)"
      ],
      "metadata": {
        "colab": {
          "base_uri": "https://localhost:8080/"
        },
        "id": "BbxCh4TcbwSX",
        "outputId": "7e93e2bf-112a-4dbb-d815-90be41bcad31"
      },
      "execution_count": null,
      "outputs": [
        {
          "output_type": "stream",
          "name": "stdout",
          "text": [
            "The President praised Ketanji Brown Jackson as one of our nation's top legal minds who will continue Justice Breyer's legacy of excellence. He highlighted her background as a former top litigator, federal public defender, and consensus builder, who has received broad support since being nominated.\n"
          ]
        }
      ]
    }
  ]
}