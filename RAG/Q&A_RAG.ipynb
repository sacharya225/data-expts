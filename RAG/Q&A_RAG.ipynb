{
  "nbformat": 4,
  "nbformat_minor": 0,
  "metadata": {
    "colab": {
      "provenance": []
    },
    "kernelspec": {
      "name": "python3",
      "display_name": "Python 3"
    },
    "language_info": {
      "name": "python"
    }
  },
  "cells": [
    {
      "cell_type": "markdown",
      "source": [
        "#### **RAG Pipeline**"
      ],
      "metadata": {
        "id": "nB6mpz5LfUR3"
      }
    },
    {
      "cell_type": "markdown",
      "source": [
        "Retrieval-Augmented Generation or RAG is a method of improving the accuracy of LLM by supplementing base LLM with external knowledge sources such as files, database items, or documents. External data is stored as vector embeddings in vector databases that help in easy search and retrieval of data.\n",
        "\n",
        "RAG is more resourceful and cost-effective in introducing new data to LLM, unlike fine-tuning or model retraining, which incorporates the additional knowledge into the model itself."
      ],
      "metadata": {
        "id": "zjMddxzKf70I"
      }
    },
    {
      "cell_type": "markdown",
      "source": [
        "This notebook will help you to create a simple Q&A RAG flow using Qdrant vector database and a text file as our external data source. High level steps include:\n",
        "\n",
        "\n",
        "1.   Create vector embeddings of the text file and load into our database.\n",
        "2.   Retrieve a list of matches from the database for our query.\n",
        "3.   Use this data to form a context.\n",
        "4.   Create a prompt template with context and query.\n",
        "5.   Run ChatModel with prompt\n",
        "\n",
        "\n"
      ],
      "metadata": {
        "id": "7I4CTkP5el8K"
      }
    },
    {
      "cell_type": "code",
      "execution_count": 13,
      "metadata": {
        "id": "KSRtVUEubHjp"
      },
      "outputs": [],
      "source": [
        "%%capture\n",
        "!pip install langchain langchain-community langchain-openai\n",
        "!pip install qdrant-client"
      ]
    },
    {
      "cell_type": "code",
      "source": [
        "from langchain_community.document_loaders import TextLoader\n",
        "from langchain_community.vectorstores import Qdrant\n",
        "from langchain_openai import OpenAIEmbeddings\n",
        "from langchain.text_splitter import RecursiveCharacterTextSplitter\n",
        "from langchain.prompts import ChatPromptTemplate\n",
        "from langchain_openai import ChatOpenAI"
      ],
      "metadata": {
        "id": "FwOk1-cybNnk"
      },
      "execution_count": 14,
      "outputs": []
    },
    {
      "cell_type": "code",
      "source": [
        "key=\"sk-P............\""
      ],
      "metadata": {
        "id": "x_I_iX5JbPro"
      },
      "execution_count": 15,
      "outputs": []
    },
    {
      "cell_type": "code",
      "source": [
        "# load text doc\n",
        "!wget \"https://raw.githubusercontent.com/sacharya225/data-expts/master/RAG/state_of_the_union.txt\"\n",
        "loader = TextLoader(\"state_of_the_union.txt\")\n",
        "data = loader.load()"
      ],
      "metadata": {
        "colab": {
          "base_uri": "https://localhost:8080/"
        },
        "id": "M_D0nYhCbQnR",
        "outputId": "b66fff13-5699-4fdd-a143-fb42de5b9f4b"
      },
      "execution_count": 16,
      "outputs": [
        {
          "output_type": "stream",
          "name": "stdout",
          "text": [
            "--2024-06-02 10:22:31--  https://raw.githubusercontent.com/sacharya225/data-expts/master/RAG/state_of_the_union.txt\n",
            "Resolving raw.githubusercontent.com (raw.githubusercontent.com)... 185.199.108.133, 185.199.109.133, 185.199.110.133, ...\n",
            "Connecting to raw.githubusercontent.com (raw.githubusercontent.com)|185.199.108.133|:443... connected.\n",
            "HTTP request sent, awaiting response... 200 OK\n",
            "Length: 39027 (38K) [text/plain]\n",
            "Saving to: ‘state_of_the_union.txt.1’\n",
            "\n",
            "\rstate_of_the_union.   0%[                    ]       0  --.-KB/s               \rstate_of_the_union. 100%[===================>]  38.11K  --.-KB/s    in 0.01s   \n",
            "\n",
            "2024-06-02 10:22:31 (3.50 MB/s) - ‘state_of_the_union.txt.1’ saved [39027/39027]\n",
            "\n"
          ]
        }
      ]
    },
    {
      "cell_type": "code",
      "source": [
        "# split doc into chunks of size 1000\n",
        "text_splitter = RecursiveCharacterTextSplitter(chunk_size=1000, chunk_overlap=0)\n",
        "docs = text_splitter.split_documents(data)\n",
        "\n",
        "# get OpenAI Embedding model\n",
        "embeddings = OpenAIEmbeddings(api_key=key)\n",
        "\n",
        "\n",
        "# upload vector embeddings into Qdrant\n",
        "vectorstore = Qdrant.from_documents(docs, embeddings, location=\":memory:\", collection_name=\"sotu\")"
      ],
      "metadata": {
        "id": "VO3Sy4jPbUqm"
      },
      "execution_count": 17,
      "outputs": []
    },
    {
      "cell_type": "markdown",
      "source": [
        "Retrieval and Generate step"
      ],
      "metadata": {
        "id": "gxObsqUAbnC3"
      }
    },
    {
      "cell_type": "code",
      "source": [
        "\n",
        "query = 'What did the president say about Ketanji Brown Jackson'\n",
        "\n",
        "# retrieve data that match query to form context .\n",
        "docs_qdrant = vectorstore.similarity_search_with_score(query)\n",
        "\n",
        "#above returns a list of tuples of matched Document and scores\n",
        "\n",
        "# join all matched documents and generate a context/answer\n",
        "context_text = \"\\n\\n\".join([doc.page_content for doc, score in docs_qdrant])\n",
        "print(context_text)"
      ],
      "metadata": {
        "colab": {
          "base_uri": "https://localhost:8080/"
        },
        "id": "oxC4FmEubmKu",
        "outputId": "4ed0ad4b-92d7-48e7-e767-4027c78b85f6"
      },
      "execution_count": 18,
      "outputs": [
        {
          "output_type": "stream",
          "name": "stdout",
          "text": [
            "Tonight. I call on the Senate to: Pass the Freedom to Vote Act. Pass the John Lewis Voting Rights Act. And while you’re at it, pass the Disclose Act so Americans can know who is funding our elections. \n",
            "\n",
            "Tonight, I’d like to honor someone who has dedicated his life to serve this country: Justice Stephen Breyer—an Army veteran, Constitutional scholar, and retiring Justice of the United States Supreme Court. Justice Breyer, thank you for your service. \n",
            "\n",
            "One of the most serious constitutional responsibilities a President has is nominating someone to serve on the United States Supreme Court. \n",
            "\n",
            "And I did that 4 days ago, when I nominated Circuit Court of Appeals Judge Ketanji Brown Jackson. One of our nation’s top legal minds, who will continue Justice Breyer’s legacy of excellence.\n",
            "\n",
            "A former top litigator in private practice. A former federal public defender. And from a family of public school educators and police officers. A consensus builder. Since she’s been nominated, she’s received a broad range of support—from the Fraternal Order of Police to former judges appointed by Democrats and Republicans. \n",
            "\n",
            "And if we are to advance liberty and justice, we need to secure the Border and fix the immigration system. \n",
            "\n",
            "We can do both. At our border, we’ve installed new technology like cutting-edge scanners to better detect drug smuggling.  \n",
            "\n",
            "We’ve set up joint patrols with Mexico and Guatemala to catch more human traffickers.  \n",
            "\n",
            "We’re putting in place dedicated immigration judges so families fleeing persecution and violence can have their cases heard faster. \n",
            "\n",
            "We’re securing commitments and supporting partners in South and Central America to host more refugees and secure their own borders.\n",
            "\n",
            "And for our LGBTQ+ Americans, let’s finally get the bipartisan Equality Act to my desk. The onslaught of state laws targeting transgender Americans and their families is wrong. \n",
            "\n",
            "As I said last year, especially to our younger transgender Americans, I will always have your back as your President, so you can be yourself and reach your God-given potential. \n",
            "\n",
            "While it often appears that we never agree, that isn’t true. I signed 80 bipartisan bills into law last year. From preventing government shutdowns to protecting Asian-Americans from still-too-common hate crimes to reforming military justice. \n",
            "\n",
            "And soon, we’ll strengthen the Violence Against Women Act that I first wrote three decades ago. It is important for us to show the nation that we can come together and do big things. \n",
            "\n",
            "So tonight I’m offering a Unity Agenda for the Nation. Four big things we can do together.  \n",
            "\n",
            "First, beat the opioid epidemic.\n",
            "\n",
            "Tonight, I’m announcing a crackdown on these companies overcharging American businesses and consumers. \n",
            "\n",
            "And as Wall Street firms take over more nursing homes, quality in those homes has gone down and costs have gone up.  \n",
            "\n",
            "That ends on my watch. \n",
            "\n",
            "Medicare is going to set higher standards for nursing homes and make sure your loved ones get the care they deserve and expect. \n",
            "\n",
            "We’ll also cut costs and keep the economy going strong by giving workers a fair shot, provide more training and apprenticeships, hire them based on their skills not degrees. \n",
            "\n",
            "Let’s pass the Paycheck Fairness Act and paid leave.  \n",
            "\n",
            "Raise the minimum wage to $15 an hour and extend the Child Tax Credit, so no one has to raise a family in poverty. \n",
            "\n",
            "Let’s increase Pell Grants and increase our historic support of HBCUs, and invest in what Jill—our First Lady who teaches full-time—calls America’s best-kept secret: community colleges.\n"
          ]
        }
      ]
    },
    {
      "cell_type": "code",
      "source": [
        "# create/use a prompt template\n",
        "template = \"\"\"\n",
        "You are an AI Assistant that follows instructions extremely well.\n",
        "Assist with answers for questions based on the context: {context}\n",
        "Use this context and answer the question : {question}.\"\"\""
      ],
      "metadata": {
        "id": "TmynGvLCbsAp"
      },
      "execution_count": 19,
      "outputs": []
    },
    {
      "cell_type": "code",
      "source": [
        "# get prompt template and load context and query\n",
        "prompt_template = ChatPromptTemplate.from_template(template)\n",
        "prompt = prompt_template.format(context=context_text, question=query)\n",
        "\n",
        "# Invoke LLM chat model to generate answer based on the context and query\n",
        "llm = ChatOpenAI(model=\"gpt-3.5-turbo-0125\", api_key=key)\n",
        "response = llm.invoke(prompt)\n",
        "print(response.content)"
      ],
      "metadata": {
        "colab": {
          "base_uri": "https://localhost:8080/"
        },
        "id": "BbxCh4TcbwSX",
        "outputId": "7e93e2bf-112a-4dbb-d815-90be41bcad31"
      },
      "execution_count": 20,
      "outputs": [
        {
          "output_type": "stream",
          "name": "stdout",
          "text": [
            "The President praised Ketanji Brown Jackson as one of our nation's top legal minds who will continue Justice Breyer's legacy of excellence. He highlighted her background as a former top litigator, federal public defender, and consensus builder, who has received broad support since being nominated.\n"
          ]
        }
      ]
    }
  ]
}