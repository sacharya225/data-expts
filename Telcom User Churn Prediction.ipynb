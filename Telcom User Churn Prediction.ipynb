{
 "cells": [
  {
   "cell_type": "code",
   "execution_count": 685,
   "metadata": {
    "ExecuteTime": {
     "end_time": "2021-04-13T03:26:46.286009Z",
     "start_time": "2021-04-13T03:26:46.264055Z"
    }
   },
   "outputs": [],
   "source": [
    "import pandas as pd\n",
    "import numpy as np\n",
    "from sklearn.preprocessing import StandardScaler\n",
    "from sklearn.model_selection import train_test_split\n",
    "from sklearn.linear_model import LogisticRegression\n",
    "from sklearn.tree import DecisionTreeClassifier\n",
    "from sklearn.ensemble import RandomForestClassifier , BaggingClassifier, VotingClassifier, GradientBoostingClassifier\n",
    "from sklearn.naive_bayes import GaussianNB\n",
    "import seaborn as sns\n",
    "import matplotlib.pyplot as plt\n",
    "import xgboost as xg\n",
    "import catboost as cb\n",
    "from sklearn import svm\n",
    "from sklearn.metrics import accuracy_score, auc, confusion_matrix, f1_score, recall_score, precision_score\n",
    "from sklearn.model_selection import KFold, StratifiedKFold, cross_val_score \n",
    "pd.set_option('display.max_columns', None)\n",
    "path=\"telecom_churn_moredata.csv\""
   ]
  },
  {
   "cell_type": "code",
   "execution_count": 686,
   "metadata": {
    "ExecuteTime": {
     "end_time": "2021-04-13T03:26:46.613197Z",
     "start_time": "2021-04-13T03:26:46.290222Z"
    }
   },
   "outputs": [
    {
     "data": {
      "text/html": [
       "<div>\n",
       "<style scoped>\n",
       "    .dataframe tbody tr th:only-of-type {\n",
       "        vertical-align: middle;\n",
       "    }\n",
       "\n",
       "    .dataframe tbody tr th {\n",
       "        vertical-align: top;\n",
       "    }\n",
       "\n",
       "    .dataframe thead th {\n",
       "        text-align: right;\n",
       "    }\n",
       "</style>\n",
       "<table border=\"1\" class=\"dataframe\">\n",
       "  <thead>\n",
       "    <tr style=\"text-align: right;\">\n",
       "      <th></th>\n",
       "      <th>gender</th>\n",
       "      <th>SeniorCitizen</th>\n",
       "      <th>Partner</th>\n",
       "      <th>Dependents</th>\n",
       "      <th>tenure</th>\n",
       "      <th>PhoneService</th>\n",
       "      <th>MultipleLines</th>\n",
       "      <th>InternetService</th>\n",
       "      <th>OnlineSecurity</th>\n",
       "      <th>OnlineBackup</th>\n",
       "      <th>DeviceProtection</th>\n",
       "      <th>TechSupport</th>\n",
       "      <th>StreamingTV</th>\n",
       "      <th>StreamingMovies</th>\n",
       "      <th>Contract</th>\n",
       "      <th>PaperlessBilling</th>\n",
       "      <th>PaymentMethod</th>\n",
       "      <th>MonthlyCharges</th>\n",
       "      <th>TotalCharges</th>\n",
       "      <th>Churn</th>\n",
       "    </tr>\n",
       "    <tr>\n",
       "      <th>customerID</th>\n",
       "      <th></th>\n",
       "      <th></th>\n",
       "      <th></th>\n",
       "      <th></th>\n",
       "      <th></th>\n",
       "      <th></th>\n",
       "      <th></th>\n",
       "      <th></th>\n",
       "      <th></th>\n",
       "      <th></th>\n",
       "      <th></th>\n",
       "      <th></th>\n",
       "      <th></th>\n",
       "      <th></th>\n",
       "      <th></th>\n",
       "      <th></th>\n",
       "      <th></th>\n",
       "      <th></th>\n",
       "      <th></th>\n",
       "      <th></th>\n",
       "    </tr>\n",
       "  </thead>\n",
       "  <tbody>\n",
       "    <tr>\n",
       "      <th>3733-LSYCE</th>\n",
       "      <td>Female</td>\n",
       "      <td>0</td>\n",
       "      <td>Yes</td>\n",
       "      <td>No</td>\n",
       "      <td>15</td>\n",
       "      <td>Yes</td>\n",
       "      <td>No</td>\n",
       "      <td>Fiber optic</td>\n",
       "      <td>No</td>\n",
       "      <td>Yes</td>\n",
       "      <td>No</td>\n",
       "      <td>No</td>\n",
       "      <td>No</td>\n",
       "      <td>No</td>\n",
       "      <td>Month-to-month</td>\n",
       "      <td>No</td>\n",
       "      <td>Bank transfer (automatic)</td>\n",
       "      <td>75.35</td>\n",
       "      <td>1114.55</td>\n",
       "      <td>No</td>\n",
       "    </tr>\n",
       "    <tr>\n",
       "      <th>5313-FPXWG</th>\n",
       "      <td>Male</td>\n",
       "      <td>0</td>\n",
       "      <td>No</td>\n",
       "      <td>No</td>\n",
       "      <td>51</td>\n",
       "      <td>Yes</td>\n",
       "      <td>Yes</td>\n",
       "      <td>No</td>\n",
       "      <td>No internet service</td>\n",
       "      <td>No internet service</td>\n",
       "      <td>No internet service</td>\n",
       "      <td>No internet service</td>\n",
       "      <td>No internet service</td>\n",
       "      <td>No internet service</td>\n",
       "      <td>One year</td>\n",
       "      <td>Yes</td>\n",
       "      <td>Bank transfer (automatic)</td>\n",
       "      <td>24.60</td>\n",
       "      <td>1266.4</td>\n",
       "      <td>No</td>\n",
       "    </tr>\n",
       "    <tr>\n",
       "      <th>5995-WWKKG</th>\n",
       "      <td>Female</td>\n",
       "      <td>0</td>\n",
       "      <td>No</td>\n",
       "      <td>No</td>\n",
       "      <td>37</td>\n",
       "      <td>Yes</td>\n",
       "      <td>No</td>\n",
       "      <td>No</td>\n",
       "      <td>No internet service</td>\n",
       "      <td>No internet service</td>\n",
       "      <td>No internet service</td>\n",
       "      <td>No internet service</td>\n",
       "      <td>No internet service</td>\n",
       "      <td>No internet service</td>\n",
       "      <td>One year</td>\n",
       "      <td>Yes</td>\n",
       "      <td>Electronic check</td>\n",
       "      <td>19.80</td>\n",
       "      <td>695.05</td>\n",
       "      <td>No</td>\n",
       "    </tr>\n",
       "    <tr>\n",
       "      <th>7048-GXDAY</th>\n",
       "      <td>Male</td>\n",
       "      <td>0</td>\n",
       "      <td>No</td>\n",
       "      <td>No</td>\n",
       "      <td>39</td>\n",
       "      <td>Yes</td>\n",
       "      <td>Yes</td>\n",
       "      <td>Fiber optic</td>\n",
       "      <td>Yes</td>\n",
       "      <td>Yes</td>\n",
       "      <td>No</td>\n",
       "      <td>No</td>\n",
       "      <td>Yes</td>\n",
       "      <td>Yes</td>\n",
       "      <td>Month-to-month</td>\n",
       "      <td>Yes</td>\n",
       "      <td>Electronic check</td>\n",
       "      <td>106.40</td>\n",
       "      <td>4040.65</td>\n",
       "      <td>No</td>\n",
       "    </tr>\n",
       "    <tr>\n",
       "      <th>9074-KGVOX</th>\n",
       "      <td>Male</td>\n",
       "      <td>0</td>\n",
       "      <td>Yes</td>\n",
       "      <td>Yes</td>\n",
       "      <td>50</td>\n",
       "      <td>No</td>\n",
       "      <td>No phone service</td>\n",
       "      <td>DSL</td>\n",
       "      <td>Yes</td>\n",
       "      <td>No</td>\n",
       "      <td>No</td>\n",
       "      <td>No</td>\n",
       "      <td>Yes</td>\n",
       "      <td>No</td>\n",
       "      <td>Month-to-month</td>\n",
       "      <td>Yes</td>\n",
       "      <td>Credit card (automatic)</td>\n",
       "      <td>39.45</td>\n",
       "      <td>2021.35</td>\n",
       "      <td>No</td>\n",
       "    </tr>\n",
       "  </tbody>\n",
       "</table>\n",
       "</div>"
      ],
      "text/plain": [
       "            gender  SeniorCitizen Partner Dependents  tenure PhoneService  \\\n",
       "customerID                                                                  \n",
       "3733-LSYCE  Female              0     Yes         No      15          Yes   \n",
       "5313-FPXWG    Male              0      No         No      51          Yes   \n",
       "5995-WWKKG  Female              0      No         No      37          Yes   \n",
       "7048-GXDAY    Male              0      No         No      39          Yes   \n",
       "9074-KGVOX    Male              0     Yes        Yes      50           No   \n",
       "\n",
       "               MultipleLines InternetService       OnlineSecurity  \\\n",
       "customerID                                                          \n",
       "3733-LSYCE                No     Fiber optic                   No   \n",
       "5313-FPXWG               Yes              No  No internet service   \n",
       "5995-WWKKG                No              No  No internet service   \n",
       "7048-GXDAY               Yes     Fiber optic                  Yes   \n",
       "9074-KGVOX  No phone service             DSL                  Yes   \n",
       "\n",
       "                   OnlineBackup     DeviceProtection          TechSupport  \\\n",
       "customerID                                                                  \n",
       "3733-LSYCE                  Yes                   No                   No   \n",
       "5313-FPXWG  No internet service  No internet service  No internet service   \n",
       "5995-WWKKG  No internet service  No internet service  No internet service   \n",
       "7048-GXDAY                  Yes                   No                   No   \n",
       "9074-KGVOX                   No                   No                   No   \n",
       "\n",
       "                    StreamingTV      StreamingMovies        Contract  \\\n",
       "customerID                                                             \n",
       "3733-LSYCE                   No                   No  Month-to-month   \n",
       "5313-FPXWG  No internet service  No internet service        One year   \n",
       "5995-WWKKG  No internet service  No internet service        One year   \n",
       "7048-GXDAY                  Yes                  Yes  Month-to-month   \n",
       "9074-KGVOX                  Yes                   No  Month-to-month   \n",
       "\n",
       "           PaperlessBilling              PaymentMethod  MonthlyCharges  \\\n",
       "customerID                                                               \n",
       "3733-LSYCE               No  Bank transfer (automatic)           75.35   \n",
       "5313-FPXWG              Yes  Bank transfer (automatic)           24.60   \n",
       "5995-WWKKG              Yes           Electronic check           19.80   \n",
       "7048-GXDAY              Yes           Electronic check          106.40   \n",
       "9074-KGVOX              Yes    Credit card (automatic)           39.45   \n",
       "\n",
       "           TotalCharges Churn  \n",
       "customerID                     \n",
       "3733-LSYCE      1114.55    No  \n",
       "5313-FPXWG       1266.4    No  \n",
       "5995-WWKKG       695.05    No  \n",
       "7048-GXDAY      4040.65    No  \n",
       "9074-KGVOX      2021.35    No  "
      ]
     },
     "execution_count": 686,
     "metadata": {},
     "output_type": "execute_result"
    }
   ],
   "source": [
    "df=pd.read_csv(path, index_col=0)\n",
    "df.sample(5)"
   ]
  },
  {
   "cell_type": "code",
   "execution_count": 687,
   "metadata": {
    "ExecuteTime": {
     "end_time": "2021-04-13T03:26:46.684480Z",
     "start_time": "2021-04-13T03:26:46.623729Z"
    }
   },
   "outputs": [
    {
     "data": {
      "text/plain": [
       "gender              0\n",
       "SeniorCitizen       0\n",
       "Partner             0\n",
       "Dependents          0\n",
       "tenure              0\n",
       "PhoneService        0\n",
       "MultipleLines       0\n",
       "InternetService     0\n",
       "OnlineSecurity      0\n",
       "OnlineBackup        0\n",
       "DeviceProtection    0\n",
       "TechSupport         0\n",
       "StreamingTV         0\n",
       "StreamingMovies     0\n",
       "Contract            0\n",
       "PaperlessBilling    0\n",
       "PaymentMethod       0\n",
       "MonthlyCharges      0\n",
       "TotalCharges        0\n",
       "Churn               0\n",
       "dtype: int64"
      ]
     },
     "execution_count": 687,
     "metadata": {},
     "output_type": "execute_result"
    }
   ],
   "source": [
    "df.isnull().sum()"
   ]
  },
  {
   "cell_type": "code",
   "execution_count": 688,
   "metadata": {
    "ExecuteTime": {
     "end_time": "2021-04-13T03:26:46.796572Z",
     "start_time": "2021-04-13T03:26:46.687196Z"
    }
   },
   "outputs": [
    {
     "data": {
      "text/plain": [
       "(7043, 20)"
      ]
     },
     "execution_count": 688,
     "metadata": {},
     "output_type": "execute_result"
    }
   ],
   "source": [
    "df.shape"
   ]
  },
  {
   "cell_type": "code",
   "execution_count": 689,
   "metadata": {
    "ExecuteTime": {
     "end_time": "2021-04-13T03:26:46.927882Z",
     "start_time": "2021-04-13T03:26:46.800650Z"
    }
   },
   "outputs": [
    {
     "data": {
      "text/plain": [
       "No     0.73463\n",
       "Yes    0.26537\n",
       "Name: Churn, dtype: float64"
      ]
     },
     "execution_count": 689,
     "metadata": {},
     "output_type": "execute_result"
    }
   ],
   "source": [
    "df.Churn.value_counts(normalize=True)"
   ]
  },
  {
   "cell_type": "code",
   "execution_count": 690,
   "metadata": {
    "ExecuteTime": {
     "end_time": "2021-04-13T03:26:47.111383Z",
     "start_time": "2021-04-13T03:26:46.933818Z"
    }
   },
   "outputs": [
    {
     "name": "stdout",
     "output_type": "stream",
     "text": [
      "<class 'pandas.core.frame.DataFrame'>\n",
      "Index: 7043 entries, 7590-VHVEG to 3186-AJIEK\n",
      "Data columns (total 20 columns):\n",
      " #   Column            Non-Null Count  Dtype  \n",
      "---  ------            --------------  -----  \n",
      " 0   gender            7043 non-null   object \n",
      " 1   SeniorCitizen     7043 non-null   int64  \n",
      " 2   Partner           7043 non-null   object \n",
      " 3   Dependents        7043 non-null   object \n",
      " 4   tenure            7043 non-null   int64  \n",
      " 5   PhoneService      7043 non-null   object \n",
      " 6   MultipleLines     7043 non-null   object \n",
      " 7   InternetService   7043 non-null   object \n",
      " 8   OnlineSecurity    7043 non-null   object \n",
      " 9   OnlineBackup      7043 non-null   object \n",
      " 10  DeviceProtection  7043 non-null   object \n",
      " 11  TechSupport       7043 non-null   object \n",
      " 12  StreamingTV       7043 non-null   object \n",
      " 13  StreamingMovies   7043 non-null   object \n",
      " 14  Contract          7043 non-null   object \n",
      " 15  PaperlessBilling  7043 non-null   object \n",
      " 16  PaymentMethod     7043 non-null   object \n",
      " 17  MonthlyCharges    7043 non-null   float64\n",
      " 18  TotalCharges      7043 non-null   object \n",
      " 19  Churn             7043 non-null   object \n",
      "dtypes: float64(1), int64(2), object(17)\n",
      "memory usage: 1.1+ MB\n"
     ]
    }
   ],
   "source": [
    "df.info()"
   ]
  },
  {
   "cell_type": "code",
   "execution_count": 691,
   "metadata": {
    "ExecuteTime": {
     "end_time": "2021-04-13T03:26:47.226846Z",
     "start_time": "2021-04-13T03:26:47.122048Z"
    }
   },
   "outputs": [],
   "source": [
    "df.TotalCharges=pd.to_numeric(df.TotalCharges, errors='coerce')"
   ]
  },
  {
   "cell_type": "code",
   "execution_count": 692,
   "metadata": {
    "ExecuteTime": {
     "end_time": "2021-04-13T03:26:47.385155Z",
     "start_time": "2021-04-13T03:26:47.233768Z"
    }
   },
   "outputs": [
    {
     "data": {
      "text/plain": [
       "11"
      ]
     },
     "execution_count": 692,
     "metadata": {},
     "output_type": "execute_result"
    }
   ],
   "source": [
    "df.TotalCharges.isnull().sum()"
   ]
  },
  {
   "cell_type": "code",
   "execution_count": 693,
   "metadata": {
    "ExecuteTime": {
     "end_time": "2021-04-13T03:26:47.694604Z",
     "start_time": "2021-04-13T03:26:47.395180Z"
    }
   },
   "outputs": [
    {
     "data": {
      "text/html": [
       "<div>\n",
       "<style scoped>\n",
       "    .dataframe tbody tr th:only-of-type {\n",
       "        vertical-align: middle;\n",
       "    }\n",
       "\n",
       "    .dataframe tbody tr th {\n",
       "        vertical-align: top;\n",
       "    }\n",
       "\n",
       "    .dataframe thead th {\n",
       "        text-align: right;\n",
       "    }\n",
       "</style>\n",
       "<table border=\"1\" class=\"dataframe\">\n",
       "  <thead>\n",
       "    <tr style=\"text-align: right;\">\n",
       "      <th></th>\n",
       "      <th>gender</th>\n",
       "      <th>SeniorCitizen</th>\n",
       "      <th>Partner</th>\n",
       "      <th>Dependents</th>\n",
       "      <th>tenure</th>\n",
       "      <th>PhoneService</th>\n",
       "      <th>MultipleLines</th>\n",
       "      <th>InternetService</th>\n",
       "      <th>OnlineSecurity</th>\n",
       "      <th>OnlineBackup</th>\n",
       "      <th>DeviceProtection</th>\n",
       "      <th>TechSupport</th>\n",
       "      <th>StreamingTV</th>\n",
       "      <th>StreamingMovies</th>\n",
       "      <th>Contract</th>\n",
       "      <th>PaperlessBilling</th>\n",
       "      <th>PaymentMethod</th>\n",
       "      <th>MonthlyCharges</th>\n",
       "      <th>TotalCharges</th>\n",
       "      <th>Churn</th>\n",
       "    </tr>\n",
       "    <tr>\n",
       "      <th>customerID</th>\n",
       "      <th></th>\n",
       "      <th></th>\n",
       "      <th></th>\n",
       "      <th></th>\n",
       "      <th></th>\n",
       "      <th></th>\n",
       "      <th></th>\n",
       "      <th></th>\n",
       "      <th></th>\n",
       "      <th></th>\n",
       "      <th></th>\n",
       "      <th></th>\n",
       "      <th></th>\n",
       "      <th></th>\n",
       "      <th></th>\n",
       "      <th></th>\n",
       "      <th></th>\n",
       "      <th></th>\n",
       "      <th></th>\n",
       "      <th></th>\n",
       "    </tr>\n",
       "  </thead>\n",
       "  <tbody>\n",
       "    <tr>\n",
       "      <th>4472-LVYGI</th>\n",
       "      <td>Female</td>\n",
       "      <td>0</td>\n",
       "      <td>Yes</td>\n",
       "      <td>Yes</td>\n",
       "      <td>0</td>\n",
       "      <td>No</td>\n",
       "      <td>No phone service</td>\n",
       "      <td>DSL</td>\n",
       "      <td>Yes</td>\n",
       "      <td>No</td>\n",
       "      <td>Yes</td>\n",
       "      <td>Yes</td>\n",
       "      <td>Yes</td>\n",
       "      <td>No</td>\n",
       "      <td>Two year</td>\n",
       "      <td>Yes</td>\n",
       "      <td>Bank transfer (automatic)</td>\n",
       "      <td>52.55</td>\n",
       "      <td>NaN</td>\n",
       "      <td>No</td>\n",
       "    </tr>\n",
       "    <tr>\n",
       "      <th>3115-CZMZD</th>\n",
       "      <td>Male</td>\n",
       "      <td>0</td>\n",
       "      <td>No</td>\n",
       "      <td>Yes</td>\n",
       "      <td>0</td>\n",
       "      <td>Yes</td>\n",
       "      <td>No</td>\n",
       "      <td>No</td>\n",
       "      <td>No internet service</td>\n",
       "      <td>No internet service</td>\n",
       "      <td>No internet service</td>\n",
       "      <td>No internet service</td>\n",
       "      <td>No internet service</td>\n",
       "      <td>No internet service</td>\n",
       "      <td>Two year</td>\n",
       "      <td>No</td>\n",
       "      <td>Mailed check</td>\n",
       "      <td>20.25</td>\n",
       "      <td>NaN</td>\n",
       "      <td>No</td>\n",
       "    </tr>\n",
       "    <tr>\n",
       "      <th>5709-LVOEQ</th>\n",
       "      <td>Female</td>\n",
       "      <td>0</td>\n",
       "      <td>Yes</td>\n",
       "      <td>Yes</td>\n",
       "      <td>0</td>\n",
       "      <td>Yes</td>\n",
       "      <td>No</td>\n",
       "      <td>DSL</td>\n",
       "      <td>Yes</td>\n",
       "      <td>Yes</td>\n",
       "      <td>Yes</td>\n",
       "      <td>No</td>\n",
       "      <td>Yes</td>\n",
       "      <td>Yes</td>\n",
       "      <td>Two year</td>\n",
       "      <td>No</td>\n",
       "      <td>Mailed check</td>\n",
       "      <td>80.85</td>\n",
       "      <td>NaN</td>\n",
       "      <td>No</td>\n",
       "    </tr>\n",
       "    <tr>\n",
       "      <th>4367-NUYAO</th>\n",
       "      <td>Male</td>\n",
       "      <td>0</td>\n",
       "      <td>Yes</td>\n",
       "      <td>Yes</td>\n",
       "      <td>0</td>\n",
       "      <td>Yes</td>\n",
       "      <td>Yes</td>\n",
       "      <td>No</td>\n",
       "      <td>No internet service</td>\n",
       "      <td>No internet service</td>\n",
       "      <td>No internet service</td>\n",
       "      <td>No internet service</td>\n",
       "      <td>No internet service</td>\n",
       "      <td>No internet service</td>\n",
       "      <td>Two year</td>\n",
       "      <td>No</td>\n",
       "      <td>Mailed check</td>\n",
       "      <td>25.75</td>\n",
       "      <td>NaN</td>\n",
       "      <td>No</td>\n",
       "    </tr>\n",
       "    <tr>\n",
       "      <th>1371-DWPAZ</th>\n",
       "      <td>Female</td>\n",
       "      <td>0</td>\n",
       "      <td>Yes</td>\n",
       "      <td>Yes</td>\n",
       "      <td>0</td>\n",
       "      <td>No</td>\n",
       "      <td>No phone service</td>\n",
       "      <td>DSL</td>\n",
       "      <td>Yes</td>\n",
       "      <td>Yes</td>\n",
       "      <td>Yes</td>\n",
       "      <td>Yes</td>\n",
       "      <td>Yes</td>\n",
       "      <td>No</td>\n",
       "      <td>Two year</td>\n",
       "      <td>No</td>\n",
       "      <td>Credit card (automatic)</td>\n",
       "      <td>56.05</td>\n",
       "      <td>NaN</td>\n",
       "      <td>No</td>\n",
       "    </tr>\n",
       "    <tr>\n",
       "      <th>7644-OMVMY</th>\n",
       "      <td>Male</td>\n",
       "      <td>0</td>\n",
       "      <td>Yes</td>\n",
       "      <td>Yes</td>\n",
       "      <td>0</td>\n",
       "      <td>Yes</td>\n",
       "      <td>No</td>\n",
       "      <td>No</td>\n",
       "      <td>No internet service</td>\n",
       "      <td>No internet service</td>\n",
       "      <td>No internet service</td>\n",
       "      <td>No internet service</td>\n",
       "      <td>No internet service</td>\n",
       "      <td>No internet service</td>\n",
       "      <td>Two year</td>\n",
       "      <td>No</td>\n",
       "      <td>Mailed check</td>\n",
       "      <td>19.85</td>\n",
       "      <td>NaN</td>\n",
       "      <td>No</td>\n",
       "    </tr>\n",
       "    <tr>\n",
       "      <th>3213-VVOLG</th>\n",
       "      <td>Male</td>\n",
       "      <td>0</td>\n",
       "      <td>Yes</td>\n",
       "      <td>Yes</td>\n",
       "      <td>0</td>\n",
       "      <td>Yes</td>\n",
       "      <td>Yes</td>\n",
       "      <td>No</td>\n",
       "      <td>No internet service</td>\n",
       "      <td>No internet service</td>\n",
       "      <td>No internet service</td>\n",
       "      <td>No internet service</td>\n",
       "      <td>No internet service</td>\n",
       "      <td>No internet service</td>\n",
       "      <td>Two year</td>\n",
       "      <td>No</td>\n",
       "      <td>Mailed check</td>\n",
       "      <td>25.35</td>\n",
       "      <td>NaN</td>\n",
       "      <td>No</td>\n",
       "    </tr>\n",
       "    <tr>\n",
       "      <th>2520-SGTTA</th>\n",
       "      <td>Female</td>\n",
       "      <td>0</td>\n",
       "      <td>Yes</td>\n",
       "      <td>Yes</td>\n",
       "      <td>0</td>\n",
       "      <td>Yes</td>\n",
       "      <td>No</td>\n",
       "      <td>No</td>\n",
       "      <td>No internet service</td>\n",
       "      <td>No internet service</td>\n",
       "      <td>No internet service</td>\n",
       "      <td>No internet service</td>\n",
       "      <td>No internet service</td>\n",
       "      <td>No internet service</td>\n",
       "      <td>Two year</td>\n",
       "      <td>No</td>\n",
       "      <td>Mailed check</td>\n",
       "      <td>20.00</td>\n",
       "      <td>NaN</td>\n",
       "      <td>No</td>\n",
       "    </tr>\n",
       "    <tr>\n",
       "      <th>2923-ARZLG</th>\n",
       "      <td>Male</td>\n",
       "      <td>0</td>\n",
       "      <td>Yes</td>\n",
       "      <td>Yes</td>\n",
       "      <td>0</td>\n",
       "      <td>Yes</td>\n",
       "      <td>No</td>\n",
       "      <td>No</td>\n",
       "      <td>No internet service</td>\n",
       "      <td>No internet service</td>\n",
       "      <td>No internet service</td>\n",
       "      <td>No internet service</td>\n",
       "      <td>No internet service</td>\n",
       "      <td>No internet service</td>\n",
       "      <td>One year</td>\n",
       "      <td>Yes</td>\n",
       "      <td>Mailed check</td>\n",
       "      <td>19.70</td>\n",
       "      <td>NaN</td>\n",
       "      <td>No</td>\n",
       "    </tr>\n",
       "    <tr>\n",
       "      <th>4075-WKNIU</th>\n",
       "      <td>Female</td>\n",
       "      <td>0</td>\n",
       "      <td>Yes</td>\n",
       "      <td>Yes</td>\n",
       "      <td>0</td>\n",
       "      <td>Yes</td>\n",
       "      <td>Yes</td>\n",
       "      <td>DSL</td>\n",
       "      <td>No</td>\n",
       "      <td>Yes</td>\n",
       "      <td>Yes</td>\n",
       "      <td>Yes</td>\n",
       "      <td>Yes</td>\n",
       "      <td>No</td>\n",
       "      <td>Two year</td>\n",
       "      <td>No</td>\n",
       "      <td>Mailed check</td>\n",
       "      <td>73.35</td>\n",
       "      <td>NaN</td>\n",
       "      <td>No</td>\n",
       "    </tr>\n",
       "    <tr>\n",
       "      <th>2775-SEFEE</th>\n",
       "      <td>Male</td>\n",
       "      <td>0</td>\n",
       "      <td>No</td>\n",
       "      <td>Yes</td>\n",
       "      <td>0</td>\n",
       "      <td>Yes</td>\n",
       "      <td>Yes</td>\n",
       "      <td>DSL</td>\n",
       "      <td>Yes</td>\n",
       "      <td>Yes</td>\n",
       "      <td>No</td>\n",
       "      <td>Yes</td>\n",
       "      <td>No</td>\n",
       "      <td>No</td>\n",
       "      <td>Two year</td>\n",
       "      <td>Yes</td>\n",
       "      <td>Bank transfer (automatic)</td>\n",
       "      <td>61.90</td>\n",
       "      <td>NaN</td>\n",
       "      <td>No</td>\n",
       "    </tr>\n",
       "  </tbody>\n",
       "</table>\n",
       "</div>"
      ],
      "text/plain": [
       "            gender  SeniorCitizen Partner Dependents  tenure PhoneService  \\\n",
       "customerID                                                                  \n",
       "4472-LVYGI  Female              0     Yes        Yes       0           No   \n",
       "3115-CZMZD    Male              0      No        Yes       0          Yes   \n",
       "5709-LVOEQ  Female              0     Yes        Yes       0          Yes   \n",
       "4367-NUYAO    Male              0     Yes        Yes       0          Yes   \n",
       "1371-DWPAZ  Female              0     Yes        Yes       0           No   \n",
       "7644-OMVMY    Male              0     Yes        Yes       0          Yes   \n",
       "3213-VVOLG    Male              0     Yes        Yes       0          Yes   \n",
       "2520-SGTTA  Female              0     Yes        Yes       0          Yes   \n",
       "2923-ARZLG    Male              0     Yes        Yes       0          Yes   \n",
       "4075-WKNIU  Female              0     Yes        Yes       0          Yes   \n",
       "2775-SEFEE    Male              0      No        Yes       0          Yes   \n",
       "\n",
       "               MultipleLines InternetService       OnlineSecurity  \\\n",
       "customerID                                                          \n",
       "4472-LVYGI  No phone service             DSL                  Yes   \n",
       "3115-CZMZD                No              No  No internet service   \n",
       "5709-LVOEQ                No             DSL                  Yes   \n",
       "4367-NUYAO               Yes              No  No internet service   \n",
       "1371-DWPAZ  No phone service             DSL                  Yes   \n",
       "7644-OMVMY                No              No  No internet service   \n",
       "3213-VVOLG               Yes              No  No internet service   \n",
       "2520-SGTTA                No              No  No internet service   \n",
       "2923-ARZLG                No              No  No internet service   \n",
       "4075-WKNIU               Yes             DSL                   No   \n",
       "2775-SEFEE               Yes             DSL                  Yes   \n",
       "\n",
       "                   OnlineBackup     DeviceProtection          TechSupport  \\\n",
       "customerID                                                                  \n",
       "4472-LVYGI                   No                  Yes                  Yes   \n",
       "3115-CZMZD  No internet service  No internet service  No internet service   \n",
       "5709-LVOEQ                  Yes                  Yes                   No   \n",
       "4367-NUYAO  No internet service  No internet service  No internet service   \n",
       "1371-DWPAZ                  Yes                  Yes                  Yes   \n",
       "7644-OMVMY  No internet service  No internet service  No internet service   \n",
       "3213-VVOLG  No internet service  No internet service  No internet service   \n",
       "2520-SGTTA  No internet service  No internet service  No internet service   \n",
       "2923-ARZLG  No internet service  No internet service  No internet service   \n",
       "4075-WKNIU                  Yes                  Yes                  Yes   \n",
       "2775-SEFEE                  Yes                   No                  Yes   \n",
       "\n",
       "                    StreamingTV      StreamingMovies  Contract  \\\n",
       "customerID                                                       \n",
       "4472-LVYGI                  Yes                   No  Two year   \n",
       "3115-CZMZD  No internet service  No internet service  Two year   \n",
       "5709-LVOEQ                  Yes                  Yes  Two year   \n",
       "4367-NUYAO  No internet service  No internet service  Two year   \n",
       "1371-DWPAZ                  Yes                   No  Two year   \n",
       "7644-OMVMY  No internet service  No internet service  Two year   \n",
       "3213-VVOLG  No internet service  No internet service  Two year   \n",
       "2520-SGTTA  No internet service  No internet service  Two year   \n",
       "2923-ARZLG  No internet service  No internet service  One year   \n",
       "4075-WKNIU                  Yes                   No  Two year   \n",
       "2775-SEFEE                   No                   No  Two year   \n",
       "\n",
       "           PaperlessBilling              PaymentMethod  MonthlyCharges  \\\n",
       "customerID                                                               \n",
       "4472-LVYGI              Yes  Bank transfer (automatic)           52.55   \n",
       "3115-CZMZD               No               Mailed check           20.25   \n",
       "5709-LVOEQ               No               Mailed check           80.85   \n",
       "4367-NUYAO               No               Mailed check           25.75   \n",
       "1371-DWPAZ               No    Credit card (automatic)           56.05   \n",
       "7644-OMVMY               No               Mailed check           19.85   \n",
       "3213-VVOLG               No               Mailed check           25.35   \n",
       "2520-SGTTA               No               Mailed check           20.00   \n",
       "2923-ARZLG              Yes               Mailed check           19.70   \n",
       "4075-WKNIU               No               Mailed check           73.35   \n",
       "2775-SEFEE              Yes  Bank transfer (automatic)           61.90   \n",
       "\n",
       "            TotalCharges Churn  \n",
       "customerID                      \n",
       "4472-LVYGI           NaN    No  \n",
       "3115-CZMZD           NaN    No  \n",
       "5709-LVOEQ           NaN    No  \n",
       "4367-NUYAO           NaN    No  \n",
       "1371-DWPAZ           NaN    No  \n",
       "7644-OMVMY           NaN    No  \n",
       "3213-VVOLG           NaN    No  \n",
       "2520-SGTTA           NaN    No  \n",
       "2923-ARZLG           NaN    No  \n",
       "4075-WKNIU           NaN    No  \n",
       "2775-SEFEE           NaN    No  "
      ]
     },
     "execution_count": 693,
     "metadata": {},
     "output_type": "execute_result"
    }
   ],
   "source": [
    "df[df.TotalCharges.isnull()]"
   ]
  },
  {
   "cell_type": "markdown",
   "metadata": {},
   "source": [
    "We see tenure is 0.Let's see how many customers have just started availing this service "
   ]
  },
  {
   "cell_type": "code",
   "execution_count": 694,
   "metadata": {
    "ExecuteTime": {
     "end_time": "2021-04-13T03:26:47.737133Z",
     "start_time": "2021-04-13T03:26:47.701672Z"
    }
   },
   "outputs": [
    {
     "data": {
      "text/plain": [
       "11"
      ]
     },
     "execution_count": 694,
     "metadata": {},
     "output_type": "execute_result"
    }
   ],
   "source": [
    "df[df.tenure == 0].gender.count()"
   ]
  },
  {
   "cell_type": "code",
   "execution_count": 695,
   "metadata": {
    "ExecuteTime": {
     "end_time": "2021-04-13T03:26:47.927740Z",
     "start_time": "2021-04-13T03:26:47.745436Z"
    }
   },
   "outputs": [
    {
     "data": {
      "text/html": [
       "<div>\n",
       "<style scoped>\n",
       "    .dataframe tbody tr th:only-of-type {\n",
       "        vertical-align: middle;\n",
       "    }\n",
       "\n",
       "    .dataframe tbody tr th {\n",
       "        vertical-align: top;\n",
       "    }\n",
       "\n",
       "    .dataframe thead th {\n",
       "        text-align: right;\n",
       "    }\n",
       "</style>\n",
       "<table border=\"1\" class=\"dataframe\">\n",
       "  <thead>\n",
       "    <tr style=\"text-align: right;\">\n",
       "      <th></th>\n",
       "      <th>gender</th>\n",
       "      <th>SeniorCitizen</th>\n",
       "      <th>Partner</th>\n",
       "      <th>Dependents</th>\n",
       "      <th>tenure</th>\n",
       "      <th>PhoneService</th>\n",
       "      <th>MultipleLines</th>\n",
       "      <th>InternetService</th>\n",
       "      <th>OnlineSecurity</th>\n",
       "      <th>OnlineBackup</th>\n",
       "      <th>DeviceProtection</th>\n",
       "      <th>TechSupport</th>\n",
       "      <th>StreamingTV</th>\n",
       "      <th>StreamingMovies</th>\n",
       "      <th>Contract</th>\n",
       "      <th>PaperlessBilling</th>\n",
       "      <th>PaymentMethod</th>\n",
       "      <th>MonthlyCharges</th>\n",
       "      <th>TotalCharges</th>\n",
       "      <th>Churn</th>\n",
       "    </tr>\n",
       "    <tr>\n",
       "      <th>customerID</th>\n",
       "      <th></th>\n",
       "      <th></th>\n",
       "      <th></th>\n",
       "      <th></th>\n",
       "      <th></th>\n",
       "      <th></th>\n",
       "      <th></th>\n",
       "      <th></th>\n",
       "      <th></th>\n",
       "      <th></th>\n",
       "      <th></th>\n",
       "      <th></th>\n",
       "      <th></th>\n",
       "      <th></th>\n",
       "      <th></th>\n",
       "      <th></th>\n",
       "      <th></th>\n",
       "      <th></th>\n",
       "      <th></th>\n",
       "      <th></th>\n",
       "    </tr>\n",
       "  </thead>\n",
       "  <tbody>\n",
       "    <tr>\n",
       "      <th>2202-CUYXZ</th>\n",
       "      <td>Male</td>\n",
       "      <td>0</td>\n",
       "      <td>No</td>\n",
       "      <td>No</td>\n",
       "      <td>1</td>\n",
       "      <td>Yes</td>\n",
       "      <td>No</td>\n",
       "      <td>Fiber optic</td>\n",
       "      <td>No</td>\n",
       "      <td>No</td>\n",
       "      <td>Yes</td>\n",
       "      <td>No</td>\n",
       "      <td>Yes</td>\n",
       "      <td>No</td>\n",
       "      <td>Month-to-month</td>\n",
       "      <td>Yes</td>\n",
       "      <td>Electronic check</td>\n",
       "      <td>84.85</td>\n",
       "      <td>84.85</td>\n",
       "      <td>Yes</td>\n",
       "    </tr>\n",
       "    <tr>\n",
       "      <th>2619-WFQWU</th>\n",
       "      <td>Female</td>\n",
       "      <td>0</td>\n",
       "      <td>No</td>\n",
       "      <td>No</td>\n",
       "      <td>1</td>\n",
       "      <td>Yes</td>\n",
       "      <td>No</td>\n",
       "      <td>Fiber optic</td>\n",
       "      <td>No</td>\n",
       "      <td>No</td>\n",
       "      <td>No</td>\n",
       "      <td>No</td>\n",
       "      <td>No</td>\n",
       "      <td>No</td>\n",
       "      <td>Month-to-month</td>\n",
       "      <td>Yes</td>\n",
       "      <td>Mailed check</td>\n",
       "      <td>70.15</td>\n",
       "      <td>70.15</td>\n",
       "      <td>Yes</td>\n",
       "    </tr>\n",
       "    <tr>\n",
       "      <th>7932-WPTDS</th>\n",
       "      <td>Female</td>\n",
       "      <td>1</td>\n",
       "      <td>Yes</td>\n",
       "      <td>No</td>\n",
       "      <td>1</td>\n",
       "      <td>No</td>\n",
       "      <td>No phone service</td>\n",
       "      <td>DSL</td>\n",
       "      <td>No</td>\n",
       "      <td>No</td>\n",
       "      <td>No</td>\n",
       "      <td>No</td>\n",
       "      <td>No</td>\n",
       "      <td>No</td>\n",
       "      <td>Month-to-month</td>\n",
       "      <td>Yes</td>\n",
       "      <td>Electronic check</td>\n",
       "      <td>24.80</td>\n",
       "      <td>24.80</td>\n",
       "      <td>Yes</td>\n",
       "    </tr>\n",
       "  </tbody>\n",
       "</table>\n",
       "</div>"
      ],
      "text/plain": [
       "            gender  SeniorCitizen Partner Dependents  tenure PhoneService  \\\n",
       "customerID                                                                  \n",
       "2202-CUYXZ    Male              0      No         No       1          Yes   \n",
       "2619-WFQWU  Female              0      No         No       1          Yes   \n",
       "7932-WPTDS  Female              1     Yes         No       1           No   \n",
       "\n",
       "               MultipleLines InternetService OnlineSecurity OnlineBackup  \\\n",
       "customerID                                                                 \n",
       "2202-CUYXZ                No     Fiber optic             No           No   \n",
       "2619-WFQWU                No     Fiber optic             No           No   \n",
       "7932-WPTDS  No phone service             DSL             No           No   \n",
       "\n",
       "           DeviceProtection TechSupport StreamingTV StreamingMovies  \\\n",
       "customerID                                                            \n",
       "2202-CUYXZ              Yes          No         Yes              No   \n",
       "2619-WFQWU               No          No          No              No   \n",
       "7932-WPTDS               No          No          No              No   \n",
       "\n",
       "                  Contract PaperlessBilling     PaymentMethod  MonthlyCharges  \\\n",
       "customerID                                                                      \n",
       "2202-CUYXZ  Month-to-month              Yes  Electronic check           84.85   \n",
       "2619-WFQWU  Month-to-month              Yes      Mailed check           70.15   \n",
       "7932-WPTDS  Month-to-month              Yes  Electronic check           24.80   \n",
       "\n",
       "            TotalCharges Churn  \n",
       "customerID                      \n",
       "2202-CUYXZ         84.85   Yes  \n",
       "2619-WFQWU         70.15   Yes  \n",
       "7932-WPTDS         24.80   Yes  "
      ]
     },
     "execution_count": 695,
     "metadata": {},
     "output_type": "execute_result"
    }
   ],
   "source": [
    "df[df.tenure == 1].sample(3)"
   ]
  },
  {
   "cell_type": "markdown",
   "metadata": {},
   "source": [
    "For tenure of 1 month, total charges is same as monthly charges"
   ]
  },
  {
   "cell_type": "markdown",
   "metadata": {},
   "source": [
    "So, for tenure 0 (customers that are just starting), we will update total charges as 0"
   ]
  },
  {
   "cell_type": "code",
   "execution_count": 696,
   "metadata": {
    "ExecuteTime": {
     "end_time": "2021-04-13T03:26:48.043867Z",
     "start_time": "2021-04-13T03:26:47.934119Z"
    }
   },
   "outputs": [],
   "source": [
    "df.TotalCharges.fillna(0, inplace=True)"
   ]
  },
  {
   "cell_type": "code",
   "execution_count": 697,
   "metadata": {
    "ExecuteTime": {
     "end_time": "2021-04-13T03:26:48.222382Z",
     "start_time": "2021-04-13T03:26:48.047356Z"
    }
   },
   "outputs": [
    {
     "data": {
      "text/html": [
       "<div>\n",
       "<style scoped>\n",
       "    .dataframe tbody tr th:only-of-type {\n",
       "        vertical-align: middle;\n",
       "    }\n",
       "\n",
       "    .dataframe tbody tr th {\n",
       "        vertical-align: top;\n",
       "    }\n",
       "\n",
       "    .dataframe thead th {\n",
       "        text-align: right;\n",
       "    }\n",
       "</style>\n",
       "<table border=\"1\" class=\"dataframe\">\n",
       "  <thead>\n",
       "    <tr style=\"text-align: right;\">\n",
       "      <th>Churn</th>\n",
       "      <th>No</th>\n",
       "      <th>Yes</th>\n",
       "    </tr>\n",
       "    <tr>\n",
       "      <th>gender</th>\n",
       "      <th></th>\n",
       "      <th></th>\n",
       "    </tr>\n",
       "  </thead>\n",
       "  <tbody>\n",
       "    <tr>\n",
       "      <th>Female</th>\n",
       "      <td>0.492656</td>\n",
       "      <td>0.502408</td>\n",
       "    </tr>\n",
       "    <tr>\n",
       "      <th>Male</th>\n",
       "      <td>0.507344</td>\n",
       "      <td>0.497592</td>\n",
       "    </tr>\n",
       "  </tbody>\n",
       "</table>\n",
       "</div>"
      ],
      "text/plain": [
       "Churn         No       Yes\n",
       "gender                    \n",
       "Female  0.492656  0.502408\n",
       "Male    0.507344  0.497592"
      ]
     },
     "execution_count": 697,
     "metadata": {},
     "output_type": "execute_result"
    }
   ],
   "source": [
    "ct1=pd.crosstab(df.gender, df.Churn)\n",
    "colsum=ct1.sum()\n",
    "colpct=ct1/colsum\n",
    "colpct"
   ]
  },
  {
   "cell_type": "markdown",
   "metadata": {},
   "source": [
    "The hypothesis being tested for chi-square is\n",
    "\n",
    "Null: Variable A and Variable B are independent.\n",
    "Alternate: Variable A and Variable B are not independent."
   ]
  },
  {
   "cell_type": "code",
   "execution_count": 698,
   "metadata": {
    "ExecuteTime": {
     "end_time": "2021-04-13T03:26:48.402508Z",
     "start_time": "2021-04-13T03:26:48.229920Z"
    }
   },
   "outputs": [
    {
     "data": {
      "text/plain": [
       "(0.4840828822091383,\n",
       " 0.48657873605618596,\n",
       " 1,\n",
       " array([[2562.38989067,  925.61010933],\n",
       "        [2611.61010933,  943.38989067]]))"
      ]
     },
     "execution_count": 698,
     "metadata": {},
     "output_type": "execute_result"
    }
   ],
   "source": [
    "from scipy.stats import chi2_contingency\n",
    "chi2_contingency(ct1)"
   ]
  },
  {
   "cell_type": "markdown",
   "metadata": {
    "ExecuteTime": {
     "end_time": "2021-04-09T15:58:05.682709Z",
     "start_time": "2021-04-09T15:58:05.651469Z"
    }
   },
   "source": [
    "If the p-value(0.47) is greater than the assumed significance value (0.05), then we accept H0 and conclude that gender and churn are independent of each other"
   ]
  },
  {
   "cell_type": "code",
   "execution_count": 699,
   "metadata": {
    "ExecuteTime": {
     "end_time": "2021-04-13T03:26:49.367570Z",
     "start_time": "2021-04-13T03:26:48.441886Z"
    }
   },
   "outputs": [
    {
     "data": {
      "text/plain": [
       "<AxesSubplot:xlabel='gender', ylabel='Churn'>"
      ]
     },
     "execution_count": 699,
     "metadata": {},
     "output_type": "execute_result"
    },
    {
     "data": {
      "image/png": "[encoded data removed]",
      "text/plain": [
       "<Figure size 432x288 with 1 Axes>"
      ]
     },
     "metadata": {
      "needs_background": "light"
     },
     "output_type": "display_data"
    }
   ],
   "source": [
    "#Response variable - numeric\n",
    "#Independent variable - categorical \n",
    "df.Churn.replace(to_replace=['Yes', 'No'], value=[1,0], inplace=True)\n",
    "df.gender=df.gender.astype('category')\n",
    "df.Churn=pd.to_numeric(df.Churn)\n",
    "sns.barplot(df.gender, df.Churn)"
   ]
  },
  {
   "cell_type": "code",
   "execution_count": 700,
   "metadata": {
    "ExecuteTime": {
     "end_time": "2021-04-13T03:26:50.272212Z",
     "start_time": "2021-04-13T03:26:49.374903Z"
    }
   },
   "outputs": [
    {
     "data": {
      "text/plain": [
       "<AxesSubplot:>"
      ]
     },
     "execution_count": 700,
     "metadata": {},
     "output_type": "execute_result"
    },
    {
     "data": {
      "image/png": "[encoded data removed]",
      "text/plain": [
       "<Figure size 432x360 with 2 Axes>"
      ]
     },
     "metadata": {
      "needs_background": "light"
     },
     "output_type": "display_data"
    }
   ],
   "source": [
    "plt.figure(figsize=(6,5))\n",
    "sns.heatmap(df.corr(), cmap=\"plasma_r\")"
   ]
  },
  {
   "cell_type": "code",
   "execution_count": 701,
   "metadata": {
    "ExecuteTime": {
     "end_time": "2021-04-13T03:26:50.381618Z",
     "start_time": "2021-04-13T03:26:50.277668Z"
    }
   },
   "outputs": [],
   "source": [
    "df.gender.replace(to_replace=['Male', 'Female'], value=[1,0], inplace=True)\n",
    "df.Partner.replace(to_replace=['Yes', 'No'], value=[1,0], inplace=True)\n",
    "df.Dependents.replace(to_replace=['Yes', 'No'], value=[1,0], inplace=True)\n",
    "df.PhoneService.replace(to_replace=['Yes', 'No'], value=[1,0], inplace=True)\n",
    "df.MultipleLines.replace(to_replace=['Yes', 'No'], value=[1,0], inplace=True)"
   ]
  },
  {
   "cell_type": "code",
   "execution_count": 702,
   "metadata": {
    "ExecuteTime": {
     "end_time": "2021-04-13T03:26:50.649863Z",
     "start_time": "2021-04-13T03:26:50.388159Z"
    }
   },
   "outputs": [],
   "source": [
    "df.replace(to_replace=['No internet service'], value=[0], inplace=True)\n",
    "df.InternetService.replace(to_replace=['No', 'DSL', 'Fiber optic'], value=[0,1,2], inplace=True)\n",
    "df.OnlineSecurity.replace(to_replace=['No', 'Yes'], value=[0,1], inplace=True)\n",
    "df.OnlineBackup.replace(to_replace=['No','Yes'], value=[0,1], inplace=True)\n",
    "df.DeviceProtection.replace(to_replace=['No','Yes'], value=[0,1], inplace=True)\n",
    "df.TechSupport.replace(to_replace=['No', 'Yes'], value=[0,1], inplace=True)\n",
    "df.StreamingMovies.replace(to_replace=[ 'No', 'Yes'], value=[0,1], inplace=True)\n",
    "df.StreamingTV.replace(to_replace=['No', 'Yes'], value=[0,1], inplace=True)"
   ]
  },
  {
   "cell_type": "markdown",
   "metadata": {
    "ExecuteTime": {
     "end_time": "2021-04-10T11:30:48.771825Z",
     "start_time": "2021-04-10T11:30:48.576596Z"
    }
   },
   "source": [
    "df.InternetService.replace(to_replace=['No', 'DSL', 'Fiber optic'], value=[0,1,2], inplace=True)\n",
    "df.OnlineSecurity.replace(to_replace=['No internet service', 'No', 'Yes'], value=[0,1,2], inplace=True)\n",
    "df.OnlineBackup.replace(to_replace=['No internet service', 'No', 'Yes'], value=[0,1,2], inplace=True)\n",
    "df.DeviceProtection.replace(to_replace=['No internet service', 'No', 'Yes'], value=[0,1,2], inplace=True)\n",
    "df.TechSupport.replace(to_replace=['No internet service', 'No', 'Yes'], value=[0,1,2], inplace=True)\n",
    "df.StreamingMovies.replace(to_replace=['No internet service', 'No', 'Yes'], value=[0,1,2], inplace=True)\n",
    "df.StreamingTV.replace(to_replace=['No internet service', 'No', 'Yes'], value=[0,1,2], inplace=True)"
   ]
  },
  {
   "cell_type": "code",
   "execution_count": 703,
   "metadata": {
    "ExecuteTime": {
     "end_time": "2021-04-13T03:26:50.709737Z",
     "start_time": "2021-04-13T03:26:50.652288Z"
    }
   },
   "outputs": [
    {
     "data": {
      "text/plain": [
       "Month-to-month    3875\n",
       "Two year          1695\n",
       "One year          1473\n",
       "Name: Contract, dtype: int64"
      ]
     },
     "execution_count": 703,
     "metadata": {},
     "output_type": "execute_result"
    }
   ],
   "source": [
    "df.Contract.value_counts()"
   ]
  },
  {
   "cell_type": "code",
   "execution_count": 704,
   "metadata": {
    "ExecuteTime": {
     "end_time": "2021-04-13T03:26:50.798585Z",
     "start_time": "2021-04-13T03:26:50.713821Z"
    }
   },
   "outputs": [],
   "source": [
    "df.Contract.replace(to_replace=[ 'One year', 'Two year', 'Month-to-month'], value=[1,2,3], inplace=True)"
   ]
  },
  {
   "cell_type": "code",
   "execution_count": 705,
   "metadata": {
    "ExecuteTime": {
     "end_time": "2021-04-13T03:26:50.961262Z",
     "start_time": "2021-04-13T03:26:50.804911Z"
    }
   },
   "outputs": [],
   "source": [
    "df.PaperlessBilling.replace(to_replace=['Yes', 'No'], value=[1,0], inplace=True)\n",
    "df.PaymentMethod.replace(to_replace=['Electronic check', 'Mailed check', 'Bank transfer (automatic)', 'Credit card (automatic)'], value=[1,2, 3, 4], inplace=True)"
   ]
  },
  {
   "cell_type": "code",
   "execution_count": 706,
   "metadata": {
    "ExecuteTime": {
     "end_time": "2021-04-13T03:26:51.090310Z",
     "start_time": "2021-04-13T03:26:50.971980Z"
    }
   },
   "outputs": [],
   "source": [
    "df.MultipleLines.replace(to_replace=['No phone service'], value=[0], inplace=True)"
   ]
  },
  {
   "cell_type": "code",
   "execution_count": 707,
   "metadata": {
    "ExecuteTime": {
     "end_time": "2021-04-13T03:26:51.400146Z",
     "start_time": "2021-04-13T03:26:51.099948Z"
    }
   },
   "outputs": [
    {
     "data": {
      "text/html": [
       "<div>\n",
       "<style scoped>\n",
       "    .dataframe tbody tr th:only-of-type {\n",
       "        vertical-align: middle;\n",
       "    }\n",
       "\n",
       "    .dataframe tbody tr th {\n",
       "        vertical-align: top;\n",
       "    }\n",
       "\n",
       "    .dataframe thead th {\n",
       "        text-align: right;\n",
       "    }\n",
       "</style>\n",
       "<table border=\"1\" class=\"dataframe\">\n",
       "  <thead>\n",
       "    <tr style=\"text-align: right;\">\n",
       "      <th></th>\n",
       "      <th>gender</th>\n",
       "      <th>SeniorCitizen</th>\n",
       "      <th>Partner</th>\n",
       "      <th>Dependents</th>\n",
       "      <th>tenure</th>\n",
       "      <th>PhoneService</th>\n",
       "      <th>MultipleLines</th>\n",
       "      <th>InternetService</th>\n",
       "      <th>OnlineSecurity</th>\n",
       "      <th>OnlineBackup</th>\n",
       "      <th>DeviceProtection</th>\n",
       "      <th>TechSupport</th>\n",
       "      <th>StreamingTV</th>\n",
       "      <th>StreamingMovies</th>\n",
       "      <th>Contract</th>\n",
       "      <th>PaperlessBilling</th>\n",
       "      <th>PaymentMethod</th>\n",
       "      <th>MonthlyCharges</th>\n",
       "      <th>TotalCharges</th>\n",
       "      <th>Churn</th>\n",
       "    </tr>\n",
       "    <tr>\n",
       "      <th>customerID</th>\n",
       "      <th></th>\n",
       "      <th></th>\n",
       "      <th></th>\n",
       "      <th></th>\n",
       "      <th></th>\n",
       "      <th></th>\n",
       "      <th></th>\n",
       "      <th></th>\n",
       "      <th></th>\n",
       "      <th></th>\n",
       "      <th></th>\n",
       "      <th></th>\n",
       "      <th></th>\n",
       "      <th></th>\n",
       "      <th></th>\n",
       "      <th></th>\n",
       "      <th></th>\n",
       "      <th></th>\n",
       "      <th></th>\n",
       "      <th></th>\n",
       "    </tr>\n",
       "  </thead>\n",
       "  <tbody>\n",
       "    <tr>\n",
       "      <th>8048-DSDFQ</th>\n",
       "      <td>1</td>\n",
       "      <td>0</td>\n",
       "      <td>0</td>\n",
       "      <td>0</td>\n",
       "      <td>1</td>\n",
       "      <td>1</td>\n",
       "      <td>0</td>\n",
       "      <td>0</td>\n",
       "      <td>0</td>\n",
       "      <td>0</td>\n",
       "      <td>0</td>\n",
       "      <td>0</td>\n",
       "      <td>0</td>\n",
       "      <td>0</td>\n",
       "      <td>3</td>\n",
       "      <td>0</td>\n",
       "      <td>2</td>\n",
       "      <td>20.2</td>\n",
       "      <td>20.20</td>\n",
       "      <td>0</td>\n",
       "    </tr>\n",
       "    <tr>\n",
       "      <th>0306-JAELE</th>\n",
       "      <td>1</td>\n",
       "      <td>0</td>\n",
       "      <td>0</td>\n",
       "      <td>0</td>\n",
       "      <td>5</td>\n",
       "      <td>1</td>\n",
       "      <td>0</td>\n",
       "      <td>2</td>\n",
       "      <td>0</td>\n",
       "      <td>0</td>\n",
       "      <td>0</td>\n",
       "      <td>1</td>\n",
       "      <td>1</td>\n",
       "      <td>1</td>\n",
       "      <td>3</td>\n",
       "      <td>1</td>\n",
       "      <td>1</td>\n",
       "      <td>96.1</td>\n",
       "      <td>453.40</td>\n",
       "      <td>1</td>\n",
       "    </tr>\n",
       "    <tr>\n",
       "      <th>4104-PVRPS</th>\n",
       "      <td>1</td>\n",
       "      <td>0</td>\n",
       "      <td>1</td>\n",
       "      <td>0</td>\n",
       "      <td>24</td>\n",
       "      <td>1</td>\n",
       "      <td>0</td>\n",
       "      <td>1</td>\n",
       "      <td>1</td>\n",
       "      <td>0</td>\n",
       "      <td>0</td>\n",
       "      <td>1</td>\n",
       "      <td>0</td>\n",
       "      <td>0</td>\n",
       "      <td>3</td>\n",
       "      <td>0</td>\n",
       "      <td>2</td>\n",
       "      <td>53.6</td>\n",
       "      <td>1315.35</td>\n",
       "      <td>0</td>\n",
       "    </tr>\n",
       "  </tbody>\n",
       "</table>\n",
       "</div>"
      ],
      "text/plain": [
       "            gender  SeniorCitizen  Partner  Dependents  tenure  PhoneService  \\\n",
       "customerID                                                                     \n",
       "8048-DSDFQ       1              0        0           0       1             1   \n",
       "0306-JAELE       1              0        0           0       5             1   \n",
       "4104-PVRPS       1              0        1           0      24             1   \n",
       "\n",
       "            MultipleLines  InternetService  OnlineSecurity  OnlineBackup  \\\n",
       "customerID                                                                 \n",
       "8048-DSDFQ              0                0               0             0   \n",
       "0306-JAELE              0                2               0             0   \n",
       "4104-PVRPS              0                1               1             0   \n",
       "\n",
       "            DeviceProtection  TechSupport  StreamingTV  StreamingMovies  \\\n",
       "customerID                                                                \n",
       "8048-DSDFQ                 0            0            0                0   \n",
       "0306-JAELE                 0            1            1                1   \n",
       "4104-PVRPS                 0            1            0                0   \n",
       "\n",
       "            Contract  PaperlessBilling  PaymentMethod  MonthlyCharges  \\\n",
       "customerID                                                              \n",
       "8048-DSDFQ         3                 0              2            20.2   \n",
       "0306-JAELE         3                 1              1            96.1   \n",
       "4104-PVRPS         3                 0              2            53.6   \n",
       "\n",
       "            TotalCharges  Churn  \n",
       "customerID                       \n",
       "8048-DSDFQ         20.20      0  \n",
       "0306-JAELE        453.40      1  \n",
       "4104-PVRPS       1315.35      0  "
      ]
     },
     "execution_count": 707,
     "metadata": {},
     "output_type": "execute_result"
    }
   ],
   "source": [
    "df.sample(3)"
   ]
  },
  {
   "cell_type": "code",
   "execution_count": 708,
   "metadata": {
    "ExecuteTime": {
     "end_time": "2021-04-13T03:26:52.187894Z",
     "start_time": "2021-04-13T03:26:51.413910Z"
    }
   },
   "outputs": [
    {
     "data": {
      "text/plain": [
       "<AxesSubplot:xlabel='Churn', ylabel='MonthlyCharges'>"
      ]
     },
     "execution_count": 708,
     "metadata": {},
     "output_type": "execute_result"
    },
    {
     "data": {
      "image/png": "[encoded data removed]",
      "text/plain": [
       "<Figure size 432x288 with 1 Axes>"
      ]
     },
     "metadata": {
      "needs_background": "light"
     },
     "output_type": "display_data"
    }
   ],
   "source": [
    "sns.boxplot(df.Churn, df.MonthlyCharges)"
   ]
  },
  {
   "cell_type": "code",
   "execution_count": 709,
   "metadata": {
    "ExecuteTime": {
     "end_time": "2021-04-13T03:26:52.667545Z",
     "start_time": "2021-04-13T03:26:52.191729Z"
    }
   },
   "outputs": [
    {
     "data": {
      "text/plain": [
       "<AxesSubplot:xlabel='Churn', ylabel='TotalCharges'>"
      ]
     },
     "execution_count": 709,
     "metadata": {},
     "output_type": "execute_result"
    },
    {
     "data": {
      "image/png": "[encoded data removed]",
      "text/plain": [
       "<Figure size 432x288 with 1 Axes>"
      ]
     },
     "metadata": {
      "needs_background": "light"
     },
     "output_type": "display_data"
    }
   ],
   "source": [
    "sns.boxplot(df.Churn, df.TotalCharges)"
   ]
  },
  {
   "cell_type": "code",
   "execution_count": 710,
   "metadata": {
    "ExecuteTime": {
     "end_time": "2021-04-13T03:26:52.774639Z",
     "start_time": "2021-04-13T03:26:52.690363Z"
    }
   },
   "outputs": [
    {
     "data": {
      "text/html": [
       "<div>\n",
       "<style scoped>\n",
       "    .dataframe tbody tr th:only-of-type {\n",
       "        vertical-align: middle;\n",
       "    }\n",
       "\n",
       "    .dataframe tbody tr th {\n",
       "        vertical-align: top;\n",
       "    }\n",
       "\n",
       "    .dataframe thead th {\n",
       "        text-align: right;\n",
       "    }\n",
       "</style>\n",
       "<table border=\"1\" class=\"dataframe\">\n",
       "  <thead>\n",
       "    <tr style=\"text-align: right;\">\n",
       "      <th></th>\n",
       "      <th>TotalCharges</th>\n",
       "      <th>MonthlyCharges</th>\n",
       "      <th>tenure</th>\n",
       "    </tr>\n",
       "  </thead>\n",
       "  <tbody>\n",
       "    <tr>\n",
       "      <th>TotalCharges</th>\n",
       "      <td>1.000000</td>\n",
       "      <td>0.651174</td>\n",
       "      <td>0.826178</td>\n",
       "    </tr>\n",
       "    <tr>\n",
       "      <th>MonthlyCharges</th>\n",
       "      <td>0.651174</td>\n",
       "      <td>1.000000</td>\n",
       "      <td>0.247900</td>\n",
       "    </tr>\n",
       "    <tr>\n",
       "      <th>tenure</th>\n",
       "      <td>0.826178</td>\n",
       "      <td>0.247900</td>\n",
       "      <td>1.000000</td>\n",
       "    </tr>\n",
       "  </tbody>\n",
       "</table>\n",
       "</div>"
      ],
      "text/plain": [
       "                TotalCharges  MonthlyCharges    tenure\n",
       "TotalCharges        1.000000        0.651174  0.826178\n",
       "MonthlyCharges      0.651174        1.000000  0.247900\n",
       "tenure              0.826178        0.247900  1.000000"
      ]
     },
     "execution_count": 710,
     "metadata": {},
     "output_type": "execute_result"
    }
   ],
   "source": [
    "#identify co-relation b/w tenure, monthly and total charges\n",
    "df[['TotalCharges', 'MonthlyCharges', 'tenure']].corr()"
   ]
  },
  {
   "cell_type": "markdown",
   "metadata": {},
   "source": [
    "These 3 are positively co-related and hence we should eliminate TotalCharge as feature(redundant)"
   ]
  },
  {
   "cell_type": "code",
   "execution_count": 711,
   "metadata": {
    "ExecuteTime": {
     "end_time": "2021-04-13T03:26:53.345800Z",
     "start_time": "2021-04-13T03:26:52.779556Z"
    }
   },
   "outputs": [
    {
     "data": {
      "text/plain": [
       "<AxesSubplot:xlabel='Churn', ylabel='tenure'>"
      ]
     },
     "execution_count": 711,
     "metadata": {},
     "output_type": "execute_result"
    },
    {
     "data": {
      "image/png": "[encoded data removed]",
      "text/plain": [
       "<Figure size 432x288 with 1 Axes>"
      ]
     },
     "metadata": {
      "needs_background": "light"
     },
     "output_type": "display_data"
    }
   ],
   "source": [
    "sns.boxplot(df.Churn, df.tenure)"
   ]
  },
  {
   "cell_type": "markdown",
   "metadata": {},
   "source": [
    "Customers who have churned have a median tenure of less than a year"
   ]
  },
  {
   "cell_type": "code",
   "execution_count": 712,
   "metadata": {
    "ExecuteTime": {
     "end_time": "2021-04-13T03:26:53.983618Z",
     "start_time": "2021-04-13T03:26:53.350679Z"
    }
   },
   "outputs": [
    {
     "data": {
      "text/plain": [
       "<AxesSubplot:xlabel='SeniorCitizen'>"
      ]
     },
     "execution_count": 712,
     "metadata": {},
     "output_type": "execute_result"
    },
    {
     "data": {
      "image/png": "[encoded data removed]",
      "text/plain": [
       "<Figure size 432x288 with 1 Axes>"
      ]
     },
     "metadata": {
      "needs_background": "light"
     },
     "output_type": "display_data"
    }
   ],
   "source": [
    "pd.crosstab(df.SeniorCitizen, df.Churn).plot(kind=\"bar\")"
   ]
  },
  {
   "cell_type": "markdown",
   "metadata": {},
   "source": [
    "% of churning in senior citizens is more"
   ]
  },
  {
   "cell_type": "code",
   "execution_count": 713,
   "metadata": {
    "ExecuteTime": {
     "end_time": "2021-04-13T03:26:54.597645Z",
     "start_time": "2021-04-13T03:26:53.988879Z"
    }
   },
   "outputs": [
    {
     "data": {
      "text/plain": [
       "<AxesSubplot:xlabel='InternetService'>"
      ]
     },
     "execution_count": 713,
     "metadata": {},
     "output_type": "execute_result"
    },
    {
     "data": {
      "image/png": "[encoded data removed]",
      "text/plain": [
       "<Figure size 432x288 with 1 Axes>"
      ]
     },
     "metadata": {
      "needs_background": "light"
     },
     "output_type": "display_data"
    }
   ],
   "source": [
    "pd.crosstab(df.InternetService, df.Churn).plot(kind=\"bar\")"
   ]
  },
  {
   "cell_type": "markdown",
   "metadata": {},
   "source": [
    "Many fiber optic customers have churned"
   ]
  },
  {
   "cell_type": "code",
   "execution_count": 714,
   "metadata": {
    "ExecuteTime": {
     "end_time": "2021-04-13T03:26:55.126770Z",
     "start_time": "2021-04-13T03:26:54.602435Z"
    }
   },
   "outputs": [
    {
     "data": {
      "text/plain": [
       "<AxesSubplot:xlabel='Partner'>"
      ]
     },
     "execution_count": 714,
     "metadata": {},
     "output_type": "execute_result"
    },
    {
     "data": {
      "image/png": "[encoded data removed]",
      "text/plain": [
       "<Figure size 432x288 with 1 Axes>"
      ]
     },
     "metadata": {
      "needs_background": "light"
     },
     "output_type": "display_data"
    }
   ],
   "source": [
    "pd.crosstab(df.Partner, df.Churn, normalize=True).plot(kind=\"bar\")"
   ]
  },
  {
   "cell_type": "markdown",
   "metadata": {},
   "source": [
    "Churning is lower in customers who have got married"
   ]
  },
  {
   "cell_type": "code",
   "execution_count": 715,
   "metadata": {
    "ExecuteTime": {
     "end_time": "2021-04-13T03:26:55.936244Z",
     "start_time": "2021-04-13T03:26:55.137653Z"
    }
   },
   "outputs": [
    {
     "data": {
      "text/plain": [
       "<AxesSubplot:xlabel='Contract'>"
      ]
     },
     "execution_count": 715,
     "metadata": {},
     "output_type": "execute_result"
    },
    {
     "data": {
      "image/png": "[encoded data removed]",
      "text/plain": [
       "<Figure size 432x288 with 1 Axes>"
      ]
     },
     "metadata": {
      "needs_background": "light"
     },
     "output_type": "display_data"
    }
   ],
   "source": [
    "pd.crosstab(df.Contract, df.Churn).plot(kind=\"bar\")"
   ]
  },
  {
   "cell_type": "markdown",
   "metadata": {},
   "source": [
    "Customers with month-wise contract tend to churn more"
   ]
  },
  {
   "cell_type": "code",
   "execution_count": 716,
   "metadata": {
    "ExecuteTime": {
     "end_time": "2021-04-13T03:26:55.961350Z",
     "start_time": "2021-04-13T03:26:55.939949Z"
    }
   },
   "outputs": [
    {
     "data": {
      "text/plain": [
       "Index(['gender', 'SeniorCitizen', 'Partner', 'Dependents', 'tenure',\n",
       "       'PhoneService', 'MultipleLines', 'InternetService', 'OnlineSecurity',\n",
       "       'OnlineBackup', 'DeviceProtection', 'TechSupport', 'StreamingTV',\n",
       "       'StreamingMovies', 'Contract', 'PaperlessBilling', 'PaymentMethod',\n",
       "       'MonthlyCharges', 'TotalCharges', 'Churn'],\n",
       "      dtype='object')"
      ]
     },
     "execution_count": 716,
     "metadata": {},
     "output_type": "execute_result"
    }
   ],
   "source": [
    "df.columns"
   ]
  },
  {
   "cell_type": "markdown",
   "metadata": {},
   "source": [
    "H0=Churn and PaperlessBilling are independent<br>\n",
    "H1=Churn and PaperlessBilling are dependent"
   ]
  },
  {
   "cell_type": "code",
   "execution_count": 717,
   "metadata": {
    "ExecuteTime": {
     "end_time": "2021-04-13T03:26:56.085326Z",
     "start_time": "2021-04-13T03:26:55.968093Z"
    }
   },
   "outputs": [
    {
     "data": {
      "text/plain": [
       "(258.27764906707307,\n",
       " 4.073354668665985e-58,\n",
       " 1,\n",
       " array([[2109.85773108, 3064.14226892],\n",
       "        [ 762.14226892, 1106.85773108]]))"
      ]
     },
     "execution_count": 717,
     "metadata": {},
     "output_type": "execute_result"
    }
   ],
   "source": [
    "from scipy.stats import chi2_contingency\n",
    "chi2_contingency(pd.crosstab(df.Churn, df.PaperlessBilling))"
   ]
  },
  {
   "cell_type": "markdown",
   "metadata": {},
   "source": [
    "p is less than 0.05 , so we reject H0 and conclude Churn and Billing are co-related"
   ]
  },
  {
   "cell_type": "code",
   "execution_count": 718,
   "metadata": {
    "ExecuteTime": {
     "end_time": "2021-04-13T03:26:56.253630Z",
     "start_time": "2021-04-13T03:26:56.089897Z"
    }
   },
   "outputs": [
    {
     "data": {
      "text/plain": [
       "(0.9150329892546948,\n",
       " 0.3387825358066928,\n",
       " 1,\n",
       " array([[ 501.01774812, 4672.98225188],\n",
       "        [ 180.98225188, 1688.01774812]]))"
      ]
     },
     "execution_count": 718,
     "metadata": {},
     "output_type": "execute_result"
    }
   ],
   "source": [
    "chi2_contingency(pd.crosstab(df.Churn, df.PhoneService))"
   ]
  },
  {
   "cell_type": "code",
   "execution_count": 719,
   "metadata": {
    "ExecuteTime": {
     "end_time": "2021-04-13T03:26:56.741972Z",
     "start_time": "2021-04-13T03:26:56.259043Z"
    }
   },
   "outputs": [
    {
     "data": {
      "text/plain": [
       "<AxesSubplot:xlabel='PhoneService'>"
      ]
     },
     "execution_count": 719,
     "metadata": {},
     "output_type": "execute_result"
    },
    {
     "data": {
      "image/png": "[encoded data removed]",
      "text/plain": [
       "<Figure size 432x288 with 1 Axes>"
      ]
     },
     "metadata": {
      "needs_background": "light"
     },
     "output_type": "display_data"
    }
   ],
   "source": [
    "pd.crosstab(df.PhoneService, df.Churn).plot(kind=\"bar\")"
   ]
  },
  {
   "cell_type": "markdown",
   "metadata": {},
   "source": [
    "p is greater than 0.05 , so we accept H0 and conclude Churn and PhoneService are not related"
   ]
  },
  {
   "cell_type": "code",
   "execution_count": 720,
   "metadata": {
    "ExecuteTime": {
     "end_time": "2021-04-13T03:26:56.853574Z",
     "start_time": "2021-04-13T03:26:56.749026Z"
    }
   },
   "outputs": [
    {
     "data": {
      "text/plain": [
       "InternetService\n",
       "0     113\n",
       "1     459\n",
       "2    1297\n",
       "Name: Churn, dtype: int64"
      ]
     },
     "execution_count": 720,
     "metadata": {},
     "output_type": "execute_result"
    }
   ],
   "source": [
    "df.groupby('InternetService').Churn.sum()"
   ]
  },
  {
   "cell_type": "code",
   "execution_count": 721,
   "metadata": {
    "ExecuteTime": {
     "end_time": "2021-04-13T03:26:56.912285Z",
     "start_time": "2021-04-13T03:26:56.861843Z"
    }
   },
   "outputs": [
    {
     "data": {
      "text/plain": [
       "StreamingMovies\n",
       "0    1051\n",
       "1     818\n",
       "Name: Churn, dtype: int64"
      ]
     },
     "execution_count": 721,
     "metadata": {},
     "output_type": "execute_result"
    }
   ],
   "source": [
    "df.groupby('StreamingMovies').Churn.sum()"
   ]
  },
  {
   "cell_type": "code",
   "execution_count": 722,
   "metadata": {
    "ExecuteTime": {
     "end_time": "2021-04-13T03:26:57.062846Z",
     "start_time": "2021-04-13T03:26:56.921282Z"
    }
   },
   "outputs": [],
   "source": [
    "y=df.Churn.values\n",
    "#X=df[['gender', 'SeniorCitizen', 'Partner', 'Dependents', 'tenure', 'PhoneService', 'MultipleLines', 'InternetService', 'OnlineSecurity', 'OnlineBackup', 'DeviceProtection', 'TechSupport', 'StreamingTV', 'StreamingMovies', 'Contract', 'PaperlessBilling','PaymentMethod', 'MonthlyCharges', 'TotalCharges']]\n",
    "X=df[['InternetService', 'Contract','SeniorCitizen', 'Partner', 'Dependents', 'tenure', 'MultipleLines',  'OnlineSecurity', 'OnlineBackup', 'DeviceProtection', 'TechSupport', 'StreamingTV', 'StreamingMovies', 'PaperlessBilling','PaymentMethod', 'MonthlyCharges', 'TotalCharges']]"
   ]
  },
  {
   "cell_type": "code",
   "execution_count": 723,
   "metadata": {
    "ExecuteTime": {
     "end_time": "2021-04-13T03:26:57.332409Z",
     "start_time": "2021-04-13T03:26:57.070620Z"
    }
   },
   "outputs": [],
   "source": [
    "#Numeric attributes\n",
    "#scalar_att=['MonthlyCharges', 'TotalCharges', 'tenure']\n",
    "X_train, X_test, y_train, y_test=train_test_split(X,y,random_state=42)\n",
    "#X_train[scalar_att][0:5]"
   ]
  },
  {
   "cell_type": "code",
   "execution_count": 724,
   "metadata": {
    "ExecuteTime": {
     "end_time": "2021-04-13T03:26:57.373573Z",
     "start_time": "2021-04-13T03:26:57.342222Z"
    }
   },
   "outputs": [],
   "source": [
    "sc=StandardScaler()\n",
    "#X_train[scalar_att]=sc.fit_transform(X_train[scalar_att])\n",
    "#X_test[scalar_att]=sc.transform(X_test[scalar_att])"
   ]
  },
  {
   "cell_type": "markdown",
   "metadata": {},
   "source": [
    "Classification "
   ]
  },
  {
   "cell_type": "code",
   "execution_count": 725,
   "metadata": {
    "ExecuteTime": {
     "end_time": "2021-04-13T03:26:59.200130Z",
     "start_time": "2021-04-13T03:26:57.383529Z"
    }
   },
   "outputs": [
    {
     "name": "stdout",
     "output_type": "stream",
     "text": [
      "0.7751277683134583\n",
      "0.7855731464765812\n"
     ]
    },
    {
     "data": {
      "text/plain": [
       "<AxesSubplot:>"
      ]
     },
     "execution_count": 725,
     "metadata": {},
     "output_type": "execute_result"
    },
    {
     "data": {
      "image/png": "[encoded data removed]",
      "text/plain": [
       "<Figure size 432x288 with 2 Axes>"
      ]
     },
     "metadata": {
      "needs_background": "light"
     },
     "output_type": "display_data"
    }
   ],
   "source": [
    "lr=LogisticRegression(solver='newton-cg', class_weight=\"balanced\")\n",
    "lr.fit(X_train,y_train)\n",
    "ypred=lr.predict(X_test)\n",
    "print(accuracy_score(y_test, ypred))\n",
    "print(f1_score(y_test, ypred, average=\"weighted\"))\n",
    "cf_matrix=confusion_matrix(y_test, ypred)\n",
    "sns.heatmap(cf_matrix/np.sum(cf_matrix), cmap='terrain_r',fmt='.2%', annot=True)"
   ]
  },
  {
   "cell_type": "code",
   "execution_count": 726,
   "metadata": {
    "ExecuteTime": {
     "end_time": "2021-04-13T03:26:59.415382Z",
     "start_time": "2021-04-13T03:26:59.202406Z"
    }
   },
   "outputs": [
    {
     "name": "stdout",
     "output_type": "stream",
     "text": [
      "0.7461669505962522\n",
      "0.7954070981210856\n"
     ]
    },
    {
     "data": {
      "text/plain": [
       "0.7587434285181743"
      ]
     },
     "execution_count": 726,
     "metadata": {},
     "output_type": "execute_result"
    }
   ],
   "source": [
    "dt=DecisionTreeClassifier(criterion=\"gini\", max_depth=4,  class_weight=\"balanced\")\n",
    "dt.fit(X_train,y_train)\n",
    "ypred=dt.predict(X_test)\n",
    "print(accuracy_score(y_test, ypred))\n",
    "print(recall_score(y_test, ypred))\n",
    "f1_score(y_test, ypred, average=\"weighted\")"
   ]
  },
  {
   "cell_type": "code",
   "execution_count": 727,
   "metadata": {
    "ExecuteTime": {
     "end_time": "2021-04-13T03:27:13.759525Z",
     "start_time": "2021-04-13T03:26:59.423710Z"
    }
   },
   "outputs": [
    {
     "name": "stdout",
     "output_type": "stream",
     "text": [
      "0.3781942078364566\n",
      "0.9478079331941545\n",
      "0.3265112100223684\n"
     ]
    },
    {
     "data": {
      "text/plain": [
       "<AxesSubplot:>"
      ]
     },
     "execution_count": 727,
     "metadata": {},
     "output_type": "execute_result"
    },
    {
     "data": {
      "image/png": "[encoded data removed]",
      "text/plain": [
       "<Figure size 432x288 with 2 Axes>"
      ]
     },
     "metadata": {
      "needs_background": "light"
     },
     "output_type": "display_data"
    }
   ],
   "source": [
    "from sklearn import svm\n",
    "svm_model=svm.SVC(kernel=\"poly\", class_weight=\"balanced\", degree=6)\n",
    "svm_model.fit(X_train,y_train)\n",
    "ypred=svm_model.predict(X_test)\n",
    "print(accuracy_score(y_test, ypred))\n",
    "print(recall_score(y_test, ypred))\n",
    "print(f1_score(y_test, ypred, average=\"weighted\"))\n",
    "cf_matrix=confusion_matrix(y_test, ypred)\n",
    "sns.heatmap(cf_matrix/np.sum(cf_matrix), cmap='terrain_r',fmt='.2%', annot=True)"
   ]
  },
  {
   "cell_type": "code",
   "execution_count": 728,
   "metadata": {
    "ExecuteTime": {
     "end_time": "2021-04-13T03:27:35.620995Z",
     "start_time": "2021-04-13T03:27:13.765223Z"
    }
   },
   "outputs": [
    {
     "name": "stdout",
     "output_type": "stream",
     "text": [
      "0.7512776831345827\n",
      "0.7642553681971955\n",
      "0.8413361169102297\n"
     ]
    },
    {
     "data": {
      "text/plain": [
       "<AxesSubplot:>"
      ]
     },
     "execution_count": 728,
     "metadata": {},
     "output_type": "execute_result"
    },
    {
     "data": {
      "image/png": "[encoded data removed]",
      "text/plain": [
       "<Figure size 432x288 with 2 Axes>"
      ]
     },
     "metadata": {
      "needs_background": "light"
     },
     "output_type": "display_data"
    }
   ],
   "source": [
    "rt=RandomForestClassifier(max_depth=4, n_estimators=1900, class_weight=\"balanced\")\n",
    "rt.fit(X_train,y_train)\n",
    "ypred=rt.predict(X_test)\n",
    "print(accuracy_score(y_test, ypred))\n",
    "print(f1_score(y_test, ypred, average=\"weighted\"))\n",
    "print(recall_score(y_test, ypred))\n",
    "cf_matrix=confusion_matrix(y_test, ypred)\n",
    "sns.heatmap(cf_matrix/np.sum(cf_matrix), cmap='terrain_r',fmt='.2%', annot=True)"
   ]
  },
  {
   "cell_type": "code",
   "execution_count": 729,
   "metadata": {
    "ExecuteTime": {
     "end_time": "2021-04-13T03:31:04.674574Z",
     "start_time": "2021-04-13T03:27:35.624970Z"
    }
   },
   "outputs": [
    {
     "name": "stdout",
     "output_type": "stream",
     "text": [
      "0.7597955706984668\n",
      "0.771975470980583\n",
      "0.8350730688935282\n"
     ]
    },
    {
     "data": {
      "text/plain": [
       "<AxesSubplot:>"
      ]
     },
     "execution_count": 729,
     "metadata": {},
     "output_type": "execute_result"
    },
    {
     "data": {
      "image/png": "[encoded data removed]",
      "text/plain": [
       "<Figure size 432x288 with 2 Axes>"
      ]
     },
     "metadata": {
      "needs_background": "light"
     },
     "output_type": "display_data"
    }
   ],
   "source": [
    "cat_model=cb.CatBoostClassifier(max_depth=4, n_estimators=2500, scale_pos_weight=2.9, cat_features=['InternetService', 'Contract','SeniorCitizen', 'Partner', 'Dependents', 'MultipleLines',  'OnlineSecurity', 'OnlineBackup', 'DeviceProtection', 'TechSupport', 'StreamingTV', 'StreamingMovies', 'PaperlessBilling','PaymentMethod'])\n",
    "cat_model.fit(X_train,y_train, verbose=False)\n",
    "ypred=cat_model.predict(X_test)\n",
    "print(accuracy_score(y_test, ypred))\n",
    "print(f1_score(y_test, ypred, average=\"weighted\"))\n",
    "print(recall_score(y_test, ypred))\n",
    "cf_matrix=confusion_matrix(y_test, ypred)\n",
    "sns.heatmap(cf_matrix/np.sum(cf_matrix), cmap='terrain_r',fmt='.2%', annot=True)"
   ]
  },
  {
   "cell_type": "markdown",
   "metadata": {
    "ExecuteTime": {
     "end_time": "2021-04-11T08:28:09.583649Z",
     "start_time": "2021-04-11T08:28:09.570649Z"
    }
   },
   "source": [
    "Feature Engineering"
   ]
  },
  {
   "cell_type": "markdown",
   "metadata": {
    "ExecuteTime": {
     "end_time": "2021-04-11T09:36:59.015696Z",
     "start_time": "2021-04-11T09:36:58.989191Z"
    }
   },
   "source": [
    "Binning 'tenure' into baskets"
   ]
  },
  {
   "cell_type": "code",
   "execution_count": 730,
   "metadata": {
    "ExecuteTime": {
     "end_time": "2021-04-13T03:31:05.657241Z",
     "start_time": "2021-04-13T03:31:04.685540Z"
    }
   },
   "outputs": [
    {
     "data": {
      "text/plain": [
       "<AxesSubplot:xlabel='Churn', ylabel='tenure'>"
      ]
     },
     "execution_count": 730,
     "metadata": {},
     "output_type": "execute_result"
    },
    {
     "data": {
      "image/png": "[encoded data removed]",
      "text/plain": [
       "<Figure size 432x288 with 1 Axes>"
      ]
     },
     "metadata": {
      "needs_background": "light"
     },
     "output_type": "display_data"
    }
   ],
   "source": [
    "sns.boxplot(df.Churn, df.tenure)"
   ]
  },
  {
   "cell_type": "code",
   "execution_count": 731,
   "metadata": {
    "ExecuteTime": {
     "end_time": "2021-04-13T03:31:05.824763Z",
     "start_time": "2021-04-13T03:31:05.661928Z"
    }
   },
   "outputs": [
    {
     "data": {
      "text/plain": [
       "0.13051146384479717"
      ]
     },
     "execution_count": 731,
     "metadata": {},
     "output_type": "execute_result"
    }
   ],
   "source": [
    "df[df.tenure >30 ].Churn.sum()/df[df.tenure >30].Churn.count()"
   ]
  },
  {
   "cell_type": "markdown",
   "metadata": {},
   "source": [
    "More than 30 mths and around 13% of them churn."
   ]
  },
  {
   "cell_type": "code",
   "execution_count": 732,
   "metadata": {
    "ExecuteTime": {
     "end_time": "2021-04-13T03:31:06.189854Z",
     "start_time": "2021-04-13T03:31:05.835174Z"
    }
   },
   "outputs": [
    {
     "data": {
      "text/plain": [
       "0.4828419526341228"
      ]
     },
     "execution_count": 732,
     "metadata": {},
     "output_type": "execute_result"
    }
   ],
   "source": [
    "df[df.tenure < 12].Churn.sum()/df[df.tenure < 12].Churn.count()"
   ]
  },
  {
   "cell_type": "markdown",
   "metadata": {},
   "source": [
    "Less than a yr,  % of churn around 50%"
   ]
  },
  {
   "cell_type": "code",
   "execution_count": 733,
   "metadata": {
    "ExecuteTime": {
     "end_time": "2021-04-13T03:31:06.561296Z",
     "start_time": "2021-04-13T03:31:06.197992Z"
    }
   },
   "outputs": [
    {
     "data": {
      "text/plain": [
       "0.2733333333333333"
      ]
     },
     "execution_count": 733,
     "metadata": {},
     "output_type": "execute_result"
    }
   ],
   "source": [
    "df[(df.tenure >=12) & (df.tenure <=29)].Churn.sum()/df[(df.tenure >=12) & (df.tenure <=29)].Churn.count()"
   ]
  },
  {
   "cell_type": "markdown",
   "metadata": {},
   "source": [
    "Between 1 - 2 years, churn percentage is 26%"
   ]
  },
  {
   "cell_type": "code",
   "execution_count": 734,
   "metadata": {
    "ExecuteTime": {
     "end_time": "2021-04-13T03:31:07.004111Z",
     "start_time": "2021-04-13T03:31:06.572328Z"
    }
   },
   "outputs": [
    {
     "data": {
      "text/html": [
       "<div>\n",
       "<style scoped>\n",
       "    .dataframe tbody tr th:only-of-type {\n",
       "        vertical-align: middle;\n",
       "    }\n",
       "\n",
       "    .dataframe tbody tr th {\n",
       "        vertical-align: top;\n",
       "    }\n",
       "\n",
       "    .dataframe thead th {\n",
       "        text-align: right;\n",
       "    }\n",
       "</style>\n",
       "<table border=\"1\" class=\"dataframe\">\n",
       "  <thead>\n",
       "    <tr style=\"text-align: right;\">\n",
       "      <th></th>\n",
       "      <th>tenure_cat</th>\n",
       "      <th>tenure</th>\n",
       "    </tr>\n",
       "    <tr>\n",
       "      <th>customerID</th>\n",
       "      <th></th>\n",
       "      <th></th>\n",
       "    </tr>\n",
       "  </thead>\n",
       "  <tbody>\n",
       "    <tr>\n",
       "      <th>3547-LQRIK</th>\n",
       "      <td>4</td>\n",
       "      <td>47</td>\n",
       "    </tr>\n",
       "    <tr>\n",
       "      <th>9432-RUVSL</th>\n",
       "      <td>4</td>\n",
       "      <td>48</td>\n",
       "    </tr>\n",
       "    <tr>\n",
       "      <th>3933-DQPWX</th>\n",
       "      <td>4</td>\n",
       "      <td>50</td>\n",
       "    </tr>\n",
       "  </tbody>\n",
       "</table>\n",
       "</div>"
      ],
      "text/plain": [
       "           tenure_cat  tenure\n",
       "customerID                   \n",
       "3547-LQRIK          4      47\n",
       "9432-RUVSL          4      48\n",
       "3933-DQPWX          4      50"
      ]
     },
     "execution_count": 734,
     "metadata": {},
     "output_type": "execute_result"
    }
   ],
   "source": [
    "df['tenure_cat']=pd.cut(df.tenure, bins=[0, 0.9, 11, 29, 100 ], labels=[1, 2, 3, 4])\n",
    "df[['tenure_cat', 'tenure']].sample(3)"
   ]
  },
  {
   "cell_type": "code",
   "execution_count": 735,
   "metadata": {
    "ExecuteTime": {
     "end_time": "2021-04-13T03:31:07.203664Z",
     "start_time": "2021-04-13T03:31:07.009097Z"
    }
   },
   "outputs": [],
   "source": [
    "df.tenure_cat.fillna(1, inplace=True)"
   ]
  },
  {
   "cell_type": "markdown",
   "metadata": {},
   "source": [
    "Added tenure_cat and stratify=y"
   ]
  },
  {
   "cell_type": "code",
   "execution_count": 758,
   "metadata": {
    "ExecuteTime": {
     "end_time": "2021-04-13T09:27:25.320117Z",
     "start_time": "2021-04-13T09:27:25.165549Z"
    }
   },
   "outputs": [],
   "source": [
    "y=df.Churn.values\n",
    "#X=df[['gender', 'SeniorCitizen', 'Partner', 'Dependents', 'tenure', 'PhoneService', 'MultipleLines', 'InternetService', 'OnlineSecurity', 'OnlineBackup', 'DeviceProtection', 'TechSupport', 'StreamingTV', 'StreamingMovies', 'Contract', 'PaperlessBilling','PaymentMethod', 'MonthlyCharges', 'TotalCharges']]\n",
    "X=df[['InternetService', 'Contract','SeniorCitizen', 'Partner', 'Dependents', 'tenure_cat', 'MultipleLines',  'OnlineSecurity', 'OnlineBackup', 'DeviceProtection', 'TechSupport', 'StreamingTV', 'StreamingMovies', 'PaperlessBilling','PaymentMethod', 'MonthlyCharges', 'TotalCharges']]\n",
    "X_train, X_test, y_train, y_test=train_test_split(X,y,random_state=42, stratify=y)"
   ]
  },
  {
   "cell_type": "code",
   "execution_count": 759,
   "metadata": {
    "ExecuteTime": {
     "end_time": "2021-04-13T09:28:01.504250Z",
     "start_time": "2021-04-13T09:27:26.673089Z"
    }
   },
   "outputs": [
    {
     "name": "stdout",
     "output_type": "stream",
     "text": [
      "0.7490062464508802\n",
      "0.7623621035130694\n",
      "0.8072805139186295\n"
     ]
    },
    {
     "data": {
      "text/plain": [
       "<AxesSubplot:>"
      ]
     },
     "execution_count": 759,
     "metadata": {},
     "output_type": "execute_result"
    },
    {
     "data": {
      "image/png": "[encoded data removed]",
      "text/plain": [
       "<Figure size 432x288 with 2 Axes>"
      ]
     },
     "metadata": {
      "needs_background": "light"
     },
     "output_type": "display_data"
    }
   ],
   "source": [
    "cat_model=cb.CatBoostClassifier(max_depth=4, n_estimators=500, scale_pos_weight=2.9, cat_features=['InternetService', 'Contract','SeniorCitizen', 'Partner', 'Dependents', 'tenure_cat', 'MultipleLines',  'OnlineSecurity', 'OnlineBackup', 'DeviceProtection', 'TechSupport', 'StreamingTV', 'StreamingMovies', 'PaperlessBilling'])\n",
    "cat_model.fit(X_train,y_train, verbose=False)\n",
    "ypred=cat_model.predict(X_test)\n",
    "print(accuracy_score(y_test, ypred))\n",
    "print(f1_score(y_test, ypred, average=\"weighted\"))\n",
    "print(recall_score(y_test, ypred))\n",
    "cf_matrix=confusion_matrix(y_test, ypred)\n",
    "sns.heatmap(cf_matrix/np.sum(cf_matrix), cmap='terrain_r',fmt='.2%', annot=True)"
   ]
  },
  {
   "cell_type": "code",
   "execution_count": 738,
   "metadata": {
    "ExecuteTime": {
     "end_time": "2021-04-13T03:34:38.536214Z",
     "start_time": "2021-04-13T03:34:38.471078Z"
    }
   },
   "outputs": [
    {
     "name": "stderr",
     "output_type": "stream",
     "text": [
      "c:\\python36\\lib\\site-packages\\sklearn\\utils\\validation.py:71: FutureWarning: Pass classes=[0 1], y=[0 1 0 ... 0 0 0] as keyword args. From version 0.25 passing these as positional arguments will result in an error\n",
      "  FutureWarning)\n"
     ]
    },
    {
     "data": {
      "text/plain": [
       "{0: 0.6806701030927835, 1: 1.883737517831669}"
      ]
     },
     "execution_count": 738,
     "metadata": {},
     "output_type": "execute_result"
    }
   ],
   "source": [
    "from sklearn.utils.class_weight import compute_class_weight\n",
    "class_weights2 = dict(zip(np.unique(y_train), compute_class_weight('balanced', np.unique(y_train), y_train))) \n",
    "class_weights2"
   ]
  },
  {
   "cell_type": "code",
   "execution_count": 757,
   "metadata": {
    "ExecuteTime": {
     "end_time": "2021-04-13T09:25:11.979426Z",
     "start_time": "2021-04-13T09:24:59.649057Z"
    }
   },
   "outputs": [
    {
     "name": "stdout",
     "output_type": "stream",
     "text": [
      "0.33924769339957417\n",
      "0.9572192513368984\n",
      "0.26594417126200226\n"
     ]
    },
    {
     "data": {
      "text/plain": [
       "<AxesSubplot:>"
      ]
     },
     "execution_count": 757,
     "metadata": {},
     "output_type": "execute_result"
    },
    {
     "data": {
      "image/png": "[encoded data removed]",
      "text/plain": [
       "<Figure size 432x288 with 2 Axes>"
      ]
     },
     "metadata": {
      "needs_background": "light"
     },
     "output_type": "display_data"
    }
   ],
   "source": [
    "svm_model=svm.SVC(kernel=\"poly\", class_weight=class_weights2, degree=5)\n",
    "svm_model.fit(X_train,y_train)\n",
    "ypred=svm_model.predict(X_test)\n",
    "print(accuracy_score(y_test, ypred))\n",
    "print(recall_score(y_test, ypred))\n",
    "print(f1_score(y_test, ypred, average=\"weighted\"))\n",
    "cf_matrix=confusion_matrix(y_test, ypred)\n",
    "sns.heatmap(cf_matrix/np.sum(cf_matrix), cmap='terrain_r',fmt='.2%', annot=True)"
   ]
  },
  {
   "cell_type": "code",
   "execution_count": 740,
   "metadata": {
    "ExecuteTime": {
     "end_time": "2021-04-13T03:34:57.200407Z",
     "start_time": "2021-04-13T03:34:56.267082Z"
    }
   },
   "outputs": [
    {
     "name": "stdout",
     "output_type": "stream",
     "text": [
      "[LightGBM] [Warning] min_data_in_leaf is set=300, min_child_samples=20 will be ignored. Current value: min_data_in_leaf=300\n",
      "0.7529812606473595\n",
      "0.7661039410211444\n"
     ]
    },
    {
     "data": {
      "text/plain": [
       "<AxesSubplot:>"
      ]
     },
     "execution_count": 740,
     "metadata": {},
     "output_type": "execute_result"
    },
    {
     "data": {
      "image/png": "[encoded data removed]",
      "text/plain": [
       "<Figure size 432x288 with 2 Axes>"
      ]
     },
     "metadata": {
      "needs_background": "light"
     },
     "output_type": "display_data"
    }
   ],
   "source": [
    "import lightgbm as lg\n",
    "lgbm=lg.LGBMClassifier(max_depth=4, class_weight='balanced', num_leaves=5, min_data_in_leaf=300)\n",
    "lgbm.fit(X_train,y_train)\n",
    "ypred=lgbm.predict(X_test)\n",
    "print(accuracy_score(y_test, ypred))\n",
    "print(f1_score(y_test, ypred, average=\"weighted\"))\n",
    "cf_matrix=confusion_matrix(y_test, ypred)\n",
    "sns.heatmap(cf_matrix/np.sum(cf_matrix), cmap='terrain_r',fmt='.2%', annot=True)"
   ]
  },
  {
   "cell_type": "code",
   "execution_count": 741,
   "metadata": {
    "ExecuteTime": {
     "end_time": "2021-04-13T03:34:58.039266Z",
     "start_time": "2021-04-13T03:34:57.206271Z"
    }
   },
   "outputs": [
    {
     "name": "stdout",
     "output_type": "stream",
     "text": [
      "0.771152754116979\n",
      "0.7781792596767602\n"
     ]
    },
    {
     "data": {
      "text/plain": [
       "<AxesSubplot:>"
      ]
     },
     "execution_count": 741,
     "metadata": {},
     "output_type": "execute_result"
    },
    {
     "data": {
      "image/png": "[encoded data removed]",
      "text/plain": [
       "<Figure size 432x288 with 2 Axes>"
      ]
     },
     "metadata": {
      "needs_background": "light"
     },
     "output_type": "display_data"
    }
   ],
   "source": [
    "from sklearn.naive_bayes import GaussianNB\n",
    "gb = GaussianNB()\n",
    "gb.fit(X_train,y_train)\n",
    "ypred=gb.predict(X_test)\n",
    "print(accuracy_score(y_test, ypred))\n",
    "print(f1_score(y_test, ypred, average=\"weighted\"))\n",
    "cf_matrix=confusion_matrix(y_test, ypred)\n",
    "sns.heatmap(cf_matrix/np.sum(cf_matrix), cmap='terrain_r',fmt='.2%', annot=True)"
   ]
  },
  {
   "cell_type": "code",
   "execution_count": 742,
   "metadata": {
    "ExecuteTime": {
     "end_time": "2021-04-13T03:35:43.643617Z",
     "start_time": "2021-04-13T03:34:58.048759Z"
    }
   },
   "outputs": [
    {
     "name": "stdout",
     "output_type": "stream",
     "text": [
      "0.7808063600227144\n",
      "0.7559521454290735\n"
     ]
    },
    {
     "data": {
      "text/plain": [
       "<AxesSubplot:>"
      ]
     },
     "execution_count": 742,
     "metadata": {},
     "output_type": "execute_result"
    },
    {
     "data": {
      "image/png": "[encoded data removed]",
      "text/plain": [
       "<Figure size 432x288 with 2 Axes>"
      ]
     },
     "metadata": {
      "needs_background": "light"
     },
     "output_type": "display_data"
    }
   ],
   "source": [
    "#clf1 = LogisticRegression(solver=\"newton-cg\", class_weight='balanced')\n",
    "clf2 = GaussianNB()\n",
    "clf3 = svm.SVC(kernel='poly', class_weight=\"balanced\", probability=True)\n",
    "eclf = VotingClassifier(estimators=[('svc', clf3), ('gb', clf2)],voting='soft', weights=[9,4])\n",
    "\n",
    "clf2 = clf2.fit(X_train,y_train)\n",
    "clf3 = clf3.fit(X_train,y_train)\n",
    "eclf = eclf.fit(X_train,y_train)\n",
    "\n",
    "ypred=eclf.predict(X_test)\n",
    "print(accuracy_score(y_test, ypred))\n",
    "print(f1_score(y_test, ypred, average=\"weighted\"))\n",
    "cf_matrix=confusion_matrix(y_test, ypred)\n",
    "sns.heatmap(cf_matrix/np.sum(cf_matrix), cmap='terrain_r',fmt='.2%', annot=True)"
   ]
  },
  {
   "cell_type": "markdown",
   "metadata": {},
   "source": [
    "Reduced False Positive - Not of much use"
   ]
  },
  {
   "cell_type": "code",
   "execution_count": 747,
   "metadata": {
    "ExecuteTime": {
     "end_time": "2021-04-13T03:52:12.854192Z",
     "start_time": "2021-04-13T03:52:09.850982Z"
    }
   },
   "outputs": [
    {
     "name": "stdout",
     "output_type": "stream",
     "text": [
      "0.8001135718341851\n",
      "0.7898087267411296\n",
      "0.49464668094218417\n"
     ]
    },
    {
     "data": {
      "text/plain": [
       "<AxesSubplot:>"
      ]
     },
     "execution_count": 747,
     "metadata": {},
     "output_type": "execute_result"
    },
    {
     "data": {
      "image/png": "[encoded data removed]",
      "text/plain": [
       "<Figure size 432x288 with 2 Axes>"
      ]
     },
     "metadata": {
      "needs_background": "light"
     },
     "output_type": "display_data"
    }
   ],
   "source": [
    "gbc_model=GradientBoostingClassifier(max_depth=4)\n",
    "gbc_model.fit(X_train,y_train)\n",
    "ypred=gbc_model.predict(X_test)\n",
    "print(accuracy_score(y_test, ypred))\n",
    "print(f1_score(y_test, ypred, average=\"weighted\"))\n",
    "print(recall_score(y_test, ypred))\n",
    "cf_matrix=confusion_matrix(y_test, ypred)\n",
    "sns.heatmap(cf_matrix/np.sum(cf_matrix), cmap='terrain_r',fmt='.2%', annot=True)"
   ]
  },
  {
   "cell_type": "code",
   "execution_count": 748,
   "metadata": {
    "ExecuteTime": {
     "end_time": "2021-04-13T03:56:03.231054Z",
     "start_time": "2021-04-13T03:55:41.350284Z"
    }
   },
   "outputs": [
    {
     "name": "stdout",
     "output_type": "stream",
     "text": [
      "0.7484383872799546\n",
      "0.7615713742211312\n",
      "0.7944325481798715\n"
     ]
    },
    {
     "data": {
      "text/plain": [
       "<AxesSubplot:>"
      ]
     },
     "execution_count": 748,
     "metadata": {},
     "output_type": "execute_result"
    },
    {
     "data": {
      "image/png": "[encoded data removed]",
      "text/plain": [
       "<Figure size 432x288 with 2 Axes>"
      ]
     },
     "metadata": {
      "needs_background": "light"
     },
     "output_type": "display_data"
    }
   ],
   "source": [
    "rt=RandomForestClassifier(max_depth=4, n_estimators=1900, class_weight=\"balanced\")\n",
    "rt.fit(X_train,y_train)\n",
    "ypred=rt.predict(X_test)\n",
    "print(accuracy_score(y_test, ypred))\n",
    "print(f1_score(y_test, ypred, average=\"weighted\"))\n",
    "print(recall_score(y_test, ypred))\n",
    "cf_matrix=confusion_matrix(y_test, ypred)\n",
    "sns.heatmap(cf_matrix/np.sum(cf_matrix), cmap='terrain_r',fmt='.2%', annot=True)"
   ]
  },
  {
   "cell_type": "code",
   "execution_count": 744,
   "metadata": {
    "ExecuteTime": {
     "end_time": "2021-04-13T03:43:05.658881Z",
     "start_time": "2021-04-13T03:35:47.550523Z"
    }
   },
   "outputs": [
    {
     "data": {
      "text/html": [
       "<div>\n",
       "<style scoped>\n",
       "    .dataframe tbody tr th:only-of-type {\n",
       "        vertical-align: middle;\n",
       "    }\n",
       "\n",
       "    .dataframe tbody tr th {\n",
       "        vertical-align: top;\n",
       "    }\n",
       "\n",
       "    .dataframe thead th {\n",
       "        text-align: right;\n",
       "    }\n",
       "</style>\n",
       "<table border=\"1\" class=\"dataframe\">\n",
       "  <thead>\n",
       "    <tr style=\"text-align: right;\">\n",
       "      <th></th>\n",
       "      <th>Random-CV</th>\n",
       "      <th>Stratified-CV</th>\n",
       "    </tr>\n",
       "  </thead>\n",
       "  <tbody>\n",
       "    <tr>\n",
       "      <th>f1</th>\n",
       "      <td>0.441232</td>\n",
       "      <td>0.441256</td>\n",
       "    </tr>\n",
       "    <tr>\n",
       "      <th>roc_auc</th>\n",
       "      <td>0.689582</td>\n",
       "      <td>0.689461</td>\n",
       "    </tr>\n",
       "    <tr>\n",
       "      <th>average_precision</th>\n",
       "      <td>0.475244</td>\n",
       "      <td>0.475069</td>\n",
       "    </tr>\n",
       "    <tr>\n",
       "      <th>accuracy</th>\n",
       "      <td>0.380094</td>\n",
       "      <td>0.380094</td>\n",
       "    </tr>\n",
       "    <tr>\n",
       "      <th>precision</th>\n",
       "      <td>0.289987</td>\n",
       "      <td>0.289989</td>\n",
       "    </tr>\n",
       "    <tr>\n",
       "      <th>recall</th>\n",
       "      <td>0.922422</td>\n",
       "      <td>0.922418</td>\n",
       "    </tr>\n",
       "  </tbody>\n",
       "</table>\n",
       "</div>"
      ],
      "text/plain": [
       "                  Random-CV Stratified-CV\n",
       "f1                 0.441232      0.441256\n",
       "roc_auc            0.689582      0.689461\n",
       "average_precision  0.475244      0.475069\n",
       "accuracy           0.380094      0.380094\n",
       "precision          0.289987      0.289989\n",
       "recall             0.922422      0.922418"
      ]
     },
     "execution_count": 744,
     "metadata": {},
     "output_type": "execute_result"
    }
   ],
   "source": [
    "metric_names = ['f1', 'roc_auc', 'average_precision', 'accuracy', 'precision', 'recall']\n",
    "scores_df = pd.DataFrame(index=metric_names, columns=['Random-CV', 'Stratified-CV']) # to store the scores\n",
    "cv = KFold(n_splits=3) #RandomCV\n",
    "scv = StratifiedKFold(n_splits=3)  #Stratified\n",
    "clf = svm.SVC(kernel='poly', class_weight='balanced', probability=True)\n",
    "\n",
    "for metric in metric_names:\n",
    "    score1 = cross_val_score(clf, X, y, scoring=metric, cv=cv).mean()\n",
    "    score2 = cross_val_score(clf, X, y, scoring=metric, cv=scv).mean()\n",
    "    scores_df.loc[metric] = [score1, score2]\n",
    "\n",
    "scores_df"
   ]
  }
 ],
 "metadata": {
  "kernelspec": {
   "display_name": "Python 3",
   "language": "python",
   "name": "python3"
  },
  "language_info": {
   "codemirror_mode": {
    "name": "ipython",
    "version": 3
   },
   "file_extension": ".py",
   "mimetype": "text/x-python",
   "name": "python",
   "nbconvert_exporter": "python",
   "pygments_lexer": "ipython3",
   "version": "3.6.1"
  }
 },
 "nbformat": 4,
 "nbformat_minor": 4
}
