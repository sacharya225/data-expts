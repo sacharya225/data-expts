{
 "cells": [
  {
   "cell_type": "code",
   "execution_count": 117,
   "metadata": {
    "ExecuteTime": {
     "end_time": "2021-06-14T06:17:18.237025Z",
     "start_time": "2021-06-14T06:17:18.213510Z"
    }
   },
   "outputs": [],
   "source": [
    "import pandas as pd\n",
    "import seaborn as sns\n",
    "import matplotlib.pyplot as plt\n",
    "import numpy as np\n",
    "import warnings\n",
    "warnings.filterwarnings(\"ignore\")\n",
    "from sklearn.linear_model import LinearRegression\n",
    "from sklearn.ensemble import RandomForestRegressor\n",
    "import xgboost as xg\n",
    "import catboost as cb\n",
    "import lightgbm as lgbm\n",
    "from sklearn.preprocessing import PolynomialFeatures, StandardScaler, MinMaxScaler\n",
    "from sklearn.impute import  SimpleImputer\n",
    "from sklearn.model_selection import train_test_split, cross_val_score\n",
    "from sklearn.metrics import r2_score, mean_squared_error, mean_absolute_error, median_absolute_error\n",
    "import pickle\n",
    "from IPython.display import display, HTML\n",
    "from sklearn.feature_selection import SelectKBest, f_regression\n",
    "\n",
    "CSS = \"\"\"\n",
    ".output {\n",
    "    flex-direction: row;\n",
    "}\n",
    "\"\"\"\n",
    "\n",
    "HTML('<style>{}</style>'.format(CSS))\n",
    "\n",
    "file ='insurance.csv'\n"
   ]
  },
  {
   "cell_type": "markdown",
   "metadata": {},
   "source": [
    "**Data Loading**"
   ]
  },
  {
   "cell_type": "code",
   "execution_count": 118,
   "metadata": {
    "ExecuteTime": {
     "end_time": "2021-06-14T06:17:18.332286Z",
     "start_time": "2021-06-14T06:17:18.248787Z"
    }
   },
   "outputs": [
    {
     "data": {
      "text/html": [
       "<div>\n",
       "<style scoped>\n",
       "    .dataframe tbody tr th:only-of-type {\n",
       "        vertical-align: middle;\n",
       "    }\n",
       "\n",
       "    .dataframe tbody tr th {\n",
       "        vertical-align: top;\n",
       "    }\n",
       "\n",
       "    .dataframe thead th {\n",
       "        text-align: right;\n",
       "    }\n",
       "</style>\n",
       "<table border=\"1\" class=\"dataframe\">\n",
       "  <thead>\n",
       "    <tr style=\"text-align: right;\">\n",
       "      <th></th>\n",
       "      <th>age</th>\n",
       "      <th>sex</th>\n",
       "      <th>bmi</th>\n",
       "      <th>children</th>\n",
       "      <th>smoker</th>\n",
       "      <th>region</th>\n",
       "      <th>charges</th>\n",
       "    </tr>\n",
       "  </thead>\n",
       "  <tbody>\n",
       "    <tr>\n",
       "      <th>0</th>\n",
       "      <td>19.0</td>\n",
       "      <td>female</td>\n",
       "      <td>27.90</td>\n",
       "      <td>0</td>\n",
       "      <td>yes</td>\n",
       "      <td>southwest</td>\n",
       "      <td>16884.9240</td>\n",
       "    </tr>\n",
       "    <tr>\n",
       "      <th>1</th>\n",
       "      <td>18.0</td>\n",
       "      <td>male</td>\n",
       "      <td>33.77</td>\n",
       "      <td>1</td>\n",
       "      <td>no</td>\n",
       "      <td>southeast</td>\n",
       "      <td>1725.5523</td>\n",
       "    </tr>\n",
       "    <tr>\n",
       "      <th>2</th>\n",
       "      <td>28.0</td>\n",
       "      <td>male</td>\n",
       "      <td>33.00</td>\n",
       "      <td>3</td>\n",
       "      <td>no</td>\n",
       "      <td>southeast</td>\n",
       "      <td>4449.4620</td>\n",
       "    </tr>\n",
       "  </tbody>\n",
       "</table>\n",
       "</div>"
      ],
      "text/plain": [
       "    age     sex    bmi  children smoker     region     charges\n",
       "0  19.0  female  27.90         0    yes  southwest  16884.9240\n",
       "1  18.0    male  33.77         1     no  southeast   1725.5523\n",
       "2  28.0    male  33.00         3     no  southeast   4449.4620"
      ]
     },
     "execution_count": 118,
     "metadata": {},
     "output_type": "execute_result"
    }
   ],
   "source": [
    "#Load csv into a dataframe\n",
    "df=pd.read_csv(file)\n",
    "df.head(3)"
   ]
  },
  {
   "cell_type": "markdown",
   "metadata": {
    "ExecuteTime": {
     "end_time": "2021-04-29T13:38:27.991159Z",
     "start_time": "2021-04-29T13:37:37.752902Z"
    }
   },
   "source": [
    "**Data Profiling**"
   ]
  },
  {
   "cell_type": "code",
   "execution_count": 119,
   "metadata": {
    "ExecuteTime": {
     "end_time": "2021-06-14T06:17:18.417431Z",
     "start_time": "2021-06-14T06:17:18.337900Z"
    }
   },
   "outputs": [
    {
     "data": {
      "text/html": [
       "<div>\n",
       "<style scoped>\n",
       "    .dataframe tbody tr th:only-of-type {\n",
       "        vertical-align: middle;\n",
       "    }\n",
       "\n",
       "    .dataframe tbody tr th {\n",
       "        vertical-align: top;\n",
       "    }\n",
       "\n",
       "    .dataframe thead th {\n",
       "        text-align: right;\n",
       "    }\n",
       "</style>\n",
       "<table border=\"1\" class=\"dataframe\">\n",
       "  <thead>\n",
       "    <tr style=\"text-align: right;\">\n",
       "      <th></th>\n",
       "      <th>age</th>\n",
       "      <th>bmi</th>\n",
       "      <th>children</th>\n",
       "      <th>charges</th>\n",
       "    </tr>\n",
       "  </thead>\n",
       "  <tbody>\n",
       "    <tr>\n",
       "      <th>count</th>\n",
       "      <td>1334.000000</td>\n",
       "      <td>1336.000000</td>\n",
       "      <td>1338.000000</td>\n",
       "      <td>1338.000000</td>\n",
       "    </tr>\n",
       "    <tr>\n",
       "      <th>mean</th>\n",
       "      <td>39.206147</td>\n",
       "      <td>30.663866</td>\n",
       "      <td>1.094918</td>\n",
       "      <td>13270.422265</td>\n",
       "    </tr>\n",
       "    <tr>\n",
       "      <th>std</th>\n",
       "      <td>14.070989</td>\n",
       "      <td>6.102741</td>\n",
       "      <td>1.205493</td>\n",
       "      <td>12110.011237</td>\n",
       "    </tr>\n",
       "    <tr>\n",
       "      <th>min</th>\n",
       "      <td>18.000000</td>\n",
       "      <td>15.960000</td>\n",
       "      <td>0.000000</td>\n",
       "      <td>1121.873900</td>\n",
       "    </tr>\n",
       "    <tr>\n",
       "      <th>25%</th>\n",
       "      <td>26.250000</td>\n",
       "      <td>26.272500</td>\n",
       "      <td>0.000000</td>\n",
       "      <td>4740.287150</td>\n",
       "    </tr>\n",
       "    <tr>\n",
       "      <th>50%</th>\n",
       "      <td>39.000000</td>\n",
       "      <td>30.400000</td>\n",
       "      <td>1.000000</td>\n",
       "      <td>9382.033000</td>\n",
       "    </tr>\n",
       "    <tr>\n",
       "      <th>75%</th>\n",
       "      <td>51.000000</td>\n",
       "      <td>34.700000</td>\n",
       "      <td>2.000000</td>\n",
       "      <td>16639.912515</td>\n",
       "    </tr>\n",
       "    <tr>\n",
       "      <th>max</th>\n",
       "      <td>64.000000</td>\n",
       "      <td>53.130000</td>\n",
       "      <td>5.000000</td>\n",
       "      <td>63770.428010</td>\n",
       "    </tr>\n",
       "  </tbody>\n",
       "</table>\n",
       "</div>"
      ],
      "text/plain": [
       "               age          bmi     children       charges\n",
       "count  1334.000000  1336.000000  1338.000000   1338.000000\n",
       "mean     39.206147    30.663866     1.094918  13270.422265\n",
       "std      14.070989     6.102741     1.205493  12110.011237\n",
       "min      18.000000    15.960000     0.000000   1121.873900\n",
       "25%      26.250000    26.272500     0.000000   4740.287150\n",
       "50%      39.000000    30.400000     1.000000   9382.033000\n",
       "75%      51.000000    34.700000     2.000000  16639.912515\n",
       "max      64.000000    53.130000     5.000000  63770.428010"
      ]
     },
     "metadata": {},
     "output_type": "display_data"
    },
    {
     "data": {
      "text/html": [
       "<div>\n",
       "<style scoped>\n",
       "    .dataframe tbody tr th:only-of-type {\n",
       "        vertical-align: middle;\n",
       "    }\n",
       "\n",
       "    .dataframe tbody tr th {\n",
       "        vertical-align: top;\n",
       "    }\n",
       "\n",
       "    .dataframe thead th {\n",
       "        text-align: right;\n",
       "    }\n",
       "</style>\n",
       "<table border=\"1\" class=\"dataframe\">\n",
       "  <thead>\n",
       "    <tr style=\"text-align: right;\">\n",
       "      <th></th>\n",
       "      <th>sex</th>\n",
       "      <th>smoker</th>\n",
       "      <th>region</th>\n",
       "    </tr>\n",
       "  </thead>\n",
       "  <tbody>\n",
       "    <tr>\n",
       "      <th>count</th>\n",
       "      <td>1338</td>\n",
       "      <td>1338</td>\n",
       "      <td>1338</td>\n",
       "    </tr>\n",
       "    <tr>\n",
       "      <th>unique</th>\n",
       "      <td>2</td>\n",
       "      <td>2</td>\n",
       "      <td>4</td>\n",
       "    </tr>\n",
       "    <tr>\n",
       "      <th>top</th>\n",
       "      <td>male</td>\n",
       "      <td>no</td>\n",
       "      <td>southeast</td>\n",
       "    </tr>\n",
       "    <tr>\n",
       "      <th>freq</th>\n",
       "      <td>676</td>\n",
       "      <td>1064</td>\n",
       "      <td>364</td>\n",
       "    </tr>\n",
       "  </tbody>\n",
       "</table>\n",
       "</div>"
      ],
      "text/plain": [
       "         sex smoker     region\n",
       "count   1338   1338       1338\n",
       "unique     2      2          4\n",
       "top     male     no  southeast\n",
       "freq     676   1064        364"
      ]
     },
     "metadata": {},
     "output_type": "display_data"
    }
   ],
   "source": [
    "display(df.describe())\n",
    "display(df.describe(include=['O']))"
   ]
  },
  {
   "cell_type": "markdown",
   "metadata": {},
   "source": [
    "We will use some pandas functions to find out more about our dataset such as the number of rows and columns, categorical and quantitative features and find if any data is missing."
   ]
  },
  {
   "cell_type": "code",
   "execution_count": 120,
   "metadata": {
    "ExecuteTime": {
     "end_time": "2021-06-14T06:17:18.425895Z",
     "start_time": "2021-06-14T06:17:18.420312Z"
    }
   },
   "outputs": [
    {
     "name": "stdout",
     "output_type": "stream",
     "text": [
      "Dataset size: (1338, 7)\n"
     ]
    }
   ],
   "source": [
    "#Get the number of rows and columns\n",
    "print(f'Dataset size: {df.shape}')"
   ]
  },
  {
   "cell_type": "code",
   "execution_count": 121,
   "metadata": {
    "ExecuteTime": {
     "end_time": "2021-06-14T06:17:18.443673Z",
     "start_time": "2021-06-14T06:17:18.429304Z"
    }
   },
   "outputs": [],
   "source": [
    "#List all data types of all the columns\n",
    "#df.dtypes.sort_values(ascending=True)"
   ]
  },
  {
   "cell_type": "markdown",
   "metadata": {},
   "source": [
    "There are 3 categorical features - sex, smoker and region and rest of them are numeric."
   ]
  },
  {
   "cell_type": "markdown",
   "metadata": {},
   "source": [
    "We will also identify missing values for each of the features."
   ]
  },
  {
   "cell_type": "code",
   "execution_count": 122,
   "metadata": {
    "ExecuteTime": {
     "end_time": "2021-06-14T06:17:18.465102Z",
     "start_time": "2021-06-14T06:17:18.446863Z"
    }
   },
   "outputs": [
    {
     "data": {
      "text/plain": [
       "age         0.002990\n",
       "bmi         0.001495\n",
       "charges     0.000000\n",
       "region      0.000000\n",
       "smoker      0.000000\n",
       "children    0.000000\n",
       "sex         0.000000\n",
       "dtype: float64"
      ]
     },
     "execution_count": 122,
     "metadata": {},
     "output_type": "execute_result"
    }
   ],
   "source": [
    "#Calculate the percentage of null values\n",
    "df.isnull().sum().sort_values(ascending=False)/df.shape[0]"
   ]
  },
  {
   "cell_type": "markdown",
   "metadata": {},
   "source": [
    "#### Data Cleaning"
   ]
  },
  {
   "cell_type": "markdown",
   "metadata": {},
   "source": [
    "'age' and 'bmi' have some null values as below:"
   ]
  },
  {
   "cell_type": "code",
   "execution_count": 123,
   "metadata": {
    "ExecuteTime": {
     "end_time": "2021-06-14T06:17:18.498738Z",
     "start_time": "2021-06-14T06:17:18.469701Z"
    }
   },
   "outputs": [
    {
     "data": {
      "text/html": [
       "<div>\n",
       "<style scoped>\n",
       "    .dataframe tbody tr th:only-of-type {\n",
       "        vertical-align: middle;\n",
       "    }\n",
       "\n",
       "    .dataframe tbody tr th {\n",
       "        vertical-align: top;\n",
       "    }\n",
       "\n",
       "    .dataframe thead th {\n",
       "        text-align: right;\n",
       "    }\n",
       "</style>\n",
       "<table border=\"1\" class=\"dataframe\">\n",
       "  <thead>\n",
       "    <tr style=\"text-align: right;\">\n",
       "      <th></th>\n",
       "      <th>age</th>\n",
       "      <th>sex</th>\n",
       "      <th>bmi</th>\n",
       "      <th>children</th>\n",
       "      <th>smoker</th>\n",
       "      <th>region</th>\n",
       "      <th>charges</th>\n",
       "    </tr>\n",
       "  </thead>\n",
       "  <tbody>\n",
       "    <tr>\n",
       "      <th>253</th>\n",
       "      <td>27.0</td>\n",
       "      <td>male</td>\n",
       "      <td>NaN</td>\n",
       "      <td>3</td>\n",
       "      <td>no</td>\n",
       "      <td>southwest</td>\n",
       "      <td>4260.74400</td>\n",
       "    </tr>\n",
       "    <tr>\n",
       "      <th>429</th>\n",
       "      <td>27.0</td>\n",
       "      <td>female</td>\n",
       "      <td>NaN</td>\n",
       "      <td>3</td>\n",
       "      <td>no</td>\n",
       "      <td>northwest</td>\n",
       "      <td>18804.75240</td>\n",
       "    </tr>\n",
       "    <tr>\n",
       "      <th>790</th>\n",
       "      <td>NaN</td>\n",
       "      <td>female</td>\n",
       "      <td>41.800</td>\n",
       "      <td>0</td>\n",
       "      <td>no</td>\n",
       "      <td>southeast</td>\n",
       "      <td>5662.22500</td>\n",
       "    </tr>\n",
       "    <tr>\n",
       "      <th>794</th>\n",
       "      <td>NaN</td>\n",
       "      <td>female</td>\n",
       "      <td>31.920</td>\n",
       "      <td>2</td>\n",
       "      <td>no</td>\n",
       "      <td>northwest</td>\n",
       "      <td>7209.49180</td>\n",
       "    </tr>\n",
       "    <tr>\n",
       "      <th>865</th>\n",
       "      <td>NaN</td>\n",
       "      <td>male</td>\n",
       "      <td>29.900</td>\n",
       "      <td>2</td>\n",
       "      <td>no</td>\n",
       "      <td>southwest</td>\n",
       "      <td>6600.36100</td>\n",
       "    </tr>\n",
       "    <tr>\n",
       "      <th>1198</th>\n",
       "      <td>NaN</td>\n",
       "      <td>male</td>\n",
       "      <td>29.355</td>\n",
       "      <td>1</td>\n",
       "      <td>no</td>\n",
       "      <td>northwest</td>\n",
       "      <td>6393.60345</td>\n",
       "    </tr>\n",
       "  </tbody>\n",
       "</table>\n",
       "</div>"
      ],
      "text/plain": [
       "       age     sex     bmi  children smoker     region      charges\n",
       "253   27.0    male     NaN         3     no  southwest   4260.74400\n",
       "429   27.0  female     NaN         3     no  northwest  18804.75240\n",
       "790    NaN  female  41.800         0     no  southeast   5662.22500\n",
       "794    NaN  female  31.920         2     no  northwest   7209.49180\n",
       "865    NaN    male  29.900         2     no  southwest   6600.36100\n",
       "1198   NaN    male  29.355         1     no  northwest   6393.60345"
      ]
     },
     "execution_count": 123,
     "metadata": {},
     "output_type": "execute_result"
    }
   ],
   "source": [
    "null_inds=df[(df.age.isnull()) | (df.bmi.isnull())].index.to_list()\n",
    "df[(df.age.isnull()) | (df.bmi.isnull())]\n"
   ]
  },
  {
   "cell_type": "markdown",
   "metadata": {},
   "source": [
    "SimpleImputer from sklearn allows you to update null values based on mean/median/most frequent values in the respective columns. We will use median to fill null values."
   ]
  },
  {
   "cell_type": "code",
   "execution_count": 124,
   "metadata": {
    "ExecuteTime": {
     "end_time": "2021-06-14T06:17:18.535850Z",
     "start_time": "2021-06-14T06:17:18.503821Z"
    }
   },
   "outputs": [],
   "source": [
    "#Instantiate a SimpleImputer \n",
    "si=SimpleImputer(missing_values = np.nan, strategy=\"median\")\n",
    "si.fit(df[['age', 'bmi']])\n",
    "  \n",
    "#Filling missing data with median\n",
    "df[['age', 'bmi']] = si.transform(df[['age', 'bmi']])"
   ]
  },
  {
   "cell_type": "code",
   "execution_count": 125,
   "metadata": {
    "ExecuteTime": {
     "end_time": "2021-06-14T06:17:18.568749Z",
     "start_time": "2021-06-14T06:17:18.538867Z"
    }
   },
   "outputs": [
    {
     "data": {
      "text/html": [
       "<div>\n",
       "<style scoped>\n",
       "    .dataframe tbody tr th:only-of-type {\n",
       "        vertical-align: middle;\n",
       "    }\n",
       "\n",
       "    .dataframe tbody tr th {\n",
       "        vertical-align: top;\n",
       "    }\n",
       "\n",
       "    .dataframe thead th {\n",
       "        text-align: right;\n",
       "    }\n",
       "</style>\n",
       "<table border=\"1\" class=\"dataframe\">\n",
       "  <thead>\n",
       "    <tr style=\"text-align: right;\">\n",
       "      <th></th>\n",
       "      <th>age</th>\n",
       "      <th>sex</th>\n",
       "      <th>bmi</th>\n",
       "      <th>children</th>\n",
       "      <th>smoker</th>\n",
       "      <th>region</th>\n",
       "      <th>charges</th>\n",
       "    </tr>\n",
       "  </thead>\n",
       "  <tbody>\n",
       "    <tr>\n",
       "      <th>253</th>\n",
       "      <td>27.0</td>\n",
       "      <td>male</td>\n",
       "      <td>30.400</td>\n",
       "      <td>3</td>\n",
       "      <td>no</td>\n",
       "      <td>southwest</td>\n",
       "      <td>4260.74400</td>\n",
       "    </tr>\n",
       "    <tr>\n",
       "      <th>429</th>\n",
       "      <td>27.0</td>\n",
       "      <td>female</td>\n",
       "      <td>30.400</td>\n",
       "      <td>3</td>\n",
       "      <td>no</td>\n",
       "      <td>northwest</td>\n",
       "      <td>18804.75240</td>\n",
       "    </tr>\n",
       "    <tr>\n",
       "      <th>790</th>\n",
       "      <td>39.0</td>\n",
       "      <td>female</td>\n",
       "      <td>41.800</td>\n",
       "      <td>0</td>\n",
       "      <td>no</td>\n",
       "      <td>southeast</td>\n",
       "      <td>5662.22500</td>\n",
       "    </tr>\n",
       "    <tr>\n",
       "      <th>794</th>\n",
       "      <td>39.0</td>\n",
       "      <td>female</td>\n",
       "      <td>31.920</td>\n",
       "      <td>2</td>\n",
       "      <td>no</td>\n",
       "      <td>northwest</td>\n",
       "      <td>7209.49180</td>\n",
       "    </tr>\n",
       "    <tr>\n",
       "      <th>865</th>\n",
       "      <td>39.0</td>\n",
       "      <td>male</td>\n",
       "      <td>29.900</td>\n",
       "      <td>2</td>\n",
       "      <td>no</td>\n",
       "      <td>southwest</td>\n",
       "      <td>6600.36100</td>\n",
       "    </tr>\n",
       "    <tr>\n",
       "      <th>1198</th>\n",
       "      <td>39.0</td>\n",
       "      <td>male</td>\n",
       "      <td>29.355</td>\n",
       "      <td>1</td>\n",
       "      <td>no</td>\n",
       "      <td>northwest</td>\n",
       "      <td>6393.60345</td>\n",
       "    </tr>\n",
       "  </tbody>\n",
       "</table>\n",
       "</div>"
      ],
      "text/plain": [
       "       age     sex     bmi  children smoker     region      charges\n",
       "253   27.0    male  30.400         3     no  southwest   4260.74400\n",
       "429   27.0  female  30.400         3     no  northwest  18804.75240\n",
       "790   39.0  female  41.800         0     no  southeast   5662.22500\n",
       "794   39.0  female  31.920         2     no  northwest   7209.49180\n",
       "865   39.0    male  29.900         2     no  southwest   6600.36100\n",
       "1198  39.0    male  29.355         1     no  northwest   6393.60345"
      ]
     },
     "execution_count": 125,
     "metadata": {},
     "output_type": "execute_result"
    }
   ],
   "source": [
    "#Verify whether the rows are correctly imputed\n",
    "df.iloc[null_inds,:]"
   ]
  },
  {
   "cell_type": "markdown",
   "metadata": {},
   "source": [
    "#### Data Visualization "
   ]
  },
  {
   "cell_type": "markdown",
   "metadata": {},
   "source": [
    "Now that our data is clean , we will look at visualizations and drawing correlations among features and target variable(charges)"
   ]
  },
  {
   "cell_type": "code",
   "execution_count": 126,
   "metadata": {
    "ExecuteTime": {
     "end_time": "2021-06-14T06:17:24.022850Z",
     "start_time": "2021-06-14T06:17:18.571105Z"
    }
   },
   "outputs": [
    {
     "data": {
      "image/png": "[encoded data removed]",
      "text/plain": [
       "<Figure size 720x720 with 20 Axes>"
      ]
     },
     "metadata": {
      "needs_background": "light"
     },
     "output_type": "display_data"
    }
   ],
   "source": [
    "#histogram to see distribution of data points\n",
    "sns.pairplot(data=df, diag_kind='kde')\n",
    "plt.show()"
   ]
  },
  {
   "cell_type": "markdown",
   "metadata": {},
   "source": [
    "**Gender**"
   ]
  },
  {
   "cell_type": "code",
   "execution_count": 127,
   "metadata": {
    "ExecuteTime": {
     "end_time": "2021-06-14T06:17:25.292260Z",
     "start_time": "2021-06-14T06:17:24.029010Z"
    }
   },
   "outputs": [
    {
     "data": {
      "image/png": "[encoded data removed]",
      "text/plain": [
       "<Figure size 1440x288 with 4 Axes>"
      ]
     },
     "metadata": {
      "needs_background": "light"
     },
     "output_type": "display_data"
    }
   ],
   "source": [
    "fig, ax2 = plt.subplots(1,4,  figsize=(20,4))\n",
    "fig.suptitle('Value Counts of Gender, Smoker, Children and Region')\n",
    "sns.countplot(ax=ax2[0], x=df.sex)\n",
    "sns.countplot(ax=ax2[1], x=df.smoker)\n",
    "sns.countplot(ax=ax2[2], x=df.children)\n",
    "sns.countplot(ax=ax2[3], x=df.region)\n",
    "plt.show()"
   ]
  },
  {
   "cell_type": "code",
   "execution_count": 128,
   "metadata": {
    "ExecuteTime": {
     "end_time": "2021-06-14T06:17:27.313216Z",
     "start_time": "2021-06-14T06:17:25.300213Z"
    }
   },
   "outputs": [
    {
     "data": {
      "image/png": "[encoded data removed]",
      "text/plain": [
       "<Figure size 1656x288 with 4 Axes>"
      ]
     },
     "metadata": {
      "needs_background": "light"
     },
     "output_type": "display_data"
    }
   ],
   "source": [
    "fig, ax2 = plt.subplots(1,4,  figsize=(23,4))\n",
    "fig.suptitle('Plot of Gender, Smoker, Children and Region vs Charges',)\n",
    "sns.boxplot(ax=ax2[0], x=df.sex, y=df.charges)\n",
    "sns.boxplot(ax=ax2[1], x=df.smoker, y=df.charges)\n",
    "sns.lineplot(ax=ax2[2], x=df.children, y=df.charges)\n",
    "sns.boxplot(ax=ax2[3], x=df.region, y=df.charges)\n",
    "plt.show()"
   ]
  },
  {
   "cell_type": "code",
   "execution_count": 129,
   "metadata": {
    "ExecuteTime": {
     "end_time": "2021-06-14T06:17:27.618487Z",
     "start_time": "2021-06-14T06:17:27.316274Z"
    }
   },
   "outputs": [
    {
     "data": {
      "image/png": "[encoded data removed]",
      "text/plain": [
       "<Figure size 432x288 with 1 Axes>"
      ]
     },
     "metadata": {
      "needs_background": "light"
     },
     "output_type": "display_data"
    }
   ],
   "source": [
    "#Count of males vs females\n",
    "sns.countplot(df.sex)\n",
    "plt.show()"
   ]
  },
  {
   "cell_type": "code",
   "execution_count": 130,
   "metadata": {
    "ExecuteTime": {
     "end_time": "2021-06-14T06:17:27.970785Z",
     "start_time": "2021-06-14T06:17:27.624544Z"
    }
   },
   "outputs": [
    {
     "data": {
      "image/png": "[encoded data removed]",
      "text/plain": [
       "<Figure size 432x288 with 1 Axes>"
      ]
     },
     "metadata": {
      "needs_background": "light"
     },
     "output_type": "display_data"
    }
   ],
   "source": [
    "#Box Plot for Gender vs  charges\n",
    "sns.boxplot(x=df.sex, y=df.charges)\n",
    "plt.show()"
   ]
  },
  {
   "cell_type": "markdown",
   "metadata": {},
   "source": [
    "Percentage of males and females are almost the same and On average median charges of male and female are also same, but males have higher range of charges."
   ]
  },
  {
   "cell_type": "markdown",
   "metadata": {},
   "source": [
    "**Children**"
   ]
  },
  {
   "cell_type": "code",
   "execution_count": 131,
   "metadata": {
    "ExecuteTime": {
     "end_time": "2021-06-14T06:17:28.358183Z",
     "start_time": "2021-06-14T06:17:27.977246Z"
    }
   },
   "outputs": [
    {
     "data": {
      "image/png": "[encoded data removed]",
      "text/plain": [
       "<Figure size 432x288 with 1 Axes>"
      ]
     },
     "metadata": {
      "needs_background": "light"
     },
     "output_type": "display_data"
    }
   ],
   "source": [
    "sns.countplot(df.children)\n",
    "plt.show()"
   ]
  },
  {
   "cell_type": "markdown",
   "metadata": {},
   "source": [
    "Most of the people do not have children"
   ]
  },
  {
   "cell_type": "code",
   "execution_count": 132,
   "metadata": {
    "ExecuteTime": {
     "end_time": "2021-06-14T06:17:29.250964Z",
     "start_time": "2021-06-14T06:17:28.372391Z"
    }
   },
   "outputs": [
    {
     "data": {
      "image/png": "[encoded data removed]",
      "text/plain": [
       "<Figure size 432x288 with 1 Axes>"
      ]
     },
     "metadata": {
      "needs_background": "light"
     },
     "output_type": "display_data"
    }
   ],
   "source": [
    "sns.lineplot(df.children, df.charges)\n",
    "plt.show()"
   ]
  },
  {
   "cell_type": "markdown",
   "metadata": {},
   "source": [
    "Charges are highest for people with 2-3 children"
   ]
  },
  {
   "cell_type": "markdown",
   "metadata": {},
   "source": [
    "**Smoker**"
   ]
  },
  {
   "cell_type": "code",
   "execution_count": 133,
   "metadata": {
    "ExecuteTime": {
     "end_time": "2021-06-14T06:17:29.564138Z",
     "start_time": "2021-06-14T06:17:29.257223Z"
    }
   },
   "outputs": [
    {
     "data": {
      "image/png": "[encoded data removed]",
      "text/plain": [
       "<Figure size 432x288 with 1 Axes>"
      ]
     },
     "metadata": {
      "needs_background": "light"
     },
     "output_type": "display_data"
    }
   ],
   "source": [
    "sns.countplot(df.smoker)\n",
    "plt.show()"
   ]
  },
  {
   "cell_type": "code",
   "execution_count": 134,
   "metadata": {
    "ExecuteTime": {
     "end_time": "2021-06-14T06:17:30.048936Z",
     "start_time": "2021-06-14T06:17:29.576588Z"
    }
   },
   "outputs": [
    {
     "data": {
      "image/png": "[encoded data removed]",
      "text/plain": [
       "<Figure size 432x288 with 1 Axes>"
      ]
     },
     "metadata": {
      "needs_background": "light"
     },
     "output_type": "display_data"
    }
   ],
   "source": [
    "sns.boxplot(x=df.smoker, y=df.charges)\n",
    "plt.show()"
   ]
  },
  {
   "cell_type": "markdown",
   "metadata": {},
   "source": [
    "Percentage of smokers is less but insurance charges are relatively higher for them"
   ]
  },
  {
   "cell_type": "code",
   "execution_count": 135,
   "metadata": {
    "ExecuteTime": {
     "end_time": "2021-06-14T06:17:30.526958Z",
     "start_time": "2021-06-14T06:17:30.063170Z"
    }
   },
   "outputs": [
    {
     "data": {
      "image/png": "[encoded data removed]",
      "text/plain": [
       "<Figure size 432x288 with 1 Axes>"
      ]
     },
     "metadata": {
      "needs_background": "light"
     },
     "output_type": "display_data"
    }
   ],
   "source": [
    "pd.crosstab(df.sex, df.smoker).plot(kind=\"bar\")\n",
    "plt.show()"
   ]
  },
  {
   "cell_type": "markdown",
   "metadata": {
    "ExecuteTime": {
     "end_time": "2021-04-26T18:05:23.327564Z",
     "start_time": "2021-04-26T18:05:23.309339Z"
    }
   },
   "source": [
    "Percentage of female smokers is less than the percentage of male smokers"
   ]
  },
  {
   "cell_type": "markdown",
   "metadata": {},
   "source": [
    "**Region**"
   ]
  },
  {
   "cell_type": "code",
   "execution_count": 136,
   "metadata": {
    "ExecuteTime": {
     "end_time": "2021-06-14T06:17:30.949270Z",
     "start_time": "2021-06-14T06:17:30.534497Z"
    }
   },
   "outputs": [
    {
     "data": {
      "image/png": "[encoded data removed]",
      "text/plain": [
       "<Figure size 432x288 with 1 Axes>"
      ]
     },
     "metadata": {
      "needs_background": "light"
     },
     "output_type": "display_data"
    }
   ],
   "source": [
    "sns.countplot(df.region)\n",
    "plt.show()"
   ]
  },
  {
   "cell_type": "code",
   "execution_count": 137,
   "metadata": {
    "ExecuteTime": {
     "end_time": "2021-06-14T06:17:31.429181Z",
     "start_time": "2021-06-14T06:17:30.953905Z"
    }
   },
   "outputs": [
    {
     "data": {
      "image/png": "[encoded data removed]",
      "text/plain": [
       "<Figure size 432x288 with 1 Axes>"
      ]
     },
     "metadata": {
      "needs_background": "light"
     },
     "output_type": "display_data"
    }
   ],
   "source": [
    "sns.boxplot(x=df.region, y=df.charges)\n",
    "plt.show()"
   ]
  },
  {
   "cell_type": "markdown",
   "metadata": {},
   "source": [
    "Regions are equally distributed and all 4 regions have almost the same charges."
   ]
  },
  {
   "cell_type": "markdown",
   "metadata": {},
   "source": [
    "##### Correlation analysis"
   ]
  },
  {
   "cell_type": "code",
   "execution_count": 138,
   "metadata": {
    "ExecuteTime": {
     "end_time": "2021-06-14T06:17:32.337069Z",
     "start_time": "2021-06-14T06:17:31.431182Z"
    }
   },
   "outputs": [
    {
     "data": {
      "image/png": "[encoded data removed]",
      "text/plain": [
       "<Figure size 432x288 with 2 Axes>"
      ]
     },
     "metadata": {
      "needs_background": "light"
     },
     "output_type": "display_data"
    }
   ],
   "source": [
    "#Correlation map between charges and numeric features - age, bmi and charges\n",
    "sns.heatmap(df[['age', 'bmi', 'children', 'charges']].corr(), cmap='Blues', annot=True)\n",
    "plt.show()"
   ]
  },
  {
   "cell_type": "markdown",
   "metadata": {},
   "source": [
    "Age and charges are strongly co-related "
   ]
  },
  {
   "cell_type": "markdown",
   "metadata": {},
   "source": [
    "##### Feature Selection, Transformation, Scaling "
   ]
  },
  {
   "cell_type": "code",
   "execution_count": 139,
   "metadata": {
    "ExecuteTime": {
     "end_time": "2021-06-14T06:17:32.370648Z",
     "start_time": "2021-06-14T06:17:32.340533Z"
    }
   },
   "outputs": [],
   "source": [
    "#Converting categorical variables to numeric form - One hot encoding\n",
    "region=pd.get_dummies(df.region, prefix='location')\n",
    "df = pd.concat([df,region],axis=1)\n",
    "df.drop(columns='region', inplace=True)"
   ]
  },
  {
   "cell_type": "code",
   "execution_count": 140,
   "metadata": {
    "ExecuteTime": {
     "end_time": "2021-06-14T06:17:32.457514Z",
     "start_time": "2021-06-14T06:17:32.378426Z"
    }
   },
   "outputs": [
    {
     "data": {
      "text/html": [
       "<div>\n",
       "<style scoped>\n",
       "    .dataframe tbody tr th:only-of-type {\n",
       "        vertical-align: middle;\n",
       "    }\n",
       "\n",
       "    .dataframe tbody tr th {\n",
       "        vertical-align: top;\n",
       "    }\n",
       "\n",
       "    .dataframe thead th {\n",
       "        text-align: right;\n",
       "    }\n",
       "</style>\n",
       "<table border=\"1\" class=\"dataframe\">\n",
       "  <thead>\n",
       "    <tr style=\"text-align: right;\">\n",
       "      <th></th>\n",
       "      <th>age</th>\n",
       "      <th>sex</th>\n",
       "      <th>bmi</th>\n",
       "      <th>children</th>\n",
       "      <th>smoker</th>\n",
       "      <th>charges</th>\n",
       "      <th>location_northeast</th>\n",
       "      <th>location_northwest</th>\n",
       "      <th>location_southeast</th>\n",
       "      <th>location_southwest</th>\n",
       "    </tr>\n",
       "  </thead>\n",
       "  <tbody>\n",
       "    <tr>\n",
       "      <th>739</th>\n",
       "      <td>29.0</td>\n",
       "      <td>1</td>\n",
       "      <td>35.500</td>\n",
       "      <td>2</td>\n",
       "      <td>1</td>\n",
       "      <td>44585.45587</td>\n",
       "      <td>0</td>\n",
       "      <td>0</td>\n",
       "      <td>0</td>\n",
       "      <td>1</td>\n",
       "    </tr>\n",
       "    <tr>\n",
       "      <th>1107</th>\n",
       "      <td>50.0</td>\n",
       "      <td>0</td>\n",
       "      <td>26.220</td>\n",
       "      <td>2</td>\n",
       "      <td>0</td>\n",
       "      <td>10493.94580</td>\n",
       "      <td>0</td>\n",
       "      <td>1</td>\n",
       "      <td>0</td>\n",
       "      <td>0</td>\n",
       "    </tr>\n",
       "    <tr>\n",
       "      <th>528</th>\n",
       "      <td>46.0</td>\n",
       "      <td>1</td>\n",
       "      <td>39.425</td>\n",
       "      <td>1</td>\n",
       "      <td>0</td>\n",
       "      <td>8342.90875</td>\n",
       "      <td>1</td>\n",
       "      <td>0</td>\n",
       "      <td>0</td>\n",
       "      <td>0</td>\n",
       "    </tr>\n",
       "  </tbody>\n",
       "</table>\n",
       "</div>"
      ],
      "text/plain": [
       "       age  sex     bmi  children  smoker      charges  location_northeast  \\\n",
       "739   29.0    1  35.500         2       1  44585.45587                   0   \n",
       "1107  50.0    0  26.220         2       0  10493.94580                   0   \n",
       "528   46.0    1  39.425         1       0   8342.90875                   1   \n",
       "\n",
       "      location_northwest  location_southeast  location_southwest  \n",
       "739                    0                   0                   1  \n",
       "1107                   1                   0                   0  \n",
       "528                    0                   0                   0  "
      ]
     },
     "execution_count": 140,
     "metadata": {},
     "output_type": "execute_result"
    }
   ],
   "source": [
    "df.sex.replace(to_replace=['male', 'female'], value=[1,0], inplace=True)\n",
    "df.smoker.replace(to_replace=['yes', 'no'], value=[1,0], inplace=True)\n",
    "df.sample(3)"
   ]
  },
  {
   "cell_type": "markdown",
   "metadata": {},
   "source": [
    "Based on the map, Smoker has a considerable impact on the insurance charges, while sex has the least impact and so we will drop this column in our feature list(X). We will now proceed towards model development where the first step is to select X and Y and split data into test and train sets"
   ]
  },
  {
   "cell_type": "code",
   "execution_count": 141,
   "metadata": {
    "ExecuteTime": {
     "end_time": "2021-06-14T06:17:32.521282Z",
     "start_time": "2021-06-14T06:17:32.471946Z"
    }
   },
   "outputs": [],
   "source": [
    "#Creating and X and Y variables region_rank\n",
    "y=df.charges.values\n",
    "X=df[['age', 'bmi', 'smoker', 'children', 'location_northeast', 'location_northwest', 'location_southeast', 'location_southwest']]\n",
    "\n",
    "#Split data into test and train\n",
    "X_train, X_test, y_train, y_test=train_test_split(X,y, test_size=0.2, random_state=42)"
   ]
  },
  {
   "cell_type": "code",
   "execution_count": 142,
   "metadata": {
    "ExecuteTime": {
     "end_time": "2021-06-14T06:17:32.581431Z",
     "start_time": "2021-06-14T06:17:32.529124Z"
    }
   },
   "outputs": [],
   "source": [
    "from sklearn.preprocessing import RobustScaler, StandardScaler\n",
    "numeric=['age', 'bmi', 'children']\n",
    "sc=StandardScaler()\n",
    "X_train[numeric]=sc.fit_transform(X_train[numeric])\n",
    "X_test[numeric]=sc.transform(X_test[numeric])"
   ]
  },
  {
   "cell_type": "markdown",
   "metadata": {},
   "source": [
    "##### Model Development\n",
    "\n",
    "We will run a number of regression algorithms and evaluate root mean squared error , mean absolute error metrics for each of these models. These would be our baseline models."
   ]
  },
  {
   "cell_type": "code",
   "execution_count": 143,
   "metadata": {
    "ExecuteTime": {
     "end_time": "2021-06-14T06:17:32.623055Z",
     "start_time": "2021-06-14T06:17:32.585831Z"
    }
   },
   "outputs": [
    {
     "data": {
      "text/plain": [
       "(0.7822886963985674, 4239.332244958955, 5813.725459250961)"
      ]
     },
     "execution_count": 143,
     "metadata": {},
     "output_type": "execute_result"
    }
   ],
   "source": [
    "model = LinearRegression()\n",
    "model.fit(X_train, y_train)\n",
    "yhat = model.predict(X_test)\n",
    "r2_score(y_test, yhat), mean_absolute_error(y_test, yhat), np.sqrt(mean_squared_error(y_test, yhat))\n"
   ]
  },
  {
   "cell_type": "code",
   "execution_count": 144,
   "metadata": {
    "ExecuteTime": {
     "end_time": "2021-06-14T06:17:32.664077Z",
     "start_time": "2021-06-14T06:17:32.631114Z"
    }
   },
   "outputs": [
    {
     "data": {
      "text/plain": [
       "(0.7720612514928122, 2740.9521598843285, 5948.714278191823)"
      ]
     },
     "execution_count": 144,
     "metadata": {},
     "output_type": "execute_result"
    }
   ],
   "source": [
    "from sklearn.tree import DecisionTreeRegressor\n",
    "model = DecisionTreeRegressor(random_state=1)\n",
    "model.fit(X_train, y_train)\n",
    "yhat = model.predict(X_test)\n",
    "r2_score(y_test, yhat), mean_absolute_error(y_test, yhat), np.sqrt(mean_squared_error(y_test, yhat))"
   ]
  },
  {
   "cell_type": "code",
   "execution_count": 145,
   "metadata": {
    "ExecuteTime": {
     "end_time": "2021-06-14T06:17:32.698345Z",
     "start_time": "2021-06-14T06:17:32.670242Z"
    }
   },
   "outputs": [
    {
     "data": {
      "text/html": [
       "<div>\n",
       "<style scoped>\n",
       "    .dataframe tbody tr th:only-of-type {\n",
       "        vertical-align: middle;\n",
       "    }\n",
       "\n",
       "    .dataframe tbody tr th {\n",
       "        vertical-align: top;\n",
       "    }\n",
       "\n",
       "    .dataframe thead th {\n",
       "        text-align: right;\n",
       "    }\n",
       "</style>\n",
       "<table border=\"1\" class=\"dataframe\">\n",
       "  <thead>\n",
       "    <tr style=\"text-align: right;\">\n",
       "      <th></th>\n",
       "      <th>Name</th>\n",
       "      <th>MAE</th>\n",
       "      <th>RMSE</th>\n",
       "      <th>R2_score</th>\n",
       "    </tr>\n",
       "  </thead>\n",
       "  <tbody>\n",
       "    <tr>\n",
       "      <th>0</th>\n",
       "      <td>Linear</td>\n",
       "      <td>4239</td>\n",
       "      <td>5813</td>\n",
       "      <td>0.782</td>\n",
       "    </tr>\n",
       "    <tr>\n",
       "      <th>1</th>\n",
       "      <td>DecisionTrees</td>\n",
       "      <td>2740</td>\n",
       "      <td>5984</td>\n",
       "      <td>0.773</td>\n",
       "    </tr>\n",
       "  </tbody>\n",
       "</table>\n",
       "</div>"
      ],
      "text/plain": [
       "            Name   MAE  RMSE  R2_score\n",
       "0         Linear  4239  5813     0.782\n",
       "1  DecisionTrees  2740  5984     0.773"
      ]
     },
     "execution_count": 145,
     "metadata": {},
     "output_type": "execute_result"
    }
   ],
   "source": [
    "sc={'Name':['Linear', 'DecisionTrees'], 'MAE':[4239, 2740], 'RMSE':[5813, 5984], 'R2_score':[0.782, 0.773]}\n",
    "pd.DataFrame(sc)"
   ]
  },
  {
   "cell_type": "markdown",
   "metadata": {},
   "source": [
    "##### Feature Engineering\n",
    "\n",
    "1. Grouping similar customers into clusters using KMeans.\n",
    "2. Clubbing northeast and northwest regions into 'north' and southeast and southwest into 'south' in Region column.\n",
    "3. Transforming 'children' into a categorical feature called 'more_than_one_child' which is 'Yes' if the number of children is > 1"
   ]
  },
  {
   "cell_type": "code",
   "execution_count": 147,
   "metadata": {
    "ExecuteTime": {
     "end_time": "2021-06-14T06:17:33.779331Z",
     "start_time": "2021-06-14T06:17:33.608194Z"
    }
   },
   "outputs": [],
   "source": [
    "from sklearn.cluster import KMeans\n",
    "features=['age', 'bmi', 'smoker', 'children', 'location_northeast', 'location_northwest', 'location_southeast', 'location_southwest', 'sex']\n",
    "kmeans = KMeans(n_clusters=2)\n",
    "kmeans.fit(df[features])\n",
    "\n",
    "#df['cust_type'] = kmeans.predict(df[features])\n",
    "df['cust_type'] = kmeans.labels_"
   ]
  },
  {
   "cell_type": "markdown",
   "metadata": {},
   "source": [
    "Using point biserial test to check relation between categorical variables and charges"
   ]
  },
  {
   "cell_type": "code",
   "execution_count": 148,
   "metadata": {
    "ExecuteTime": {
     "end_time": "2021-06-14T06:17:33.808339Z",
     "start_time": "2021-06-14T06:17:33.783876Z"
    }
   },
   "outputs": [
    {
     "name": "stdout",
     "output_type": "stream",
     "text": [
      "sex PointbiserialrResult(correlation=0.0572920622020253, pvalue=0.03613272100594507)\n",
      "smoker PointbiserialrResult(correlation=0.7872514304984779, pvalue=8.271435842164614e-283)\n",
      "location_northeast PointbiserialrResult(correlation=0.006348771280156071, pvalue=0.8165263815343915)\n",
      "location_northwest PointbiserialrResult(correlation=-0.03990486404043807, pvalue=0.14459698799369963)\n",
      "location_southeast PointbiserialrResult(correlation=0.07398155156575983, pvalue=0.006782698910660704)\n",
      "location_southwest PointbiserialrResult(correlation=-0.04321002899168482, pvalue=0.1141465936188735)\n",
      "cust_type PointbiserialrResult(correlation=0.2580516038924886, pvalue=8.531251875580974e-22)\n"
     ]
    }
   ],
   "source": [
    "from scipy.stats import pointbiserialr\n",
    "cat=['sex', 'smoker', 'location_northeast', 'location_northwest', 'location_southeast', 'location_southwest', 'cust_type']\n",
    "for i in cat:\n",
    "    print(i, pointbiserialr(df[i], df.charges))"
   ]
  },
  {
   "cell_type": "code",
   "execution_count": 149,
   "metadata": {
    "ExecuteTime": {
     "end_time": "2021-06-14T06:17:33.834445Z",
     "start_time": "2021-06-14T06:17:33.816306Z"
    }
   },
   "outputs": [],
   "source": [
    "df['more_than_1_child']=df.children.apply(lambda x:1 if x > 1 else 0 )"
   ]
  },
  {
   "cell_type": "code",
   "execution_count": 150,
   "metadata": {
    "ExecuteTime": {
     "end_time": "2021-06-14T06:17:33.854043Z",
     "start_time": "2021-06-14T06:17:33.839211Z"
    }
   },
   "outputs": [],
   "source": [
    "def get_north(a,b):\n",
    "    if ((a == 1) | (b == 1)):\n",
    "        return 1\n",
    "    else:\n",
    "        return 0"
   ]
  },
  {
   "cell_type": "code",
   "execution_count": 151,
   "metadata": {
    "ExecuteTime": {
     "end_time": "2021-06-14T06:17:33.874228Z",
     "start_time": "2021-06-14T06:17:33.855043Z"
    }
   },
   "outputs": [],
   "source": [
    "def get_south(a,b):\n",
    "    if ((a == 1) | (b == 1)):\n",
    "        return 1\n",
    "    else:\n",
    "        return 0"
   ]
  },
  {
   "cell_type": "code",
   "execution_count": 152,
   "metadata": {
    "ExecuteTime": {
     "end_time": "2021-06-14T06:17:34.169043Z",
     "start_time": "2021-06-14T06:17:33.876228Z"
    }
   },
   "outputs": [
    {
     "data": {
      "text/html": [
       "<div>\n",
       "<style scoped>\n",
       "    .dataframe tbody tr th:only-of-type {\n",
       "        vertical-align: middle;\n",
       "    }\n",
       "\n",
       "    .dataframe tbody tr th {\n",
       "        vertical-align: top;\n",
       "    }\n",
       "\n",
       "    .dataframe thead th {\n",
       "        text-align: right;\n",
       "    }\n",
       "</style>\n",
       "<table border=\"1\" class=\"dataframe\">\n",
       "  <thead>\n",
       "    <tr style=\"text-align: right;\">\n",
       "      <th></th>\n",
       "      <th>age</th>\n",
       "      <th>sex</th>\n",
       "      <th>bmi</th>\n",
       "      <th>children</th>\n",
       "      <th>smoker</th>\n",
       "      <th>charges</th>\n",
       "      <th>location_northeast</th>\n",
       "      <th>location_northwest</th>\n",
       "      <th>location_southeast</th>\n",
       "      <th>location_southwest</th>\n",
       "      <th>cust_type</th>\n",
       "      <th>more_than_1_child</th>\n",
       "      <th>location_north</th>\n",
       "      <th>location_south</th>\n",
       "    </tr>\n",
       "  </thead>\n",
       "  <tbody>\n",
       "    <tr>\n",
       "      <th>262</th>\n",
       "      <td>52.0</td>\n",
       "      <td>1</td>\n",
       "      <td>24.32</td>\n",
       "      <td>3</td>\n",
       "      <td>1</td>\n",
       "      <td>24869.8368</td>\n",
       "      <td>1</td>\n",
       "      <td>0</td>\n",
       "      <td>0</td>\n",
       "      <td>0</td>\n",
       "      <td>1</td>\n",
       "      <td>1</td>\n",
       "      <td>1</td>\n",
       "      <td>0</td>\n",
       "    </tr>\n",
       "    <tr>\n",
       "      <th>101</th>\n",
       "      <td>30.0</td>\n",
       "      <td>1</td>\n",
       "      <td>25.46</td>\n",
       "      <td>0</td>\n",
       "      <td>0</td>\n",
       "      <td>3645.0894</td>\n",
       "      <td>1</td>\n",
       "      <td>0</td>\n",
       "      <td>0</td>\n",
       "      <td>0</td>\n",
       "      <td>0</td>\n",
       "      <td>0</td>\n",
       "      <td>1</td>\n",
       "      <td>0</td>\n",
       "    </tr>\n",
       "    <tr>\n",
       "      <th>108</th>\n",
       "      <td>29.0</td>\n",
       "      <td>1</td>\n",
       "      <td>27.94</td>\n",
       "      <td>0</td>\n",
       "      <td>0</td>\n",
       "      <td>2867.1196</td>\n",
       "      <td>0</td>\n",
       "      <td>0</td>\n",
       "      <td>1</td>\n",
       "      <td>0</td>\n",
       "      <td>0</td>\n",
       "      <td>0</td>\n",
       "      <td>0</td>\n",
       "      <td>1</td>\n",
       "    </tr>\n",
       "  </tbody>\n",
       "</table>\n",
       "</div>"
      ],
      "text/plain": [
       "      age  sex    bmi  children  smoker     charges  location_northeast  \\\n",
       "262  52.0    1  24.32         3       1  24869.8368                   1   \n",
       "101  30.0    1  25.46         0       0   3645.0894                   1   \n",
       "108  29.0    1  27.94         0       0   2867.1196                   0   \n",
       "\n",
       "     location_northwest  location_southeast  location_southwest  cust_type  \\\n",
       "262                   0                   0                   0          1   \n",
       "101                   0                   0                   0          0   \n",
       "108                   0                   1                   0          0   \n",
       "\n",
       "     more_than_1_child  location_north  location_south  \n",
       "262                  1               1               0  \n",
       "101                  0               1               0  \n",
       "108                  0               0               1  "
      ]
     },
     "execution_count": 152,
     "metadata": {},
     "output_type": "execute_result"
    }
   ],
   "source": [
    "df['location_north']=df.apply(lambda x: get_north(x['location_northeast'], x['location_northwest']), axis=1)\n",
    "df['location_south']=df.apply(lambda x: get_south(x['location_southwest'], x['location_southeast']), axis=1)\n",
    "\n",
    "df.sample(3)"
   ]
  },
  {
   "cell_type": "code",
   "execution_count": 153,
   "metadata": {
    "ExecuteTime": {
     "end_time": "2021-06-14T06:17:34.203611Z",
     "start_time": "2021-06-14T06:17:34.175657Z"
    }
   },
   "outputs": [
    {
     "data": {
      "text/plain": [
       "Index(['age', 'sex', 'bmi', 'children', 'smoker', 'charges',\n",
       "       'location_northeast', 'location_northwest', 'location_southeast',\n",
       "       'location_southwest', 'cust_type', 'more_than_1_child',\n",
       "       'location_north', 'location_south'],\n",
       "      dtype='object')"
      ]
     },
     "execution_count": 153,
     "metadata": {},
     "output_type": "execute_result"
    }
   ],
   "source": [
    "df.columns"
   ]
  },
  {
   "cell_type": "markdown",
   "metadata": {
    "ExecuteTime": {
     "end_time": "2021-06-08T12:15:18.311083Z",
     "start_time": "2021-06-08T12:15:05.981Z"
    }
   },
   "source": [
    "p=df[['age', 'bmi', 'smoker', 'location_northeast', 'location_northwest', 'location_southeast',\n",
    "       'location_southwest', 'cust_type', 'more_than_1_child',\n",
    "       'location_north', 'location_south']]\n",
    "q=df.charges"
   ]
  },
  {
   "cell_type": "markdown",
   "metadata": {
    "ExecuteTime": {
     "end_time": "2021-06-08T12:15:18.313351Z",
     "start_time": "2021-06-08T12:15:05.988Z"
    }
   },
   "source": [
    "###### Create and fit selector\n",
    "KBest = SelectKBest(f_regression, k=7)\n",
    "KBest.fit(p,q)\n",
    "###### Get columns to keep and create new dataframe with those only\n",
    "cols = KBest.get_support(indices=True)\n",
    "features_df_new = p.iloc[:,cols]\n",
    "features_df_new[0:2]"
   ]
  },
  {
   "cell_type": "code",
   "execution_count": 154,
   "metadata": {
    "ExecuteTime": {
     "end_time": "2021-06-14T06:17:34.235824Z",
     "start_time": "2021-06-14T06:17:34.213510Z"
    }
   },
   "outputs": [],
   "source": [
    "#Table to record metrics of various models\n",
    "metrics=pd.DataFrame()\n",
    "Model=[]\n",
    "rmse=[]\n",
    "mae=[]\n",
    "r2=[]"
   ]
  },
  {
   "cell_type": "code",
   "execution_count": 155,
   "metadata": {
    "ExecuteTime": {
     "end_time": "2021-06-14T06:17:34.276352Z",
     "start_time": "2021-06-14T06:17:34.243226Z"
    }
   },
   "outputs": [],
   "source": [
    "#Selecting X and Y \n",
    "y=df.charges.values\n",
    "X=df[['age', 'bmi', 'smoker', 'more_than_1_child', 'cust_type', 'location_north', 'location_south']]  #--> works well #imp\n",
    "\n",
    "\n",
    "#Split test and train data\n",
    "X_train, X_test, y_train, y_test=train_test_split(X,y, test_size=0.2, random_state=42)"
   ]
  },
  {
   "cell_type": "code",
   "execution_count": 156,
   "metadata": {
    "ExecuteTime": {
     "end_time": "2021-06-14T06:17:34.328513Z",
     "start_time": "2021-06-14T06:17:34.285919Z"
    }
   },
   "outputs": [],
   "source": [
    "from sklearn.preprocessing import RobustScaler, StandardScaler\n",
    "numeric=['age', 'bmi']\n",
    "#sc=MinMaxScaler()  #Using MinMax scalar to standardize data\n",
    "#sc=RobustScaler()\n",
    "sc=StandardScaler()\n",
    "X_train[numeric]=sc.fit_transform(X_train[numeric])\n",
    "X_test[numeric]=sc.transform(X_test[numeric])"
   ]
  },
  {
   "cell_type": "code",
   "execution_count": 157,
   "metadata": {
    "ExecuteTime": {
     "end_time": "2021-06-14T06:17:34.399454Z",
     "start_time": "2021-06-14T06:17:34.331020Z"
    }
   },
   "outputs": [
    {
     "data": {
      "text/plain": [
       "(0.7321086635115455, 3281.000099531603, 6449.014666402026)"
      ]
     },
     "execution_count": 157,
     "metadata": {},
     "output_type": "execute_result"
    }
   ],
   "source": [
    "from sklearn.compose import TransformedTargetRegressor\n",
    "from sklearn.preprocessing import QuantileTransformer\n",
    "\n",
    "model = LinearRegression()\n",
    "regr_trans = TransformedTargetRegressor(regressor=model, transformer=QuantileTransformer(output_distribution='normal'))\n",
    "regr_trans.fit(X_train, y_train)\n",
    "yhat = regr_trans.predict(X_test)\n",
    "r2_score(y_test, yhat), mean_absolute_error(y_test, yhat), np.sqrt(mean_squared_error(y_test, yhat))\n"
   ]
  },
  {
   "cell_type": "code",
   "execution_count": 158,
   "metadata": {
    "ExecuteTime": {
     "end_time": "2021-06-14T06:17:34.445524Z",
     "start_time": "2021-06-14T06:17:34.403107Z"
    }
   },
   "outputs": [
    {
     "data": {
      "text/plain": [
       "(0.84, 2240.34, 4976.68)"
      ]
     },
     "execution_count": 158,
     "metadata": {},
     "output_type": "execute_result"
    }
   ],
   "source": [
    "model = DecisionTreeRegressor()\n",
    "regr_trans = TransformedTargetRegressor(regressor=model, transformer=QuantileTransformer(output_distribution='normal'))\n",
    "regr_trans.fit(X_train, y_train)\n",
    "yhat = regr_trans.predict(X_test)\n",
    "round(r2_score(y_test, yhat), 3), round(mean_absolute_error(y_test, yhat), 2), round(np.sqrt(mean_squared_error(y_test, yhat)),2)\n"
   ]
  },
  {
   "cell_type": "code",
   "execution_count": 159,
   "metadata": {
    "ExecuteTime": {
     "end_time": "2021-06-14T06:17:39.102339Z",
     "start_time": "2021-06-14T06:17:34.449031Z"
    }
   },
   "outputs": [
    {
     "data": {
      "text/plain": [
       "(0.8816126128104302, 2041.2454586363817, 4287.130938728854)"
      ]
     },
     "execution_count": 159,
     "metadata": {},
     "output_type": "execute_result"
    }
   ],
   "source": [
    "from sklearn.compose import TransformedTargetRegressor\n",
    "from sklearn.preprocessing import QuantileTransformer\n",
    "p=PolynomialFeatures(degree=3)\n",
    "X_train_poly=p.fit_transform(X_train)\n",
    "X_test_poly=p.fit_transform(X_test)\n",
    "\n",
    "model = RandomForestRegressor()\n",
    "regr_trans = TransformedTargetRegressor(regressor=model, transformer=QuantileTransformer(output_distribution='normal'))\n",
    "regr_trans.fit(X_train_poly, y_train)\n",
    "yhat = regr_trans.predict(X_test_poly)\n",
    "r2_score(y_test, yhat), mean_absolute_error(y_test, yhat), np.sqrt(mean_squared_error(y_test, yhat))\n"
   ]
  },
  {
   "cell_type": "code",
   "execution_count": 160,
   "metadata": {
    "ExecuteTime": {
     "end_time": "2021-06-14T06:17:39.116266Z",
     "start_time": "2021-06-14T06:17:39.107405Z"
    }
   },
   "outputs": [],
   "source": [
    "from sklearn.ensemble import GradientBoostingRegressor\n",
    "def boost_models(x):\n",
    "    regr_trans = TransformedTargetRegressor(regressor=x, transformer=QuantileTransformer(output_distribution='normal'))\n",
    "    regr_trans.fit(X_train, y_train)\n",
    "    yhat = regr_trans.predict(X_test)\n",
    "    algoname= x.__class__.__name__\n",
    "    return algoname, round(r2_score(y_test, yhat),3), round(mean_absolute_error(y_test, yhat),1), round(np.sqrt(mean_squared_error(y_test, yhat)),1)"
   ]
  },
  {
   "cell_type": "code",
   "execution_count": 161,
   "metadata": {
    "ExecuteTime": {
     "end_time": "2021-06-14T06:17:40.017749Z",
     "start_time": "2021-06-14T06:17:39.119456Z"
    }
   },
   "outputs": [
    {
     "data": {
      "text/html": [
       "<div>\n",
       "<style scoped>\n",
       "    .dataframe tbody tr th:only-of-type {\n",
       "        vertical-align: middle;\n",
       "    }\n",
       "\n",
       "    .dataframe tbody tr th {\n",
       "        vertical-align: top;\n",
       "    }\n",
       "\n",
       "    .dataframe thead th {\n",
       "        text-align: right;\n",
       "    }\n",
       "</style>\n",
       "<table border=\"1\" class=\"dataframe\">\n",
       "  <thead>\n",
       "    <tr style=\"text-align: right;\">\n",
       "      <th></th>\n",
       "      <th>Model</th>\n",
       "      <th>Score</th>\n",
       "      <th>MAE</th>\n",
       "      <th>RMSE</th>\n",
       "    </tr>\n",
       "  </thead>\n",
       "  <tbody>\n",
       "    <tr>\n",
       "      <th>0</th>\n",
       "      <td>GradientBoostingRegressor</td>\n",
       "      <td>0.878</td>\n",
       "      <td>2055.3</td>\n",
       "      <td>4357.7</td>\n",
       "    </tr>\n",
       "    <tr>\n",
       "      <th>1</th>\n",
       "      <td>LGBMRegressor</td>\n",
       "      <td>0.862</td>\n",
       "      <td>2296.1</td>\n",
       "      <td>4632.5</td>\n",
       "    </tr>\n",
       "    <tr>\n",
       "      <th>2</th>\n",
       "      <td>XGBRFRegressor</td>\n",
       "      <td>0.881</td>\n",
       "      <td>2015.9</td>\n",
       "      <td>4289.3</td>\n",
       "    </tr>\n",
       "  </tbody>\n",
       "</table>\n",
       "</div>"
      ],
      "text/plain": [
       "                       Model  Score     MAE    RMSE\n",
       "0  GradientBoostingRegressor  0.878  2055.3  4357.7\n",
       "1              LGBMRegressor  0.862  2296.1  4632.5\n",
       "2             XGBRFRegressor  0.881  2015.9  4289.3"
      ]
     },
     "execution_count": 161,
     "metadata": {},
     "output_type": "execute_result"
    }
   ],
   "source": [
    "algo=[GradientBoostingRegressor(), lgbm.LGBMRegressor(), xg.XGBRFRegressor()]\n",
    "score=[]\n",
    "for a in algo:\n",
    "    score.append(boost_models(a))\n",
    "pd.DataFrame(score, columns=['Model', 'Score', 'MAE', 'RMSE'])"
   ]
  },
  {
   "cell_type": "code",
   "execution_count": 162,
   "metadata": {
    "ExecuteTime": {
     "end_time": "2021-06-14T06:17:40.042019Z",
     "start_time": "2021-06-14T06:17:40.026743Z"
    }
   },
   "outputs": [],
   "source": [
    "from sklearn.model_selection import GridSearchCV"
   ]
  },
  {
   "cell_type": "code",
   "execution_count": 163,
   "metadata": {
    "ExecuteTime": {
     "end_time": "2021-06-14T06:17:57.683531Z",
     "start_time": "2021-06-14T06:17:40.049649Z"
    }
   },
   "outputs": [
    {
     "name": "stdout",
     "output_type": "stream",
     "text": [
      "{'learning_rate': 0.15, 'max_depth': 3, 'n_estimators': 45}\n"
     ]
    },
    {
     "data": {
      "text/plain": [
       "(0.8769566256504228, 2092.2844483253944, 4370.620984052413)"
      ]
     },
     "execution_count": 163,
     "metadata": {},
     "output_type": "execute_result"
    }
   ],
   "source": [
    "param_grid = {'n_estimators': [100, 80, 60, 50, 45],  \n",
    "              'max_depth': [3, 4, 5, 6],\n",
    "              'learning_rate' :[0.2, 0.15]\n",
    "             }\n",
    "                \n",
    "grid = GridSearchCV(GradientBoostingRegressor(), param_grid, refit = True, verbose = 0, n_jobs=-1) #\n",
    "regr_trans = TransformedTargetRegressor(regressor=grid, transformer=QuantileTransformer(output_distribution='normal'))\n",
    "\n",
    "# fitting the model for grid search \n",
    "grid_result=regr_trans.fit(X_train, y_train)\n",
    "best_params=grid_result.regressor_.best_params_\n",
    "print(best_params)\n",
    "\n",
    "#using best params to create and fit model\n",
    "best_model = GradientBoostingRegressor(max_depth=best_params[\"max_depth\"], n_estimators=best_params[\"n_estimators\"], learning_rate=best_params[\"learning_rate\"])\n",
    "regr_trans = TransformedTargetRegressor(regressor=best_model, transformer=QuantileTransformer(output_distribution='normal'))\n",
    "regr_trans.fit(X_train, y_train)\n",
    "yhat = regr_trans.predict(X_test)\n",
    "\n",
    "#evaluate metrics\n",
    "r2_score(y_test, yhat), mean_absolute_error(y_test, yhat), np.sqrt(mean_squared_error(y_test, yhat))"
   ]
  },
  {
   "cell_type": "code",
   "execution_count": 164,
   "metadata": {
    "ExecuteTime": {
     "end_time": "2021-06-14T06:18:08.058804Z",
     "start_time": "2021-06-14T06:17:57.688718Z"
    }
   },
   "outputs": [
    {
     "name": "stdout",
     "output_type": "stream",
     "text": [
      "Fitting 5 folds for each of 80 candidates, totalling 400 fits\n"
     ]
    },
    {
     "name": "stderr",
     "output_type": "stream",
     "text": [
      "[Parallel(n_jobs=-1)]: Using backend LokyBackend with 4 concurrent workers.\n",
      "[Parallel(n_jobs=-1)]: Done  24 tasks      | elapsed:    1.1s\n",
      "[Parallel(n_jobs=-1)]: Done 196 tasks      | elapsed:    5.1s\n"
     ]
    },
    {
     "name": "stdout",
     "output_type": "stream",
     "text": [
      "{'max_depth': 3, 'n_estimators': 50, 'num_leaves': 9}\n"
     ]
    },
    {
     "name": "stderr",
     "output_type": "stream",
     "text": [
      "[Parallel(n_jobs=-1)]: Done 400 out of 400 | elapsed:   10.1s finished\n"
     ]
    },
    {
     "data": {
      "text/plain": [
       "(0.8789938161471642, 2034.480299396168, 4334.2884705350525)"
      ]
     },
     "execution_count": 164,
     "metadata": {},
     "output_type": "execute_result"
    }
   ],
   "source": [
    "param_grid = {'n_estimators': [100, 80, 60, 50, 45],  \n",
    "              'max_depth': [3, 4, 5, 6],\n",
    "              'num_leaves' :[9, 10, 11, 12]\n",
    "             }\n",
    "                \n",
    "grid = GridSearchCV(lgbm.LGBMRegressor(), param_grid, refit = True, verbose = 3, n_jobs=-1) #\n",
    "regr_trans = TransformedTargetRegressor(regressor=grid, transformer=QuantileTransformer(output_distribution='normal'))\n",
    "\n",
    "# fitting the model for grid search \n",
    "grid_result=regr_trans.fit(X_train, y_train)\n",
    "best_params=grid_result.regressor_.best_params_\n",
    "print(best_params)\n",
    "\n",
    "#using best params to create and fit model\n",
    "best_model = lgbm.LGBMRegressor(max_depth=best_params[\"max_depth\"], n_estimators=best_params[\"n_estimators\"], num_leaves=best_params[\"num_leaves\"])\n",
    "regr_trans = TransformedTargetRegressor(regressor=best_model, transformer=QuantileTransformer(output_distribution='normal'))\n",
    "regr_trans.fit(X_train, y_train)\n",
    "yhat = regr_trans.predict(X_test)\n",
    "\n",
    "#evaluate metrics\n",
    "r2_score(y_test, yhat), mean_absolute_error(y_test, yhat), np.sqrt(mean_squared_error(y_test, yhat))"
   ]
  },
  {
   "cell_type": "code",
   "execution_count": 165,
   "metadata": {
    "ExecuteTime": {
     "end_time": "2021-06-14T06:18:27.275973Z",
     "start_time": "2021-06-14T06:18:08.062395Z"
    }
   },
   "outputs": [
    {
     "name": "stdout",
     "output_type": "stream",
     "text": [
      "Fitting 5 folds for each of 25 candidates, totalling 125 fits\n"
     ]
    },
    {
     "name": "stderr",
     "output_type": "stream",
     "text": [
      "[Parallel(n_jobs=-1)]: Using backend LokyBackend with 4 concurrent workers.\n",
      "[Parallel(n_jobs=-1)]: Done  24 tasks      | elapsed:    4.4s\n",
      "[Parallel(n_jobs=-1)]: Done 125 out of 125 | elapsed:   18.1s finished\n"
     ]
    },
    {
     "name": "stdout",
     "output_type": "stream",
     "text": [
      "{'max_depth': 5, 'n_estimators': 100}\n"
     ]
    },
    {
     "data": {
      "text/plain": [
       "(0.8787904301639744, 2062.516874304508, 4337.92945559359)"
      ]
     },
     "execution_count": 165,
     "metadata": {},
     "output_type": "execute_result"
    }
   ],
   "source": [
    "param_grid = {'n_estimators': [100, 80, 60, 50, 45],  \n",
    "              'max_depth': [None, 3, 4, 5, 6]\n",
    "              \n",
    "              \n",
    "             }\n",
    "                \n",
    "grid = GridSearchCV(RandomForestRegressor(), param_grid, refit = True, verbose = 3, n_jobs=-1) #\n",
    "regr_trans = TransformedTargetRegressor(regressor=grid, transformer=QuantileTransformer(output_distribution='normal'))\n",
    "\n",
    "# fitting the model for grid search \n",
    "grid_result=regr_trans.fit(X_train, y_train)\n",
    "best_params=grid_result.regressor_.best_params_\n",
    "print(best_params)\n",
    "\n",
    "#using best params to create and fit model\n",
    "best_model = RandomForestRegressor(max_depth=best_params[\"max_depth\"], n_estimators=best_params[\"n_estimators\"])\n",
    "regr_trans = TransformedTargetRegressor(regressor=best_model, transformer=QuantileTransformer(output_distribution='normal'))\n",
    "regr_trans.fit(X_train, y_train)\n",
    "yhat = regr_trans.predict(X_test)\n",
    "\n",
    "#evaluate metrics\n",
    "r2_score(y_test, yhat), mean_absolute_error(y_test, yhat), np.sqrt(mean_squared_error(y_test, yhat))"
   ]
  },
  {
   "cell_type": "code",
   "execution_count": 166,
   "metadata": {
    "ExecuteTime": {
     "end_time": "2021-06-14T06:18:36.136658Z",
     "start_time": "2021-06-14T06:18:27.281254Z"
    }
   },
   "outputs": [
    {
     "name": "stdout",
     "output_type": "stream",
     "text": [
      "{'max_depth': 7, 'n_estimators': 51, 'reg_lambda': 0.26}\n"
     ]
    },
    {
     "data": {
      "text/plain": [
       "(0.8859892161387841, 1977.9098029441752, 4207.140307957002)"
      ]
     },
     "execution_count": 166,
     "metadata": {},
     "output_type": "execute_result"
    }
   ],
   "source": [
    "param_grid = {'n_estimators': [100, 80, 60, 55, 51, 45],  \n",
    "              'max_depth': [7, 8],\n",
    "              'reg_lambda' :[0.26, 0.25, 0.2]\n",
    "             }\n",
    "                \n",
    "grid = GridSearchCV(xg.XGBRFRegressor(), param_grid, refit = True,  n_jobs=-1) #\n",
    "regr_trans = TransformedTargetRegressor(regressor=grid, transformer=QuantileTransformer(output_distribution='normal'))\n",
    "\n",
    "# fitting the model for grid search \n",
    "grid_result=regr_trans.fit(X_train, y_train)\n",
    "best_params=grid_result.regressor_.best_params_\n",
    "print(best_params)\n",
    "\n",
    "#using best params to create and fit model\n",
    "best_model = xg.XGBRFRegressor(max_depth=best_params[\"max_depth\"], n_estimators=best_params[\"n_estimators\"], reg_lambda=best_params[\"reg_lambda\"])\n",
    "regr_trans = TransformedTargetRegressor(regressor=best_model, transformer=QuantileTransformer(output_distribution='normal'))\n",
    "regr_trans.fit(X_train, y_train)\n",
    "yhat = regr_trans.predict(X_test)\n",
    "\n",
    "#evaluate metrics\n",
    "r2_score(y_test, yhat), mean_absolute_error(y_test, yhat), np.sqrt(mean_squared_error(y_test, yhat))"
   ]
  },
  {
   "cell_type": "markdown",
   "metadata": {},
   "source": [
    "********************************"
   ]
  },
  {
   "cell_type": "code",
   "execution_count": 167,
   "metadata": {
    "ExecuteTime": {
     "end_time": "2021-06-14T06:18:37.255031Z",
     "start_time": "2021-06-14T06:18:36.142244Z"
    }
   },
   "outputs": [
    {
     "data": {
      "text/plain": [
       "0.8822274316383789"
      ]
     },
     "execution_count": 167,
     "metadata": {},
     "output_type": "execute_result"
    }
   ],
   "source": [
    "model = RandomForestRegressor(n_estimators = 120) \n",
    "\n",
    "regr_trans = TransformedTargetRegressor(regressor=model, transformer=QuantileTransformer(output_distribution='normal'))\n",
    "regr_trans.fit(X_train, y_train)\n",
    "yhat = regr_trans.predict(X_test)\n",
    "\n",
    "Model.append(\"RandomForest Regression\")\n",
    "rmse.append(round(np.sqrt(mean_squared_error(y_test, yhat)),3))\n",
    "mae.append(round(mean_absolute_error(y_test, yhat),3))\n",
    "r2.append(round(r2_score(y_test, yhat),3))"
   ]
  },
  {
   "cell_type": "code",
   "execution_count": 168,
   "metadata": {
    "ExecuteTime": {
     "end_time": "2021-06-14T06:18:37.389997Z",
     "start_time": "2021-06-14T06:18:37.260912Z"
    }
   },
   "outputs": [],
   "source": [
    "model = xg.XGBRFRegressor(n_estimators = 51, max_depth=7, reg_lambda=0.27)  #n_estimators = 51, max_depth=7, reg_lambda=0.27\n",
    "\n",
    "regr_trans = TransformedTargetRegressor(regressor=model, transformer=QuantileTransformer(output_distribution='normal'))\n",
    "regr_trans.fit(X_train, y_train)\n",
    "yhat = regr_trans.predict(X_test)\n",
    "\n",
    "Model.append(\"XGBoost Regression\")\n",
    "rmse.append(round(np.sqrt(mean_squared_error(y_test, yhat)),3))\n",
    "mae.append(round(mean_absolute_error(y_test, yhat),3))\n",
    "r2.append(round(r2_score(y_test, yhat),3))\n"
   ]
  },
  {
   "cell_type": "code",
   "execution_count": 170,
   "metadata": {
    "ExecuteTime": {
     "end_time": "2021-06-14T06:18:37.615824Z",
     "start_time": "2021-06-14T06:18:37.544069Z"
    }
   },
   "outputs": [],
   "source": [
    "model = lgbm.LGBMRegressor(n_estimators = 50, max_depth=5,  num_leaves=11)   #n_estimators = 50, max_depth=5,  num_leaves=11\n",
    "regr_trans = TransformedTargetRegressor(regressor=model, transformer=QuantileTransformer(output_distribution='normal'))\n",
    "regr_trans.fit(X_train, y_train)\n",
    "yhat = regr_trans.predict(X_test)\n",
    "\n",
    "Model.append(\"Light GBM Regression\")\n",
    "rmse.append(round(np.sqrt(mean_squared_error(y_test, yhat)),3))\n",
    "mae.append(round(mean_absolute_error(y_test, yhat),3))\n",
    "r2.append(round(r2_score(y_test, yhat),3))\n",
    "\n",
    "#sns.barplot(x=regr_trans.feature_importances_, y=['age', 'bmi', 'smoker', 'children', 'location_northeast', 'location_northwest', 'location_southeast','location_southwest'])\n",
    "#plt.show()"
   ]
  },
  {
   "cell_type": "markdown",
   "metadata": {},
   "source": [
    "#### Metrics Table"
   ]
  },
  {
   "cell_type": "code",
   "execution_count": 171,
   "metadata": {
    "ExecuteTime": {
     "end_time": "2021-06-14T06:18:37.673624Z",
     "start_time": "2021-06-14T06:18:37.630372Z"
    }
   },
   "outputs": [
    {
     "data": {
      "text/html": [
       "<div>\n",
       "<style scoped>\n",
       "    .dataframe tbody tr th:only-of-type {\n",
       "        vertical-align: middle;\n",
       "    }\n",
       "\n",
       "    .dataframe tbody tr th {\n",
       "        vertical-align: top;\n",
       "    }\n",
       "\n",
       "    .dataframe thead th {\n",
       "        text-align: right;\n",
       "    }\n",
       "</style>\n",
       "<table border=\"1\" class=\"dataframe\">\n",
       "  <thead>\n",
       "    <tr style=\"text-align: right;\">\n",
       "      <th></th>\n",
       "      <th>Model</th>\n",
       "      <th>rmse</th>\n",
       "      <th>mae</th>\n",
       "      <th>r2</th>\n",
       "    </tr>\n",
       "  </thead>\n",
       "  <tbody>\n",
       "    <tr>\n",
       "      <th>0</th>\n",
       "      <td>RandomForest Regression</td>\n",
       "      <td>4275.984</td>\n",
       "      <td>2066.837</td>\n",
       "      <td>0.882</td>\n",
       "    </tr>\n",
       "    <tr>\n",
       "      <th>1</th>\n",
       "      <td>XGBoost Regression</td>\n",
       "      <td>4207.140</td>\n",
       "      <td>1977.910</td>\n",
       "      <td>0.886</td>\n",
       "    </tr>\n",
       "    <tr>\n",
       "      <th>2</th>\n",
       "      <td>XGBoost Regression</td>\n",
       "      <td>4211.971</td>\n",
       "      <td>1978.531</td>\n",
       "      <td>0.886</td>\n",
       "    </tr>\n",
       "    <tr>\n",
       "      <th>3</th>\n",
       "      <td>Light GBM Regression</td>\n",
       "      <td>4342.913</td>\n",
       "      <td>2023.112</td>\n",
       "      <td>0.879</td>\n",
       "    </tr>\n",
       "  </tbody>\n",
       "</table>\n",
       "</div>"
      ],
      "text/plain": [
       "                     Model      rmse       mae     r2\n",
       "0  RandomForest Regression  4275.984  2066.837  0.882\n",
       "1       XGBoost Regression  4207.140  1977.910  0.886\n",
       "2       XGBoost Regression  4211.971  1978.531  0.886\n",
       "3     Light GBM Regression  4342.913  2023.112  0.879"
      ]
     },
     "execution_count": 171,
     "metadata": {},
     "output_type": "execute_result"
    }
   ],
   "source": [
    "metrics['Model']=Model\n",
    "metrics['rmse']=rmse\n",
    "metrics['mae']=mae\n",
    "metrics['r2']=r2\n",
    "metrics"
   ]
  },
  {
   "cell_type": "code",
   "execution_count": 172,
   "metadata": {
    "ExecuteTime": {
     "end_time": "2021-06-14T06:18:38.022333Z",
     "start_time": "2021-06-14T06:18:37.677667Z"
    }
   },
   "outputs": [
    {
     "data": {
      "image/png": "[encoded data removed]",
      "text/plain": [
       "<Figure size 432x288 with 1 Axes>"
      ]
     },
     "metadata": {
      "needs_background": "light"
     },
     "output_type": "display_data"
    }
   ],
   "source": [
    "plt.title(\"Distribution of y predicted and y actual\")\n",
    "ax1=sns.distplot(y_test, hist=False)\n",
    "sns.distplot(yhat, hist=False, ax=ax1)\n",
    "plt.show()"
   ]
  },
  {
   "cell_type": "code",
   "execution_count": 173,
   "metadata": {
    "ExecuteTime": {
     "end_time": "2021-06-14T06:18:38.440322Z",
     "start_time": "2021-06-14T06:18:38.025198Z"
    }
   },
   "outputs": [
    {
     "data": {
      "text/plain": [
       "<AxesSubplot:>"
      ]
     },
     "execution_count": 173,
     "metadata": {},
     "output_type": "execute_result"
    },
    {
     "data": {
      "image/png": "[encoded data removed]",
      "text/plain": [
       "<Figure size 432x288 with 1 Axes>"
      ]
     },
     "metadata": {
      "needs_background": "light"
     },
     "output_type": "display_data"
    }
   ],
   "source": [
    "sns.residplot(y_test,yhat)"
   ]
  }
 ],
 "metadata": {
  "kernelspec": {
   "display_name": "Python 3",
   "language": "python",
   "name": "python3"
  },
  "language_info": {
   "codemirror_mode": {
    "name": "ipython",
    "version": 3
   },
   "file_extension": ".py",
   "mimetype": "text/x-python",
   "name": "python",
   "nbconvert_exporter": "python",
   "pygments_lexer": "ipython3",
   "version": "3.6.1"
  }
 },
 "nbformat": 4,
 "nbformat_minor": 4
}
